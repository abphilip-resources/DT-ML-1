{
 "cells": [
  {
   "cell_type": "markdown",
   "id": "181c84c4",
   "metadata": {
    "papermill": {
     "duration": 0.007279,
     "end_time": "2023-01-01T05:22:54.687696",
     "exception": false,
     "start_time": "2023-01-01T05:22:54.680417",
     "status": "completed"
    },
    "tags": []
   },
   "source": [
    "**This notebook is an exercise in the [Pandas](https://www.kaggle.com/learn/pandas) course.  You can reference the tutorial at [this link](https://www.kaggle.com/residentmario/grouping-and-sorting).**\n",
    "\n",
    "---\n"
   ]
  },
  {
   "cell_type": "markdown",
   "id": "0afc472e",
   "metadata": {
    "papermill": {
     "duration": 0.005465,
     "end_time": "2023-01-01T05:22:54.699278",
     "exception": false,
     "start_time": "2023-01-01T05:22:54.693813",
     "status": "completed"
    },
    "tags": []
   },
   "source": [
    "# Introduction\n",
    "\n",
    "In these exercises we'll apply groupwise analysis to our dataset.\n",
    "\n",
    "Run the code cell below to load the data before running the exercises."
   ]
  },
  {
   "cell_type": "code",
   "execution_count": 1,
   "id": "e657b082",
   "metadata": {
    "execution": {
     "iopub.execute_input": "2023-01-01T05:22:54.714266Z",
     "iopub.status.busy": "2023-01-01T05:22:54.713167Z",
     "iopub.status.idle": "2023-01-01T05:22:58.000946Z",
     "shell.execute_reply": "2023-01-01T05:22:57.999608Z"
    },
    "papermill": {
     "duration": 3.299569,
     "end_time": "2023-01-01T05:22:58.004630",
     "exception": false,
     "start_time": "2023-01-01T05:22:54.705061",
     "status": "completed"
    },
    "tags": []
   },
   "outputs": [
    {
     "name": "stdout",
     "output_type": "stream",
     "text": [
      "Setup complete.\n"
     ]
    }
   ],
   "source": [
    "import pandas as pd\n",
    "\n",
    "reviews = pd.read_csv(\"../input/wine-reviews/winemag-data-130k-v2.csv\", index_col=0)\n",
    "#pd.set_option(\"display.max_rows\", 5)\n",
    "\n",
    "from learntools.core import binder; binder.bind(globals())\n",
    "from learntools.pandas.grouping_and_sorting import *\n",
    "print(\"Setup complete.\")"
   ]
  },
  {
   "cell_type": "markdown",
   "id": "9226204d",
   "metadata": {
    "papermill": {
     "duration": 0.005761,
     "end_time": "2023-01-01T05:22:58.016815",
     "exception": false,
     "start_time": "2023-01-01T05:22:58.011054",
     "status": "completed"
    },
    "tags": []
   },
   "source": [
    "# Exercises"
   ]
  },
  {
   "cell_type": "markdown",
   "id": "3a38add2",
   "metadata": {
    "papermill": {
     "duration": 0.00556,
     "end_time": "2023-01-01T05:22:58.028331",
     "exception": false,
     "start_time": "2023-01-01T05:22:58.022771",
     "status": "completed"
    },
    "tags": []
   },
   "source": [
    "## 1.\n",
    "Who are the most common wine reviewers in the dataset? Create a `Series` whose index is the `taster_twitter_handle` category from the dataset, and whose values count how many reviews each person wrote."
   ]
  },
  {
   "cell_type": "code",
   "execution_count": 2,
   "id": "3b1ad860",
   "metadata": {
    "execution": {
     "iopub.execute_input": "2023-01-01T05:22:58.042346Z",
     "iopub.status.busy": "2023-01-01T05:22:58.041825Z",
     "iopub.status.idle": "2023-01-01T05:22:58.067444Z",
     "shell.execute_reply": "2023-01-01T05:22:58.066109Z"
    },
    "papermill": {
     "duration": 0.035752,
     "end_time": "2023-01-01T05:22:58.069869",
     "exception": false,
     "start_time": "2023-01-01T05:22:58.034117",
     "status": "completed"
    },
    "tags": []
   },
   "outputs": [
    {
     "data": {
      "application/javascript": [
       "parent.postMessage({\"jupyterEvent\": \"custom.exercise_interaction\", \"data\": {\"outcomeType\": 1, \"valueTowardsCompletion\": 0.16666666666666666, \"interactionType\": 1, \"questionType\": 1, \"questionId\": \"1_ReviewsWritten\", \"learnToolsVersion\": \"0.3.4\", \"failureMessage\": \"\", \"exceptionClass\": \"\", \"trace\": \"\"}}, \"*\")"
      ],
      "text/plain": [
       "<IPython.core.display.Javascript object>"
      ]
     },
     "metadata": {},
     "output_type": "display_data"
    },
    {
     "data": {
      "text/markdown": [
       "<span style=\"color:#33cc33\">Correct:</span> \n",
       "\n",
       "\n",
       "```python\n",
       "reviews_written = reviews.groupby('taster_twitter_handle').size()\n",
       "```\n",
       "or\n",
       "```python\n",
       "reviews_written = reviews.groupby('taster_twitter_handle').taster_twitter_handle.count()\n",
       "```\n"
      ],
      "text/plain": [
       "Correct: \n",
       "\n",
       "\n",
       "```python\n",
       "reviews_written = reviews.groupby('taster_twitter_handle').size()\n",
       "```\n",
       "or\n",
       "```python\n",
       "reviews_written = reviews.groupby('taster_twitter_handle').taster_twitter_handle.count()\n",
       "```"
      ]
     },
     "metadata": {},
     "output_type": "display_data"
    }
   ],
   "source": [
    "# Your code here\n",
    "reviews_written = reviews.groupby('taster_twitter_handle').size()\n",
    "\n",
    "# Check your answer\n",
    "q1.check()"
   ]
  },
  {
   "cell_type": "code",
   "execution_count": 3,
   "id": "8eef71e2",
   "metadata": {
    "execution": {
     "iopub.execute_input": "2023-01-01T05:22:58.084906Z",
     "iopub.status.busy": "2023-01-01T05:22:58.084409Z",
     "iopub.status.idle": "2023-01-01T05:22:58.089921Z",
     "shell.execute_reply": "2023-01-01T05:22:58.088420Z"
    },
    "papermill": {
     "duration": 0.016352,
     "end_time": "2023-01-01T05:22:58.092579",
     "exception": false,
     "start_time": "2023-01-01T05:22:58.076227",
     "status": "completed"
    },
    "tags": []
   },
   "outputs": [],
   "source": [
    "# q1.hint()\n",
    "# q1.solution()"
   ]
  },
  {
   "cell_type": "markdown",
   "id": "17874038",
   "metadata": {
    "papermill": {
     "duration": 0.008377,
     "end_time": "2023-01-01T05:22:58.107291",
     "exception": false,
     "start_time": "2023-01-01T05:22:58.098914",
     "status": "completed"
    },
    "tags": []
   },
   "source": [
    "## 2.\n",
    "What is the best wine I can buy for a given amount of money? Create a `Series` whose index is wine prices and whose values is the maximum number of points a wine costing that much was given in a review. Sort the values by price, ascending (so that `4.0` dollars is at the top and `3300.0` dollars is at the bottom)."
   ]
  },
  {
   "cell_type": "code",
   "execution_count": 4,
   "id": "911d28bc",
   "metadata": {
    "execution": {
     "iopub.execute_input": "2023-01-01T05:22:58.122959Z",
     "iopub.status.busy": "2023-01-01T05:22:58.121874Z",
     "iopub.status.idle": "2023-01-01T05:22:58.140116Z",
     "shell.execute_reply": "2023-01-01T05:22:58.138613Z"
    },
    "papermill": {
     "duration": 0.029121,
     "end_time": "2023-01-01T05:22:58.142907",
     "exception": false,
     "start_time": "2023-01-01T05:22:58.113786",
     "status": "completed"
    },
    "tags": []
   },
   "outputs": [
    {
     "data": {
      "application/javascript": [
       "parent.postMessage({\"jupyterEvent\": \"custom.exercise_interaction\", \"data\": {\"outcomeType\": 1, \"valueTowardsCompletion\": 0.16666666666666666, \"interactionType\": 1, \"questionType\": 1, \"questionId\": \"2_BestRatingPerPrice\", \"learnToolsVersion\": \"0.3.4\", \"failureMessage\": \"\", \"exceptionClass\": \"\", \"trace\": \"\"}}, \"*\")"
      ],
      "text/plain": [
       "<IPython.core.display.Javascript object>"
      ]
     },
     "metadata": {},
     "output_type": "display_data"
    },
    {
     "data": {
      "text/markdown": [
       "<span style=\"color:#33cc33\">Correct</span>"
      ],
      "text/plain": [
       "Correct"
      ]
     },
     "metadata": {},
     "output_type": "display_data"
    }
   ],
   "source": [
    "best_rating_per_price = reviews.groupby('price')['points'].max().sort_index()\n",
    "\n",
    "# Check your answer\n",
    "q2.check()"
   ]
  },
  {
   "cell_type": "code",
   "execution_count": 5,
   "id": "c876de1d",
   "metadata": {
    "execution": {
     "iopub.execute_input": "2023-01-01T05:22:58.158721Z",
     "iopub.status.busy": "2023-01-01T05:22:58.158220Z",
     "iopub.status.idle": "2023-01-01T05:22:58.162857Z",
     "shell.execute_reply": "2023-01-01T05:22:58.161946Z"
    },
    "papermill": {
     "duration": 0.015203,
     "end_time": "2023-01-01T05:22:58.165157",
     "exception": false,
     "start_time": "2023-01-01T05:22:58.149954",
     "status": "completed"
    },
    "tags": []
   },
   "outputs": [],
   "source": [
    "# q2.hint()\n",
    "# q2.solution()"
   ]
  },
  {
   "cell_type": "markdown",
   "id": "00d2203e",
   "metadata": {
    "papermill": {
     "duration": 0.006265,
     "end_time": "2023-01-01T05:22:58.178094",
     "exception": false,
     "start_time": "2023-01-01T05:22:58.171829",
     "status": "completed"
    },
    "tags": []
   },
   "source": [
    "## 3.\n",
    "What are the minimum and maximum prices for each `variety` of wine? Create a `DataFrame` whose index is the `variety` category from the dataset and whose values are the `min` and `max` values thereof."
   ]
  },
  {
   "cell_type": "code",
   "execution_count": 6,
   "id": "d9745ef7",
   "metadata": {
    "execution": {
     "iopub.execute_input": "2023-01-01T05:22:58.193329Z",
     "iopub.status.busy": "2023-01-01T05:22:58.192791Z",
     "iopub.status.idle": "2023-01-01T05:22:58.220474Z",
     "shell.execute_reply": "2023-01-01T05:22:58.219202Z"
    },
    "papermill": {
     "duration": 0.038679,
     "end_time": "2023-01-01T05:22:58.223194",
     "exception": false,
     "start_time": "2023-01-01T05:22:58.184515",
     "status": "completed"
    },
    "tags": []
   },
   "outputs": [
    {
     "data": {
      "application/javascript": [
       "parent.postMessage({\"jupyterEvent\": \"custom.exercise_interaction\", \"data\": {\"outcomeType\": 1, \"valueTowardsCompletion\": 0.16666666666666666, \"interactionType\": 1, \"questionType\": 1, \"questionId\": \"3_PriceExtremes\", \"learnToolsVersion\": \"0.3.4\", \"failureMessage\": \"\", \"exceptionClass\": \"\", \"trace\": \"\"}}, \"*\")"
      ],
      "text/plain": [
       "<IPython.core.display.Javascript object>"
      ]
     },
     "metadata": {},
     "output_type": "display_data"
    },
    {
     "data": {
      "text/markdown": [
       "<span style=\"color:#33cc33\">Correct</span>"
      ],
      "text/plain": [
       "Correct"
      ]
     },
     "metadata": {},
     "output_type": "display_data"
    }
   ],
   "source": [
    "price_extremes = reviews.groupby('variety').price.agg([min, max])\n",
    "\n",
    "# Check your answer\n",
    "q3.check()"
   ]
  },
  {
   "cell_type": "code",
   "execution_count": 7,
   "id": "fb63fe1d",
   "metadata": {
    "execution": {
     "iopub.execute_input": "2023-01-01T05:22:58.240529Z",
     "iopub.status.busy": "2023-01-01T05:22:58.239999Z",
     "iopub.status.idle": "2023-01-01T05:22:58.245645Z",
     "shell.execute_reply": "2023-01-01T05:22:58.244163Z"
    },
    "papermill": {
     "duration": 0.018001,
     "end_time": "2023-01-01T05:22:58.248330",
     "exception": false,
     "start_time": "2023-01-01T05:22:58.230329",
     "status": "completed"
    },
    "tags": []
   },
   "outputs": [],
   "source": [
    "# q3.hint()\n",
    "# q3.solution()"
   ]
  },
  {
   "cell_type": "markdown",
   "id": "0e113d30",
   "metadata": {
    "papermill": {
     "duration": 0.006579,
     "end_time": "2023-01-01T05:22:58.261919",
     "exception": false,
     "start_time": "2023-01-01T05:22:58.255340",
     "status": "completed"
    },
    "tags": []
   },
   "source": [
    "## 4.\n",
    "What are the most expensive wine varieties? Create a variable `sorted_varieties` containing a copy of the dataframe from the previous question where varieties are sorted in descending order based on minimum price, then on maximum price (to break ties)."
   ]
  },
  {
   "cell_type": "code",
   "execution_count": 8,
   "id": "09bd185c",
   "metadata": {
    "execution": {
     "iopub.execute_input": "2023-01-01T05:22:58.277867Z",
     "iopub.status.busy": "2023-01-01T05:22:58.277354Z",
     "iopub.status.idle": "2023-01-01T05:22:58.289810Z",
     "shell.execute_reply": "2023-01-01T05:22:58.288527Z"
    },
    "papermill": {
     "duration": 0.023449,
     "end_time": "2023-01-01T05:22:58.292354",
     "exception": false,
     "start_time": "2023-01-01T05:22:58.268905",
     "status": "completed"
    },
    "tags": []
   },
   "outputs": [
    {
     "data": {
      "application/javascript": [
       "parent.postMessage({\"jupyterEvent\": \"custom.exercise_interaction\", \"data\": {\"outcomeType\": 1, \"valueTowardsCompletion\": 0.16666666666666666, \"interactionType\": 1, \"questionType\": 1, \"questionId\": \"4_SortedVarieties\", \"learnToolsVersion\": \"0.3.4\", \"failureMessage\": \"\", \"exceptionClass\": \"\", \"trace\": \"\"}}, \"*\")"
      ],
      "text/plain": [
       "<IPython.core.display.Javascript object>"
      ]
     },
     "metadata": {},
     "output_type": "display_data"
    },
    {
     "data": {
      "text/markdown": [
       "<span style=\"color:#33cc33\">Correct</span>"
      ],
      "text/plain": [
       "Correct"
      ]
     },
     "metadata": {},
     "output_type": "display_data"
    }
   ],
   "source": [
    "sorted_varieties = price_extremes.sort_values(by=['min', 'max'], ascending=False)\n",
    "\n",
    "# Check your answer\n",
    "q4.check()"
   ]
  },
  {
   "cell_type": "code",
   "execution_count": 9,
   "id": "e0087647",
   "metadata": {
    "execution": {
     "iopub.execute_input": "2023-01-01T05:22:58.309024Z",
     "iopub.status.busy": "2023-01-01T05:22:58.308446Z",
     "iopub.status.idle": "2023-01-01T05:22:58.313649Z",
     "shell.execute_reply": "2023-01-01T05:22:58.312654Z"
    },
    "papermill": {
     "duration": 0.016563,
     "end_time": "2023-01-01T05:22:58.316036",
     "exception": false,
     "start_time": "2023-01-01T05:22:58.299473",
     "status": "completed"
    },
    "tags": []
   },
   "outputs": [],
   "source": [
    "# q4.hint()\n",
    "# q4.solution()"
   ]
  },
  {
   "cell_type": "markdown",
   "id": "36211c50",
   "metadata": {
    "papermill": {
     "duration": 0.006813,
     "end_time": "2023-01-01T05:22:58.330358",
     "exception": false,
     "start_time": "2023-01-01T05:22:58.323545",
     "status": "completed"
    },
    "tags": []
   },
   "source": [
    "## 5.\n",
    "Create a `Series` whose index is reviewers and whose values is the average review score given out by that reviewer. Hint: you will need the `taster_name` and `points` columns."
   ]
  },
  {
   "cell_type": "code",
   "execution_count": 10,
   "id": "69a52f3e",
   "metadata": {
    "execution": {
     "iopub.execute_input": "2023-01-01T05:22:58.346435Z",
     "iopub.status.busy": "2023-01-01T05:22:58.345932Z",
     "iopub.status.idle": "2023-01-01T05:22:58.368772Z",
     "shell.execute_reply": "2023-01-01T05:22:58.367679Z"
    },
    "papermill": {
     "duration": 0.033575,
     "end_time": "2023-01-01T05:22:58.371140",
     "exception": false,
     "start_time": "2023-01-01T05:22:58.337565",
     "status": "completed"
    },
    "tags": []
   },
   "outputs": [
    {
     "data": {
      "application/javascript": [
       "parent.postMessage({\"jupyterEvent\": \"custom.exercise_interaction\", \"data\": {\"outcomeType\": 1, \"valueTowardsCompletion\": 0.16666666666666666, \"interactionType\": 1, \"questionType\": 1, \"questionId\": \"5_ReviewerMeanRatings\", \"learnToolsVersion\": \"0.3.4\", \"failureMessage\": \"\", \"exceptionClass\": \"\", \"trace\": \"\"}}, \"*\")"
      ],
      "text/plain": [
       "<IPython.core.display.Javascript object>"
      ]
     },
     "metadata": {},
     "output_type": "display_data"
    },
    {
     "data": {
      "text/markdown": [
       "<span style=\"color:#33cc33\">Correct</span>"
      ],
      "text/plain": [
       "Correct"
      ]
     },
     "metadata": {},
     "output_type": "display_data"
    }
   ],
   "source": [
    "reviewer_mean_ratings = reviews.groupby('taster_name').points.mean()\n",
    "\n",
    "# Check your answer\n",
    "q5.check()"
   ]
  },
  {
   "cell_type": "code",
   "execution_count": 11,
   "id": "d6846caf",
   "metadata": {
    "execution": {
     "iopub.execute_input": "2023-01-01T05:22:58.388305Z",
     "iopub.status.busy": "2023-01-01T05:22:58.387075Z",
     "iopub.status.idle": "2023-01-01T05:22:58.391823Z",
     "shell.execute_reply": "2023-01-01T05:22:58.390888Z"
    },
    "papermill": {
     "duration": 0.015769,
     "end_time": "2023-01-01T05:22:58.394031",
     "exception": false,
     "start_time": "2023-01-01T05:22:58.378262",
     "status": "completed"
    },
    "tags": []
   },
   "outputs": [],
   "source": [
    "# q5.hint()\n",
    "# q5.solution()"
   ]
  },
  {
   "cell_type": "markdown",
   "id": "9555a19f",
   "metadata": {
    "papermill": {
     "duration": 0.00691,
     "end_time": "2023-01-01T05:22:58.408407",
     "exception": false,
     "start_time": "2023-01-01T05:22:58.401497",
     "status": "completed"
    },
    "tags": []
   },
   "source": [
    "Are there significant differences in the average scores assigned by the various reviewers? Run the cell below to use the `describe()` method to see a summary of the range of values."
   ]
  },
  {
   "cell_type": "code",
   "execution_count": 12,
   "id": "3cc00377",
   "metadata": {
    "execution": {
     "iopub.execute_input": "2023-01-01T05:22:58.426520Z",
     "iopub.status.busy": "2023-01-01T05:22:58.425553Z",
     "iopub.status.idle": "2023-01-01T05:22:58.440925Z",
     "shell.execute_reply": "2023-01-01T05:22:58.439575Z"
    },
    "papermill": {
     "duration": 0.027325,
     "end_time": "2023-01-01T05:22:58.443551",
     "exception": false,
     "start_time": "2023-01-01T05:22:58.416226",
     "status": "completed"
    },
    "tags": []
   },
   "outputs": [
    {
     "data": {
      "text/plain": [
       "count    19.000000\n",
       "mean     88.233026\n",
       "std       1.243610\n",
       "min      85.855422\n",
       "25%      87.323501\n",
       "50%      88.536235\n",
       "75%      88.975256\n",
       "max      90.562551\n",
       "Name: points, dtype: float64"
      ]
     },
     "execution_count": 12,
     "metadata": {},
     "output_type": "execute_result"
    }
   ],
   "source": [
    "reviewer_mean_ratings.describe()"
   ]
  },
  {
   "cell_type": "markdown",
   "id": "360a26c7",
   "metadata": {
    "papermill": {
     "duration": 0.007534,
     "end_time": "2023-01-01T05:22:58.458577",
     "exception": false,
     "start_time": "2023-01-01T05:22:58.451043",
     "status": "completed"
    },
    "tags": []
   },
   "source": [
    "## 6.\n",
    "What combination of countries and varieties are most common? Create a `Series` whose index is a `MultiIndex`of `{country, variety}` pairs. For example, a pinot noir produced in the US should map to `{\"US\", \"Pinot Noir\"}`. Sort the values in the `Series` in descending order based on wine count."
   ]
  },
  {
   "cell_type": "code",
   "execution_count": 13,
   "id": "80b5a58f",
   "metadata": {
    "execution": {
     "iopub.execute_input": "2023-01-01T05:22:58.477144Z",
     "iopub.status.busy": "2023-01-01T05:22:58.475736Z",
     "iopub.status.idle": "2023-01-01T05:22:58.514100Z",
     "shell.execute_reply": "2023-01-01T05:22:58.512970Z"
    },
    "papermill": {
     "duration": 0.050652,
     "end_time": "2023-01-01T05:22:58.516857",
     "exception": false,
     "start_time": "2023-01-01T05:22:58.466205",
     "status": "completed"
    },
    "tags": []
   },
   "outputs": [
    {
     "data": {
      "application/javascript": [
       "parent.postMessage({\"jupyterEvent\": \"custom.exercise_interaction\", \"data\": {\"outcomeType\": 1, \"valueTowardsCompletion\": 0.16666666666666666, \"interactionType\": 1, \"questionType\": 1, \"questionId\": \"6_GroupbyCountryVariety\", \"learnToolsVersion\": \"0.3.4\", \"failureMessage\": \"\", \"exceptionClass\": \"\", \"trace\": \"\"}}, \"*\")"
      ],
      "text/plain": [
       "<IPython.core.display.Javascript object>"
      ]
     },
     "metadata": {},
     "output_type": "display_data"
    },
    {
     "data": {
      "text/markdown": [
       "<span style=\"color:#33cc33\">Correct</span>"
      ],
      "text/plain": [
       "Correct"
      ]
     },
     "metadata": {},
     "output_type": "display_data"
    }
   ],
   "source": [
    "country_variety_counts = reviews.groupby(['country', 'variety']).size().sort_values(ascending=False)\n",
    "\n",
    "# Check your answer\n",
    "q6.check()"
   ]
  },
  {
   "cell_type": "code",
   "execution_count": 14,
   "id": "fa6e80e2",
   "metadata": {
    "execution": {
     "iopub.execute_input": "2023-01-01T05:22:58.534929Z",
     "iopub.status.busy": "2023-01-01T05:22:58.534426Z",
     "iopub.status.idle": "2023-01-01T05:22:58.539599Z",
     "shell.execute_reply": "2023-01-01T05:22:58.538389Z"
    },
    "papermill": {
     "duration": 0.01733,
     "end_time": "2023-01-01T05:22:58.542035",
     "exception": false,
     "start_time": "2023-01-01T05:22:58.524705",
     "status": "completed"
    },
    "tags": []
   },
   "outputs": [],
   "source": [
    "# q6.hint()\n",
    "# q6.solution()"
   ]
  },
  {
   "cell_type": "markdown",
   "id": "74c9e33c",
   "metadata": {
    "papermill": {
     "duration": 0.007488,
     "end_time": "2023-01-01T05:22:58.557324",
     "exception": false,
     "start_time": "2023-01-01T05:22:58.549836",
     "status": "completed"
    },
    "tags": []
   },
   "source": [
    "---\n",
    "\n",
    "\n",
    "\n",
    "\n",
    "**Allen**"
   ]
  }
 ],
 "metadata": {
  "kernelspec": {
   "display_name": "Python 3",
   "language": "python",
   "name": "python3"
  },
  "language_info": {
   "codemirror_mode": {
    "name": "ipython",
    "version": 3
   },
   "file_extension": ".py",
   "mimetype": "text/x-python",
   "name": "python",
   "nbconvert_exporter": "python",
   "pygments_lexer": "ipython3",
   "version": "3.7.12"
  },
  "papermill": {
   "default_parameters": {},
   "duration": 16.195504,
   "end_time": "2023-01-01T05:22:59.591126",
   "environment_variables": {},
   "exception": null,
   "input_path": "__notebook__.ipynb",
   "output_path": "__notebook__.ipynb",
   "parameters": {},
   "start_time": "2023-01-01T05:22:43.395622",
   "version": "2.3.4"
  }
 },
 "nbformat": 4,
 "nbformat_minor": 5
}
