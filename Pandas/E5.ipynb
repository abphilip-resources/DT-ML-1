{
 "cells": [
  {
   "cell_type": "markdown",
   "id": "e1212812",
   "metadata": {
    "papermill": {
     "duration": 0.005438,
     "end_time": "2023-01-02T05:00:00.374894",
     "exception": false,
     "start_time": "2023-01-02T05:00:00.369456",
     "status": "completed"
    },
    "tags": []
   },
   "source": [
    "**This notebook is an exercise in the [Pandas](https://www.kaggle.com/learn/pandas) course.  You can reference the tutorial at [this link](https://www.kaggle.com/residentmario/data-types-and-missing-values).**\n",
    "\n",
    "---\n"
   ]
  },
  {
   "cell_type": "code",
   "execution_count": null,
   "id": "fbf2e9ba",
   "metadata": {
    "papermill": {
     "duration": 0.003867,
     "end_time": "2023-01-02T05:00:00.383192",
     "exception": false,
     "start_time": "2023-01-02T05:00:00.379325",
     "status": "completed"
    },
    "tags": []
   },
   "outputs": [],
   "source": []
  },
  {
   "cell_type": "markdown",
   "id": "42950907",
   "metadata": {
    "papermill": {
     "duration": 0.004504,
     "end_time": "2023-01-02T05:00:00.391766",
     "exception": false,
     "start_time": "2023-01-02T05:00:00.387262",
     "status": "completed"
    },
    "tags": []
   },
   "source": [
    "# Introduction\n",
    "\n",
    "Run the following cell to load your data and some utility functions."
   ]
  },
  {
   "cell_type": "code",
   "execution_count": 1,
   "id": "39680e3f",
   "metadata": {
    "execution": {
     "iopub.execute_input": "2023-01-02T05:00:00.402912Z",
     "iopub.status.busy": "2023-01-02T05:00:00.402217Z",
     "iopub.status.idle": "2023-01-02T05:00:03.406708Z",
     "shell.execute_reply": "2023-01-02T05:00:03.405251Z"
    },
    "papermill": {
     "duration": 3.013365,
     "end_time": "2023-01-02T05:00:03.409467",
     "exception": false,
     "start_time": "2023-01-02T05:00:00.396102",
     "status": "completed"
    },
    "tags": []
   },
   "outputs": [
    {
     "name": "stdout",
     "output_type": "stream",
     "text": [
      "Setup complete.\n"
     ]
    }
   ],
   "source": [
    "import pandas as pd\n",
    "\n",
    "reviews = pd.read_csv(\"../input/wine-reviews/winemag-data-130k-v2.csv\", index_col=0)\n",
    "\n",
    "from learntools.core import binder; binder.bind(globals())\n",
    "from learntools.pandas.data_types_and_missing_data import *\n",
    "print(\"Setup complete.\")"
   ]
  },
  {
   "cell_type": "markdown",
   "id": "0ebe7c92",
   "metadata": {
    "papermill": {
     "duration": 0.004108,
     "end_time": "2023-01-02T05:00:03.418201",
     "exception": false,
     "start_time": "2023-01-02T05:00:03.414093",
     "status": "completed"
    },
    "tags": []
   },
   "source": [
    "# Exercises"
   ]
  },
  {
   "cell_type": "markdown",
   "id": "4f2dbb1d",
   "metadata": {
    "papermill": {
     "duration": 0.00401,
     "end_time": "2023-01-02T05:00:03.426455",
     "exception": false,
     "start_time": "2023-01-02T05:00:03.422445",
     "status": "completed"
    },
    "tags": []
   },
   "source": [
    "## 1. \n",
    "What is the data type of the `points` column in the dataset?"
   ]
  },
  {
   "cell_type": "code",
   "execution_count": 2,
   "id": "76970262",
   "metadata": {
    "execution": {
     "iopub.execute_input": "2023-01-02T05:00:03.437595Z",
     "iopub.status.busy": "2023-01-02T05:00:03.436340Z",
     "iopub.status.idle": "2023-01-02T05:00:03.449371Z",
     "shell.execute_reply": "2023-01-02T05:00:03.448447Z"
    },
    "papermill": {
     "duration": 0.020827,
     "end_time": "2023-01-02T05:00:03.451655",
     "exception": false,
     "start_time": "2023-01-02T05:00:03.430828",
     "status": "completed"
    },
    "tags": []
   },
   "outputs": [
    {
     "data": {
      "application/javascript": [
       "parent.postMessage({\"jupyterEvent\": \"custom.exercise_interaction\", \"data\": {\"outcomeType\": 1, \"valueTowardsCompletion\": 0.25, \"interactionType\": 1, \"questionType\": 1, \"questionId\": \"1_PointsDtype\", \"learnToolsVersion\": \"0.3.4\", \"failureMessage\": \"\", \"exceptionClass\": \"\", \"trace\": \"\"}}, \"*\")"
      ],
      "text/plain": [
       "<IPython.core.display.Javascript object>"
      ]
     },
     "metadata": {},
     "output_type": "display_data"
    },
    {
     "data": {
      "text/markdown": [
       "<span style=\"color:#33cc33\">Correct</span>"
      ],
      "text/plain": [
       "Correct"
      ]
     },
     "metadata": {},
     "output_type": "display_data"
    }
   ],
   "source": [
    "# Your code here\n",
    "dtype = reviews.points.dtype\n",
    "\n",
    "# Check your answer\n",
    "q1.check()"
   ]
  },
  {
   "cell_type": "code",
   "execution_count": 3,
   "id": "8256f586",
   "metadata": {
    "execution": {
     "iopub.execute_input": "2023-01-02T05:00:03.462749Z",
     "iopub.status.busy": "2023-01-02T05:00:03.462291Z",
     "iopub.status.idle": "2023-01-02T05:00:03.466763Z",
     "shell.execute_reply": "2023-01-02T05:00:03.465603Z"
    },
    "papermill": {
     "duration": 0.012697,
     "end_time": "2023-01-02T05:00:03.469064",
     "exception": false,
     "start_time": "2023-01-02T05:00:03.456367",
     "status": "completed"
    },
    "tags": []
   },
   "outputs": [],
   "source": [
    "# q1.hint()\n",
    "# q1.solution()"
   ]
  },
  {
   "cell_type": "markdown",
   "id": "fb3663f7",
   "metadata": {
    "papermill": {
     "duration": 0.004264,
     "end_time": "2023-01-02T05:00:03.478128",
     "exception": false,
     "start_time": "2023-01-02T05:00:03.473864",
     "status": "completed"
    },
    "tags": []
   },
   "source": [
    "## 2. \n",
    "Create a Series from entries in the `points` column, but convert the entries to strings. Hint: strings are `str` in native Python."
   ]
  },
  {
   "cell_type": "code",
   "execution_count": 4,
   "id": "47e62850",
   "metadata": {
    "execution": {
     "iopub.execute_input": "2023-01-02T05:00:03.489122Z",
     "iopub.status.busy": "2023-01-02T05:00:03.488752Z",
     "iopub.status.idle": "2023-01-02T05:00:03.570891Z",
     "shell.execute_reply": "2023-01-02T05:00:03.569725Z"
    },
    "papermill": {
     "duration": 0.09064,
     "end_time": "2023-01-02T05:00:03.573272",
     "exception": false,
     "start_time": "2023-01-02T05:00:03.482632",
     "status": "completed"
    },
    "tags": []
   },
   "outputs": [
    {
     "data": {
      "application/javascript": [
       "parent.postMessage({\"jupyterEvent\": \"custom.exercise_interaction\", \"data\": {\"outcomeType\": 1, \"valueTowardsCompletion\": 0.25, \"interactionType\": 1, \"questionType\": 1, \"questionId\": \"2_StrPoints\", \"learnToolsVersion\": \"0.3.4\", \"failureMessage\": \"\", \"exceptionClass\": \"\", \"trace\": \"\"}}, \"*\")"
      ],
      "text/plain": [
       "<IPython.core.display.Javascript object>"
      ]
     },
     "metadata": {},
     "output_type": "display_data"
    },
    {
     "data": {
      "text/markdown": [
       "<span style=\"color:#33cc33\">Correct</span>"
      ],
      "text/plain": [
       "Correct"
      ]
     },
     "metadata": {},
     "output_type": "display_data"
    }
   ],
   "source": [
    "point_strings = reviews.points.astype(str)\n",
    "\n",
    "# Check your answer\n",
    "q2.check()"
   ]
  },
  {
   "cell_type": "code",
   "execution_count": 5,
   "id": "c9c71ef1",
   "metadata": {
    "execution": {
     "iopub.execute_input": "2023-01-02T05:00:03.584776Z",
     "iopub.status.busy": "2023-01-02T05:00:03.584385Z",
     "iopub.status.idle": "2023-01-02T05:00:03.590549Z",
     "shell.execute_reply": "2023-01-02T05:00:03.589585Z"
    },
    "papermill": {
     "duration": 0.015104,
     "end_time": "2023-01-02T05:00:03.593241",
     "exception": false,
     "start_time": "2023-01-02T05:00:03.578137",
     "status": "completed"
    },
    "tags": []
   },
   "outputs": [],
   "source": [
    "# q2.hint()\n",
    "# q2.solution()"
   ]
  },
  {
   "cell_type": "markdown",
   "id": "9077e790",
   "metadata": {
    "papermill": {
     "duration": 0.004632,
     "end_time": "2023-01-02T05:00:03.602965",
     "exception": false,
     "start_time": "2023-01-02T05:00:03.598333",
     "status": "completed"
    },
    "tags": []
   },
   "source": [
    "## 3.\n",
    "Sometimes the price column is null. How many reviews in the dataset are missing a price?"
   ]
  },
  {
   "cell_type": "code",
   "execution_count": 6,
   "id": "0de8e5a0",
   "metadata": {
    "execution": {
     "iopub.execute_input": "2023-01-02T05:00:03.614742Z",
     "iopub.status.busy": "2023-01-02T05:00:03.613766Z",
     "iopub.status.idle": "2023-01-02T05:00:03.623655Z",
     "shell.execute_reply": "2023-01-02T05:00:03.622594Z"
    },
    "papermill": {
     "duration": 0.018288,
     "end_time": "2023-01-02T05:00:03.626061",
     "exception": false,
     "start_time": "2023-01-02T05:00:03.607773",
     "status": "completed"
    },
    "tags": []
   },
   "outputs": [
    {
     "data": {
      "application/javascript": [
       "parent.postMessage({\"jupyterEvent\": \"custom.exercise_interaction\", \"data\": {\"outcomeType\": 1, \"valueTowardsCompletion\": 0.25, \"interactionType\": 1, \"questionType\": 1, \"questionId\": \"3_CountMissingPrices\", \"learnToolsVersion\": \"0.3.4\", \"failureMessage\": \"\", \"exceptionClass\": \"\", \"trace\": \"\"}}, \"*\")"
      ],
      "text/plain": [
       "<IPython.core.display.Javascript object>"
      ]
     },
     "metadata": {},
     "output_type": "display_data"
    },
    {
     "data": {
      "text/markdown": [
       "<span style=\"color:#33cc33\">Correct</span>"
      ],
      "text/plain": [
       "Correct"
      ]
     },
     "metadata": {},
     "output_type": "display_data"
    }
   ],
   "source": [
    "n_missing_prices = pd.isnull(reviews.price).sum()\n",
    "\n",
    "# Check your answer\n",
    "q3.check()"
   ]
  },
  {
   "cell_type": "code",
   "execution_count": 7,
   "id": "f76622f6",
   "metadata": {
    "execution": {
     "iopub.execute_input": "2023-01-02T05:00:03.637752Z",
     "iopub.status.busy": "2023-01-02T05:00:03.637328Z",
     "iopub.status.idle": "2023-01-02T05:00:03.641869Z",
     "shell.execute_reply": "2023-01-02T05:00:03.640575Z"
    },
    "papermill": {
     "duration": 0.013225,
     "end_time": "2023-01-02T05:00:03.644358",
     "exception": false,
     "start_time": "2023-01-02T05:00:03.631133",
     "status": "completed"
    },
    "tags": []
   },
   "outputs": [],
   "source": [
    "# q3.hint()\n",
    "# q3.solution()"
   ]
  },
  {
   "cell_type": "markdown",
   "id": "d105ab36",
   "metadata": {
    "papermill": {
     "duration": 0.004751,
     "end_time": "2023-01-02T05:00:03.655244",
     "exception": false,
     "start_time": "2023-01-02T05:00:03.650493",
     "status": "completed"
    },
    "tags": []
   },
   "source": [
    "## 4.\n",
    "What are the most common wine-producing regions? Create a Series counting the number of times each value occurs in the `region_1` field. This field is often missing data, so replace missing values with `Unknown`. Sort in descending order.  Your output should look something like this:\n",
    "\n",
    "```\n",
    "Unknown                    21247\n",
    "Napa Valley                 4480\n",
    "                           ...  \n",
    "Bardolino Superiore            1\n",
    "Primitivo del Tarantino        1\n",
    "Name: region_1, Length: 1230, dtype: int64\n",
    "```"
   ]
  },
  {
   "cell_type": "code",
   "execution_count": 8,
   "id": "7be2754e",
   "metadata": {
    "execution": {
     "iopub.execute_input": "2023-01-02T05:00:03.667692Z",
     "iopub.status.busy": "2023-01-02T05:00:03.667201Z",
     "iopub.status.idle": "2023-01-02T05:00:03.711453Z",
     "shell.execute_reply": "2023-01-02T05:00:03.710329Z"
    },
    "papermill": {
     "duration": 0.053389,
     "end_time": "2023-01-02T05:00:03.714044",
     "exception": false,
     "start_time": "2023-01-02T05:00:03.660655",
     "status": "completed"
    },
    "tags": []
   },
   "outputs": [
    {
     "data": {
      "application/javascript": [
       "parent.postMessage({\"jupyterEvent\": \"custom.exercise_interaction\", \"data\": {\"outcomeType\": 1, \"valueTowardsCompletion\": 0.25, \"interactionType\": 1, \"questionType\": 2, \"questionId\": \"4_ReviewsPerRegion\", \"learnToolsVersion\": \"0.3.4\", \"failureMessage\": \"\", \"exceptionClass\": \"\", \"trace\": \"\"}}, \"*\")"
      ],
      "text/plain": [
       "<IPython.core.display.Javascript object>"
      ]
     },
     "metadata": {},
     "output_type": "display_data"
    },
    {
     "data": {
      "text/markdown": [
       "<span style=\"color:#33cc33\">Correct</span>"
      ],
      "text/plain": [
       "Correct"
      ]
     },
     "metadata": {},
     "output_type": "display_data"
    }
   ],
   "source": [
    "reviews_per_region = reviews.region_1.fillna('Unknown').value_counts().sort_values(ascending=False)\n",
    "\n",
    "# Check your answer\n",
    "q4.check()"
   ]
  },
  {
   "cell_type": "code",
   "execution_count": 9,
   "id": "68cd14e1",
   "metadata": {
    "execution": {
     "iopub.execute_input": "2023-01-02T05:00:03.727305Z",
     "iopub.status.busy": "2023-01-02T05:00:03.726420Z",
     "iopub.status.idle": "2023-01-02T05:00:03.733060Z",
     "shell.execute_reply": "2023-01-02T05:00:03.731230Z"
    },
    "papermill": {
     "duration": 0.016858,
     "end_time": "2023-01-02T05:00:03.736318",
     "exception": false,
     "start_time": "2023-01-02T05:00:03.719460",
     "status": "completed"
    },
    "tags": []
   },
   "outputs": [],
   "source": [
    "# q4.hint()\n",
    "# q4.solution()"
   ]
  },
  {
   "cell_type": "markdown",
   "id": "9554013a",
   "metadata": {
    "papermill": {
     "duration": 0.006169,
     "end_time": "2023-01-02T05:00:03.750310",
     "exception": false,
     "start_time": "2023-01-02T05:00:03.744141",
     "status": "completed"
    },
    "tags": []
   },
   "source": [
    "---\n",
    "\n",
    "\n",
    "\n",
    "\n",
    "**Allen**"
   ]
  }
 ],
 "metadata": {
  "kernelspec": {
   "display_name": "Python 3",
   "language": "python",
   "name": "python3"
  },
  "language_info": {
   "codemirror_mode": {
    "name": "ipython",
    "version": 3
   },
   "file_extension": ".py",
   "mimetype": "text/x-python",
   "name": "python",
   "nbconvert_exporter": "python",
   "pygments_lexer": "ipython3",
   "version": "3.7.12"
  },
  "papermill": {
   "default_parameters": {},
   "duration": 12.60564,
   "end_time": "2023-01-02T05:00:04.478571",
   "environment_variables": {},
   "exception": null,
   "input_path": "__notebook__.ipynb",
   "output_path": "__notebook__.ipynb",
   "parameters": {},
   "start_time": "2023-01-02T04:59:51.872931",
   "version": "2.3.4"
  }
 },
 "nbformat": 4,
 "nbformat_minor": 5
}
