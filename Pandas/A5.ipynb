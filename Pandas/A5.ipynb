{
 "cells": [
  {
   "cell_type": "markdown",
   "id": "cafc42cd",
   "metadata": {
    "papermill": {
     "duration": 0.005747,
     "end_time": "2022-12-28T02:53:52.820504",
     "exception": false,
     "start_time": "2022-12-28T02:53:52.814757",
     "status": "completed"
    },
    "tags": []
   },
   "source": [
    "# Introduction\n",
    "\n",
    "In this tutorial, you'll learn how to investigate data types within a DataFrame or Series.  You'll also learn how to find and replace entries.\n",
    "\n",
    "**To start the exercise for this topic, please click [here](https://www.kaggle.com/kernels/fork/598826).**\n",
    "\n",
    "# Dtypes\n",
    "\n",
    "The data type for a column in a DataFrame or a Series is known as the **dtype**.\n",
    "\n",
    "You can use the `dtype` property to grab the type of a specific column.  For instance, we can get the dtype of the `price` column in the `reviews` DataFrame:"
   ]
  },
  {
   "cell_type": "code",
   "execution_count": 1,
   "id": "e116a4a1",
   "metadata": {
    "_kg_hide-input": true,
    "execution": {
     "iopub.execute_input": "2022-12-28T02:53:52.831502Z",
     "iopub.status.busy": "2022-12-28T02:53:52.831046Z",
     "iopub.status.idle": "2022-12-28T02:53:54.537452Z",
     "shell.execute_reply": "2022-12-28T02:53:54.536279Z"
    },
    "papermill": {
     "duration": 1.715153,
     "end_time": "2022-12-28T02:53:54.540347",
     "exception": false,
     "start_time": "2022-12-28T02:53:52.825194",
     "status": "completed"
    },
    "tags": []
   },
   "outputs": [],
   "source": [
    "import pandas as pd\n",
    "reviews = pd.read_csv(\"../input/wine-reviews/winemag-data-130k-v2.csv\", index_col=0)\n",
    "pd.set_option('max_rows', 5)"
   ]
  },
  {
   "cell_type": "code",
   "execution_count": 2,
   "id": "1a39c8a0",
   "metadata": {
    "execution": {
     "iopub.execute_input": "2022-12-28T02:53:54.551518Z",
     "iopub.status.busy": "2022-12-28T02:53:54.551121Z",
     "iopub.status.idle": "2022-12-28T02:53:54.561969Z",
     "shell.execute_reply": "2022-12-28T02:53:54.560781Z"
    },
    "papermill": {
     "duration": 0.020194,
     "end_time": "2022-12-28T02:53:54.565300",
     "exception": false,
     "start_time": "2022-12-28T02:53:54.545106",
     "status": "completed"
    },
    "scrolled": true,
    "tags": []
   },
   "outputs": [
    {
     "data": {
      "text/plain": [
       "dtype('float64')"
      ]
     },
     "execution_count": 2,
     "metadata": {},
     "output_type": "execute_result"
    }
   ],
   "source": [
    "reviews.price.dtype"
   ]
  },
  {
   "cell_type": "markdown",
   "id": "7659888f",
   "metadata": {
    "papermill": {
     "duration": 0.004662,
     "end_time": "2022-12-28T02:53:54.575080",
     "exception": false,
     "start_time": "2022-12-28T02:53:54.570418",
     "status": "completed"
    },
    "tags": []
   },
   "source": [
    "Alternatively, the `dtypes` property returns the `dtype` of _every_ column in the DataFrame:"
   ]
  },
  {
   "cell_type": "code",
   "execution_count": 3,
   "id": "49941ea3",
   "metadata": {
    "execution": {
     "iopub.execute_input": "2022-12-28T02:53:54.586082Z",
     "iopub.status.busy": "2022-12-28T02:53:54.585667Z",
     "iopub.status.idle": "2022-12-28T02:53:54.594634Z",
     "shell.execute_reply": "2022-12-28T02:53:54.593296Z"
    },
    "papermill": {
     "duration": 0.017439,
     "end_time": "2022-12-28T02:53:54.597103",
     "exception": false,
     "start_time": "2022-12-28T02:53:54.579664",
     "status": "completed"
    },
    "tags": []
   },
   "outputs": [
    {
     "data": {
      "text/plain": [
       "country        object\n",
       "description    object\n",
       "                ...  \n",
       "variety        object\n",
       "winery         object\n",
       "Length: 13, dtype: object"
      ]
     },
     "execution_count": 3,
     "metadata": {},
     "output_type": "execute_result"
    }
   ],
   "source": [
    "reviews.dtypes"
   ]
  },
  {
   "cell_type": "markdown",
   "id": "ec423feb",
   "metadata": {
    "papermill": {
     "duration": 0.004415,
     "end_time": "2022-12-28T02:53:54.606173",
     "exception": false,
     "start_time": "2022-12-28T02:53:54.601758",
     "status": "completed"
    },
    "tags": []
   },
   "source": [
    "Data types tell us something about how pandas is storing the data internally. `float64` means that it's using a 64-bit floating point number; `int64` means a similarly sized integer instead, and so on.\n",
    "\n",
    "One peculiarity to keep in mind (and on display very clearly here) is that columns consisting entirely of strings do not get their own type; they are instead given the `object` type.\n",
    "\n",
    "It's possible to convert a column of one type into another wherever such a conversion makes sense by using the `astype()` function. For example, we may transform the `points` column from its existing `int64` data type into a `float64` data type:"
   ]
  },
  {
   "cell_type": "code",
   "execution_count": 4,
   "id": "d53921f9",
   "metadata": {
    "execution": {
     "iopub.execute_input": "2022-12-28T02:53:54.617895Z",
     "iopub.status.busy": "2022-12-28T02:53:54.617485Z",
     "iopub.status.idle": "2022-12-28T02:53:54.627558Z",
     "shell.execute_reply": "2022-12-28T02:53:54.626472Z"
    },
    "papermill": {
     "duration": 0.018605,
     "end_time": "2022-12-28T02:53:54.629891",
     "exception": false,
     "start_time": "2022-12-28T02:53:54.611286",
     "status": "completed"
    },
    "scrolled": true,
    "tags": []
   },
   "outputs": [
    {
     "data": {
      "text/plain": [
       "0         87.0\n",
       "1         87.0\n",
       "          ... \n",
       "129969    90.0\n",
       "129970    90.0\n",
       "Name: points, Length: 129971, dtype: float64"
      ]
     },
     "execution_count": 4,
     "metadata": {},
     "output_type": "execute_result"
    }
   ],
   "source": [
    "reviews.points.astype('float64')"
   ]
  },
  {
   "cell_type": "markdown",
   "id": "5c1db100",
   "metadata": {
    "papermill": {
     "duration": 0.004482,
     "end_time": "2022-12-28T02:53:54.639140",
     "exception": false,
     "start_time": "2022-12-28T02:53:54.634658",
     "status": "completed"
    },
    "tags": []
   },
   "source": [
    "A DataFrame or Series index has its own `dtype`, too:"
   ]
  },
  {
   "cell_type": "code",
   "execution_count": 5,
   "id": "6d03b2f7",
   "metadata": {
    "execution": {
     "iopub.execute_input": "2022-12-28T02:53:54.650435Z",
     "iopub.status.busy": "2022-12-28T02:53:54.650056Z",
     "iopub.status.idle": "2022-12-28T02:53:54.656401Z",
     "shell.execute_reply": "2022-12-28T02:53:54.655356Z"
    },
    "papermill": {
     "duration": 0.014805,
     "end_time": "2022-12-28T02:53:54.658746",
     "exception": false,
     "start_time": "2022-12-28T02:53:54.643941",
     "status": "completed"
    },
    "tags": []
   },
   "outputs": [
    {
     "data": {
      "text/plain": [
       "dtype('int64')"
      ]
     },
     "execution_count": 5,
     "metadata": {},
     "output_type": "execute_result"
    }
   ],
   "source": [
    "reviews.index.dtype"
   ]
  },
  {
   "cell_type": "markdown",
   "id": "5ddaadcb",
   "metadata": {
    "papermill": {
     "duration": 0.00456,
     "end_time": "2022-12-28T02:53:54.668102",
     "exception": false,
     "start_time": "2022-12-28T02:53:54.663542",
     "status": "completed"
    },
    "tags": []
   },
   "source": [
    "Pandas also supports more exotic data types, such as categorical data and timeseries data. Because these data types are more rarely used, we will omit them until a much later section of this tutorial."
   ]
  },
  {
   "cell_type": "markdown",
   "id": "1133ff92",
   "metadata": {
    "papermill": {
     "duration": 0.004427,
     "end_time": "2022-12-28T02:53:54.677281",
     "exception": false,
     "start_time": "2022-12-28T02:53:54.672854",
     "status": "completed"
    },
    "tags": []
   },
   "source": [
    "# Missing data\n",
    "\n",
    "Entries missing values are given the value `NaN`, short for \"Not a Number\". For technical reasons these `NaN` values are always of the `float64` dtype.\n",
    "\n",
    "Pandas provides some methods specific to missing data. To select `NaN` entries you can use `pd.isnull()` (or its companion `pd.notnull()`). This is meant to be used thusly:"
   ]
  },
  {
   "cell_type": "code",
   "execution_count": 6,
   "id": "f27cbf82",
   "metadata": {
    "execution": {
     "iopub.execute_input": "2022-12-28T02:53:54.688643Z",
     "iopub.status.busy": "2022-12-28T02:53:54.688248Z",
     "iopub.status.idle": "2022-12-28T02:53:54.721893Z",
     "shell.execute_reply": "2022-12-28T02:53:54.721044Z"
    },
    "papermill": {
     "duration": 0.041986,
     "end_time": "2022-12-28T02:53:54.724015",
     "exception": false,
     "start_time": "2022-12-28T02:53:54.682029",
     "status": "completed"
    },
    "tags": []
   },
   "outputs": [
    {
     "data": {
      "text/html": [
       "<div>\n",
       "<style scoped>\n",
       "    .dataframe tbody tr th:only-of-type {\n",
       "        vertical-align: middle;\n",
       "    }\n",
       "\n",
       "    .dataframe tbody tr th {\n",
       "        vertical-align: top;\n",
       "    }\n",
       "\n",
       "    .dataframe thead th {\n",
       "        text-align: right;\n",
       "    }\n",
       "</style>\n",
       "<table border=\"1\" class=\"dataframe\">\n",
       "  <thead>\n",
       "    <tr style=\"text-align: right;\">\n",
       "      <th></th>\n",
       "      <th>country</th>\n",
       "      <th>description</th>\n",
       "      <th>designation</th>\n",
       "      <th>points</th>\n",
       "      <th>price</th>\n",
       "      <th>province</th>\n",
       "      <th>region_1</th>\n",
       "      <th>region_2</th>\n",
       "      <th>taster_name</th>\n",
       "      <th>taster_twitter_handle</th>\n",
       "      <th>title</th>\n",
       "      <th>variety</th>\n",
       "      <th>winery</th>\n",
       "    </tr>\n",
       "  </thead>\n",
       "  <tbody>\n",
       "    <tr>\n",
       "      <th>913</th>\n",
       "      <td>NaN</td>\n",
       "      <td>Amber in color, this wine has aromas of peach ...</td>\n",
       "      <td>Asureti Valley</td>\n",
       "      <td>87</td>\n",
       "      <td>30.0</td>\n",
       "      <td>NaN</td>\n",
       "      <td>NaN</td>\n",
       "      <td>NaN</td>\n",
       "      <td>Mike DeSimone</td>\n",
       "      <td>@worldwineguys</td>\n",
       "      <td>Gotsa Family Wines 2014 Asureti Valley Chinuri</td>\n",
       "      <td>Chinuri</td>\n",
       "      <td>Gotsa Family Wines</td>\n",
       "    </tr>\n",
       "    <tr>\n",
       "      <th>3131</th>\n",
       "      <td>NaN</td>\n",
       "      <td>Soft, fruity and juicy, this is a pleasant, si...</td>\n",
       "      <td>Partager</td>\n",
       "      <td>83</td>\n",
       "      <td>NaN</td>\n",
       "      <td>NaN</td>\n",
       "      <td>NaN</td>\n",
       "      <td>NaN</td>\n",
       "      <td>Roger Voss</td>\n",
       "      <td>@vossroger</td>\n",
       "      <td>Barton &amp; Guestier NV Partager Red</td>\n",
       "      <td>Red Blend</td>\n",
       "      <td>Barton &amp; Guestier</td>\n",
       "    </tr>\n",
       "    <tr>\n",
       "      <th>...</th>\n",
       "      <td>...</td>\n",
       "      <td>...</td>\n",
       "      <td>...</td>\n",
       "      <td>...</td>\n",
       "      <td>...</td>\n",
       "      <td>...</td>\n",
       "      <td>...</td>\n",
       "      <td>...</td>\n",
       "      <td>...</td>\n",
       "      <td>...</td>\n",
       "      <td>...</td>\n",
       "      <td>...</td>\n",
       "      <td>...</td>\n",
       "    </tr>\n",
       "    <tr>\n",
       "      <th>129590</th>\n",
       "      <td>NaN</td>\n",
       "      <td>A blend of 60% Syrah, 30% Cabernet Sauvignon a...</td>\n",
       "      <td>Shah</td>\n",
       "      <td>90</td>\n",
       "      <td>30.0</td>\n",
       "      <td>NaN</td>\n",
       "      <td>NaN</td>\n",
       "      <td>NaN</td>\n",
       "      <td>Mike DeSimone</td>\n",
       "      <td>@worldwineguys</td>\n",
       "      <td>Büyülübağ 2012 Shah Red</td>\n",
       "      <td>Red Blend</td>\n",
       "      <td>Büyülübağ</td>\n",
       "    </tr>\n",
       "    <tr>\n",
       "      <th>129900</th>\n",
       "      <td>NaN</td>\n",
       "      <td>This wine offers a delightful bouquet of black...</td>\n",
       "      <td>NaN</td>\n",
       "      <td>91</td>\n",
       "      <td>32.0</td>\n",
       "      <td>NaN</td>\n",
       "      <td>NaN</td>\n",
       "      <td>NaN</td>\n",
       "      <td>Mike DeSimone</td>\n",
       "      <td>@worldwineguys</td>\n",
       "      <td>Psagot 2014 Merlot</td>\n",
       "      <td>Merlot</td>\n",
       "      <td>Psagot</td>\n",
       "    </tr>\n",
       "  </tbody>\n",
       "</table>\n",
       "<p>63 rows × 13 columns</p>\n",
       "</div>"
      ],
      "text/plain": [
       "       country                                        description  \\\n",
       "913        NaN  Amber in color, this wine has aromas of peach ...   \n",
       "3131       NaN  Soft, fruity and juicy, this is a pleasant, si...   \n",
       "...        ...                                                ...   \n",
       "129590     NaN  A blend of 60% Syrah, 30% Cabernet Sauvignon a...   \n",
       "129900     NaN  This wine offers a delightful bouquet of black...   \n",
       "\n",
       "           designation  points  price province region_1 region_2  \\\n",
       "913     Asureti Valley      87   30.0      NaN      NaN      NaN   \n",
       "3131          Partager      83    NaN      NaN      NaN      NaN   \n",
       "...                ...     ...    ...      ...      ...      ...   \n",
       "129590            Shah      90   30.0      NaN      NaN      NaN   \n",
       "129900             NaN      91   32.0      NaN      NaN      NaN   \n",
       "\n",
       "          taster_name taster_twitter_handle  \\\n",
       "913     Mike DeSimone        @worldwineguys   \n",
       "3131       Roger Voss            @vossroger   \n",
       "...               ...                   ...   \n",
       "129590  Mike DeSimone        @worldwineguys   \n",
       "129900  Mike DeSimone        @worldwineguys   \n",
       "\n",
       "                                                 title    variety  \\\n",
       "913     Gotsa Family Wines 2014 Asureti Valley Chinuri    Chinuri   \n",
       "3131                 Barton & Guestier NV Partager Red  Red Blend   \n",
       "...                                                ...        ...   \n",
       "129590                         Büyülübağ 2012 Shah Red  Red Blend   \n",
       "129900                              Psagot 2014 Merlot     Merlot   \n",
       "\n",
       "                    winery  \n",
       "913     Gotsa Family Wines  \n",
       "3131     Barton & Guestier  \n",
       "...                    ...  \n",
       "129590           Büyülübağ  \n",
       "129900              Psagot  \n",
       "\n",
       "[63 rows x 13 columns]"
      ]
     },
     "execution_count": 6,
     "metadata": {},
     "output_type": "execute_result"
    }
   ],
   "source": [
    "reviews[pd.isnull(reviews.country)]"
   ]
  },
  {
   "cell_type": "markdown",
   "id": "f611feaa",
   "metadata": {
    "papermill": {
     "duration": 0.005252,
     "end_time": "2022-12-28T02:53:54.734991",
     "exception": false,
     "start_time": "2022-12-28T02:53:54.729739",
     "status": "completed"
    },
    "tags": []
   },
   "source": [
    "Replacing missing values is a common operation.  Pandas provides a really handy method for this problem: `fillna()`. `fillna()` provides a few different strategies for mitigating such data. For example, we can simply replace each `NaN` with an `\"Unknown\"`:"
   ]
  },
  {
   "cell_type": "code",
   "execution_count": 7,
   "id": "784cca04",
   "metadata": {
    "execution": {
     "iopub.execute_input": "2022-12-28T02:53:54.747432Z",
     "iopub.status.busy": "2022-12-28T02:53:54.747057Z",
     "iopub.status.idle": "2022-12-28T02:53:54.763450Z",
     "shell.execute_reply": "2022-12-28T02:53:54.762407Z"
    },
    "papermill": {
     "duration": 0.025498,
     "end_time": "2022-12-28T02:53:54.765755",
     "exception": false,
     "start_time": "2022-12-28T02:53:54.740257",
     "status": "completed"
    },
    "tags": []
   },
   "outputs": [
    {
     "data": {
      "text/plain": [
       "0         Unknown\n",
       "1         Unknown\n",
       "           ...   \n",
       "129969    Unknown\n",
       "129970    Unknown\n",
       "Name: region_2, Length: 129971, dtype: object"
      ]
     },
     "execution_count": 7,
     "metadata": {},
     "output_type": "execute_result"
    }
   ],
   "source": [
    "reviews.region_2.fillna(\"Unknown\")"
   ]
  },
  {
   "cell_type": "markdown",
   "id": "c40017a3",
   "metadata": {
    "papermill": {
     "duration": 0.005063,
     "end_time": "2022-12-28T02:53:54.776239",
     "exception": false,
     "start_time": "2022-12-28T02:53:54.771176",
     "status": "completed"
    },
    "tags": []
   },
   "source": [
    "Or we could fill each missing value with the first non-null value that appears sometime after the given record in the database. This is known as the backfill strategy."
   ]
  },
  {
   "cell_type": "markdown",
   "id": "5194b25d",
   "metadata": {
    "papermill": {
     "duration": 0.004908,
     "end_time": "2022-12-28T02:53:54.787490",
     "exception": false,
     "start_time": "2022-12-28T02:53:54.782582",
     "status": "completed"
    },
    "tags": []
   },
   "source": [
    "Alternatively, we may have a non-null value that we would like to replace. For example, suppose that since this dataset was published, reviewer Kerin O'Keefe has changed her Twitter handle from `@kerinokeefe` to `@kerino`. One way to reflect this in the dataset is using the `replace()` method:"
   ]
  },
  {
   "cell_type": "code",
   "execution_count": 8,
   "id": "10f0201f",
   "metadata": {
    "execution": {
     "iopub.execute_input": "2022-12-28T02:53:54.800011Z",
     "iopub.status.busy": "2022-12-28T02:53:54.799578Z",
     "iopub.status.idle": "2022-12-28T02:53:54.813101Z",
     "shell.execute_reply": "2022-12-28T02:53:54.812057Z"
    },
    "papermill": {
     "duration": 0.023146,
     "end_time": "2022-12-28T02:53:54.815849",
     "exception": false,
     "start_time": "2022-12-28T02:53:54.792703",
     "status": "completed"
    },
    "tags": []
   },
   "outputs": [
    {
     "data": {
      "text/plain": [
       "0            @kerino\n",
       "1         @vossroger\n",
       "             ...    \n",
       "129969    @vossroger\n",
       "129970    @vossroger\n",
       "Name: taster_twitter_handle, Length: 129971, dtype: object"
      ]
     },
     "execution_count": 8,
     "metadata": {},
     "output_type": "execute_result"
    }
   ],
   "source": [
    "reviews.taster_twitter_handle.replace(\"@kerinokeefe\", \"@kerino\")"
   ]
  },
  {
   "cell_type": "markdown",
   "id": "d5ad5307",
   "metadata": {
    "papermill": {
     "duration": 0.005791,
     "end_time": "2022-12-28T02:53:54.827843",
     "exception": false,
     "start_time": "2022-12-28T02:53:54.822052",
     "status": "completed"
    },
    "tags": []
   },
   "source": [
    "The `replace()` method is worth mentioning here because it's handy for replacing missing data which is given some kind of sentinel value in the dataset: things like `\"Unknown\"`, `\"Undisclosed\"`, `\"Invalid\"`, and so on."
   ]
  },
  {
   "cell_type": "markdown",
   "id": "87178be5",
   "metadata": {
    "papermill": {
     "duration": 0.006076,
     "end_time": "2022-12-28T02:53:54.840006",
     "exception": false,
     "start_time": "2022-12-28T02:53:54.833930",
     "status": "completed"
    },
    "tags": []
   },
   "source": [
    "---\n",
    "\n",
    "\n",
    "\n",
    "\n",
    "*[Kaggle Course Link](https://www.kaggle.com/learn/pandas)*"
   ]
  }
 ],
 "metadata": {
  "kernelspec": {
   "display_name": "Python 3",
   "language": "python",
   "name": "python3"
  },
  "language_info": {
   "codemirror_mode": {
    "name": "ipython",
    "version": 3
   },
   "file_extension": ".py",
   "mimetype": "text/x-python",
   "name": "python",
   "nbconvert_exporter": "python",
   "pygments_lexer": "ipython3",
   "version": "3.7.12"
  },
  "papermill": {
   "default_parameters": {},
   "duration": 11.0365,
   "end_time": "2022-12-28T02:53:55.467622",
   "environment_variables": {},
   "exception": null,
   "input_path": "__notebook__.ipynb",
   "output_path": "__notebook__.ipynb",
   "parameters": {},
   "start_time": "2022-12-28T02:53:44.431122",
   "version": "2.3.4"
  }
 },
 "nbformat": 4,
 "nbformat_minor": 5
}
