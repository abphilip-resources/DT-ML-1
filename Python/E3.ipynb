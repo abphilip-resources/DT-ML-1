{
 "cells": [
  {
   "cell_type": "markdown",
   "id": "b421ae81",
   "metadata": {
    "papermill": {
     "duration": 0.009642,
     "end_time": "2022-11-10T14:48:09.629604",
     "exception": false,
     "start_time": "2022-11-10T14:48:09.619962",
     "status": "completed"
    },
    "tags": []
   },
   "source": [
    "**This notebook is an exercise in the [Python](https://www.kaggle.com/learn/python) course.  You can reference the tutorial at [this link](https://www.kaggle.com/colinmorris/booleans-and-conditionals).**\n",
    "\n",
    "---\n"
   ]
  },
  {
   "cell_type": "markdown",
   "id": "eba11bc2",
   "metadata": {
    "papermill": {
     "duration": 0.008001,
     "end_time": "2022-11-10T14:48:09.646214",
     "exception": false,
     "start_time": "2022-11-10T14:48:09.638213",
     "status": "completed"
    },
    "tags": []
   },
   "source": [
    "In this exercise, you'll put to work what you have learned about booleans and conditionals.\n",
    "\n",
    "To get started, **run the setup code below** before writing your own code (and if you leave this notebook and come back later, don't forget to run the setup code again)."
   ]
  },
  {
   "cell_type": "code",
   "execution_count": 1,
   "id": "f6f73194",
   "metadata": {
    "execution": {
     "iopub.execute_input": "2022-11-10T14:48:09.664801Z",
     "iopub.status.busy": "2022-11-10T14:48:09.664342Z",
     "iopub.status.idle": "2022-11-10T14:48:09.720672Z",
     "shell.execute_reply": "2022-11-10T14:48:09.718931Z"
    },
    "papermill": {
     "duration": 0.071081,
     "end_time": "2022-11-10T14:48:09.725614",
     "exception": false,
     "start_time": "2022-11-10T14:48:09.654533",
     "status": "completed"
    },
    "tags": []
   },
   "outputs": [
    {
     "name": "stdout",
     "output_type": "stream",
     "text": [
      "Setup complete.\n"
     ]
    }
   ],
   "source": [
    "from learntools.core import binder; binder.bind(globals())\n",
    "from learntools.python.ex3 import *\n",
    "print('Setup complete.')"
   ]
  },
  {
   "cell_type": "markdown",
   "id": "f2d1ac4d",
   "metadata": {
    "papermill": {
     "duration": 0.008388,
     "end_time": "2022-11-10T14:48:09.743147",
     "exception": false,
     "start_time": "2022-11-10T14:48:09.734759",
     "status": "completed"
    },
    "tags": []
   },
   "source": [
    "# 1.\n",
    "\n",
    "Many programming languages have [`sign`](https://en.wikipedia.org/wiki/Sign_function) available as a built-in function. Python doesn't, but we can define our own!\n",
    "\n",
    "In the cell below, define a function called `sign` which takes a numerical argument and returns -1 if it's negative, 1 if it's positive, and 0 if it's 0."
   ]
  },
  {
   "cell_type": "code",
   "execution_count": 2,
   "id": "d1c66f62",
   "metadata": {
    "execution": {
     "iopub.execute_input": "2022-11-10T14:48:09.762357Z",
     "iopub.status.busy": "2022-11-10T14:48:09.761972Z",
     "iopub.status.idle": "2022-11-10T14:48:09.773183Z",
     "shell.execute_reply": "2022-11-10T14:48:09.772037Z"
    },
    "papermill": {
     "duration": 0.02365,
     "end_time": "2022-11-10T14:48:09.775528",
     "exception": false,
     "start_time": "2022-11-10T14:48:09.751878",
     "status": "completed"
    },
    "tags": []
   },
   "outputs": [
    {
     "data": {
      "application/javascript": [
       "parent.postMessage({\"jupyterEvent\": \"custom.exercise_interaction\", \"data\": {\"outcomeType\": 1, \"valueTowardsCompletion\": 0.2, \"interactionType\": 1, \"questionType\": 2, \"questionId\": \"1_SignFunctionProblem\", \"learnToolsVersion\": \"0.3.4\", \"failureMessage\": \"\", \"exceptionClass\": \"\", \"trace\": \"\"}}, \"*\")"
      ],
      "text/plain": [
       "<IPython.core.display.Javascript object>"
      ]
     },
     "metadata": {},
     "output_type": "display_data"
    },
    {
     "data": {
      "text/markdown": [
       "<span style=\"color:#33cc33\">Correct</span>"
      ],
      "text/plain": [
       "Correct"
      ]
     },
     "metadata": {},
     "output_type": "display_data"
    }
   ],
   "source": [
    "# Your code goes here. Define a function called 'sign'\n",
    "def sign(n):\n",
    "    return 0 if(not n) else n/abs(n)\n",
    "\n",
    "# Check your answer\n",
    "q1.check()"
   ]
  },
  {
   "cell_type": "code",
   "execution_count": 3,
   "id": "bbbdebb5",
   "metadata": {
    "execution": {
     "iopub.execute_input": "2022-11-10T14:48:09.797177Z",
     "iopub.status.busy": "2022-11-10T14:48:09.796482Z",
     "iopub.status.idle": "2022-11-10T14:48:09.805231Z",
     "shell.execute_reply": "2022-11-10T14:48:09.804129Z"
    },
    "papermill": {
     "duration": 0.02125,
     "end_time": "2022-11-10T14:48:09.807542",
     "exception": false,
     "start_time": "2022-11-10T14:48:09.786292",
     "status": "completed"
    },
    "tags": []
   },
   "outputs": [
    {
     "data": {
      "application/javascript": [
       "parent.postMessage({\"jupyterEvent\": \"custom.exercise_interaction\", \"data\": {\"interactionType\": 3, \"questionType\": 2, \"questionId\": \"1_SignFunctionProblem\", \"learnToolsVersion\": \"0.3.4\", \"valueTowardsCompletion\": 0.0, \"failureMessage\": \"\", \"exceptionClass\": \"\", \"trace\": \"\", \"outcomeType\": 4}}, \"*\")"
      ],
      "text/plain": [
       "<IPython.core.display.Javascript object>"
      ]
     },
     "metadata": {},
     "output_type": "display_data"
    },
    {
     "data": {
      "text/markdown": [
       "<span style=\"color:#33cc99\">Solution:</span> \n",
       "```python\n",
       "def sign(x):\n",
       "    if x > 0:\n",
       "        return 1\n",
       "    elif x < 0:\n",
       "        return -1\n",
       "    else:\n",
       "        return 0\n",
       "```"
      ],
      "text/plain": [
       "Solution: \n",
       "```python\n",
       "def sign(x):\n",
       "    if x > 0:\n",
       "        return 1\n",
       "    elif x < 0:\n",
       "        return -1\n",
       "    else:\n",
       "        return 0\n",
       "```"
      ]
     },
     "metadata": {},
     "output_type": "display_data"
    }
   ],
   "source": [
    "q1.solution()"
   ]
  },
  {
   "cell_type": "markdown",
   "id": "102c20d6",
   "metadata": {
    "papermill": {
     "duration": 0.008837,
     "end_time": "2022-11-10T14:48:09.825746",
     "exception": false,
     "start_time": "2022-11-10T14:48:09.816909",
     "status": "completed"
    },
    "tags": []
   },
   "source": [
    "# 2.\n",
    "\n",
    "We've decided to add \"logging\" to our `to_smash` function from the previous exercise."
   ]
  },
  {
   "cell_type": "code",
   "execution_count": 4,
   "id": "16864331",
   "metadata": {
    "execution": {
     "iopub.execute_input": "2022-11-10T14:48:09.845856Z",
     "iopub.status.busy": "2022-11-10T14:48:09.845440Z",
     "iopub.status.idle": "2022-11-10T14:48:09.854234Z",
     "shell.execute_reply": "2022-11-10T14:48:09.852784Z"
    },
    "papermill": {
     "duration": 0.021741,
     "end_time": "2022-11-10T14:48:09.856732",
     "exception": false,
     "start_time": "2022-11-10T14:48:09.834991",
     "status": "completed"
    },
    "tags": []
   },
   "outputs": [
    {
     "name": "stdout",
     "output_type": "stream",
     "text": [
      "Splitting 91 candies\n"
     ]
    },
    {
     "data": {
      "text/plain": [
       "1"
      ]
     },
     "execution_count": 4,
     "metadata": {},
     "output_type": "execute_result"
    }
   ],
   "source": [
    "def to_smash(total_candies):\n",
    "    \"\"\"Return the number of leftover candies that must be smashed after distributing\n",
    "    the given number of candies evenly between 3 friends.\n",
    "    \n",
    "    >>> to_smash(91)\n",
    "    1\n",
    "    \"\"\"\n",
    "    print(\"Splitting\", total_candies, \"candies\")\n",
    "    return total_candies % 3\n",
    "\n",
    "to_smash(91)"
   ]
  },
  {
   "cell_type": "markdown",
   "id": "dd9a33ef",
   "metadata": {
    "papermill": {
     "duration": 0.008862,
     "end_time": "2022-11-10T14:48:09.874844",
     "exception": false,
     "start_time": "2022-11-10T14:48:09.865982",
     "status": "completed"
    },
    "tags": []
   },
   "source": [
    "What happens if we call it with `total_candies = 1`?"
   ]
  },
  {
   "cell_type": "code",
   "execution_count": 5,
   "id": "a528581f",
   "metadata": {
    "execution": {
     "iopub.execute_input": "2022-11-10T14:48:09.894878Z",
     "iopub.status.busy": "2022-11-10T14:48:09.894461Z",
     "iopub.status.idle": "2022-11-10T14:48:09.901545Z",
     "shell.execute_reply": "2022-11-10T14:48:09.900308Z"
    },
    "papermill": {
     "duration": 0.02075,
     "end_time": "2022-11-10T14:48:09.904788",
     "exception": false,
     "start_time": "2022-11-10T14:48:09.884038",
     "status": "completed"
    },
    "tags": []
   },
   "outputs": [
    {
     "name": "stdout",
     "output_type": "stream",
     "text": [
      "Splitting 1 candies\n"
     ]
    },
    {
     "data": {
      "text/plain": [
       "1"
      ]
     },
     "execution_count": 5,
     "metadata": {},
     "output_type": "execute_result"
    }
   ],
   "source": [
    "to_smash(1)"
   ]
  },
  {
   "cell_type": "markdown",
   "id": "df8c79f5",
   "metadata": {
    "papermill": {
     "duration": 0.009711,
     "end_time": "2022-11-10T14:48:09.924330",
     "exception": false,
     "start_time": "2022-11-10T14:48:09.914619",
     "status": "completed"
    },
    "tags": []
   },
   "source": [
    "That isn't great grammar!\n",
    "\n",
    "Modify the definition in the cell below to correct the grammar of our print statement. (If there's only one candy, we should use the singular \"candy\" instead of the plural \"candies\")"
   ]
  },
  {
   "cell_type": "code",
   "execution_count": 6,
   "id": "8637c0a9",
   "metadata": {
    "execution": {
     "iopub.execute_input": "2022-11-10T14:48:09.944985Z",
     "iopub.status.busy": "2022-11-10T14:48:09.944583Z",
     "iopub.status.idle": "2022-11-10T14:48:09.954219Z",
     "shell.execute_reply": "2022-11-10T14:48:09.952533Z"
    },
    "papermill": {
     "duration": 0.022834,
     "end_time": "2022-11-10T14:48:09.956544",
     "exception": false,
     "start_time": "2022-11-10T14:48:09.933710",
     "status": "completed"
    },
    "tags": []
   },
   "outputs": [
    {
     "name": "stdout",
     "output_type": "stream",
     "text": [
      "Splitting 91 candies\n",
      "Splitting 1 candy\n"
     ]
    },
    {
     "data": {
      "text/plain": [
       "1"
      ]
     },
     "execution_count": 6,
     "metadata": {},
     "output_type": "execute_result"
    }
   ],
   "source": [
    "def to_smash(total_candies):\n",
    "    \"\"\"Return the number of leftover candies that must be smashed after distributing\n",
    "    the given number of candies evenly between 3 friends.\n",
    "    \n",
    "    >>> to_smash(91)\n",
    "    1\n",
    "    \"\"\"\n",
    "    print(\"Splitting\", total_candies, \"candies\" if(total_candies!=1) else \"candy\")\n",
    "    return total_candies % 3\n",
    "\n",
    "to_smash(91)\n",
    "to_smash(1)"
   ]
  },
  {
   "cell_type": "markdown",
   "id": "488e46b2",
   "metadata": {
    "papermill": {
     "duration": 0.009511,
     "end_time": "2022-11-10T14:48:09.975824",
     "exception": false,
     "start_time": "2022-11-10T14:48:09.966313",
     "status": "completed"
    },
    "tags": []
   },
   "source": [
    "To get credit for completing this problem, and to see the official answer, run the code cell below."
   ]
  },
  {
   "cell_type": "code",
   "execution_count": 7,
   "id": "814a0f9e",
   "metadata": {
    "execution": {
     "iopub.execute_input": "2022-11-10T14:48:09.996837Z",
     "iopub.status.busy": "2022-11-10T14:48:09.996439Z",
     "iopub.status.idle": "2022-11-10T14:48:10.005229Z",
     "shell.execute_reply": "2022-11-10T14:48:10.004113Z"
    },
    "papermill": {
     "duration": 0.02194,
     "end_time": "2022-11-10T14:48:10.007468",
     "exception": false,
     "start_time": "2022-11-10T14:48:09.985528",
     "status": "completed"
    },
    "tags": []
   },
   "outputs": [
    {
     "data": {
      "application/javascript": [
       "parent.postMessage({\"jupyterEvent\": \"custom.exercise_interaction\", \"data\": {\"interactionType\": 3, \"questionType\": 4, \"questionId\": \"2_PluralizationProblem\", \"learnToolsVersion\": \"0.3.4\", \"valueTowardsCompletion\": 0.0, \"failureMessage\": \"\", \"exceptionClass\": \"\", \"trace\": \"\", \"outcomeType\": 4}}, \"*\")"
      ],
      "text/plain": [
       "<IPython.core.display.Javascript object>"
      ]
     },
     "metadata": {},
     "output_type": "display_data"
    },
    {
     "data": {
      "text/markdown": [
       "<span style=\"color:#33cc99\">Solution:</span> A straightforward (and totally fine) solution is to replace the original `print` call with:\n",
       "\n",
       "```python\n",
       "if total_candies == 1:\n",
       "    print(\"Splitting 1 candy\")\n",
       "else:\n",
       "    print(\"Splitting\", total_candies, \"candies\")\n",
       "```\n",
       "\n",
       "Here's a slightly more succinct solution using a conditional expression:\n",
       "\n",
       "```python\n",
       "print(\"Splitting\", total_candies, \"candy\" if total_candies == 1 else \"candies\")\n",
       "```"
      ],
      "text/plain": [
       "Solution: A straightforward (and totally fine) solution is to replace the original `print` call with:\n",
       "\n",
       "```python\n",
       "if total_candies == 1:\n",
       "    print(\"Splitting 1 candy\")\n",
       "else:\n",
       "    print(\"Splitting\", total_candies, \"candies\")\n",
       "```\n",
       "\n",
       "Here's a slightly more succinct solution using a conditional expression:\n",
       "\n",
       "```python\n",
       "print(\"Splitting\", total_candies, \"candy\" if total_candies == 1 else \"candies\")\n",
       "```"
      ]
     },
     "metadata": {},
     "output_type": "display_data"
    }
   ],
   "source": [
    "# Check your answer (Run this code cell to receive credit!)\n",
    "q2.solution()"
   ]
  },
  {
   "cell_type": "markdown",
   "id": "6e0777e1",
   "metadata": {
    "papermill": {
     "duration": 0.009468,
     "end_time": "2022-11-10T14:48:10.026777",
     "exception": false,
     "start_time": "2022-11-10T14:48:10.017309",
     "status": "completed"
    },
    "tags": []
   },
   "source": [
    "# 3. <span title=\"A bit spicy\" style=\"color: darkgreen \">🌶️</span>\n",
    "\n",
    "In the tutorial, we talked about deciding whether we're prepared for the weather. I said that I'm safe from today's weather if...\n",
    "- I have an umbrella...\n",
    "- or if the rain isn't too heavy and I have a hood...\n",
    "- otherwise, I'm still fine unless it's raining *and* it's a workday\n",
    "\n",
    "The function below uses our first attempt at turning this logic into a Python expression. I claimed that there was a bug in that code. Can you find it?\n",
    "\n",
    "To prove that `prepared_for_weather` is buggy, come up with a set of inputs where either:\n",
    "- the function returns `False` (but should have returned `True`), or\n",
    "- the function returned `True` (but should have returned `False`).\n",
    "\n",
    "To get credit for completing this question, your code should return a <font color='#33cc33'>Correct</font> result."
   ]
  },
  {
   "cell_type": "code",
   "execution_count": 8,
   "id": "1beb0664",
   "metadata": {
    "execution": {
     "iopub.execute_input": "2022-11-10T14:48:10.048832Z",
     "iopub.status.busy": "2022-11-10T14:48:10.048001Z",
     "iopub.status.idle": "2022-11-10T14:48:10.062537Z",
     "shell.execute_reply": "2022-11-10T14:48:10.061079Z"
    },
    "papermill": {
     "duration": 0.028229,
     "end_time": "2022-11-10T14:48:10.064903",
     "exception": false,
     "start_time": "2022-11-10T14:48:10.036674",
     "status": "completed"
    },
    "tags": []
   },
   "outputs": [
    {
     "name": "stdout",
     "output_type": "stream",
     "text": [
      "False\n"
     ]
    },
    {
     "data": {
      "application/javascript": [
       "parent.postMessage({\"jupyterEvent\": \"custom.exercise_interaction\", \"data\": {\"outcomeType\": 1, \"valueTowardsCompletion\": 0.2, \"interactionType\": 1, \"questionType\": 1, \"questionId\": \"3_WeatherDebug\", \"learnToolsVersion\": \"0.3.4\", \"failureMessage\": \"\", \"exceptionClass\": \"\", \"trace\": \"\"}}, \"*\")"
      ],
      "text/plain": [
       "<IPython.core.display.Javascript object>"
      ]
     },
     "metadata": {},
     "output_type": "display_data"
    },
    {
     "data": {
      "text/markdown": [
       "<span style=\"color:#33cc33\">Correct:</span> \n",
       "\n",
       "One example of a failing test case is:\n",
       "\n",
       "```python\n",
       "have_umbrella = False\n",
       "rain_level = 0.0\n",
       "have_hood = False\n",
       "is_workday = False\n",
       "```\n",
       "\n",
       "Clearly we're prepared for the weather in this case. It's not raining. Not only that, it's not a workday, so we don't even need to leave the house! But our function will return False on these inputs.\n",
       "\n",
       "The key problem is that Python implictly parenthesizes the last part as:\n",
       "\n",
       "```python\n",
       "(not (rain_level > 0)) and is_workday\n",
       "```\n",
       "\n",
       "Whereas what we were trying to express would look more like:\n",
       "\n",
       "```python\n",
       "not (rain_level > 0 and is_workday)\n",
       "```\n"
      ],
      "text/plain": [
       "Correct: \n",
       "\n",
       "One example of a failing test case is:\n",
       "\n",
       "```python\n",
       "have_umbrella = False\n",
       "rain_level = 0.0\n",
       "have_hood = False\n",
       "is_workday = False\n",
       "```\n",
       "\n",
       "Clearly we're prepared for the weather in this case. It's not raining. Not only that, it's not a workday, so we don't even need to leave the house! But our function will return False on these inputs.\n",
       "\n",
       "The key problem is that Python implictly parenthesizes the last part as:\n",
       "\n",
       "```python\n",
       "(not (rain_level > 0)) and is_workday\n",
       "```\n",
       "\n",
       "Whereas what we were trying to express would look more like:\n",
       "\n",
       "```python\n",
       "not (rain_level > 0 and is_workday)\n",
       "```"
      ]
     },
     "metadata": {},
     "output_type": "display_data"
    }
   ],
   "source": [
    "def prepared_for_weather(have_umbrella, rain_level, have_hood, is_workday):\n",
    "    # Don't change this code. Our goal is just to find the bug, not fix it!\n",
    "    return have_umbrella or rain_level < 5 and have_hood or not rain_level > 0 and is_workday\n",
    "\n",
    "# Change the values of these inputs so they represent a case where prepared_for_weather\n",
    "# returns the wrong answer.\n",
    "have_umbrella = False\n",
    "rain_level = 0.0\n",
    "have_hood = False\n",
    "is_workday = False\n",
    "\n",
    "# Check what the function returns given the current values of the variables above\n",
    "actual = prepared_for_weather(have_umbrella, rain_level, have_hood, is_workday)\n",
    "print(actual)\n",
    "\n",
    "# Check your answer\n",
    "q3.check()"
   ]
  },
  {
   "cell_type": "code",
   "execution_count": 9,
   "id": "4265f4ad",
   "metadata": {
    "execution": {
     "iopub.execute_input": "2022-11-10T14:48:10.087920Z",
     "iopub.status.busy": "2022-11-10T14:48:10.086912Z",
     "iopub.status.idle": "2022-11-10T14:48:10.096338Z",
     "shell.execute_reply": "2022-11-10T14:48:10.095459Z"
    },
    "papermill": {
     "duration": 0.023142,
     "end_time": "2022-11-10T14:48:10.098501",
     "exception": false,
     "start_time": "2022-11-10T14:48:10.075359",
     "status": "completed"
    },
    "tags": []
   },
   "outputs": [
    {
     "data": {
      "application/javascript": [
       "parent.postMessage({\"jupyterEvent\": \"custom.exercise_interaction\", \"data\": {\"interactionType\": 3, \"questionType\": 1, \"questionId\": \"3_WeatherDebug\", \"learnToolsVersion\": \"0.3.4\", \"valueTowardsCompletion\": 0.0, \"failureMessage\": \"\", \"exceptionClass\": \"\", \"trace\": \"\", \"outcomeType\": 4}}, \"*\")"
      ],
      "text/plain": [
       "<IPython.core.display.Javascript object>"
      ]
     },
     "metadata": {},
     "output_type": "display_data"
    },
    {
     "data": {
      "text/markdown": [
       "<span style=\"color:#33cc99\">Solution:</span> One example of a failing test case is:\n",
       "\n",
       "```python\n",
       "have_umbrella = False\n",
       "rain_level = 0.0\n",
       "have_hood = False\n",
       "is_workday = False\n",
       "```\n",
       "\n",
       "Clearly we're prepared for the weather in this case. It's not raining. Not only that, it's not a workday, so we don't even need to leave the house! But our function will return False on these inputs.\n",
       "\n",
       "The key problem is that Python implictly parenthesizes the last part as:\n",
       "\n",
       "```python\n",
       "(not (rain_level > 0)) and is_workday\n",
       "```\n",
       "\n",
       "Whereas what we were trying to express would look more like:\n",
       "\n",
       "```python\n",
       "not (rain_level > 0 and is_workday)\n",
       "```\n"
      ],
      "text/plain": [
       "Solution: One example of a failing test case is:\n",
       "\n",
       "```python\n",
       "have_umbrella = False\n",
       "rain_level = 0.0\n",
       "have_hood = False\n",
       "is_workday = False\n",
       "```\n",
       "\n",
       "Clearly we're prepared for the weather in this case. It's not raining. Not only that, it's not a workday, so we don't even need to leave the house! But our function will return False on these inputs.\n",
       "\n",
       "The key problem is that Python implictly parenthesizes the last part as:\n",
       "\n",
       "```python\n",
       "(not (rain_level > 0)) and is_workday\n",
       "```\n",
       "\n",
       "Whereas what we were trying to express would look more like:\n",
       "\n",
       "```python\n",
       "not (rain_level > 0 and is_workday)\n",
       "```"
      ]
     },
     "metadata": {},
     "output_type": "display_data"
    }
   ],
   "source": [
    "q3.solution()"
   ]
  },
  {
   "cell_type": "code",
   "execution_count": 10,
   "id": "23aefe03",
   "metadata": {
    "execution": {
     "iopub.execute_input": "2022-11-10T14:48:10.121542Z",
     "iopub.status.busy": "2022-11-10T14:48:10.120799Z",
     "iopub.status.idle": "2022-11-10T14:48:10.125244Z",
     "shell.execute_reply": "2022-11-10T14:48:10.124494Z"
    },
    "papermill": {
     "duration": 0.018625,
     "end_time": "2022-11-10T14:48:10.127497",
     "exception": false,
     "start_time": "2022-11-10T14:48:10.108872",
     "status": "completed"
    },
    "tags": []
   },
   "outputs": [],
   "source": [
    "#q3.hint()\n",
    "#q3.solution()"
   ]
  },
  {
   "cell_type": "markdown",
   "id": "24baefa9",
   "metadata": {
    "papermill": {
     "duration": 0.009911,
     "end_time": "2022-11-10T14:48:10.147833",
     "exception": false,
     "start_time": "2022-11-10T14:48:10.137922",
     "status": "completed"
    },
    "tags": []
   },
   "source": [
    "# 4.\n",
    "\n",
    "The function `is_negative` below is implemented correctly - it returns True if the given number is negative and False otherwise.\n",
    "\n",
    "However, it's more verbose than it needs to be. We can actually reduce the number of lines of code in this function by *75%* while keeping the same behaviour. \n",
    "\n",
    "See if you can come up with an equivalent body that uses just **one line** of code, and put it in the function `concise_is_negative`. (HINT: you don't even need Python's ternary syntax)"
   ]
  },
  {
   "cell_type": "code",
   "execution_count": 11,
   "id": "86b721f5",
   "metadata": {
    "execution": {
     "iopub.execute_input": "2022-11-10T14:48:10.171004Z",
     "iopub.status.busy": "2022-11-10T14:48:10.170227Z",
     "iopub.status.idle": "2022-11-10T14:48:10.181001Z",
     "shell.execute_reply": "2022-11-10T14:48:10.180125Z"
    },
    "papermill": {
     "duration": 0.024778,
     "end_time": "2022-11-10T14:48:10.183168",
     "exception": false,
     "start_time": "2022-11-10T14:48:10.158390",
     "status": "completed"
    },
    "tags": []
   },
   "outputs": [
    {
     "data": {
      "application/javascript": [
       "parent.postMessage({\"jupyterEvent\": \"custom.exercise_interaction\", \"data\": {\"outcomeType\": 1, \"valueTowardsCompletion\": 0.2, \"interactionType\": 1, \"questionType\": 2, \"questionId\": \"4_ConciseIsNegative\", \"learnToolsVersion\": \"0.3.4\", \"failureMessage\": \"\", \"exceptionClass\": \"\", \"trace\": \"\"}}, \"*\")"
      ],
      "text/plain": [
       "<IPython.core.display.Javascript object>"
      ]
     },
     "metadata": {},
     "output_type": "display_data"
    },
    {
     "data": {
      "text/markdown": [
       "<span style=\"color:#33cc33\">Correct</span>"
      ],
      "text/plain": [
       "Correct"
      ]
     },
     "metadata": {},
     "output_type": "display_data"
    }
   ],
   "source": [
    "def is_negative(number):\n",
    "    if number < 0:\n",
    "        return True\n",
    "    else:\n",
    "        return False\n",
    "\n",
    "def concise_is_negative(number):\n",
    "    return number<0\n",
    "\n",
    "# Check your answer\n",
    "q4.check()"
   ]
  },
  {
   "cell_type": "code",
   "execution_count": 12,
   "id": "c0f3f800",
   "metadata": {
    "execution": {
     "iopub.execute_input": "2022-11-10T14:48:10.206835Z",
     "iopub.status.busy": "2022-11-10T14:48:10.206435Z",
     "iopub.status.idle": "2022-11-10T14:48:10.215576Z",
     "shell.execute_reply": "2022-11-10T14:48:10.214711Z"
    },
    "papermill": {
     "duration": 0.023849,
     "end_time": "2022-11-10T14:48:10.217830",
     "exception": false,
     "start_time": "2022-11-10T14:48:10.193981",
     "status": "completed"
    },
    "tags": []
   },
   "outputs": [
    {
     "data": {
      "application/javascript": [
       "parent.postMessage({\"jupyterEvent\": \"custom.exercise_interaction\", \"data\": {\"interactionType\": 3, \"questionType\": 2, \"questionId\": \"4_ConciseIsNegative\", \"learnToolsVersion\": \"0.3.4\", \"valueTowardsCompletion\": 0.0, \"failureMessage\": \"\", \"exceptionClass\": \"\", \"trace\": \"\", \"outcomeType\": 4}}, \"*\")"
      ],
      "text/plain": [
       "<IPython.core.display.Javascript object>"
      ]
     },
     "metadata": {},
     "output_type": "display_data"
    },
    {
     "data": {
      "text/markdown": [
       "<span style=\"color:#33cc99\">Solution:</span> \n",
       "```python\n",
       "return number < 0\n",
       "```"
      ],
      "text/plain": [
       "Solution: \n",
       "```python\n",
       "return number < 0\n",
       "```"
      ]
     },
     "metadata": {},
     "output_type": "display_data"
    }
   ],
   "source": [
    "q4.solution()"
   ]
  },
  {
   "cell_type": "code",
   "execution_count": 13,
   "id": "f5c76bef",
   "metadata": {
    "execution": {
     "iopub.execute_input": "2022-11-10T14:48:10.241941Z",
     "iopub.status.busy": "2022-11-10T14:48:10.241144Z",
     "iopub.status.idle": "2022-11-10T14:48:10.245767Z",
     "shell.execute_reply": "2022-11-10T14:48:10.244960Z"
    },
    "papermill": {
     "duration": 0.019174,
     "end_time": "2022-11-10T14:48:10.247977",
     "exception": false,
     "start_time": "2022-11-10T14:48:10.228803",
     "status": "completed"
    },
    "tags": []
   },
   "outputs": [],
   "source": [
    "#q4.hint()\n",
    "#q4.solution()"
   ]
  },
  {
   "cell_type": "markdown",
   "id": "f921c911",
   "metadata": {
    "papermill": {
     "duration": 0.011143,
     "end_time": "2022-11-10T14:48:10.270355",
     "exception": false,
     "start_time": "2022-11-10T14:48:10.259212",
     "status": "completed"
    },
    "tags": []
   },
   "source": [
    "# 5a.\n",
    "\n",
    "The boolean variables `ketchup`, `mustard` and `onion` represent whether a customer wants a particular topping on their hot dog. We want to implement a number of boolean functions that correspond to some yes-or-no questions about the customer's order. For example:"
   ]
  },
  {
   "cell_type": "code",
   "execution_count": 14,
   "id": "7728174f",
   "metadata": {
    "execution": {
     "iopub.execute_input": "2022-11-10T14:48:10.295597Z",
     "iopub.status.busy": "2022-11-10T14:48:10.294892Z",
     "iopub.status.idle": "2022-11-10T14:48:10.300096Z",
     "shell.execute_reply": "2022-11-10T14:48:10.299162Z"
    },
    "papermill": {
     "duration": 0.019848,
     "end_time": "2022-11-10T14:48:10.302383",
     "exception": false,
     "start_time": "2022-11-10T14:48:10.282535",
     "status": "completed"
    },
    "tags": []
   },
   "outputs": [],
   "source": [
    "def onionless(ketchup, mustard, onion):\n",
    "    \"\"\"Return whether the customer doesn't want onions.\n",
    "    \"\"\"\n",
    "    return not onion"
   ]
  },
  {
   "cell_type": "code",
   "execution_count": 15,
   "id": "31799c71",
   "metadata": {
    "execution": {
     "iopub.execute_input": "2022-11-10T14:48:10.326133Z",
     "iopub.status.busy": "2022-11-10T14:48:10.325451Z",
     "iopub.status.idle": "2022-11-10T14:48:10.335127Z",
     "shell.execute_reply": "2022-11-10T14:48:10.334228Z"
    },
    "papermill": {
     "duration": 0.024007,
     "end_time": "2022-11-10T14:48:10.337160",
     "exception": false,
     "start_time": "2022-11-10T14:48:10.313153",
     "status": "completed"
    },
    "tags": []
   },
   "outputs": [
    {
     "data": {
      "application/javascript": [
       "parent.postMessage({\"jupyterEvent\": \"custom.exercise_interaction\", \"data\": {\"outcomeType\": 1, \"valueTowardsCompletion\": 0.2, \"interactionType\": 1, \"questionType\": 2, \"questionId\": \"5.1_AllToppings\", \"learnToolsVersion\": \"0.3.4\", \"failureMessage\": \"\", \"exceptionClass\": \"\", \"trace\": \"\"}}, \"*\")"
      ],
      "text/plain": [
       "<IPython.core.display.Javascript object>"
      ]
     },
     "metadata": {},
     "output_type": "display_data"
    },
    {
     "data": {
      "text/markdown": [
       "<span style=\"color:#33cc33\">Correct</span>"
      ],
      "text/plain": [
       "Correct"
      ]
     },
     "metadata": {},
     "output_type": "display_data"
    }
   ],
   "source": [
    "def wants_all_toppings(ketchup, mustard, onion):\n",
    "    \"\"\"Return whether the customer wants \"the works\" (all 3 toppings)\n",
    "    \"\"\"\n",
    "    return ketchup and mustard and onion\n",
    "\n",
    "# Check your answer\n",
    "q5.a.check()"
   ]
  },
  {
   "cell_type": "code",
   "execution_count": 16,
   "id": "30ab64d7",
   "metadata": {
    "execution": {
     "iopub.execute_input": "2022-11-10T14:48:10.361443Z",
     "iopub.status.busy": "2022-11-10T14:48:10.360728Z",
     "iopub.status.idle": "2022-11-10T14:48:10.368628Z",
     "shell.execute_reply": "2022-11-10T14:48:10.367833Z"
    },
    "papermill": {
     "duration": 0.022459,
     "end_time": "2022-11-10T14:48:10.370700",
     "exception": false,
     "start_time": "2022-11-10T14:48:10.348241",
     "status": "completed"
    },
    "tags": []
   },
   "outputs": [
    {
     "data": {
      "application/javascript": [
       "parent.postMessage({\"jupyterEvent\": \"custom.exercise_interaction\", \"data\": {\"interactionType\": 3, \"questionType\": 2, \"questionId\": \"5.1_AllToppings\", \"learnToolsVersion\": \"0.3.4\", \"valueTowardsCompletion\": 0.0, \"failureMessage\": \"\", \"exceptionClass\": \"\", \"trace\": \"\", \"outcomeType\": 4}}, \"*\")"
      ],
      "text/plain": [
       "<IPython.core.display.Javascript object>"
      ]
     },
     "metadata": {},
     "output_type": "display_data"
    },
    {
     "data": {
      "text/markdown": [
       "<span style=\"color:#33cc99\">Solution:</span> \n",
       "```python\n",
       "return ketchup and mustard and onion\n",
       "```"
      ],
      "text/plain": [
       "Solution: \n",
       "```python\n",
       "return ketchup and mustard and onion\n",
       "```"
      ]
     },
     "metadata": {},
     "output_type": "display_data"
    }
   ],
   "source": [
    "q5.a.solution()"
   ]
  },
  {
   "cell_type": "code",
   "execution_count": 17,
   "id": "cbdc4e85",
   "metadata": {
    "execution": {
     "iopub.execute_input": "2022-11-10T14:48:10.396042Z",
     "iopub.status.busy": "2022-11-10T14:48:10.395088Z",
     "iopub.status.idle": "2022-11-10T14:48:10.398920Z",
     "shell.execute_reply": "2022-11-10T14:48:10.398186Z"
    },
    "papermill": {
     "duration": 0.018592,
     "end_time": "2022-11-10T14:48:10.400887",
     "exception": false,
     "start_time": "2022-11-10T14:48:10.382295",
     "status": "completed"
    },
    "tags": []
   },
   "outputs": [],
   "source": [
    "#q5.a.hint()\n",
    "#q5.a.solution()"
   ]
  },
  {
   "cell_type": "markdown",
   "id": "da58fa7b",
   "metadata": {
    "papermill": {
     "duration": 0.011105,
     "end_time": "2022-11-10T14:48:10.423422",
     "exception": false,
     "start_time": "2022-11-10T14:48:10.412317",
     "status": "completed"
    },
    "tags": []
   },
   "source": [
    "# 5b.\n",
    "\n",
    "For the next function, fill in the body to match the English description in the docstring. "
   ]
  },
  {
   "cell_type": "code",
   "execution_count": 18,
   "id": "c921cd60",
   "metadata": {
    "execution": {
     "iopub.execute_input": "2022-11-10T14:48:10.449605Z",
     "iopub.status.busy": "2022-11-10T14:48:10.448677Z",
     "iopub.status.idle": "2022-11-10T14:48:10.457321Z",
     "shell.execute_reply": "2022-11-10T14:48:10.456554Z"
    },
    "papermill": {
     "duration": 0.023811,
     "end_time": "2022-11-10T14:48:10.459270",
     "exception": false,
     "start_time": "2022-11-10T14:48:10.435459",
     "status": "completed"
    },
    "tags": []
   },
   "outputs": [
    {
     "data": {
      "application/javascript": [
       "parent.postMessage({\"jupyterEvent\": \"custom.exercise_interaction\", \"data\": {\"outcomeType\": 1, \"valueTowardsCompletion\": 0.2, \"interactionType\": 1, \"questionType\": 2, \"questionId\": \"5.2_PlainDog\", \"learnToolsVersion\": \"0.3.4\", \"failureMessage\": \"\", \"exceptionClass\": \"\", \"trace\": \"\"}}, \"*\")"
      ],
      "text/plain": [
       "<IPython.core.display.Javascript object>"
      ]
     },
     "metadata": {},
     "output_type": "display_data"
    },
    {
     "data": {
      "text/markdown": [
       "<span style=\"color:#33cc33\">Correct:</span> \n",
       "\n",
       "One solution looks like:\n",
       "```python\n",
       "return not ketchup and not mustard and not onion\n",
       "```\n",
       "\n",
       "We can also [\"factor out\" the nots](https://en.wikipedia.org/wiki/De_Morgan%27s_laws) to get:\n",
       "\n",
       "```python\n",
       "return not (ketchup or mustard or onion)\n",
       "```"
      ],
      "text/plain": [
       "Correct: \n",
       "\n",
       "One solution looks like:\n",
       "```python\n",
       "return not ketchup and not mustard and not onion\n",
       "```\n",
       "\n",
       "We can also [\"factor out\" the nots](https://en.wikipedia.org/wiki/De_Morgan%27s_laws) to get:\n",
       "\n",
       "```python\n",
       "return not (ketchup or mustard or onion)\n",
       "```"
      ]
     },
     "metadata": {},
     "output_type": "display_data"
    }
   ],
   "source": [
    "def wants_plain_hotdog(ketchup, mustard, onion):\n",
    "    \"\"\"Return whether the customer wants a plain hot dog with no toppings.\n",
    "    \"\"\"\n",
    "    return not(ketchup or mustard or onion)\n",
    "\n",
    "# Check your answer\n",
    "q5.b.check()"
   ]
  },
  {
   "cell_type": "code",
   "execution_count": 19,
   "id": "f7c6ed21",
   "metadata": {
    "execution": {
     "iopub.execute_input": "2022-11-10T14:48:10.485305Z",
     "iopub.status.busy": "2022-11-10T14:48:10.484598Z",
     "iopub.status.idle": "2022-11-10T14:48:10.492146Z",
     "shell.execute_reply": "2022-11-10T14:48:10.491333Z"
    },
    "papermill": {
     "duration": 0.022697,
     "end_time": "2022-11-10T14:48:10.494137",
     "exception": false,
     "start_time": "2022-11-10T14:48:10.471440",
     "status": "completed"
    },
    "tags": []
   },
   "outputs": [
    {
     "data": {
      "application/javascript": [
       "parent.postMessage({\"jupyterEvent\": \"custom.exercise_interaction\", \"data\": {\"interactionType\": 3, \"questionType\": 2, \"questionId\": \"5.2_PlainDog\", \"learnToolsVersion\": \"0.3.4\", \"valueTowardsCompletion\": 0.0, \"failureMessage\": \"\", \"exceptionClass\": \"\", \"trace\": \"\", \"outcomeType\": 4}}, \"*\")"
      ],
      "text/plain": [
       "<IPython.core.display.Javascript object>"
      ]
     },
     "metadata": {},
     "output_type": "display_data"
    },
    {
     "data": {
      "text/markdown": [
       "<span style=\"color:#33cc99\">Solution:</span> One solution looks like:\n",
       "```python\n",
       "return not ketchup and not mustard and not onion\n",
       "```\n",
       "\n",
       "We can also [\"factor out\" the nots](https://en.wikipedia.org/wiki/De_Morgan%27s_laws) to get:\n",
       "\n",
       "```python\n",
       "return not (ketchup or mustard or onion)\n",
       "```"
      ],
      "text/plain": [
       "Solution: One solution looks like:\n",
       "```python\n",
       "return not ketchup and not mustard and not onion\n",
       "```\n",
       "\n",
       "We can also [\"factor out\" the nots](https://en.wikipedia.org/wiki/De_Morgan%27s_laws) to get:\n",
       "\n",
       "```python\n",
       "return not (ketchup or mustard or onion)\n",
       "```"
      ]
     },
     "metadata": {},
     "output_type": "display_data"
    }
   ],
   "source": [
    "q5.b.solution()"
   ]
  },
  {
   "cell_type": "code",
   "execution_count": 20,
   "id": "3fecb975",
   "metadata": {
    "execution": {
     "iopub.execute_input": "2022-11-10T14:48:10.520483Z",
     "iopub.status.busy": "2022-11-10T14:48:10.519787Z",
     "iopub.status.idle": "2022-11-10T14:48:10.523913Z",
     "shell.execute_reply": "2022-11-10T14:48:10.522996Z"
    },
    "papermill": {
     "duration": 0.019704,
     "end_time": "2022-11-10T14:48:10.526109",
     "exception": false,
     "start_time": "2022-11-10T14:48:10.506405",
     "status": "completed"
    },
    "tags": []
   },
   "outputs": [],
   "source": [
    "#q5.b.hint()\n",
    "#q5.b.solution()"
   ]
  },
  {
   "cell_type": "markdown",
   "id": "a647fbcf",
   "metadata": {
    "papermill": {
     "duration": 0.011675,
     "end_time": "2022-11-10T14:48:10.549946",
     "exception": false,
     "start_time": "2022-11-10T14:48:10.538271",
     "status": "completed"
    },
    "tags": []
   },
   "source": [
    "# 5c.\n",
    "\n",
    "You know what to do: for the next function, fill in the body to match the English description in the docstring."
   ]
  },
  {
   "cell_type": "code",
   "execution_count": 21,
   "id": "760c45d9",
   "metadata": {
    "execution": {
     "iopub.execute_input": "2022-11-10T14:48:10.577295Z",
     "iopub.status.busy": "2022-11-10T14:48:10.576110Z",
     "iopub.status.idle": "2022-11-10T14:48:10.584709Z",
     "shell.execute_reply": "2022-11-10T14:48:10.583927Z"
    },
    "papermill": {
     "duration": 0.024098,
     "end_time": "2022-11-10T14:48:10.586819",
     "exception": false,
     "start_time": "2022-11-10T14:48:10.562721",
     "status": "completed"
    },
    "tags": []
   },
   "outputs": [
    {
     "data": {
      "application/javascript": [
       "parent.postMessage({\"jupyterEvent\": \"custom.exercise_interaction\", \"data\": {\"outcomeType\": 1, \"valueTowardsCompletion\": 0.2, \"interactionType\": 1, \"questionType\": 2, \"questionId\": \"5.3_OneSauce\", \"learnToolsVersion\": \"0.3.4\", \"failureMessage\": \"\", \"exceptionClass\": \"\", \"trace\": \"\"}}, \"*\")"
      ],
      "text/plain": [
       "<IPython.core.display.Javascript object>"
      ]
     },
     "metadata": {},
     "output_type": "display_data"
    },
    {
     "data": {
      "text/markdown": [
       "<span style=\"color:#33cc33\">Correct</span>"
      ],
      "text/plain": [
       "Correct"
      ]
     },
     "metadata": {},
     "output_type": "display_data"
    }
   ],
   "source": [
    "def exactly_one_sauce(ketchup, mustard, onion):\n",
    "    \"\"\"Return whether the customer wants either ketchup or mustard, but not both.\n",
    "    (You may be familiar with this operation under the name \"exclusive or\")\n",
    "    \"\"\"\n",
    "    return (ketchup and not mustard) or (mustard and not ketchup)\n",
    "\n",
    "# Check your answer\n",
    "q5.c.check()"
   ]
  },
  {
   "cell_type": "code",
   "execution_count": 22,
   "id": "344e0dd9",
   "metadata": {
    "execution": {
     "iopub.execute_input": "2022-11-10T14:48:10.613583Z",
     "iopub.status.busy": "2022-11-10T14:48:10.613002Z",
     "iopub.status.idle": "2022-11-10T14:48:10.620225Z",
     "shell.execute_reply": "2022-11-10T14:48:10.619450Z"
    },
    "papermill": {
     "duration": 0.023025,
     "end_time": "2022-11-10T14:48:10.622179",
     "exception": false,
     "start_time": "2022-11-10T14:48:10.599154",
     "status": "completed"
    },
    "tags": []
   },
   "outputs": [
    {
     "data": {
      "application/javascript": [
       "parent.postMessage({\"jupyterEvent\": \"custom.exercise_interaction\", \"data\": {\"interactionType\": 3, \"questionType\": 2, \"questionId\": \"5.3_OneSauce\", \"learnToolsVersion\": \"0.3.4\", \"valueTowardsCompletion\": 0.0, \"failureMessage\": \"\", \"exceptionClass\": \"\", \"trace\": \"\", \"outcomeType\": 4}}, \"*\")"
      ],
      "text/plain": [
       "<IPython.core.display.Javascript object>"
      ]
     },
     "metadata": {},
     "output_type": "display_data"
    },
    {
     "data": {
      "text/markdown": [
       "<span style=\"color:#33cc99\">Solution:</span> \n",
       "```python\n",
       "return (ketchup and not mustard) or (mustard and not ketchup)\n",
       "```"
      ],
      "text/plain": [
       "Solution: \n",
       "```python\n",
       "return (ketchup and not mustard) or (mustard and not ketchup)\n",
       "```"
      ]
     },
     "metadata": {},
     "output_type": "display_data"
    }
   ],
   "source": [
    "q5.c.solution()"
   ]
  },
  {
   "cell_type": "code",
   "execution_count": 23,
   "id": "2ad65258",
   "metadata": {
    "execution": {
     "iopub.execute_input": "2022-11-10T14:48:10.648999Z",
     "iopub.status.busy": "2022-11-10T14:48:10.648268Z",
     "iopub.status.idle": "2022-11-10T14:48:10.652270Z",
     "shell.execute_reply": "2022-11-10T14:48:10.651453Z"
    },
    "papermill": {
     "duration": 0.019628,
     "end_time": "2022-11-10T14:48:10.654314",
     "exception": false,
     "start_time": "2022-11-10T14:48:10.634686",
     "status": "completed"
    },
    "tags": []
   },
   "outputs": [],
   "source": [
    "#q5.c.hint()\n",
    "#q5.c.solution()"
   ]
  },
  {
   "cell_type": "markdown",
   "id": "73ae85df",
   "metadata": {
    "papermill": {
     "duration": 0.012156,
     "end_time": "2022-11-10T14:48:10.679086",
     "exception": false,
     "start_time": "2022-11-10T14:48:10.666930",
     "status": "completed"
    },
    "tags": []
   },
   "source": [
    "# 6. <span title=\"A bit spicy\" style=\"color: darkgreen \">🌶️</span>\n",
    "\n",
    "We’ve seen that calling `bool()` on an integer returns `False` if it’s equal to 0 and `True` otherwise. What happens if we call `int()` on a bool? Try it out in the notebook cell below.\n",
    "\n",
    "Can you take advantage of this to write a succinct function that corresponds to the English sentence \"does the customer want exactly one topping?\"?"
   ]
  },
  {
   "cell_type": "code",
   "execution_count": 24,
   "id": "c49ea8a4",
   "metadata": {
    "execution": {
     "iopub.execute_input": "2022-11-10T14:48:10.705890Z",
     "iopub.status.busy": "2022-11-10T14:48:10.705178Z",
     "iopub.status.idle": "2022-11-10T14:48:10.713112Z",
     "shell.execute_reply": "2022-11-10T14:48:10.712347Z"
    },
    "papermill": {
     "duration": 0.023562,
     "end_time": "2022-11-10T14:48:10.715061",
     "exception": false,
     "start_time": "2022-11-10T14:48:10.691499",
     "status": "completed"
    },
    "tags": []
   },
   "outputs": [
    {
     "data": {
      "application/javascript": [
       "parent.postMessage({\"jupyterEvent\": \"custom.exercise_interaction\", \"data\": {\"outcomeType\": 1, \"valueTowardsCompletion\": 0.2, \"interactionType\": 1, \"questionType\": 2, \"questionId\": \"6_OneTopping\", \"learnToolsVersion\": \"0.3.4\", \"failureMessage\": \"\", \"exceptionClass\": \"\", \"trace\": \"\"}}, \"*\")"
      ],
      "text/plain": [
       "<IPython.core.display.Javascript object>"
      ]
     },
     "metadata": {},
     "output_type": "display_data"
    },
    {
     "data": {
      "text/markdown": [
       "<span style=\"color:#33cc33\">Correct:</span> \n",
       "\n",
       "This condition would be pretty complicated to express using just `and`, `or` and `not`, but using boolean-to-integer conversion gives us this short solution:\n",
       "```python\n",
       "return (int(ketchup) + int(mustard) + int(onion)) == 1\n",
       "```\n",
       "\n",
       "Fun fact: we don't technically need to call `int` on the arguments. Just by doing addition with booleans, Python implicitly does the integer conversion. So we could also write...\n",
       "\n",
       "```python\n",
       "return (ketchup + mustard + onion) == 1\n",
       "```"
      ],
      "text/plain": [
       "Correct: \n",
       "\n",
       "This condition would be pretty complicated to express using just `and`, `or` and `not`, but using boolean-to-integer conversion gives us this short solution:\n",
       "```python\n",
       "return (int(ketchup) + int(mustard) + int(onion)) == 1\n",
       "```\n",
       "\n",
       "Fun fact: we don't technically need to call `int` on the arguments. Just by doing addition with booleans, Python implicitly does the integer conversion. So we could also write...\n",
       "\n",
       "```python\n",
       "return (ketchup + mustard + onion) == 1\n",
       "```"
      ]
     },
     "metadata": {},
     "output_type": "display_data"
    }
   ],
   "source": [
    "def exactly_one_topping(ketchup, mustard, onion):\n",
    "    \"\"\"Return whether the customer wants exactly one of the three available toppings\n",
    "    on their hot dog.\n",
    "    \"\"\"\n",
    "    return sum([ketchup, mustard, onion]) == 1\n",
    "\n",
    "# Check your answer\n",
    "q6.check()"
   ]
  },
  {
   "cell_type": "code",
   "execution_count": 25,
   "id": "cfa1e320",
   "metadata": {
    "execution": {
     "iopub.execute_input": "2022-11-10T14:48:10.742615Z",
     "iopub.status.busy": "2022-11-10T14:48:10.741956Z",
     "iopub.status.idle": "2022-11-10T14:48:10.748966Z",
     "shell.execute_reply": "2022-11-10T14:48:10.748223Z"
    },
    "papermill": {
     "duration": 0.023167,
     "end_time": "2022-11-10T14:48:10.750920",
     "exception": false,
     "start_time": "2022-11-10T14:48:10.727753",
     "status": "completed"
    },
    "tags": []
   },
   "outputs": [
    {
     "data": {
      "application/javascript": [
       "parent.postMessage({\"jupyterEvent\": \"custom.exercise_interaction\", \"data\": {\"interactionType\": 3, \"questionType\": 2, \"questionId\": \"6_OneTopping\", \"learnToolsVersion\": \"0.3.4\", \"valueTowardsCompletion\": 0.0, \"failureMessage\": \"\", \"exceptionClass\": \"\", \"trace\": \"\", \"outcomeType\": 4}}, \"*\")"
      ],
      "text/plain": [
       "<IPython.core.display.Javascript object>"
      ]
     },
     "metadata": {},
     "output_type": "display_data"
    },
    {
     "data": {
      "text/markdown": [
       "<span style=\"color:#33cc99\">Solution:</span> This condition would be pretty complicated to express using just `and`, `or` and `not`, but using boolean-to-integer conversion gives us this short solution:\n",
       "```python\n",
       "return (int(ketchup) + int(mustard) + int(onion)) == 1\n",
       "```\n",
       "\n",
       "Fun fact: we don't technically need to call `int` on the arguments. Just by doing addition with booleans, Python implicitly does the integer conversion. So we could also write...\n",
       "\n",
       "```python\n",
       "return (ketchup + mustard + onion) == 1\n",
       "```"
      ],
      "text/plain": [
       "Solution: This condition would be pretty complicated to express using just `and`, `or` and `not`, but using boolean-to-integer conversion gives us this short solution:\n",
       "```python\n",
       "return (int(ketchup) + int(mustard) + int(onion)) == 1\n",
       "```\n",
       "\n",
       "Fun fact: we don't technically need to call `int` on the arguments. Just by doing addition with booleans, Python implicitly does the integer conversion. So we could also write...\n",
       "\n",
       "```python\n",
       "return (ketchup + mustard + onion) == 1\n",
       "```"
      ]
     },
     "metadata": {},
     "output_type": "display_data"
    }
   ],
   "source": [
    "q6.solution()"
   ]
  },
  {
   "cell_type": "code",
   "execution_count": 26,
   "id": "df1a6823",
   "metadata": {
    "execution": {
     "iopub.execute_input": "2022-11-10T14:48:10.778790Z",
     "iopub.status.busy": "2022-11-10T14:48:10.778138Z",
     "iopub.status.idle": "2022-11-10T14:48:10.781818Z",
     "shell.execute_reply": "2022-11-10T14:48:10.780997Z"
    },
    "papermill": {
     "duration": 0.020104,
     "end_time": "2022-11-10T14:48:10.783912",
     "exception": false,
     "start_time": "2022-11-10T14:48:10.763808",
     "status": "completed"
    },
    "tags": []
   },
   "outputs": [],
   "source": [
    "#q6.hint()\n",
    "#q6.solution()"
   ]
  },
  {
   "cell_type": "markdown",
   "id": "eb6ce59c",
   "metadata": {
    "papermill": {
     "duration": 0.012658,
     "end_time": "2022-11-10T14:48:10.809517",
     "exception": false,
     "start_time": "2022-11-10T14:48:10.796859",
     "status": "completed"
    },
    "tags": []
   },
   "source": [
    "---\n",
    "\n",
    "\n",
    "\n",
    "\n",
    "**Allen**"
   ]
  }
 ],
 "metadata": {
  "kernelspec": {
   "display_name": "Python 3",
   "language": "python",
   "name": "python3"
  },
  "language_info": {
   "codemirror_mode": {
    "name": "ipython",
    "version": 3
   },
   "file_extension": ".py",
   "mimetype": "text/x-python",
   "name": "python",
   "nbconvert_exporter": "python",
   "pygments_lexer": "ipython3",
   "version": "3.7.12"
  },
  "papermill": {
   "default_parameters": {},
   "duration": 10.011633,
   "end_time": "2022-11-10T14:48:11.443057",
   "environment_variables": {},
   "exception": null,
   "input_path": "__notebook__.ipynb",
   "output_path": "__notebook__.ipynb",
   "parameters": {},
   "start_time": "2022-11-10T14:48:01.431424",
   "version": "2.3.4"
  }
 },
 "nbformat": 4,
 "nbformat_minor": 5
}
