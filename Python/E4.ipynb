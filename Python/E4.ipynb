{
 "cells": [
  {
   "cell_type": "markdown",
   "id": "a9ac8f23",
   "metadata": {
    "papermill": {
     "duration": 0.00913,
     "end_time": "2022-12-07T13:13:41.725446",
     "exception": false,
     "start_time": "2022-12-07T13:13:41.716316",
     "status": "completed"
    },
    "tags": []
   },
   "source": [
    "**This notebook is an exercise in the [Python](https://www.kaggle.com/learn/python) course.  You can reference the tutorial at [this link](https://www.kaggle.com/colinmorris/lists).**\n",
    "\n",
    "---\n"
   ]
  },
  {
   "cell_type": "markdown",
   "id": "a6c0f805",
   "metadata": {
    "papermill": {
     "duration": 0.005565,
     "end_time": "2022-12-07T13:13:41.737001",
     "exception": false,
     "start_time": "2022-12-07T13:13:41.731436",
     "status": "completed"
    },
    "tags": []
   },
   "source": [
    "Things get more interesting with lists. You'll apply your new knowledge to solve the questions below. Remember to run the following cell first."
   ]
  },
  {
   "cell_type": "code",
   "execution_count": 1,
   "id": "ffc8760a",
   "metadata": {
    "execution": {
     "iopub.execute_input": "2022-12-07T13:13:41.750932Z",
     "iopub.status.busy": "2022-12-07T13:13:41.750079Z",
     "iopub.status.idle": "2022-12-07T13:13:41.807987Z",
     "shell.execute_reply": "2022-12-07T13:13:41.807073Z"
    },
    "papermill": {
     "duration": 0.067874,
     "end_time": "2022-12-07T13:13:41.810689",
     "exception": false,
     "start_time": "2022-12-07T13:13:41.742815",
     "status": "completed"
    },
    "tags": []
   },
   "outputs": [
    {
     "name": "stdout",
     "output_type": "stream",
     "text": [
      "Setup complete.\n"
     ]
    }
   ],
   "source": [
    "from learntools.core import binder; binder.bind(globals())\n",
    "from learntools.python.ex4 import *\n",
    "print('Setup complete.')"
   ]
  },
  {
   "cell_type": "markdown",
   "id": "7ebb3621",
   "metadata": {
    "papermill": {
     "duration": 0.005719,
     "end_time": "2022-12-07T13:13:41.822460",
     "exception": false,
     "start_time": "2022-12-07T13:13:41.816741",
     "status": "completed"
    },
    "tags": []
   },
   "source": [
    "# 1.\n",
    "\n",
    "Complete the function below according to its docstring."
   ]
  },
  {
   "cell_type": "code",
   "execution_count": 2,
   "id": "9ff2d13d",
   "metadata": {
    "execution": {
     "iopub.execute_input": "2022-12-07T13:13:41.836264Z",
     "iopub.status.busy": "2022-12-07T13:13:41.835393Z",
     "iopub.status.idle": "2022-12-07T13:13:41.847445Z",
     "shell.execute_reply": "2022-12-07T13:13:41.846292Z"
    },
    "papermill": {
     "duration": 0.021955,
     "end_time": "2022-12-07T13:13:41.850185",
     "exception": false,
     "start_time": "2022-12-07T13:13:41.828230",
     "status": "completed"
    },
    "tags": []
   },
   "outputs": [
    {
     "data": {
      "application/javascript": [
       "parent.postMessage({\"jupyterEvent\": \"custom.exercise_interaction\", \"data\": {\"outcomeType\": 1, \"valueTowardsCompletion\": 0.2, \"interactionType\": 1, \"questionType\": 2, \"questionId\": \"1_SelectSecondItem\", \"learnToolsVersion\": \"0.3.4\", \"failureMessage\": \"\", \"exceptionClass\": \"\", \"trace\": \"\"}}, \"*\")"
      ],
      "text/plain": [
       "<IPython.core.display.Javascript object>"
      ]
     },
     "metadata": {},
     "output_type": "display_data"
    },
    {
     "data": {
      "text/markdown": [
       "<span style=\"color:#33cc33\">Correct</span>"
      ],
      "text/plain": [
       "Correct"
      ]
     },
     "metadata": {},
     "output_type": "display_data"
    }
   ],
   "source": [
    "def select_second(L):\n",
    "    \"\"\"Return the second element of the given list. If the list has no second\n",
    "    element, return None.\n",
    "    \"\"\"\n",
    "    return  None if(len(L)<2) else L[1]\n",
    "\n",
    "# Check your answer\n",
    "q1.check()"
   ]
  },
  {
   "cell_type": "code",
   "execution_count": 3,
   "id": "0cdbd969",
   "metadata": {
    "execution": {
     "iopub.execute_input": "2022-12-07T13:13:41.864955Z",
     "iopub.status.busy": "2022-12-07T13:13:41.864278Z",
     "iopub.status.idle": "2022-12-07T13:13:41.871636Z",
     "shell.execute_reply": "2022-12-07T13:13:41.870708Z"
    },
    "papermill": {
     "duration": 0.017306,
     "end_time": "2022-12-07T13:13:41.873990",
     "exception": false,
     "start_time": "2022-12-07T13:13:41.856684",
     "status": "completed"
    },
    "tags": []
   },
   "outputs": [
    {
     "data": {
      "application/javascript": [
       "parent.postMessage({\"jupyterEvent\": \"custom.exercise_interaction\", \"data\": {\"interactionType\": 3, \"questionType\": 2, \"questionId\": \"1_SelectSecondItem\", \"learnToolsVersion\": \"0.3.4\", \"valueTowardsCompletion\": 0.0, \"failureMessage\": \"\", \"exceptionClass\": \"\", \"trace\": \"\", \"outcomeType\": 4}}, \"*\")"
      ],
      "text/plain": [
       "<IPython.core.display.Javascript object>"
      ]
     },
     "metadata": {},
     "output_type": "display_data"
    },
    {
     "data": {
      "text/markdown": [
       "<span style=\"color:#33cc99\">Solution:</span> \n",
       "```python\n",
       "def select_second(L):\n",
       "    if len(L) < 2:\n",
       "        return None\n",
       "    return L[1]\n",
       "```"
      ],
      "text/plain": [
       "Solution: \n",
       "```python\n",
       "def select_second(L):\n",
       "    if len(L) < 2:\n",
       "        return None\n",
       "    return L[1]\n",
       "```"
      ]
     },
     "metadata": {},
     "output_type": "display_data"
    }
   ],
   "source": [
    "q1.solution()"
   ]
  },
  {
   "cell_type": "code",
   "execution_count": 4,
   "id": "ccc5208a",
   "metadata": {
    "execution": {
     "iopub.execute_input": "2022-12-07T13:13:41.888981Z",
     "iopub.status.busy": "2022-12-07T13:13:41.888303Z",
     "iopub.status.idle": "2022-12-07T13:13:41.891964Z",
     "shell.execute_reply": "2022-12-07T13:13:41.891150Z"
    },
    "papermill": {
     "duration": 0.013744,
     "end_time": "2022-12-07T13:13:41.894202",
     "exception": false,
     "start_time": "2022-12-07T13:13:41.880458",
     "status": "completed"
    },
    "tags": []
   },
   "outputs": [],
   "source": [
    "#q1.hint()\n",
    "#q1.solution()"
   ]
  },
  {
   "cell_type": "markdown",
   "id": "378969f5",
   "metadata": {
    "papermill": {
     "duration": 0.005932,
     "end_time": "2022-12-07T13:13:41.906446",
     "exception": false,
     "start_time": "2022-12-07T13:13:41.900514",
     "status": "completed"
    },
    "tags": []
   },
   "source": [
    "# 2.\n",
    "\n",
    "You are analyzing sports teams.  Members of each team are stored in a list. The Coach is the first name in the list, the captain is the second name in the list, and other players are listed after that. \n",
    "These lists are stored in another list, which starts with the best team and proceeds through the list to the worst team last.  Complete the function below to select the **captain** of the worst team."
   ]
  },
  {
   "cell_type": "code",
   "execution_count": 5,
   "id": "b7dda150",
   "metadata": {
    "execution": {
     "iopub.execute_input": "2022-12-07T13:13:41.922627Z",
     "iopub.status.busy": "2022-12-07T13:13:41.921982Z",
     "iopub.status.idle": "2022-12-07T13:13:41.930027Z",
     "shell.execute_reply": "2022-12-07T13:13:41.929189Z"
    },
    "papermill": {
     "duration": 0.017799,
     "end_time": "2022-12-07T13:13:41.932073",
     "exception": false,
     "start_time": "2022-12-07T13:13:41.914274",
     "status": "completed"
    },
    "tags": []
   },
   "outputs": [
    {
     "data": {
      "application/javascript": [
       "parent.postMessage({\"jupyterEvent\": \"custom.exercise_interaction\", \"data\": {\"outcomeType\": 1, \"valueTowardsCompletion\": 0.2, \"interactionType\": 1, \"questionType\": 2, \"questionId\": \"2_LosingTeamCaptain\", \"learnToolsVersion\": \"0.3.4\", \"failureMessage\": \"\", \"exceptionClass\": \"\", \"trace\": \"\"}}, \"*\")"
      ],
      "text/plain": [
       "<IPython.core.display.Javascript object>"
      ]
     },
     "metadata": {},
     "output_type": "display_data"
    },
    {
     "data": {
      "text/markdown": [
       "<span style=\"color:#33cc33\">Correct</span>"
      ],
      "text/plain": [
       "Correct"
      ]
     },
     "metadata": {},
     "output_type": "display_data"
    }
   ],
   "source": [
    "def losing_team_captain(teams):\n",
    "    \"\"\"Given a list of teams, where each team is a list of names, return the 2nd player (captain)\n",
    "    from the last listed team\n",
    "    \"\"\"\n",
    "    return teams[-1][1]\n",
    "\n",
    "# Check your answer\n",
    "q2.check()"
   ]
  },
  {
   "cell_type": "code",
   "execution_count": 6,
   "id": "ef5f627a",
   "metadata": {
    "execution": {
     "iopub.execute_input": "2022-12-07T13:13:41.947499Z",
     "iopub.status.busy": "2022-12-07T13:13:41.946856Z",
     "iopub.status.idle": "2022-12-07T13:13:41.954702Z",
     "shell.execute_reply": "2022-12-07T13:13:41.953424Z"
    },
    "papermill": {
     "duration": 0.018087,
     "end_time": "2022-12-07T13:13:41.956829",
     "exception": false,
     "start_time": "2022-12-07T13:13:41.938742",
     "status": "completed"
    },
    "tags": []
   },
   "outputs": [
    {
     "data": {
      "application/javascript": [
       "parent.postMessage({\"jupyterEvent\": \"custom.exercise_interaction\", \"data\": {\"interactionType\": 3, \"questionType\": 2, \"questionId\": \"2_LosingTeamCaptain\", \"learnToolsVersion\": \"0.3.4\", \"valueTowardsCompletion\": 0.0, \"failureMessage\": \"\", \"exceptionClass\": \"\", \"trace\": \"\", \"outcomeType\": 4}}, \"*\")"
      ],
      "text/plain": [
       "<IPython.core.display.Javascript object>"
      ]
     },
     "metadata": {},
     "output_type": "display_data"
    },
    {
     "data": {
      "text/markdown": [
       "<span style=\"color:#33cc99\">Solution:</span> \n",
       "```python\n",
       "def losing_team_captain(teams):\n",
       "    return teams[-1][1]\n",
       "```"
      ],
      "text/plain": [
       "Solution: \n",
       "```python\n",
       "def losing_team_captain(teams):\n",
       "    return teams[-1][1]\n",
       "```"
      ]
     },
     "metadata": {},
     "output_type": "display_data"
    }
   ],
   "source": [
    "q2.solution()"
   ]
  },
  {
   "cell_type": "code",
   "execution_count": 7,
   "id": "b37fc9cf",
   "metadata": {
    "execution": {
     "iopub.execute_input": "2022-12-07T13:13:41.972964Z",
     "iopub.status.busy": "2022-12-07T13:13:41.971679Z",
     "iopub.status.idle": "2022-12-07T13:13:41.976261Z",
     "shell.execute_reply": "2022-12-07T13:13:41.975368Z"
    },
    "papermill": {
     "duration": 0.014911,
     "end_time": "2022-12-07T13:13:41.978487",
     "exception": false,
     "start_time": "2022-12-07T13:13:41.963576",
     "status": "completed"
    },
    "tags": []
   },
   "outputs": [],
   "source": [
    "#q2.hint()\n",
    "#q2.solution()"
   ]
  },
  {
   "cell_type": "markdown",
   "id": "20761c2d",
   "metadata": {
    "papermill": {
     "duration": 0.006773,
     "end_time": "2022-12-07T13:13:41.992418",
     "exception": false,
     "start_time": "2022-12-07T13:13:41.985645",
     "status": "completed"
    },
    "tags": []
   },
   "source": [
    "# 3.\n",
    "\n",
    "The next iteration of Mario Kart will feature an extra-infuriating new item, the *Purple Shell*. When used, it warps the last place racer into first place and the first place racer into last place. Complete the function below to implement the Purple Shell's effect."
   ]
  },
  {
   "cell_type": "code",
   "execution_count": 8,
   "id": "00facae1",
   "metadata": {
    "execution": {
     "iopub.execute_input": "2022-12-07T13:13:42.008847Z",
     "iopub.status.busy": "2022-12-07T13:13:42.007636Z",
     "iopub.status.idle": "2022-12-07T13:13:42.017970Z",
     "shell.execute_reply": "2022-12-07T13:13:42.016485Z"
    },
    "papermill": {
     "duration": 0.021334,
     "end_time": "2022-12-07T13:13:42.020670",
     "exception": false,
     "start_time": "2022-12-07T13:13:41.999336",
     "status": "completed"
    },
    "tags": []
   },
   "outputs": [
    {
     "data": {
      "application/javascript": [
       "parent.postMessage({\"jupyterEvent\": \"custom.exercise_interaction\", \"data\": {\"outcomeType\": 1, \"valueTowardsCompletion\": 0.2, \"interactionType\": 1, \"questionType\": 2, \"questionId\": \"3_PurpleShell\", \"learnToolsVersion\": \"0.3.4\", \"failureMessage\": \"\", \"exceptionClass\": \"\", \"trace\": \"\"}}, \"*\")"
      ],
      "text/plain": [
       "<IPython.core.display.Javascript object>"
      ]
     },
     "metadata": {},
     "output_type": "display_data"
    },
    {
     "data": {
      "text/markdown": [
       "<span style=\"color:#33cc33\">Correct</span>"
      ],
      "text/plain": [
       "Correct"
      ]
     },
     "metadata": {},
     "output_type": "display_data"
    }
   ],
   "source": [
    "def purple_shell(racers):\n",
    "    \"\"\"Given a list of racers, set the first place racer (at the front of the list) to last\n",
    "    place and vice versa.\n",
    "    \n",
    "    >>> r = [\"Mario\", \"Bowser\", \"Luigi\"]\n",
    "    >>> purple_shell(r)\n",
    "    >>> r\n",
    "    [\"Luigi\", \"Bowser\", \"Mario\"]\n",
    "    \"\"\"\n",
    "    t = racers[0]\n",
    "    racers[0] = racers[-1]\n",
    "    racers[-1] = t\n",
    "\n",
    "# Check your answer\n",
    "q3.check()"
   ]
  },
  {
   "cell_type": "code",
   "execution_count": 9,
   "id": "5f7e4b9d",
   "metadata": {
    "execution": {
     "iopub.execute_input": "2022-12-07T13:13:42.036997Z",
     "iopub.status.busy": "2022-12-07T13:13:42.036498Z",
     "iopub.status.idle": "2022-12-07T13:13:42.046515Z",
     "shell.execute_reply": "2022-12-07T13:13:42.045364Z"
    },
    "papermill": {
     "duration": 0.02102,
     "end_time": "2022-12-07T13:13:42.048859",
     "exception": false,
     "start_time": "2022-12-07T13:13:42.027839",
     "status": "completed"
    },
    "tags": []
   },
   "outputs": [
    {
     "data": {
      "application/javascript": [
       "parent.postMessage({\"jupyterEvent\": \"custom.exercise_interaction\", \"data\": {\"interactionType\": 3, \"questionType\": 2, \"questionId\": \"3_PurpleShell\", \"learnToolsVersion\": \"0.3.4\", \"valueTowardsCompletion\": 0.0, \"failureMessage\": \"\", \"exceptionClass\": \"\", \"trace\": \"\", \"outcomeType\": 4}}, \"*\")"
      ],
      "text/plain": [
       "<IPython.core.display.Javascript object>"
      ]
     },
     "metadata": {},
     "output_type": "display_data"
    },
    {
     "data": {
      "text/markdown": [
       "<span style=\"color:#33cc99\">Solution:</span> \n",
       "```python\n",
       "def purple_shell(racers):\n",
       "    # One slick way to do the swap is x[0], x[-1] = x[-1], x[0].\n",
       "    temp = racers[0]\n",
       "    racers[0] = racers[-1]\n",
       "    racers[-1] = temp\n",
       "```"
      ],
      "text/plain": [
       "Solution: \n",
       "```python\n",
       "def purple_shell(racers):\n",
       "    # One slick way to do the swap is x[0], x[-1] = x[-1], x[0].\n",
       "    temp = racers[0]\n",
       "    racers[0] = racers[-1]\n",
       "    racers[-1] = temp\n",
       "```"
      ]
     },
     "metadata": {},
     "output_type": "display_data"
    }
   ],
   "source": [
    "q3.solution()"
   ]
  },
  {
   "cell_type": "code",
   "execution_count": 10,
   "id": "2adaea20",
   "metadata": {
    "execution": {
     "iopub.execute_input": "2022-12-07T13:13:42.065916Z",
     "iopub.status.busy": "2022-12-07T13:13:42.065220Z",
     "iopub.status.idle": "2022-12-07T13:13:42.069107Z",
     "shell.execute_reply": "2022-12-07T13:13:42.068218Z"
    },
    "papermill": {
     "duration": 0.015291,
     "end_time": "2022-12-07T13:13:42.071513",
     "exception": false,
     "start_time": "2022-12-07T13:13:42.056222",
     "status": "completed"
    },
    "tags": []
   },
   "outputs": [],
   "source": [
    "#q3.hint()\n",
    "#q3.solution()"
   ]
  },
  {
   "cell_type": "markdown",
   "id": "102f609a",
   "metadata": {
    "papermill": {
     "duration": 0.007064,
     "end_time": "2022-12-07T13:13:42.085998",
     "exception": false,
     "start_time": "2022-12-07T13:13:42.078934",
     "status": "completed"
    },
    "tags": []
   },
   "source": [
    "# 4.\n",
    "\n",
    "What are the lengths of the following lists? Fill in the variable `lengths` with your predictions. (Try to make a prediction for each list *without* just calling `len()` on it.)"
   ]
  },
  {
   "cell_type": "code",
   "execution_count": 11,
   "id": "f9c83e2b",
   "metadata": {
    "execution": {
     "iopub.execute_input": "2022-12-07T13:13:42.102399Z",
     "iopub.status.busy": "2022-12-07T13:13:42.101915Z",
     "iopub.status.idle": "2022-12-07T13:13:42.113208Z",
     "shell.execute_reply": "2022-12-07T13:13:42.111966Z"
    },
    "papermill": {
     "duration": 0.022422,
     "end_time": "2022-12-07T13:13:42.115706",
     "exception": false,
     "start_time": "2022-12-07T13:13:42.093284",
     "status": "completed"
    },
    "tags": []
   },
   "outputs": [
    {
     "data": {
      "application/javascript": [
       "parent.postMessage({\"jupyterEvent\": \"custom.exercise_interaction\", \"data\": {\"outcomeType\": 1, \"valueTowardsCompletion\": 0.2, \"interactionType\": 1, \"questionType\": 1, \"questionId\": \"4_UnderstandLen\", \"learnToolsVersion\": \"0.3.4\", \"failureMessage\": \"\", \"exceptionClass\": \"\", \"trace\": \"\"}}, \"*\")"
      ],
      "text/plain": [
       "<IPython.core.display.Javascript object>"
      ]
     },
     "metadata": {},
     "output_type": "display_data"
    },
    {
     "data": {
      "text/markdown": [
       "<span style=\"color:#33cc33\">Correct:</span> \n",
       "\n",
       "\n",
       "- a: There are three items in this list. Nothing tricky yet.\n",
       "- b: The list `[2, 3]` counts as a single item. It has one item before it. So we have 2 items in the list\n",
       "- c: The empty list has 0 items\n",
       "- d: The expression is the same as the list `[2, 3]`, which has length 2."
      ],
      "text/plain": [
       "Correct: \n",
       "\n",
       "\n",
       "- a: There are three items in this list. Nothing tricky yet.\n",
       "- b: The list `[2, 3]` counts as a single item. It has one item before it. So we have 2 items in the list\n",
       "- c: The empty list has 0 items\n",
       "- d: The expression is the same as the list `[2, 3]`, which has length 2."
      ]
     },
     "metadata": {},
     "output_type": "display_data"
    }
   ],
   "source": [
    "a = [1, 2, 3]\n",
    "b = [1, [2, 3]]\n",
    "c = []\n",
    "d = [1, 2, 3][1:]\n",
    "\n",
    "# Put your predictions in the list below. Lengths should contain 4 numbers, the\n",
    "# first being the length of a, the second being the length of b and so on.\n",
    "lengths = [3, 2, 0, 2]\n",
    "\n",
    "# Check your answer\n",
    "q4.check()"
   ]
  },
  {
   "cell_type": "code",
   "execution_count": 12,
   "id": "58ad0018",
   "metadata": {
    "execution": {
     "iopub.execute_input": "2022-12-07T13:13:42.135264Z",
     "iopub.status.busy": "2022-12-07T13:13:42.133783Z",
     "iopub.status.idle": "2022-12-07T13:13:42.145885Z",
     "shell.execute_reply": "2022-12-07T13:13:42.144140Z"
    },
    "papermill": {
     "duration": 0.027008,
     "end_time": "2022-12-07T13:13:42.150406",
     "exception": false,
     "start_time": "2022-12-07T13:13:42.123398",
     "status": "completed"
    },
    "tags": []
   },
   "outputs": [
    {
     "data": {
      "application/javascript": [
       "parent.postMessage({\"jupyterEvent\": \"custom.exercise_interaction\", \"data\": {\"interactionType\": 3, \"questionType\": 1, \"questionId\": \"4_UnderstandLen\", \"learnToolsVersion\": \"0.3.4\", \"valueTowardsCompletion\": 0.0, \"failureMessage\": \"\", \"exceptionClass\": \"\", \"trace\": \"\", \"outcomeType\": 4}}, \"*\")"
      ],
      "text/plain": [
       "<IPython.core.display.Javascript object>"
      ]
     },
     "metadata": {},
     "output_type": "display_data"
    },
    {
     "data": {
      "text/markdown": [
       "<span style=\"color:#33cc99\">Solution:</span> \n",
       "- a: There are three items in this list. Nothing tricky yet.\n",
       "- b: The list `[2, 3]` counts as a single item. It has one item before it. So we have 2 items in the list\n",
       "- c: The empty list has 0 items\n",
       "- d: The expression is the same as the list `[2, 3]`, which has length 2."
      ],
      "text/plain": [
       "Solution: \n",
       "- a: There are three items in this list. Nothing tricky yet.\n",
       "- b: The list `[2, 3]` counts as a single item. It has one item before it. So we have 2 items in the list\n",
       "- c: The empty list has 0 items\n",
       "- d: The expression is the same as the list `[2, 3]`, which has length 2."
      ]
     },
     "metadata": {},
     "output_type": "display_data"
    }
   ],
   "source": [
    "q4.solution()"
   ]
  },
  {
   "cell_type": "code",
   "execution_count": 13,
   "id": "65a8fbbb",
   "metadata": {
    "execution": {
     "iopub.execute_input": "2022-12-07T13:13:42.178744Z",
     "iopub.status.busy": "2022-12-07T13:13:42.178341Z",
     "iopub.status.idle": "2022-12-07T13:13:42.183194Z",
     "shell.execute_reply": "2022-12-07T13:13:42.181906Z"
    },
    "papermill": {
     "duration": 0.021831,
     "end_time": "2022-12-07T13:13:42.185650",
     "exception": false,
     "start_time": "2022-12-07T13:13:42.163819",
     "status": "completed"
    },
    "tags": []
   },
   "outputs": [],
   "source": [
    "# line below provides some explanation\n",
    "#q4.solution()"
   ]
  },
  {
   "cell_type": "markdown",
   "id": "358efc43",
   "metadata": {
    "papermill": {
     "duration": 0.009911,
     "end_time": "2022-12-07T13:13:42.207412",
     "exception": false,
     "start_time": "2022-12-07T13:13:42.197501",
     "status": "completed"
    },
    "tags": []
   },
   "source": [
    "# 5. <span title=\"A bit spicy\" style=\"color: darkgreen \">🌶️</span>\n",
    "\n",
    "We're using lists to record people who attended our party and what order they arrived in. For example, the following list represents a party with 7 guests, in which Adela showed up first and Ford was the last to arrive:\n",
    "\n",
    "    party_attendees = ['Adela', 'Fleda', 'Owen', 'May', 'Mona', 'Gilbert', 'Ford']\n",
    "\n",
    "A guest is considered 'fashionably late' if they arrived after at least half of the party's guests. However, they must not be the very last guest (that's taking it too far). In the above example, Mona and Gilbert are the only guests who were fashionably late.\n",
    "\n",
    "Complete the function below which takes a list of party attendees as well as a person, and tells us whether that person is fashionably late."
   ]
  },
  {
   "cell_type": "code",
   "execution_count": 14,
   "id": "e1564ffb",
   "metadata": {
    "execution": {
     "iopub.execute_input": "2022-12-07T13:13:42.225091Z",
     "iopub.status.busy": "2022-12-07T13:13:42.224654Z",
     "iopub.status.idle": "2022-12-07T13:13:42.235468Z",
     "shell.execute_reply": "2022-12-07T13:13:42.234554Z"
    },
    "papermill": {
     "duration": 0.02264,
     "end_time": "2022-12-07T13:13:42.237899",
     "exception": false,
     "start_time": "2022-12-07T13:13:42.215259",
     "status": "completed"
    },
    "tags": []
   },
   "outputs": [
    {
     "data": {
      "application/javascript": [
       "parent.postMessage({\"jupyterEvent\": \"custom.exercise_interaction\", \"data\": {\"outcomeType\": 1, \"valueTowardsCompletion\": 0.2, \"interactionType\": 1, \"questionType\": 2, \"questionId\": \"5_FashionablyLate\", \"learnToolsVersion\": \"0.3.4\", \"failureMessage\": \"\", \"exceptionClass\": \"\", \"trace\": \"\"}}, \"*\")"
      ],
      "text/plain": [
       "<IPython.core.display.Javascript object>"
      ]
     },
     "metadata": {},
     "output_type": "display_data"
    },
    {
     "data": {
      "text/markdown": [
       "<span style=\"color:#33cc33\">Correct</span>"
      ],
      "text/plain": [
       "Correct"
      ]
     },
     "metadata": {},
     "output_type": "display_data"
    }
   ],
   "source": [
    "def fashionably_late(arrivals, name):\n",
    "    \"\"\"Given an ordered list of arrivals to the party and a name, return whether the guest with that\n",
    "    name was fashionably late.\n",
    "    \"\"\"\n",
    "    order = arrivals.index(name)\n",
    "    return (order >= len(arrivals)/2) and (order != len(arrivals)-1)\n",
    "\n",
    "# Check your answer\n",
    "q5.check()"
   ]
  },
  {
   "cell_type": "code",
   "execution_count": 15,
   "id": "475dd8e6",
   "metadata": {
    "execution": {
     "iopub.execute_input": "2022-12-07T13:13:42.256370Z",
     "iopub.status.busy": "2022-12-07T13:13:42.255936Z",
     "iopub.status.idle": "2022-12-07T13:13:42.265026Z",
     "shell.execute_reply": "2022-12-07T13:13:42.263762Z"
    },
    "papermill": {
     "duration": 0.021091,
     "end_time": "2022-12-07T13:13:42.267333",
     "exception": false,
     "start_time": "2022-12-07T13:13:42.246242",
     "status": "completed"
    },
    "tags": []
   },
   "outputs": [
    {
     "data": {
      "application/javascript": [
       "parent.postMessage({\"jupyterEvent\": \"custom.exercise_interaction\", \"data\": {\"interactionType\": 3, \"questionType\": 2, \"questionId\": \"5_FashionablyLate\", \"learnToolsVersion\": \"0.3.4\", \"valueTowardsCompletion\": 0.0, \"failureMessage\": \"\", \"exceptionClass\": \"\", \"trace\": \"\", \"outcomeType\": 4}}, \"*\")"
      ],
      "text/plain": [
       "<IPython.core.display.Javascript object>"
      ]
     },
     "metadata": {},
     "output_type": "display_data"
    },
    {
     "data": {
      "text/markdown": [
       "<span style=\"color:#33cc99\">Solution:</span> \n",
       "```python\n",
       "def fashionably_late(arrivals, name):\n",
       "    order = arrivals.index(name)\n",
       "    return order >= len(arrivals) / 2 and order != len(arrivals) - 1\n",
       "```"
      ],
      "text/plain": [
       "Solution: \n",
       "```python\n",
       "def fashionably_late(arrivals, name):\n",
       "    order = arrivals.index(name)\n",
       "    return order >= len(arrivals) / 2 and order != len(arrivals) - 1\n",
       "```"
      ]
     },
     "metadata": {},
     "output_type": "display_data"
    }
   ],
   "source": [
    "q5.solution()"
   ]
  },
  {
   "cell_type": "code",
   "execution_count": 16,
   "id": "557a870b",
   "metadata": {
    "execution": {
     "iopub.execute_input": "2022-12-07T13:13:42.285696Z",
     "iopub.status.busy": "2022-12-07T13:13:42.285303Z",
     "iopub.status.idle": "2022-12-07T13:13:42.289999Z",
     "shell.execute_reply": "2022-12-07T13:13:42.288319Z"
    },
    "papermill": {
     "duration": 0.017037,
     "end_time": "2022-12-07T13:13:42.292557",
     "exception": false,
     "start_time": "2022-12-07T13:13:42.275520",
     "status": "completed"
    },
    "tags": []
   },
   "outputs": [],
   "source": [
    "#q5.hint()\n",
    "#q5.solution()"
   ]
  },
  {
   "cell_type": "markdown",
   "id": "d397990e",
   "metadata": {
    "papermill": {
     "duration": 0.008336,
     "end_time": "2022-12-07T13:13:42.309801",
     "exception": false,
     "start_time": "2022-12-07T13:13:42.301465",
     "status": "completed"
    },
    "tags": []
   },
   "source": [
    "---\n",
    "\n",
    "\n",
    "\n",
    "\n",
    "**Allen**"
   ]
  }
 ],
 "metadata": {
  "kernelspec": {
   "display_name": "Python 3",
   "language": "python",
   "name": "python3"
  },
  "language_info": {
   "codemirror_mode": {
    "name": "ipython",
    "version": 3
   },
   "file_extension": ".py",
   "mimetype": "text/x-python",
   "name": "python",
   "nbconvert_exporter": "python",
   "pygments_lexer": "ipython3",
   "version": "3.7.12"
  },
  "papermill": {
   "default_parameters": {},
   "duration": 10.618674,
   "end_time": "2022-12-07T13:13:43.041262",
   "environment_variables": {},
   "exception": null,
   "input_path": "__notebook__.ipynb",
   "output_path": "__notebook__.ipynb",
   "parameters": {},
   "start_time": "2022-12-07T13:13:32.422588",
   "version": "2.3.4"
  }
 },
 "nbformat": 4,
 "nbformat_minor": 5
}
