{
 "cells": [
  {
   "cell_type": "markdown",
   "id": "0cac1a0d",
   "metadata": {
    "papermill": {
     "duration": 0.00699,
     "end_time": "2022-12-09T11:23:41.677976",
     "exception": false,
     "start_time": "2022-12-09T11:23:41.670986",
     "status": "completed"
    },
    "tags": []
   },
   "source": [
    "**This notebook is an exercise in the [Python](https://www.kaggle.com/learn/python) course.  You can reference the tutorial at [this link](https://www.kaggle.com/colinmorris/strings-and-dictionaries).**\n",
    "\n",
    "---\n"
   ]
  },
  {
   "cell_type": "markdown",
   "id": "92962d62",
   "metadata": {
    "papermill": {
     "duration": 0.005502,
     "end_time": "2022-12-09T11:23:41.690113",
     "exception": false,
     "start_time": "2022-12-09T11:23:41.684611",
     "status": "completed"
    },
    "tags": []
   },
   "source": [
    "You are almost done with the course. Nice job!\n",
    "\n",
    "We have a couple more interesting problems for you before you go. \n",
    "\n",
    "As always, run the setup code below before working on the questions."
   ]
  },
  {
   "cell_type": "code",
   "execution_count": 1,
   "id": "0a58d8b8",
   "metadata": {
    "execution": {
     "iopub.execute_input": "2022-12-09T11:23:41.703775Z",
     "iopub.status.busy": "2022-12-09T11:23:41.703280Z",
     "iopub.status.idle": "2022-12-09T11:23:41.762532Z",
     "shell.execute_reply": "2022-12-09T11:23:41.760918Z"
    },
    "papermill": {
     "duration": 0.069407,
     "end_time": "2022-12-09T11:23:41.765351",
     "exception": false,
     "start_time": "2022-12-09T11:23:41.695944",
     "status": "completed"
    },
    "tags": []
   },
   "outputs": [
    {
     "name": "stdout",
     "output_type": "stream",
     "text": [
      "Setup complete.\n"
     ]
    }
   ],
   "source": [
    "from learntools.core import binder; binder.bind(globals())\n",
    "from learntools.python.ex6 import *\n",
    "print('Setup complete.')"
   ]
  },
  {
   "cell_type": "markdown",
   "id": "634f6aec",
   "metadata": {
    "papermill": {
     "duration": 0.005562,
     "end_time": "2022-12-09T11:23:41.777244",
     "exception": false,
     "start_time": "2022-12-09T11:23:41.771682",
     "status": "completed"
    },
    "tags": []
   },
   "source": [
    "Let's start with a string lightning round to warm up. What are the lengths of the strings below?\n",
    "\n",
    "For each of the five strings below, predict what `len()` would return when passed that string. Use the variable `length` to record your answer, then run the cell to check whether you were right.  \n",
    "\n",
    "# 0a."
   ]
  },
  {
   "cell_type": "code",
   "execution_count": 2,
   "id": "b33a4bb2",
   "metadata": {
    "execution": {
     "iopub.execute_input": "2022-12-09T11:23:41.792267Z",
     "iopub.status.busy": "2022-12-09T11:23:41.790998Z",
     "iopub.status.idle": "2022-12-09T11:23:41.804441Z",
     "shell.execute_reply": "2022-12-09T11:23:41.803335Z"
    },
    "papermill": {
     "duration": 0.023308,
     "end_time": "2022-12-09T11:23:41.806925",
     "exception": false,
     "start_time": "2022-12-09T11:23:41.783617",
     "status": "completed"
    },
    "tags": []
   },
   "outputs": [
    {
     "data": {
      "application/javascript": [
       "parent.postMessage({\"jupyterEvent\": \"custom.exercise_interaction\", \"data\": {\"outcomeType\": 1, \"valueTowardsCompletion\": 0.3333333333333333, \"interactionType\": 1, \"questionType\": 1, \"questionId\": \"0.1_ZA\", \"learnToolsVersion\": \"0.3.4\", \"failureMessage\": \"\", \"exceptionClass\": \"\", \"trace\": \"\"}}, \"*\")"
      ],
      "text/plain": [
       "<IPython.core.display.Javascript object>"
      ]
     },
     "metadata": {},
     "output_type": "display_data"
    },
    {
     "data": {
      "text/markdown": [
       "<span style=\"color:#33cc33\">Correct:</span> \n",
       "\n",
       "The empty string has length zero. Note that the empty string is also the only string that Python considers as False when converting to boolean."
      ],
      "text/plain": [
       "Correct: \n",
       "\n",
       "The empty string has length zero. Note that the empty string is also the only string that Python considers as False when converting to boolean."
      ]
     },
     "metadata": {},
     "output_type": "display_data"
    }
   ],
   "source": [
    "a = \"\"\n",
    "length = 0\n",
    "q0.a.check()"
   ]
  },
  {
   "cell_type": "markdown",
   "id": "d903da18",
   "metadata": {
    "papermill": {
     "duration": 0.005804,
     "end_time": "2022-12-09T11:23:41.818777",
     "exception": false,
     "start_time": "2022-12-09T11:23:41.812973",
     "status": "completed"
    },
    "tags": []
   },
   "source": [
    "# 0b."
   ]
  },
  {
   "cell_type": "code",
   "execution_count": 3,
   "id": "1736bce8",
   "metadata": {
    "execution": {
     "iopub.execute_input": "2022-12-09T11:23:41.832770Z",
     "iopub.status.busy": "2022-12-09T11:23:41.832329Z",
     "iopub.status.idle": "2022-12-09T11:23:41.840869Z",
     "shell.execute_reply": "2022-12-09T11:23:41.839820Z"
    },
    "papermill": {
     "duration": 0.018542,
     "end_time": "2022-12-09T11:23:41.843363",
     "exception": false,
     "start_time": "2022-12-09T11:23:41.824821",
     "status": "completed"
    },
    "tags": []
   },
   "outputs": [
    {
     "data": {
      "application/javascript": [
       "parent.postMessage({\"jupyterEvent\": \"custom.exercise_interaction\", \"data\": {\"outcomeType\": 1, \"valueTowardsCompletion\": 0.3333333333333333, \"interactionType\": 1, \"questionType\": 1, \"questionId\": \"0.2_ZB\", \"learnToolsVersion\": \"0.3.4\", \"failureMessage\": \"\", \"exceptionClass\": \"\", \"trace\": \"\"}}, \"*\")"
      ],
      "text/plain": [
       "<IPython.core.display.Javascript object>"
      ]
     },
     "metadata": {},
     "output_type": "display_data"
    },
    {
     "data": {
      "text/markdown": [
       "<span style=\"color:#33cc33\">Correct:</span> \n",
       "\n",
       "Keep in mind Python includes spaces (and punctuation) when counting string length."
      ],
      "text/plain": [
       "Correct: \n",
       "\n",
       "Keep in mind Python includes spaces (and punctuation) when counting string length."
      ]
     },
     "metadata": {},
     "output_type": "display_data"
    }
   ],
   "source": [
    "b = \"it's ok\"\n",
    "length = 7\n",
    "q0.b.check()"
   ]
  },
  {
   "cell_type": "markdown",
   "id": "21ce6227",
   "metadata": {
    "papermill": {
     "duration": 0.007593,
     "end_time": "2022-12-09T11:23:41.857249",
     "exception": false,
     "start_time": "2022-12-09T11:23:41.849656",
     "status": "completed"
    },
    "tags": []
   },
   "source": [
    "# 0c."
   ]
  },
  {
   "cell_type": "code",
   "execution_count": 4,
   "id": "4b104aaf",
   "metadata": {
    "execution": {
     "iopub.execute_input": "2022-12-09T11:23:41.871716Z",
     "iopub.status.busy": "2022-12-09T11:23:41.871290Z",
     "iopub.status.idle": "2022-12-09T11:23:41.879845Z",
     "shell.execute_reply": "2022-12-09T11:23:41.878809Z"
    },
    "papermill": {
     "duration": 0.018293,
     "end_time": "2022-12-09T11:23:41.881892",
     "exception": false,
     "start_time": "2022-12-09T11:23:41.863599",
     "status": "completed"
    },
    "tags": []
   },
   "outputs": [
    {
     "data": {
      "application/javascript": [
       "parent.postMessage({\"jupyterEvent\": \"custom.exercise_interaction\", \"data\": {\"outcomeType\": 1, \"valueTowardsCompletion\": 0.3333333333333333, \"interactionType\": 1, \"questionType\": 1, \"questionId\": \"0.3_ZC\", \"learnToolsVersion\": \"0.3.4\", \"failureMessage\": \"\", \"exceptionClass\": \"\", \"trace\": \"\"}}, \"*\")"
      ],
      "text/plain": [
       "<IPython.core.display.Javascript object>"
      ]
     },
     "metadata": {},
     "output_type": "display_data"
    },
    {
     "data": {
      "text/markdown": [
       "<span style=\"color:#33cc33\">Correct:</span> \n",
       "\n",
       "Even though we use different syntax to create it, the string `c` is identical to `b`. In particular, note that the backslash is not part of the string, so it doesn't contribute to its length."
      ],
      "text/plain": [
       "Correct: \n",
       "\n",
       "Even though we use different syntax to create it, the string `c` is identical to `b`. In particular, note that the backslash is not part of the string, so it doesn't contribute to its length."
      ]
     },
     "metadata": {},
     "output_type": "display_data"
    }
   ],
   "source": [
    "c = 'it\\'s ok'\n",
    "length = 7\n",
    "q0.c.check()"
   ]
  },
  {
   "cell_type": "markdown",
   "id": "e11b180e",
   "metadata": {
    "papermill": {
     "duration": 0.006046,
     "end_time": "2022-12-09T11:23:41.894347",
     "exception": false,
     "start_time": "2022-12-09T11:23:41.888301",
     "status": "completed"
    },
    "tags": []
   },
   "source": [
    "# 0d."
   ]
  },
  {
   "cell_type": "code",
   "execution_count": 5,
   "id": "8461be23",
   "metadata": {
    "execution": {
     "iopub.execute_input": "2022-12-09T11:23:41.909012Z",
     "iopub.status.busy": "2022-12-09T11:23:41.908055Z",
     "iopub.status.idle": "2022-12-09T11:23:41.916597Z",
     "shell.execute_reply": "2022-12-09T11:23:41.915710Z"
    },
    "papermill": {
     "duration": 0.018063,
     "end_time": "2022-12-09T11:23:41.918607",
     "exception": false,
     "start_time": "2022-12-09T11:23:41.900544",
     "status": "completed"
    },
    "tags": []
   },
   "outputs": [
    {
     "data": {
      "application/javascript": [
       "parent.postMessage({\"jupyterEvent\": \"custom.exercise_interaction\", \"data\": {\"outcomeType\": 1, \"valueTowardsCompletion\": 0.3333333333333333, \"interactionType\": 1, \"questionType\": 1, \"questionId\": \"0.4_ZD\", \"learnToolsVersion\": \"0.3.4\", \"failureMessage\": \"\", \"exceptionClass\": \"\", \"trace\": \"\"}}, \"*\")"
      ],
      "text/plain": [
       "<IPython.core.display.Javascript object>"
      ]
     },
     "metadata": {},
     "output_type": "display_data"
    },
    {
     "data": {
      "text/markdown": [
       "<span style=\"color:#33cc33\">Correct:</span> \n",
       "\n",
       "The fact that this string was created using triple-quote syntax doesn't make any difference in terms of its content or length. This string is exactly the same as `'hey'`."
      ],
      "text/plain": [
       "Correct: \n",
       "\n",
       "The fact that this string was created using triple-quote syntax doesn't make any difference in terms of its content or length. This string is exactly the same as `'hey'`."
      ]
     },
     "metadata": {},
     "output_type": "display_data"
    }
   ],
   "source": [
    "d = \"\"\"hey\"\"\"\n",
    "length = 3\n",
    "q0.d.check()"
   ]
  },
  {
   "cell_type": "markdown",
   "id": "f339a8b7",
   "metadata": {
    "papermill": {
     "duration": 0.006328,
     "end_time": "2022-12-09T11:23:41.931442",
     "exception": false,
     "start_time": "2022-12-09T11:23:41.925114",
     "status": "completed"
    },
    "tags": []
   },
   "source": [
    "# 0e."
   ]
  },
  {
   "cell_type": "code",
   "execution_count": 6,
   "id": "089ec727",
   "metadata": {
    "execution": {
     "iopub.execute_input": "2022-12-09T11:23:41.946762Z",
     "iopub.status.busy": "2022-12-09T11:23:41.946022Z",
     "iopub.status.idle": "2022-12-09T11:23:41.954838Z",
     "shell.execute_reply": "2022-12-09T11:23:41.953753Z"
    },
    "papermill": {
     "duration": 0.019064,
     "end_time": "2022-12-09T11:23:41.957063",
     "exception": false,
     "start_time": "2022-12-09T11:23:41.937999",
     "status": "completed"
    },
    "tags": []
   },
   "outputs": [
    {
     "data": {
      "application/javascript": [
       "parent.postMessage({\"jupyterEvent\": \"custom.exercise_interaction\", \"data\": {\"outcomeType\": 1, \"valueTowardsCompletion\": 0.3333333333333333, \"interactionType\": 1, \"questionType\": 1, \"questionId\": \"0.5_ZE\", \"learnToolsVersion\": \"0.3.4\", \"failureMessage\": \"\", \"exceptionClass\": \"\", \"trace\": \"\"}}, \"*\")"
      ],
      "text/plain": [
       "<IPython.core.display.Javascript object>"
      ]
     },
     "metadata": {},
     "output_type": "display_data"
    },
    {
     "data": {
      "text/markdown": [
       "<span style=\"color:#33cc33\">Correct:</span> \n",
       "\n",
       "The newline character is just a single character! (Even though we represent it to Python using a combination of two characters.)"
      ],
      "text/plain": [
       "Correct: \n",
       "\n",
       "The newline character is just a single character! (Even though we represent it to Python using a combination of two characters.)"
      ]
     },
     "metadata": {},
     "output_type": "display_data"
    }
   ],
   "source": [
    "e = '\\n'\n",
    "length = 1\n",
    "q0.e.check()"
   ]
  },
  {
   "cell_type": "markdown",
   "id": "7668d81a",
   "metadata": {
    "papermill": {
     "duration": 0.00649,
     "end_time": "2022-12-09T11:23:41.970321",
     "exception": false,
     "start_time": "2022-12-09T11:23:41.963831",
     "status": "completed"
    },
    "tags": []
   },
   "source": [
    "# 1.\n",
    "\n",
    "There is a saying that \"Data scientists spend 80% of their time cleaning data, and 20% of their time complaining about cleaning data.\" Let's see if you can write a function to help clean US zip code data. Given a string, it should return whether or not that string represents a valid zip code. For our purposes, a valid zip code is any string consisting of exactly 5 digits.\n",
    "\n",
    "HINT: `str` has a method that will be useful here. Use `help(str)` to review a list of string methods."
   ]
  },
  {
   "cell_type": "code",
   "execution_count": 7,
   "id": "d3a098de",
   "metadata": {
    "execution": {
     "iopub.execute_input": "2022-12-09T11:23:41.985985Z",
     "iopub.status.busy": "2022-12-09T11:23:41.985584Z",
     "iopub.status.idle": "2022-12-09T11:23:41.994379Z",
     "shell.execute_reply": "2022-12-09T11:23:41.993446Z"
    },
    "papermill": {
     "duration": 0.018974,
     "end_time": "2022-12-09T11:23:41.996438",
     "exception": false,
     "start_time": "2022-12-09T11:23:41.977464",
     "status": "completed"
    },
    "tags": []
   },
   "outputs": [
    {
     "data": {
      "application/javascript": [
       "parent.postMessage({\"jupyterEvent\": \"custom.exercise_interaction\", \"data\": {\"outcomeType\": 1, \"valueTowardsCompletion\": 0.3333333333333333, \"interactionType\": 1, \"questionType\": 2, \"questionId\": \"1_ZipValidator\", \"learnToolsVersion\": \"0.3.4\", \"failureMessage\": \"\", \"exceptionClass\": \"\", \"trace\": \"\"}}, \"*\")"
      ],
      "text/plain": [
       "<IPython.core.display.Javascript object>"
      ]
     },
     "metadata": {},
     "output_type": "display_data"
    },
    {
     "data": {
      "text/markdown": [
       "<span style=\"color:#33cc33\">Correct</span>"
      ],
      "text/plain": [
       "Correct"
      ]
     },
     "metadata": {},
     "output_type": "display_data"
    }
   ],
   "source": [
    "def is_valid_zip(zip_code):\n",
    "    \"\"\"Returns whether the input string is a valid (5 digit) zip code\n",
    "    \"\"\"\n",
    "    return zip_code.isdigit() and len(zip_code) == 5\n",
    "\n",
    "# Check your answer\n",
    "q1.check()"
   ]
  },
  {
   "cell_type": "code",
   "execution_count": 8,
   "id": "06361b1b",
   "metadata": {
    "execution": {
     "iopub.execute_input": "2022-12-09T11:23:42.012153Z",
     "iopub.status.busy": "2022-12-09T11:23:42.011771Z",
     "iopub.status.idle": "2022-12-09T11:23:42.020585Z",
     "shell.execute_reply": "2022-12-09T11:23:42.019434Z"
    },
    "papermill": {
     "duration": 0.019561,
     "end_time": "2022-12-09T11:23:42.022862",
     "exception": false,
     "start_time": "2022-12-09T11:23:42.003301",
     "status": "completed"
    },
    "tags": []
   },
   "outputs": [
    {
     "data": {
      "application/javascript": [
       "parent.postMessage({\"jupyterEvent\": \"custom.exercise_interaction\", \"data\": {\"interactionType\": 3, \"questionType\": 2, \"questionId\": \"1_ZipValidator\", \"learnToolsVersion\": \"0.3.4\", \"valueTowardsCompletion\": 0.0, \"failureMessage\": \"\", \"exceptionClass\": \"\", \"trace\": \"\", \"outcomeType\": 4}}, \"*\")"
      ],
      "text/plain": [
       "<IPython.core.display.Javascript object>"
      ]
     },
     "metadata": {},
     "output_type": "display_data"
    },
    {
     "data": {
      "text/markdown": [
       "<span style=\"color:#33cc99\">Solution:</span> \n",
       "```python\n",
       "def is_valid_zip(zip_code):\n",
       "    return len(zip_code) == 5 and zip_code.isdigit()\n",
       "```"
      ],
      "text/plain": [
       "Solution: \n",
       "```python\n",
       "def is_valid_zip(zip_code):\n",
       "    return len(zip_code) == 5 and zip_code.isdigit()\n",
       "```"
      ]
     },
     "metadata": {},
     "output_type": "display_data"
    }
   ],
   "source": [
    "q1.solution()"
   ]
  },
  {
   "cell_type": "code",
   "execution_count": 9,
   "id": "eafea535",
   "metadata": {
    "execution": {
     "iopub.execute_input": "2022-12-09T11:23:42.039373Z",
     "iopub.status.busy": "2022-12-09T11:23:42.038646Z",
     "iopub.status.idle": "2022-12-09T11:23:42.043231Z",
     "shell.execute_reply": "2022-12-09T11:23:42.042251Z"
    },
    "papermill": {
     "duration": 0.015162,
     "end_time": "2022-12-09T11:23:42.045331",
     "exception": false,
     "start_time": "2022-12-09T11:23:42.030169",
     "status": "completed"
    },
    "tags": []
   },
   "outputs": [],
   "source": [
    "#q1.hint()\n",
    "#q1.solution()"
   ]
  },
  {
   "cell_type": "markdown",
   "id": "c7894bb4",
   "metadata": {
    "papermill": {
     "duration": 0.006954,
     "end_time": "2022-12-09T11:23:42.059610",
     "exception": false,
     "start_time": "2022-12-09T11:23:42.052656",
     "status": "completed"
    },
    "tags": []
   },
   "source": [
    "# 2.\n",
    "\n",
    "A researcher has gathered thousands of news articles. But she wants to focus her attention on articles including a specific word. Complete the function below to help her filter her list of articles.\n",
    "\n",
    "Your function should meet the following criteria:\n",
    "\n",
    "- Do not include documents where the keyword string shows up only as a part of a larger word. For example, if she were looking for the keyword “closed”, you would not include the string “enclosed.” \n",
    "- She does not want you to distinguish upper case from lower case letters. So the phrase “Closed the case.” would be included when the keyword is “closed”\n",
    "- Do not let periods or commas affect what is matched. “It is closed.” would be included when the keyword is “closed”. But you can assume there are no other types of punctuation."
   ]
  },
  {
   "cell_type": "code",
   "execution_count": 10,
   "id": "5dcb3ead",
   "metadata": {
    "execution": {
     "iopub.execute_input": "2022-12-09T11:23:42.076618Z",
     "iopub.status.busy": "2022-12-09T11:23:42.075850Z",
     "iopub.status.idle": "2022-12-09T11:23:42.087354Z",
     "shell.execute_reply": "2022-12-09T11:23:42.086258Z"
    },
    "papermill": {
     "duration": 0.022518,
     "end_time": "2022-12-09T11:23:42.089615",
     "exception": false,
     "start_time": "2022-12-09T11:23:42.067097",
     "status": "completed"
    },
    "tags": []
   },
   "outputs": [
    {
     "data": {
      "application/javascript": [
       "parent.postMessage({\"jupyterEvent\": \"custom.exercise_interaction\", \"data\": {\"outcomeType\": 1, \"valueTowardsCompletion\": 0.3333333333333333, \"interactionType\": 1, \"questionType\": 2, \"questionId\": \"2_WordSearch\", \"learnToolsVersion\": \"0.3.4\", \"failureMessage\": \"\", \"exceptionClass\": \"\", \"trace\": \"\"}}, \"*\")"
      ],
      "text/plain": [
       "<IPython.core.display.Javascript object>"
      ]
     },
     "metadata": {},
     "output_type": "display_data"
    },
    {
     "data": {
      "text/markdown": [
       "<span style=\"color:#33cc33\">Correct</span>"
      ],
      "text/plain": [
       "Correct"
      ]
     },
     "metadata": {},
     "output_type": "display_data"
    }
   ],
   "source": [
    "def word_search(doc_list, keyword):\n",
    "    \"\"\"\n",
    "    Takes a list of documents (each document is a string) and a keyword. \n",
    "    Returns list of the index values into the original list for all documents \n",
    "    containing the keyword.\n",
    "\n",
    "    Example:\n",
    "    doc_list = [\"The Learn Python Challenge Casino.\", \"They bought a car\", \"Casinoville\"]\n",
    "    >>> word_search(doc_list, 'casino')\n",
    "    >>> [0]\n",
    "    \"\"\"\n",
    "    l = [] \n",
    "    for z, doc in enumerate(doc_list):\n",
    "        if keyword.lower() in [z.rstrip('.,').lower() for z in doc.split()]:\n",
    "            l.append(z)\n",
    "    return l\n",
    "\n",
    "# Check your answer\n",
    "q2.check()"
   ]
  },
  {
   "cell_type": "code",
   "execution_count": 11,
   "id": "e646cd8a",
   "metadata": {
    "execution": {
     "iopub.execute_input": "2022-12-09T11:23:42.107011Z",
     "iopub.status.busy": "2022-12-09T11:23:42.106216Z",
     "iopub.status.idle": "2022-12-09T11:23:42.115233Z",
     "shell.execute_reply": "2022-12-09T11:23:42.114132Z"
    },
    "papermill": {
     "duration": 0.02035,
     "end_time": "2022-12-09T11:23:42.117637",
     "exception": false,
     "start_time": "2022-12-09T11:23:42.097287",
     "status": "completed"
    },
    "tags": []
   },
   "outputs": [
    {
     "data": {
      "application/javascript": [
       "parent.postMessage({\"jupyterEvent\": \"custom.exercise_interaction\", \"data\": {\"interactionType\": 3, \"questionType\": 2, \"questionId\": \"2_WordSearch\", \"learnToolsVersion\": \"0.3.4\", \"valueTowardsCompletion\": 0.0, \"failureMessage\": \"\", \"exceptionClass\": \"\", \"trace\": \"\", \"outcomeType\": 4}}, \"*\")"
      ],
      "text/plain": [
       "<IPython.core.display.Javascript object>"
      ]
     },
     "metadata": {},
     "output_type": "display_data"
    },
    {
     "data": {
      "text/markdown": [
       "<span style=\"color:#33cc99\">Solution:</span> \n",
       "```python\n",
       "def word_search(doc_list, keyword):\n",
       "    # list to hold the indices of matching documents\n",
       "    indices = [] \n",
       "    # Iterate through the indices (i) and elements (doc) of documents\n",
       "    for i, doc in enumerate(doc_list):\n",
       "        # Split the string doc into a list of words (according to whitespace)\n",
       "        tokens = doc.split()\n",
       "        # Make a transformed list where we 'normalize' each word to facilitate matching.\n",
       "        # Periods and commas are removed from the end of each word, and it's set to all lowercase.\n",
       "        normalized = [token.rstrip('.,').lower() for token in tokens]\n",
       "        # Is there a match? If so, update the list of matching indices.\n",
       "        if keyword.lower() in normalized:\n",
       "            indices.append(i)\n",
       "    return indices\n",
       "```"
      ],
      "text/plain": [
       "Solution: \n",
       "```python\n",
       "def word_search(doc_list, keyword):\n",
       "    # list to hold the indices of matching documents\n",
       "    indices = [] \n",
       "    # Iterate through the indices (i) and elements (doc) of documents\n",
       "    for i, doc in enumerate(doc_list):\n",
       "        # Split the string doc into a list of words (according to whitespace)\n",
       "        tokens = doc.split()\n",
       "        # Make a transformed list where we 'normalize' each word to facilitate matching.\n",
       "        # Periods and commas are removed from the end of each word, and it's set to all lowercase.\n",
       "        normalized = [token.rstrip('.,').lower() for token in tokens]\n",
       "        # Is there a match? If so, update the list of matching indices.\n",
       "        if keyword.lower() in normalized:\n",
       "            indices.append(i)\n",
       "    return indices\n",
       "```"
      ]
     },
     "metadata": {},
     "output_type": "display_data"
    }
   ],
   "source": [
    "q2.solution()"
   ]
  },
  {
   "cell_type": "code",
   "execution_count": 12,
   "id": "a8aeb78a",
   "metadata": {
    "execution": {
     "iopub.execute_input": "2022-12-09T11:23:42.136003Z",
     "iopub.status.busy": "2022-12-09T11:23:42.134983Z",
     "iopub.status.idle": "2022-12-09T11:23:42.139854Z",
     "shell.execute_reply": "2022-12-09T11:23:42.138704Z"
    },
    "papermill": {
     "duration": 0.016555,
     "end_time": "2022-12-09T11:23:42.142238",
     "exception": false,
     "start_time": "2022-12-09T11:23:42.125683",
     "status": "completed"
    },
    "tags": []
   },
   "outputs": [],
   "source": [
    "#q2.hint()\n",
    "#q2.solution()"
   ]
  },
  {
   "cell_type": "markdown",
   "id": "20b13c37",
   "metadata": {
    "papermill": {
     "duration": 0.008001,
     "end_time": "2022-12-09T11:23:42.158386",
     "exception": false,
     "start_time": "2022-12-09T11:23:42.150385",
     "status": "completed"
    },
    "tags": []
   },
   "source": [
    "# 3.\n",
    "\n",
    "Now the researcher wants to supply multiple keywords to search for. Complete the function below to help her.\n",
    "\n",
    "(You're encouraged to use the `word_search` function you just wrote when implementing this function. Reusing code in this way makes your programs more robust and readable - and it saves typing!)"
   ]
  },
  {
   "cell_type": "code",
   "execution_count": 13,
   "id": "38d85633",
   "metadata": {
    "execution": {
     "iopub.execute_input": "2022-12-09T11:23:42.176769Z",
     "iopub.status.busy": "2022-12-09T11:23:42.176321Z",
     "iopub.status.idle": "2022-12-09T11:23:42.186075Z",
     "shell.execute_reply": "2022-12-09T11:23:42.185021Z"
    },
    "papermill": {
     "duration": 0.021966,
     "end_time": "2022-12-09T11:23:42.188488",
     "exception": false,
     "start_time": "2022-12-09T11:23:42.166522",
     "status": "completed"
    },
    "tags": []
   },
   "outputs": [
    {
     "data": {
      "application/javascript": [
       "parent.postMessage({\"jupyterEvent\": \"custom.exercise_interaction\", \"data\": {\"outcomeType\": 1, \"valueTowardsCompletion\": 0.3333333333333333, \"interactionType\": 1, \"questionType\": 2, \"questionId\": \"3_MultiWordSearch\", \"learnToolsVersion\": \"0.3.4\", \"failureMessage\": \"\", \"exceptionClass\": \"\", \"trace\": \"\"}}, \"*\")"
      ],
      "text/plain": [
       "<IPython.core.display.Javascript object>"
      ]
     },
     "metadata": {},
     "output_type": "display_data"
    },
    {
     "data": {
      "text/markdown": [
       "<span style=\"color:#33cc33\">Correct</span>"
      ],
      "text/plain": [
       "Correct"
      ]
     },
     "metadata": {},
     "output_type": "display_data"
    }
   ],
   "source": [
    "def multi_word_search(doc_list, keywords):\n",
    "    \"\"\"\n",
    "    Takes list of documents (each document is a string) and a list of keywords.  \n",
    "    Returns a dictionary where each key is a keyword, and the value is a list of indices\n",
    "    (from doc_list) of the documents containing that keyword\n",
    "\n",
    "    >>> doc_list = [\"The Learn Python Challenge Casino.\", \"They bought a car and a casino\", \"Casinoville\"]\n",
    "    >>> keywords = ['casino', 'they']\n",
    "    >>> multi_word_search(doc_list, keywords)\n",
    "    {'casino': [0, 1], 'they': [1]}\n",
    "    \"\"\"\n",
    "    k = {}\n",
    "    for z in keywords:\n",
    "        k[z] = word_search(doc_list, z)\n",
    "    return k\n",
    "\n",
    "# Check your answer\n",
    "q3.check()"
   ]
  },
  {
   "cell_type": "code",
   "execution_count": 14,
   "id": "2c875313",
   "metadata": {
    "execution": {
     "iopub.execute_input": "2022-12-09T11:23:42.207648Z",
     "iopub.status.busy": "2022-12-09T11:23:42.206482Z",
     "iopub.status.idle": "2022-12-09T11:23:42.214617Z",
     "shell.execute_reply": "2022-12-09T11:23:42.213826Z"
    },
    "papermill": {
     "duration": 0.019779,
     "end_time": "2022-12-09T11:23:42.216592",
     "exception": false,
     "start_time": "2022-12-09T11:23:42.196813",
     "status": "completed"
    },
    "tags": []
   },
   "outputs": [
    {
     "data": {
      "application/javascript": [
       "parent.postMessage({\"jupyterEvent\": \"custom.exercise_interaction\", \"data\": {\"interactionType\": 3, \"questionType\": 2, \"questionId\": \"3_MultiWordSearch\", \"learnToolsVersion\": \"0.3.4\", \"valueTowardsCompletion\": 0.0, \"failureMessage\": \"\", \"exceptionClass\": \"\", \"trace\": \"\", \"outcomeType\": 4}}, \"*\")"
      ],
      "text/plain": [
       "<IPython.core.display.Javascript object>"
      ]
     },
     "metadata": {},
     "output_type": "display_data"
    },
    {
     "data": {
      "text/markdown": [
       "<span style=\"color:#33cc99\">Solution:</span> \n",
       "```python\n",
       "def multi_word_search(documents, keywords):\n",
       "    keyword_to_indices = {}\n",
       "    for keyword in keywords:\n",
       "        keyword_to_indices[keyword] = word_search(documents, keyword)\n",
       "    return keyword_to_indices\n",
       "```"
      ],
      "text/plain": [
       "Solution: \n",
       "```python\n",
       "def multi_word_search(documents, keywords):\n",
       "    keyword_to_indices = {}\n",
       "    for keyword in keywords:\n",
       "        keyword_to_indices[keyword] = word_search(documents, keyword)\n",
       "    return keyword_to_indices\n",
       "```"
      ]
     },
     "metadata": {},
     "output_type": "display_data"
    }
   ],
   "source": [
    "q3.solution()"
   ]
  },
  {
   "cell_type": "markdown",
   "id": "707a40fd",
   "metadata": {
    "papermill": {
     "duration": 0.008139,
     "end_time": "2022-12-09T11:23:42.233264",
     "exception": false,
     "start_time": "2022-12-09T11:23:42.225125",
     "status": "completed"
    },
    "tags": []
   },
   "source": [
    "---\n",
    "\n",
    "\n",
    "\n",
    "\n",
    "**Allen**"
   ]
  }
 ],
 "metadata": {
  "kernelspec": {
   "display_name": "Python 3",
   "language": "python",
   "name": "python3"
  },
  "language_info": {
   "codemirror_mode": {
    "name": "ipython",
    "version": 3
   },
   "file_extension": ".py",
   "mimetype": "text/x-python",
   "name": "python",
   "nbconvert_exporter": "python",
   "pygments_lexer": "ipython3",
   "version": "3.7.12"
  },
  "papermill": {
   "default_parameters": {},
   "duration": 10.881986,
   "end_time": "2022-12-09T11:23:42.863533",
   "environment_variables": {},
   "exception": null,
   "input_path": "__notebook__.ipynb",
   "output_path": "__notebook__.ipynb",
   "parameters": {},
   "start_time": "2022-12-09T11:23:31.981547",
   "version": "2.3.4"
  }
 },
 "nbformat": 4,
 "nbformat_minor": 5
}
