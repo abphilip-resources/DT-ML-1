{
 "cells": [
  {
   "cell_type": "markdown",
   "id": "8b38edcb",
   "metadata": {
    "papermill": {
     "duration": 0.005883,
     "end_time": "2022-11-10T07:33:41.235350",
     "exception": false,
     "start_time": "2022-11-10T07:33:41.229467",
     "status": "completed"
    },
    "tags": []
   },
   "source": [
    "**This notebook is an exercise in the [Python](https://www.kaggle.com/learn/python) course.  You can reference the tutorial at [this link](https://www.kaggle.com/colinmorris/functions-and-getting-help).**\n",
    "\n",
    "---\n"
   ]
  },
  {
   "cell_type": "markdown",
   "id": "20bfd6ff",
   "metadata": {
    "papermill": {
     "duration": 0.004496,
     "end_time": "2022-11-10T07:33:41.244970",
     "exception": false,
     "start_time": "2022-11-10T07:33:41.240474",
     "status": "completed"
    },
    "tags": []
   },
   "source": [
    "Functions are powerful. Try writing some yourself.\n",
    "\n",
    "As before, don't forget to run the setup code below before jumping into question 1."
   ]
  },
  {
   "cell_type": "code",
   "execution_count": 1,
   "id": "fef9de84",
   "metadata": {
    "_kg_hide-input": true,
    "_kg_hide-output": true,
    "execution": {
     "iopub.execute_input": "2022-11-10T07:33:41.257877Z",
     "iopub.status.busy": "2022-11-10T07:33:41.256398Z",
     "iopub.status.idle": "2022-11-10T07:33:41.314996Z",
     "shell.execute_reply": "2022-11-10T07:33:41.313799Z"
    },
    "papermill": {
     "duration": 0.06768,
     "end_time": "2022-11-10T07:33:41.317462",
     "exception": false,
     "start_time": "2022-11-10T07:33:41.249782",
     "status": "completed"
    },
    "tags": []
   },
   "outputs": [
    {
     "name": "stdout",
     "output_type": "stream",
     "text": [
      "Setup complete.\n"
     ]
    }
   ],
   "source": [
    "# SETUP. You don't need to worry for now about what this code does or how it works.\n",
    "from learntools.core import binder; binder.bind(globals())\n",
    "from learntools.python.ex2 import *\n",
    "print('Setup complete.')"
   ]
  },
  {
   "cell_type": "markdown",
   "id": "3c350a96",
   "metadata": {
    "papermill": {
     "duration": 0.004568,
     "end_time": "2022-11-10T07:33:41.327051",
     "exception": false,
     "start_time": "2022-11-10T07:33:41.322483",
     "status": "completed"
    },
    "tags": []
   },
   "source": [
    "# 1.\n",
    "\n",
    "Complete the body of the following function according to its docstring.\n",
    "\n",
    "HINT: Python has a built-in function `round`."
   ]
  },
  {
   "cell_type": "code",
   "execution_count": 2,
   "id": "55e23af5",
   "metadata": {
    "execution": {
     "iopub.execute_input": "2022-11-10T07:33:41.338655Z",
     "iopub.status.busy": "2022-11-10T07:33:41.337788Z",
     "iopub.status.idle": "2022-11-10T07:33:41.349571Z",
     "shell.execute_reply": "2022-11-10T07:33:41.348405Z"
    },
    "papermill": {
     "duration": 0.020558,
     "end_time": "2022-11-10T07:33:41.352338",
     "exception": false,
     "start_time": "2022-11-10T07:33:41.331780",
     "status": "completed"
    },
    "tags": []
   },
   "outputs": [
    {
     "data": {
      "application/javascript": [
       "parent.postMessage({\"jupyterEvent\": \"custom.exercise_interaction\", \"data\": {\"outcomeType\": 1, \"valueTowardsCompletion\": 0.16666666666666666, \"interactionType\": 1, \"questionType\": 2, \"questionId\": \"1_RoundFunctionProblem\", \"learnToolsVersion\": \"0.3.4\", \"failureMessage\": \"\", \"exceptionClass\": \"\", \"trace\": \"\"}}, \"*\")"
      ],
      "text/plain": [
       "<IPython.core.display.Javascript object>"
      ]
     },
     "metadata": {},
     "output_type": "display_data"
    },
    {
     "data": {
      "text/markdown": [
       "<span style=\"color:#33cc33\">Correct</span>"
      ],
      "text/plain": [
       "Correct"
      ]
     },
     "metadata": {},
     "output_type": "display_data"
    }
   ],
   "source": [
    "def round_to_two_places(num):\n",
    "    \"\"\"Return the given number rounded to two decimal places. \n",
    "    \n",
    "    >>> round_to_two_places(3.14159)\n",
    "    3.14\n",
    "    \"\"\"\n",
    "    # Replace this body with your own code.\n",
    "    # (\"pass\" is a keyword that does literally nothing. We used it as a placeholder\n",
    "    # because after we begin a code block, Python requires at least one line of code)\n",
    "    return round(num, 2)\n",
    "\n",
    "# Check your answer\n",
    "q1.check()"
   ]
  },
  {
   "cell_type": "code",
   "execution_count": 3,
   "id": "3073b2fa",
   "metadata": {
    "execution": {
     "iopub.execute_input": "2022-11-10T07:33:41.365334Z",
     "iopub.status.busy": "2022-11-10T07:33:41.364428Z",
     "iopub.status.idle": "2022-11-10T07:33:41.372728Z",
     "shell.execute_reply": "2022-11-10T07:33:41.371938Z"
    },
    "papermill": {
     "duration": 0.016979,
     "end_time": "2022-11-10T07:33:41.375003",
     "exception": false,
     "start_time": "2022-11-10T07:33:41.358024",
     "status": "completed"
    },
    "tags": []
   },
   "outputs": [
    {
     "data": {
      "application/javascript": [
       "parent.postMessage({\"jupyterEvent\": \"custom.exercise_interaction\", \"data\": {\"interactionType\": 3, \"questionType\": 2, \"questionId\": \"1_RoundFunctionProblem\", \"learnToolsVersion\": \"0.3.4\", \"valueTowardsCompletion\": 0.0, \"failureMessage\": \"\", \"exceptionClass\": \"\", \"trace\": \"\", \"outcomeType\": 4}}, \"*\")"
      ],
      "text/plain": [
       "<IPython.core.display.Javascript object>"
      ]
     },
     "metadata": {},
     "output_type": "display_data"
    },
    {
     "data": {
      "text/markdown": [
       "<span style=\"color:#33cc99\">Solution:</span> \n",
       "```python\n",
       "return round(num, 2)\n",
       "```"
      ],
      "text/plain": [
       "Solution: \n",
       "```python\n",
       "return round(num, 2)\n",
       "```"
      ]
     },
     "metadata": {},
     "output_type": "display_data"
    }
   ],
   "source": [
    "q1.solution()"
   ]
  },
  {
   "cell_type": "code",
   "execution_count": 4,
   "id": "05adbf79",
   "metadata": {
    "execution": {
     "iopub.execute_input": "2022-11-10T07:33:41.387620Z",
     "iopub.status.busy": "2022-11-10T07:33:41.387246Z",
     "iopub.status.idle": "2022-11-10T07:33:41.391860Z",
     "shell.execute_reply": "2022-11-10T07:33:41.390564Z"
    },
    "papermill": {
     "duration": 0.013772,
     "end_time": "2022-11-10T07:33:41.394209",
     "exception": false,
     "start_time": "2022-11-10T07:33:41.380437",
     "status": "completed"
    },
    "tags": []
   },
   "outputs": [],
   "source": [
    "# Uncomment the following for a hint\n",
    "#q1.hint()\n",
    "# Or uncomment the following to peek at the solution\n",
    "#q1.solution()"
   ]
  },
  {
   "cell_type": "markdown",
   "id": "39af8fb8",
   "metadata": {
    "papermill": {
     "duration": 0.005219,
     "end_time": "2022-11-10T07:33:41.404921",
     "exception": false,
     "start_time": "2022-11-10T07:33:41.399702",
     "status": "completed"
    },
    "tags": []
   },
   "source": [
    "# 2.\n",
    "The help for `round` says that `ndigits` (the second argument) may be negative.\n",
    "What do you think will happen when it is? Try some examples in the following cell."
   ]
  },
  {
   "cell_type": "code",
   "execution_count": 5,
   "id": "eb2010b0",
   "metadata": {
    "execution": {
     "iopub.execute_input": "2022-11-10T07:33:41.417852Z",
     "iopub.status.busy": "2022-11-10T07:33:41.416976Z",
     "iopub.status.idle": "2022-11-10T07:33:41.423134Z",
     "shell.execute_reply": "2022-11-10T07:33:41.421843Z"
    },
    "papermill": {
     "duration": 0.015089,
     "end_time": "2022-11-10T07:33:41.425376",
     "exception": false,
     "start_time": "2022-11-10T07:33:41.410287",
     "status": "completed"
    },
    "tags": []
   },
   "outputs": [
    {
     "name": "stdout",
     "output_type": "stream",
     "text": [
      "253000\n"
     ]
    }
   ],
   "source": [
    "print(round(252723, -3))"
   ]
  },
  {
   "cell_type": "markdown",
   "id": "46d06a33",
   "metadata": {
    "papermill": {
     "duration": 0.005251,
     "end_time": "2022-11-10T07:33:41.437511",
     "exception": false,
     "start_time": "2022-11-10T07:33:41.432260",
     "status": "completed"
    },
    "tags": []
   },
   "source": [
    "Can you think of a case where this would be useful?  Once you're ready, run the code cell below to see the answer and to receive credit for completing the problem."
   ]
  },
  {
   "cell_type": "code",
   "execution_count": 6,
   "id": "6a89c074",
   "metadata": {
    "execution": {
     "iopub.execute_input": "2022-11-10T07:33:41.450408Z",
     "iopub.status.busy": "2022-11-10T07:33:41.449819Z",
     "iopub.status.idle": "2022-11-10T07:33:41.456972Z",
     "shell.execute_reply": "2022-11-10T07:33:41.456138Z"
    },
    "papermill": {
     "duration": 0.016277,
     "end_time": "2022-11-10T07:33:41.459205",
     "exception": false,
     "start_time": "2022-11-10T07:33:41.442928",
     "status": "completed"
    },
    "tags": []
   },
   "outputs": [
    {
     "data": {
      "application/javascript": [
       "parent.postMessage({\"jupyterEvent\": \"custom.exercise_interaction\", \"data\": {\"interactionType\": 3, \"questionType\": 4, \"questionId\": \"2_RoundNdigitsProblem\", \"learnToolsVersion\": \"0.3.4\", \"valueTowardsCompletion\": 0.0, \"failureMessage\": \"\", \"exceptionClass\": \"\", \"trace\": \"\", \"outcomeType\": 4}}, \"*\")"
      ],
      "text/plain": [
       "<IPython.core.display.Javascript object>"
      ]
     },
     "metadata": {},
     "output_type": "display_data"
    },
    {
     "data": {
      "text/markdown": [
       "<span style=\"color:#33cc99\">Solution:</span> As you've seen, `ndigits=-1` rounds to the nearest 10, `ndigits=-2` rounds to the nearest 100 and so on. Where might this be useful? Suppose we're dealing with large numbers:\n",
       "\n",
       "> The area of Finland is 338,424 km²  \n",
       "> The area of Greenland is 2,166,086 km²\n",
       "\n",
       "We probably don't care whether it's really 338,424, or 338,425, or 338,177. All those digits of accuracy are just distracting. We can chop them off by calling `round()` with `ndigits=-3`:\n",
       "\n",
       "> The area of Finland is 338,000 km²  \n",
       "> The area of Greenland is 2,166,000 km²\n",
       "\n",
       "(We'll talk about how we would get the commas later when we talk about string formatting :))\n"
      ],
      "text/plain": [
       "Solution: As you've seen, `ndigits=-1` rounds to the nearest 10, `ndigits=-2` rounds to the nearest 100 and so on. Where might this be useful? Suppose we're dealing with large numbers:\n",
       "\n",
       "> The area of Finland is 338,424 km²  \n",
       "> The area of Greenland is 2,166,086 km²\n",
       "\n",
       "We probably don't care whether it's really 338,424, or 338,425, or 338,177. All those digits of accuracy are just distracting. We can chop them off by calling `round()` with `ndigits=-3`:\n",
       "\n",
       "> The area of Finland is 338,000 km²  \n",
       "> The area of Greenland is 2,166,000 km²\n",
       "\n",
       "(We'll talk about how we would get the commas later when we talk about string formatting :))"
      ]
     },
     "metadata": {},
     "output_type": "display_data"
    }
   ],
   "source": [
    "# Check your answer (Run this code cell to receive credit!)\n",
    "q2.solution()"
   ]
  },
  {
   "cell_type": "markdown",
   "id": "641d34ca",
   "metadata": {
    "papermill": {
     "duration": 0.005513,
     "end_time": "2022-11-10T07:33:41.470517",
     "exception": false,
     "start_time": "2022-11-10T07:33:41.465004",
     "status": "completed"
    },
    "tags": []
   },
   "source": [
    "# 3.\n",
    "\n",
    "In the previous exercise, the candy-sharing friends Alice, Bob and Carol tried to split candies evenly. For the sake of their friendship, any candies left over would be smashed. For example, if they collectively bring home 91 candies, they'll take 30 each and smash 1.\n",
    "\n",
    "Below is a simple function that will calculate the number of candies to smash for *any* number of total candies.\n",
    "\n",
    "Modify it so that it optionally takes a second argument representing the number of friends the candies are being split between. If no second argument is provided, it should assume 3 friends, as before.\n",
    "\n",
    "Update the docstring to reflect this new behaviour."
   ]
  },
  {
   "cell_type": "code",
   "execution_count": 7,
   "id": "fa42f4e4",
   "metadata": {
    "execution": {
     "iopub.execute_input": "2022-11-10T07:33:41.483583Z",
     "iopub.status.busy": "2022-11-10T07:33:41.483203Z",
     "iopub.status.idle": "2022-11-10T07:33:41.492668Z",
     "shell.execute_reply": "2022-11-10T07:33:41.491510Z"
    },
    "papermill": {
     "duration": 0.018606,
     "end_time": "2022-11-10T07:33:41.494831",
     "exception": false,
     "start_time": "2022-11-10T07:33:41.476225",
     "status": "completed"
    },
    "tags": []
   },
   "outputs": [
    {
     "data": {
      "application/javascript": [
       "parent.postMessage({\"jupyterEvent\": \"custom.exercise_interaction\", \"data\": {\"outcomeType\": 1, \"valueTowardsCompletion\": 0.16666666666666666, \"interactionType\": 1, \"questionType\": 2, \"questionId\": \"3_CandySmashingFunctionProblem\", \"learnToolsVersion\": \"0.3.4\", \"failureMessage\": \"\", \"exceptionClass\": \"\", \"trace\": \"\"}}, \"*\")"
      ],
      "text/plain": [
       "<IPython.core.display.Javascript object>"
      ]
     },
     "metadata": {},
     "output_type": "display_data"
    },
    {
     "data": {
      "text/markdown": [
       "<span style=\"color:#33cc33\">Correct</span>"
      ],
      "text/plain": [
       "Correct"
      ]
     },
     "metadata": {},
     "output_type": "display_data"
    }
   ],
   "source": [
    "def to_smash(total_candies, n=3):\n",
    "    \"\"\"Return the number of leftover candies that must be smashed after distributing\n",
    "    the given number of candies evenly between 3 friends.\n",
    "    \n",
    "    >>> to_smash(91)\n",
    "    1\n",
    "    \"\"\"\n",
    "    return total_candies % n\n",
    "\n",
    "# Check your answer\n",
    "q3.check()"
   ]
  },
  {
   "cell_type": "code",
   "execution_count": 8,
   "id": "0cd04d86",
   "metadata": {
    "execution": {
     "iopub.execute_input": "2022-11-10T07:33:41.508421Z",
     "iopub.status.busy": "2022-11-10T07:33:41.507792Z",
     "iopub.status.idle": "2022-11-10T07:33:41.516778Z",
     "shell.execute_reply": "2022-11-10T07:33:41.515654Z"
    },
    "papermill": {
     "duration": 0.018229,
     "end_time": "2022-11-10T07:33:41.518900",
     "exception": false,
     "start_time": "2022-11-10T07:33:41.500671",
     "status": "completed"
    },
    "tags": []
   },
   "outputs": [
    {
     "data": {
      "application/javascript": [
       "parent.postMessage({\"jupyterEvent\": \"custom.exercise_interaction\", \"data\": {\"interactionType\": 3, \"questionType\": 2, \"questionId\": \"3_CandySmashingFunctionProblem\", \"learnToolsVersion\": \"0.3.4\", \"valueTowardsCompletion\": 0.0, \"failureMessage\": \"\", \"exceptionClass\": \"\", \"trace\": \"\", \"outcomeType\": 4}}, \"*\")"
      ],
      "text/plain": [
       "<IPython.core.display.Javascript object>"
      ]
     },
     "metadata": {},
     "output_type": "display_data"
    },
    {
     "data": {
      "text/markdown": [
       "<span style=\"color:#33cc99\">Solution:</span> \n",
       "```python\n",
       "def to_smash(total_candies, n_friends=3):\n",
       "    return total_candies % n_friends\n",
       "```"
      ],
      "text/plain": [
       "Solution: \n",
       "```python\n",
       "def to_smash(total_candies, n_friends=3):\n",
       "    return total_candies % n_friends\n",
       "```"
      ]
     },
     "metadata": {},
     "output_type": "display_data"
    }
   ],
   "source": [
    "q3.solution()"
   ]
  },
  {
   "cell_type": "code",
   "execution_count": 9,
   "id": "42fc5da0",
   "metadata": {
    "execution": {
     "iopub.execute_input": "2022-11-10T07:33:41.533191Z",
     "iopub.status.busy": "2022-11-10T07:33:41.532531Z",
     "iopub.status.idle": "2022-11-10T07:33:41.536945Z",
     "shell.execute_reply": "2022-11-10T07:33:41.536054Z"
    },
    "papermill": {
     "duration": 0.014071,
     "end_time": "2022-11-10T07:33:41.539103",
     "exception": false,
     "start_time": "2022-11-10T07:33:41.525032",
     "status": "completed"
    },
    "tags": []
   },
   "outputs": [],
   "source": [
    "#q3.hint()\n",
    "#q3.solution()"
   ]
  },
  {
   "cell_type": "markdown",
   "id": "d426dd50",
   "metadata": {
    "papermill": {
     "duration": 0.005716,
     "end_time": "2022-11-10T07:33:41.550989",
     "exception": false,
     "start_time": "2022-11-10T07:33:41.545273",
     "status": "completed"
    },
    "tags": []
   },
   "source": [
    "# 4. (Optional)\n",
    "\n",
    "It may not be fun, but reading and understanding error messages will be an important part of your Python career.\n",
    "\n",
    "Each code cell below contains some commented buggy code. For each cell...\n",
    "\n",
    "1. Read the code and predict what you think will happen when it's run.\n",
    "2. Then uncomment the code and run it to see what happens. (**Tip**: In the kernel editor, you can highlight several lines and press `ctrl`+`/` to toggle commenting.)\n",
    "3. Fix the code (so that it accomplishes its intended purpose without throwing an exception)\n",
    "\n",
    "<!-- TODO: should this be autochecked? Delta is probably pretty small. -->"
   ]
  },
  {
   "cell_type": "code",
   "execution_count": 10,
   "id": "82ad82e6",
   "metadata": {
    "execution": {
     "iopub.execute_input": "2022-11-10T07:33:41.565072Z",
     "iopub.status.busy": "2022-11-10T07:33:41.564402Z",
     "iopub.status.idle": "2022-11-10T07:33:41.571752Z",
     "shell.execute_reply": "2022-11-10T07:33:41.570489Z"
    },
    "papermill": {
     "duration": 0.01708,
     "end_time": "2022-11-10T07:33:41.574054",
     "exception": false,
     "start_time": "2022-11-10T07:33:41.556974",
     "status": "completed"
    },
    "tags": []
   },
   "outputs": [
    {
     "data": {
      "text/plain": [
       "10.0"
      ]
     },
     "execution_count": 10,
     "metadata": {},
     "output_type": "execute_result"
    }
   ],
   "source": [
    "round_to_two_places(9.9999)"
   ]
  },
  {
   "cell_type": "code",
   "execution_count": 11,
   "id": "c2451581",
   "metadata": {
    "execution": {
     "iopub.execute_input": "2022-11-10T07:33:41.588734Z",
     "iopub.status.busy": "2022-11-10T07:33:41.588325Z",
     "iopub.status.idle": "2022-11-10T07:33:41.593908Z",
     "shell.execute_reply": "2022-11-10T07:33:41.592674Z"
    },
    "papermill": {
     "duration": 0.016365,
     "end_time": "2022-11-10T07:33:41.596754",
     "exception": false,
     "start_time": "2022-11-10T07:33:41.580389",
     "status": "completed"
    },
    "tags": []
   },
   "outputs": [
    {
     "name": "stdout",
     "output_type": "stream",
     "text": [
      "5\n"
     ]
    }
   ],
   "source": [
    "x = -10\n",
    "y = 5\n",
    "# Which of the two variables above has the smallest absolute value?\n",
    "smallest_abs = min(abs(x), abs(y))\n",
    "print(smallest_abs)"
   ]
  },
  {
   "cell_type": "code",
   "execution_count": 12,
   "id": "74f42adf",
   "metadata": {
    "execution": {
     "iopub.execute_input": "2022-11-10T07:33:41.611646Z",
     "iopub.status.busy": "2022-11-10T07:33:41.610675Z",
     "iopub.status.idle": "2022-11-10T07:33:41.617910Z",
     "shell.execute_reply": "2022-11-10T07:33:41.616100Z"
    },
    "papermill": {
     "duration": 0.017924,
     "end_time": "2022-11-10T07:33:41.621038",
     "exception": false,
     "start_time": "2022-11-10T07:33:41.603114",
     "status": "completed"
    },
    "tags": []
   },
   "outputs": [
    {
     "name": "stdout",
     "output_type": "stream",
     "text": [
      "5\n"
     ]
    }
   ],
   "source": [
    "def f(x):\n",
    "    y = abs(x)\n",
    "    return y\n",
    "\n",
    "print(f(5))"
   ]
  },
  {
   "cell_type": "markdown",
   "id": "46ca5c9d",
   "metadata": {
    "papermill": {
     "duration": 0.006793,
     "end_time": "2022-11-10T07:33:41.635543",
     "exception": false,
     "start_time": "2022-11-10T07:33:41.628750",
     "status": "completed"
    },
    "tags": []
   },
   "source": [
    "---\n",
    "\n",
    "\n",
    "\n",
    "\n",
    "**Allen**"
   ]
  }
 ],
 "metadata": {
  "kernelspec": {
   "display_name": "Python 3",
   "language": "python",
   "name": "python3"
  },
  "language_info": {
   "codemirror_mode": {
    "name": "ipython",
    "version": 3
   },
   "file_extension": ".py",
   "mimetype": "text/x-python",
   "name": "python",
   "nbconvert_exporter": "python",
   "pygments_lexer": "ipython3",
   "version": "3.7.12"
  },
  "papermill": {
   "default_parameters": {},
   "duration": 9.720928,
   "end_time": "2022-11-10T07:33:42.364197",
   "environment_variables": {},
   "exception": null,
   "input_path": "__notebook__.ipynb",
   "output_path": "__notebook__.ipynb",
   "parameters": {},
   "start_time": "2022-11-10T07:33:32.643269",
   "version": "2.3.4"
  }
 },
 "nbformat": 4,
 "nbformat_minor": 5
}
