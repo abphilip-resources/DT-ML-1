{
 "cells": [
  {
   "cell_type": "markdown",
   "id": "5b0af058",
   "metadata": {
    "papermill": {
     "duration": 0.009664,
     "end_time": "2022-11-10T07:28:15.184704",
     "exception": false,
     "start_time": "2022-11-10T07:28:15.175040",
     "status": "completed"
    },
    "tags": []
   },
   "source": [
    "**This notebook is an exercise in the [Python](https://www.kaggle.com/learn/python) course.  You can reference the tutorial at [this link](https://www.kaggle.com/colinmorris/hello-python).**\n",
    "\n",
    "---\n"
   ]
  },
  {
   "cell_type": "markdown",
   "id": "729a5542",
   "metadata": {
    "papermill": {
     "duration": 0.008154,
     "end_time": "2022-11-10T07:28:15.203535",
     "exception": false,
     "start_time": "2022-11-10T07:28:15.195381",
     "status": "completed"
    },
    "tags": []
   },
   "source": [
    "Welcome to your first set of Python coding problems.  If this is your first time using Kaggle Notebooks, welcome! \n",
    "\n",
    "Notebooks are composed of blocks (called \"cells\") of text and code. Each of these is editable, though you'll mainly be editing the code cells to answer some questions.\n",
    "\n",
    "To get started, try running the code cell below (by pressing the ► button, or clicking on the cell and pressing ctrl+enter on your keyboard)."
   ]
  },
  {
   "cell_type": "code",
   "execution_count": 1,
   "id": "478a36f5",
   "metadata": {
    "execution": {
     "iopub.execute_input": "2022-11-10T07:28:15.220776Z",
     "iopub.status.busy": "2022-11-10T07:28:15.220001Z",
     "iopub.status.idle": "2022-11-10T07:28:15.231051Z",
     "shell.execute_reply": "2022-11-10T07:28:15.229897Z"
    },
    "papermill": {
     "duration": 0.022836,
     "end_time": "2022-11-10T07:28:15.233740",
     "exception": false,
     "start_time": "2022-11-10T07:28:15.210904",
     "status": "completed"
    },
    "tags": []
   },
   "outputs": [
    {
     "name": "stdout",
     "output_type": "stream",
     "text": [
      "You've successfully run some Python code\n",
      "Congratulations!\n"
     ]
    }
   ],
   "source": [
    "print(\"You've successfully run some Python code\")\n",
    "print(\"Congratulations!\")"
   ]
  },
  {
   "cell_type": "markdown",
   "id": "f15da525",
   "metadata": {
    "papermill": {
     "duration": 0.010162,
     "end_time": "2022-11-10T07:28:15.251401",
     "exception": false,
     "start_time": "2022-11-10T07:28:15.241239",
     "status": "completed"
    },
    "tags": []
   },
   "source": [
    "Try adding another line of code in the cell above and re-running it. \n",
    "\n",
    "Now let's get a little fancier:  Add a new code cell by clicking on an existing code cell, hitting the escape key, and then hitting the `a` or `b` key.  The `a` key will add a cell above the current cell, and `b` adds a cell below.\n",
    "\n",
    "Great! Now you know how to use Notebooks.\n",
    "\n",
    "Each hands-on exercise starts by setting up our feedback and code checking mechanism. Run the code cell below to do that. Then you'll be ready to move on to question 0."
   ]
  },
  {
   "cell_type": "code",
   "execution_count": 2,
   "id": "7d9849f9",
   "metadata": {
    "_kg_hide-input": true,
    "_kg_hide-output": true,
    "execution": {
     "iopub.execute_input": "2022-11-10T07:28:15.273695Z",
     "iopub.status.busy": "2022-11-10T07:28:15.273071Z",
     "iopub.status.idle": "2022-11-10T07:28:15.342433Z",
     "shell.execute_reply": "2022-11-10T07:28:15.341117Z"
    },
    "papermill": {
     "duration": 0.084751,
     "end_time": "2022-11-10T07:28:15.345296",
     "exception": false,
     "start_time": "2022-11-10T07:28:15.260545",
     "status": "completed"
    },
    "tags": []
   },
   "outputs": [
    {
     "name": "stdout",
     "output_type": "stream",
     "text": [
      "Setup complete! You're ready to start question 0.\n"
     ]
    }
   ],
   "source": [
    "from learntools.core import binder; binder.bind(globals())\n",
    "from learntools.python.ex1 import *\n",
    "print(\"Setup complete! You're ready to start question 0.\")"
   ]
  },
  {
   "cell_type": "markdown",
   "id": "d41ef5ee",
   "metadata": {
    "papermill": {
     "duration": 0.009143,
     "end_time": "2022-11-10T07:28:15.362199",
     "exception": false,
     "start_time": "2022-11-10T07:28:15.353056",
     "status": "completed"
    },
    "tags": []
   },
   "source": [
    "# 0.\n",
    "\n",
    "*This is a silly question intended as an introduction to the format we use for hands-on exercises throughout all Kaggle courses.*\n",
    "\n",
    "**What is your favorite color? **\n",
    "\n",
    "To complete this question, create a variable called `color` in the cell below with an appropriate value. The function call `q0.check()` (which we've already provided in the cell below) will check your answer."
   ]
  },
  {
   "cell_type": "code",
   "execution_count": 3,
   "id": "1f6eaab1",
   "metadata": {
    "execution": {
     "iopub.execute_input": "2022-11-10T07:28:15.382311Z",
     "iopub.status.busy": "2022-11-10T07:28:15.381151Z",
     "iopub.status.idle": "2022-11-10T07:28:15.392019Z",
     "shell.execute_reply": "2022-11-10T07:28:15.391198Z"
    },
    "papermill": {
     "duration": 0.021958,
     "end_time": "2022-11-10T07:28:15.394203",
     "exception": false,
     "start_time": "2022-11-10T07:28:15.372245",
     "status": "completed"
    },
    "tags": []
   },
   "outputs": [
    {
     "data": {
      "application/javascript": [
       "parent.postMessage({\"jupyterEvent\": \"custom.exercise_interaction\", \"data\": {\"outcomeType\": 1, \"valueTowardsCompletion\": 0.25, \"interactionType\": 1, \"questionType\": 2, \"questionId\": \"0_ExerciseFormatTutorial\", \"learnToolsVersion\": \"0.3.4\", \"failureMessage\": \"\", \"exceptionClass\": \"\", \"trace\": \"\"}}, \"*\")"
      ],
      "text/plain": [
       "<IPython.core.display.Javascript object>"
      ]
     },
     "metadata": {},
     "output_type": "display_data"
    },
    {
     "data": {
      "text/markdown": [
       "<span style=\"color:#33cc33\">Correct:</span> What?! You got it right without needing a hint or anything? Drats. Well hey, you should still continue to the next step to get some practice asking for a hint and checking solutions. (Even though you obviously don't need any help here.)"
      ],
      "text/plain": [
       "Correct: What?! You got it right without needing a hint or anything? Drats. Well hey, you should still continue to the next step to get some practice asking for a hint and checking solutions. (Even though you obviously don't need any help here.)"
      ]
     },
     "metadata": {},
     "output_type": "display_data"
    }
   ],
   "source": [
    "# create a variable called color with an appropriate value on the line below\n",
    "# (Remember, strings in Python must be enclosed in 'single' or \"double\" quotes)\n",
    "color = \"Blue\"\n",
    "\n",
    "# Check your answer\n",
    "q0.check()"
   ]
  },
  {
   "cell_type": "markdown",
   "id": "81ff7910",
   "metadata": {
    "papermill": {
     "duration": 0.007393,
     "end_time": "2022-11-10T07:28:15.409292",
     "exception": false,
     "start_time": "2022-11-10T07:28:15.401899",
     "status": "completed"
    },
    "tags": []
   },
   "source": [
    "Didn't get the right answer? How do you not even know your own favorite color?!\n",
    "\n",
    "Delete the `#` in the line below to make one of the lines run. You can choose between getting a hint or the full answer by choosing which line to remove the `#` from. \n",
    "\n",
    "Removing the `#` is called uncommenting, because it changes that line from a \"comment\" which Python doesn't run to code, which Python does run."
   ]
  },
  {
   "cell_type": "code",
   "execution_count": 4,
   "id": "7c9636e1",
   "metadata": {
    "execution": {
     "iopub.execute_input": "2022-11-10T07:28:15.432217Z",
     "iopub.status.busy": "2022-11-10T07:28:15.431282Z",
     "iopub.status.idle": "2022-11-10T07:28:15.440906Z",
     "shell.execute_reply": "2022-11-10T07:28:15.439870Z"
    },
    "papermill": {
     "duration": 0.029906,
     "end_time": "2022-11-10T07:28:15.447702",
     "exception": false,
     "start_time": "2022-11-10T07:28:15.417796",
     "status": "completed"
    },
    "tags": []
   },
   "outputs": [
    {
     "data": {
      "application/javascript": [
       "parent.postMessage({\"jupyterEvent\": \"custom.exercise_interaction\", \"data\": {\"interactionType\": 3, \"questionType\": 2, \"questionId\": \"0_ExerciseFormatTutorial\", \"learnToolsVersion\": \"0.3.4\", \"valueTowardsCompletion\": 0.0, \"failureMessage\": \"\", \"exceptionClass\": \"\", \"trace\": \"\", \"outcomeType\": 4}}, \"*\")"
      ],
      "text/plain": [
       "<IPython.core.display.Javascript object>"
      ]
     },
     "metadata": {},
     "output_type": "display_data"
    },
    {
     "data": {
      "text/markdown": [
       "<span style=\"color:#33cc99\">Solution:</span> \n",
       "```python\n",
       "color = \"blue\"\n",
       "```"
      ],
      "text/plain": [
       "Solution: \n",
       "```python\n",
       "color = \"blue\"\n",
       "```"
      ]
     },
     "metadata": {},
     "output_type": "display_data"
    }
   ],
   "source": [
    "q0.solution()"
   ]
  },
  {
   "cell_type": "code",
   "execution_count": 5,
   "id": "08d4f99c",
   "metadata": {
    "execution": {
     "iopub.execute_input": "2022-11-10T07:28:15.472211Z",
     "iopub.status.busy": "2022-11-10T07:28:15.471216Z",
     "iopub.status.idle": "2022-11-10T07:28:15.476316Z",
     "shell.execute_reply": "2022-11-10T07:28:15.475208Z"
    },
    "papermill": {
     "duration": 0.020456,
     "end_time": "2022-11-10T07:28:15.478892",
     "exception": false,
     "start_time": "2022-11-10T07:28:15.458436",
     "status": "completed"
    },
    "tags": []
   },
   "outputs": [],
   "source": [
    "#q0.hint()\n",
    "#q0.solution()"
   ]
  },
  {
   "cell_type": "markdown",
   "id": "09bc7cfd",
   "metadata": {
    "papermill": {
     "duration": 0.008135,
     "end_time": "2022-11-10T07:28:15.496187",
     "exception": false,
     "start_time": "2022-11-10T07:28:15.488052",
     "status": "completed"
    },
    "tags": []
   },
   "source": [
    "The upcoming questions work the same way. The only thing that will change are the question numbers. For the next question, you'll call `q1.check()`, `q1.hint()`, `q1.solution()`, for question 2, you'll call `q2.check()`, and so on."
   ]
  },
  {
   "cell_type": "markdown",
   "id": "fd9c0afc",
   "metadata": {
    "papermill": {
     "duration": 0.011372,
     "end_time": "2022-11-10T07:28:15.516718",
     "exception": false,
     "start_time": "2022-11-10T07:28:15.505346",
     "status": "completed"
    },
    "tags": []
   },
   "source": [
    "<hr/>\n",
    "\n",
    "# 1.\n",
    "\n",
    "Complete the code below. In case it's helpful, here is the table of available arithmetic operations:\n",
    "\n",
    "\n",
    "\n",
    "| Operator     | Name           | Description                                            |\n",
    "|--------------|----------------|--------------------------------------------------------|\n",
    "| ``a + b``    | Addition       | Sum of ``a`` and ``b``                                 |\n",
    "| ``a - b``    | Subtraction    | Difference of ``a`` and ``b``                          |\n",
    "| ``a * b``    | Multiplication | Product of ``a`` and ``b``                             |\n",
    "| ``a / b``    | True division  | Quotient of ``a`` and ``b``                            |\n",
    "| ``a // b``   | Floor division | Quotient of ``a`` and ``b``, removing fractional parts |\n",
    "| ``a % b``    | Modulus        | Integer remainder after division of ``a`` by ``b``     |\n",
    "| ``a ** b``   | Exponentiation | ``a`` raised to the power of ``b``                     |\n",
    "| ``-a``       | Negation       | The negative of ``a``                                  |\n",
    "\n",
    "<span style=\"display:none\"></span>\n"
   ]
  },
  {
   "cell_type": "code",
   "execution_count": 6,
   "id": "89a63fda",
   "metadata": {
    "execution": {
     "iopub.execute_input": "2022-11-10T07:28:15.534737Z",
     "iopub.status.busy": "2022-11-10T07:28:15.534303Z",
     "iopub.status.idle": "2022-11-10T07:28:15.543923Z",
     "shell.execute_reply": "2022-11-10T07:28:15.542838Z"
    },
    "papermill": {
     "duration": 0.021787,
     "end_time": "2022-11-10T07:28:15.546611",
     "exception": false,
     "start_time": "2022-11-10T07:28:15.524824",
     "status": "completed"
    },
    "tags": []
   },
   "outputs": [
    {
     "data": {
      "application/javascript": [
       "parent.postMessage({\"jupyterEvent\": \"custom.exercise_interaction\", \"data\": {\"outcomeType\": 1, \"valueTowardsCompletion\": 0.25, \"interactionType\": 1, \"questionType\": 1, \"questionId\": \"1_CircleArea\", \"learnToolsVersion\": \"0.3.4\", \"failureMessage\": \"\", \"exceptionClass\": \"\", \"trace\": \"\"}}, \"*\")"
      ],
      "text/plain": [
       "<IPython.core.display.Javascript object>"
      ]
     },
     "metadata": {},
     "output_type": "display_data"
    },
    {
     "data": {
      "text/markdown": [
       "<span style=\"color:#33cc33\">Correct</span>"
      ],
      "text/plain": [
       "Correct"
      ]
     },
     "metadata": {},
     "output_type": "display_data"
    }
   ],
   "source": [
    "pi = 3.14159 # approximate\n",
    "diameter = 3\n",
    "\n",
    "# Create a variable called 'radius' equal to half the diameter\n",
    "radius = diameter/2\n",
    "\n",
    "# Create a variable called 'area', using the formula for the area of a circle: pi times the radius squared\n",
    "area = pi * radius ** 2\n",
    "\n",
    "# Check your answer\n",
    "q1.check()"
   ]
  },
  {
   "cell_type": "code",
   "execution_count": 7,
   "id": "777cf439",
   "metadata": {
    "execution": {
     "iopub.execute_input": "2022-11-10T07:28:15.566875Z",
     "iopub.status.busy": "2022-11-10T07:28:15.565334Z",
     "iopub.status.idle": "2022-11-10T07:28:15.575225Z",
     "shell.execute_reply": "2022-11-10T07:28:15.574354Z"
    },
    "papermill": {
     "duration": 0.022369,
     "end_time": "2022-11-10T07:28:15.577379",
     "exception": false,
     "start_time": "2022-11-10T07:28:15.555010",
     "status": "completed"
    },
    "tags": []
   },
   "outputs": [
    {
     "data": {
      "application/javascript": [
       "parent.postMessage({\"jupyterEvent\": \"custom.exercise_interaction\", \"data\": {\"interactionType\": 3, \"questionType\": 1, \"questionId\": \"1_CircleArea\", \"learnToolsVersion\": \"0.3.4\", \"valueTowardsCompletion\": 0.0, \"failureMessage\": \"\", \"exceptionClass\": \"\", \"trace\": \"\", \"outcomeType\": 4}}, \"*\")"
      ],
      "text/plain": [
       "<IPython.core.display.Javascript object>"
      ]
     },
     "metadata": {},
     "output_type": "display_data"
    },
    {
     "data": {
      "text/markdown": [
       "<span style=\"color:#33cc99\">Solution:</span> \n",
       "```python\n",
       "radius = diameter / 2\n",
       "area = pi * radius ** 2\n",
       "```"
      ],
      "text/plain": [
       "Solution: \n",
       "```python\n",
       "radius = diameter / 2\n",
       "area = pi * radius ** 2\n",
       "```"
      ]
     },
     "metadata": {},
     "output_type": "display_data"
    }
   ],
   "source": [
    "q1.solution()"
   ]
  },
  {
   "cell_type": "code",
   "execution_count": 8,
   "id": "8aa0f3a0",
   "metadata": {
    "execution": {
     "iopub.execute_input": "2022-11-10T07:28:15.596878Z",
     "iopub.status.busy": "2022-11-10T07:28:15.595602Z",
     "iopub.status.idle": "2022-11-10T07:28:15.600827Z",
     "shell.execute_reply": "2022-11-10T07:28:15.599811Z"
    },
    "papermill": {
     "duration": 0.017129,
     "end_time": "2022-11-10T07:28:15.603037",
     "exception": false,
     "start_time": "2022-11-10T07:28:15.585908",
     "status": "completed"
    },
    "tags": []
   },
   "outputs": [],
   "source": [
    "# Uncomment and run the lines below if you need help.\n",
    "#q1.hint()\n",
    "#q1.solution()"
   ]
  },
  {
   "cell_type": "markdown",
   "id": "e67de81d",
   "metadata": {
    "papermill": {
     "duration": 0.008435,
     "end_time": "2022-11-10T07:28:15.620152",
     "exception": false,
     "start_time": "2022-11-10T07:28:15.611717",
     "status": "completed"
    },
    "tags": []
   },
   "source": [
    "<hr/>\n",
    "\n",
    "# 2.\n",
    "\n",
    "Add code to the following cell to swap variables `a` and `b` (so that `a` refers to the object previously referred to by `b` and vice versa)."
   ]
  },
  {
   "cell_type": "code",
   "execution_count": 9,
   "id": "efe2beff",
   "metadata": {
    "execution": {
     "iopub.execute_input": "2022-11-10T07:28:15.639266Z",
     "iopub.status.busy": "2022-11-10T07:28:15.638169Z",
     "iopub.status.idle": "2022-11-10T07:28:15.649561Z",
     "shell.execute_reply": "2022-11-10T07:28:15.648298Z"
    },
    "papermill": {
     "duration": 0.023479,
     "end_time": "2022-11-10T07:28:15.651994",
     "exception": false,
     "start_time": "2022-11-10T07:28:15.628515",
     "status": "completed"
    },
    "tags": []
   },
   "outputs": [
    {
     "data": {
      "application/javascript": [
       "parent.postMessage({\"jupyterEvent\": \"custom.exercise_interaction\", \"data\": {\"outcomeType\": 1, \"valueTowardsCompletion\": 0.25, \"interactionType\": 1, \"questionType\": 2, \"questionId\": \"2_VariableSwap\", \"learnToolsVersion\": \"0.3.4\", \"failureMessage\": \"\", \"exceptionClass\": \"\", \"trace\": \"\"}}, \"*\")"
      ],
      "text/plain": [
       "<IPython.core.display.Javascript object>"
      ]
     },
     "metadata": {},
     "output_type": "display_data"
    },
    {
     "data": {
      "text/markdown": [
       "<span style=\"color:#33cc33\">Correct:</span> \n",
       "\n",
       "The most straightforward solution is to use a third variable to temporarily store one of the old values. e.g.:\n",
       "\n",
       "    tmp = a\n",
       "    a = b\n",
       "    b = tmp\n",
       "\n",
       "If you've read lots of Python code, you might have seen the following trick to swap two variables in one line:\n",
       "\n",
       "    a, b = b, a\n",
       "\n",
       "We'll demystify this bit of Python magic later when we talk about *tuples*."
      ],
      "text/plain": [
       "Correct: \n",
       "\n",
       "The most straightforward solution is to use a third variable to temporarily store one of the old values. e.g.:\n",
       "\n",
       "    tmp = a\n",
       "    a = b\n",
       "    b = tmp\n",
       "\n",
       "If you've read lots of Python code, you might have seen the following trick to swap two variables in one line:\n",
       "\n",
       "    a, b = b, a\n",
       "\n",
       "We'll demystify this bit of Python magic later when we talk about *tuples*."
      ]
     },
     "metadata": {},
     "output_type": "display_data"
    }
   ],
   "source": [
    "########### Setup code - don't touch this part ######################\n",
    "# If you're curious, these are examples of lists. We'll talk about \n",
    "# them in depth a few lessons from now. For now, just know that they're\n",
    "# yet another type of Python object, like int or float.\n",
    "a = [1, 2, 3]\n",
    "b = [3, 2, 1]\n",
    "q2.store_original_ids()\n",
    "######################################################################\n",
    "\n",
    "# Your code goes here. Swap the values to which a and b refer.\n",
    "# If you get stuck, you can always uncomment one or both of the lines in\n",
    "# the next cell for a hint, or to peek at the solution.\n",
    "\n",
    "a, b = b, a\n",
    "\n",
    "######################################################################\n",
    "\n",
    "# Check your answer\n",
    "q2.check()"
   ]
  },
  {
   "cell_type": "code",
   "execution_count": 10,
   "id": "c4a5d577",
   "metadata": {
    "execution": {
     "iopub.execute_input": "2022-11-10T07:28:15.670918Z",
     "iopub.status.busy": "2022-11-10T07:28:15.670530Z",
     "iopub.status.idle": "2022-11-10T07:28:15.679078Z",
     "shell.execute_reply": "2022-11-10T07:28:15.677953Z"
    },
    "papermill": {
     "duration": 0.020659,
     "end_time": "2022-11-10T07:28:15.681428",
     "exception": false,
     "start_time": "2022-11-10T07:28:15.660769",
     "status": "completed"
    },
    "tags": []
   },
   "outputs": [
    {
     "data": {
      "application/javascript": [
       "parent.postMessage({\"jupyterEvent\": \"custom.exercise_interaction\", \"data\": {\"interactionType\": 3, \"questionType\": 2, \"questionId\": \"2_VariableSwap\", \"learnToolsVersion\": \"0.3.4\", \"valueTowardsCompletion\": 0.0, \"failureMessage\": \"\", \"exceptionClass\": \"\", \"trace\": \"\", \"outcomeType\": 4}}, \"*\")"
      ],
      "text/plain": [
       "<IPython.core.display.Javascript object>"
      ]
     },
     "metadata": {},
     "output_type": "display_data"
    },
    {
     "data": {
      "text/markdown": [
       "<span style=\"color:#33cc99\">Solution:</span> The most straightforward solution is to use a third variable to temporarily store one of the old values. e.g.:\n",
       "\n",
       "    tmp = a\n",
       "    a = b\n",
       "    b = tmp\n",
       "\n",
       "If you've read lots of Python code, you might have seen the following trick to swap two variables in one line:\n",
       "\n",
       "    a, b = b, a\n",
       "\n",
       "We'll demystify this bit of Python magic later when we talk about *tuples*."
      ],
      "text/plain": [
       "Solution: The most straightforward solution is to use a third variable to temporarily store one of the old values. e.g.:\n",
       "\n",
       "    tmp = a\n",
       "    a = b\n",
       "    b = tmp\n",
       "\n",
       "If you've read lots of Python code, you might have seen the following trick to swap two variables in one line:\n",
       "\n",
       "    a, b = b, a\n",
       "\n",
       "We'll demystify this bit of Python magic later when we talk about *tuples*."
      ]
     },
     "metadata": {},
     "output_type": "display_data"
    }
   ],
   "source": [
    "q2.solution()"
   ]
  },
  {
   "cell_type": "code",
   "execution_count": 11,
   "id": "3cdfed2f",
   "metadata": {
    "execution": {
     "iopub.execute_input": "2022-11-10T07:28:15.701022Z",
     "iopub.status.busy": "2022-11-10T07:28:15.700599Z",
     "iopub.status.idle": "2022-11-10T07:28:15.705615Z",
     "shell.execute_reply": "2022-11-10T07:28:15.704317Z"
    },
    "papermill": {
     "duration": 0.017532,
     "end_time": "2022-11-10T07:28:15.707884",
     "exception": false,
     "start_time": "2022-11-10T07:28:15.690352",
     "status": "completed"
    },
    "tags": []
   },
   "outputs": [],
   "source": [
    "#q2.hint()\n",
    "#q2.solution()"
   ]
  },
  {
   "cell_type": "markdown",
   "id": "ffd73308",
   "metadata": {
    "papermill": {
     "duration": 0.008658,
     "end_time": "2022-11-10T07:28:15.725384",
     "exception": false,
     "start_time": "2022-11-10T07:28:15.716726",
     "status": "completed"
    },
    "tags": []
   },
   "source": [
    "<hr/>\n",
    "\n",
    "# 3a.\n",
    "\n",
    "Add parentheses to the following expression so that it evaluates to 1."
   ]
  },
  {
   "cell_type": "code",
   "execution_count": 12,
   "id": "76fa7d82",
   "metadata": {
    "execution": {
     "iopub.execute_input": "2022-11-10T07:28:15.745161Z",
     "iopub.status.busy": "2022-11-10T07:28:15.744689Z",
     "iopub.status.idle": "2022-11-10T07:28:15.752124Z",
     "shell.execute_reply": "2022-11-10T07:28:15.750998Z"
    },
    "papermill": {
     "duration": 0.020054,
     "end_time": "2022-11-10T07:28:15.754361",
     "exception": false,
     "start_time": "2022-11-10T07:28:15.734307",
     "status": "completed"
    },
    "tags": []
   },
   "outputs": [
    {
     "data": {
      "text/plain": [
       "1"
      ]
     },
     "execution_count": 12,
     "metadata": {},
     "output_type": "execute_result"
    }
   ],
   "source": [
    "(5 - 3) // 2"
   ]
  },
  {
   "cell_type": "code",
   "execution_count": 13,
   "id": "3e04b8ac",
   "metadata": {
    "execution": {
     "iopub.execute_input": "2022-11-10T07:28:15.775160Z",
     "iopub.status.busy": "2022-11-10T07:28:15.774725Z",
     "iopub.status.idle": "2022-11-10T07:28:15.779668Z",
     "shell.execute_reply": "2022-11-10T07:28:15.778531Z"
    },
    "papermill": {
     "duration": 0.017833,
     "end_time": "2022-11-10T07:28:15.782144",
     "exception": false,
     "start_time": "2022-11-10T07:28:15.764311",
     "status": "completed"
    },
    "tags": []
   },
   "outputs": [],
   "source": [
    "#q3.a.hint()"
   ]
  },
  {
   "cell_type": "code",
   "execution_count": 14,
   "id": "c8632664",
   "metadata": {
    "execution": {
     "iopub.execute_input": "2022-11-10T07:28:15.803350Z",
     "iopub.status.busy": "2022-11-10T07:28:15.802933Z",
     "iopub.status.idle": "2022-11-10T07:28:15.810863Z",
     "shell.execute_reply": "2022-11-10T07:28:15.809849Z"
    },
    "papermill": {
     "duration": 0.021117,
     "end_time": "2022-11-10T07:28:15.813115",
     "exception": false,
     "start_time": "2022-11-10T07:28:15.791998",
     "status": "completed"
    },
    "tags": []
   },
   "outputs": [
    {
     "data": {
      "application/javascript": [
       "parent.postMessage({\"jupyterEvent\": \"custom.exercise_interaction\", \"data\": {\"interactionType\": 3, \"questionType\": 4, \"questionId\": \"3.1_ArithmeticParensEasy\", \"learnToolsVersion\": \"0.3.4\", \"valueTowardsCompletion\": 0.0, \"failureMessage\": \"\", \"exceptionClass\": \"\", \"trace\": \"\", \"outcomeType\": 4}}, \"*\")"
      ],
      "text/plain": [
       "<IPython.core.display.Javascript object>"
      ]
     },
     "metadata": {},
     "output_type": "display_data"
    },
    {
     "data": {
      "text/markdown": [
       "<span style=\"color:#33cc99\">Solution:</span> \n",
       "```python\n",
       "(5 - 3) // 2\n",
       "```"
      ],
      "text/plain": [
       "Solution: \n",
       "```python\n",
       "(5 - 3) // 2\n",
       "```"
      ]
     },
     "metadata": {},
     "output_type": "display_data"
    }
   ],
   "source": [
    "# Check your answer (Run this code cell to receive credit!)\n",
    "q3.a.solution()"
   ]
  },
  {
   "cell_type": "markdown",
   "id": "f81f0b4f",
   "metadata": {
    "papermill": {
     "duration": 0.008891,
     "end_time": "2022-11-10T07:28:15.831223",
     "exception": false,
     "start_time": "2022-11-10T07:28:15.822332",
     "status": "completed"
    },
    "tags": []
   },
   "source": [
    "# 3b.  <span title=\"A bit spicy\" style=\"color: darkgreen \">🌶️</span>\n",
    "\n",
    "<small>Questions, like this one, marked a spicy pepper are a bit harder.</small>\n",
    "\n",
    "Add parentheses to the following expression so that it evaluates to 0."
   ]
  },
  {
   "cell_type": "code",
   "execution_count": 15,
   "id": "b0877313",
   "metadata": {
    "execution": {
     "iopub.execute_input": "2022-11-10T07:28:15.851301Z",
     "iopub.status.busy": "2022-11-10T07:28:15.850835Z",
     "iopub.status.idle": "2022-11-10T07:28:15.859048Z",
     "shell.execute_reply": "2022-11-10T07:28:15.857895Z"
    },
    "papermill": {
     "duration": 0.020996,
     "end_time": "2022-11-10T07:28:15.861347",
     "exception": false,
     "start_time": "2022-11-10T07:28:15.840351",
     "status": "completed"
    },
    "tags": []
   },
   "outputs": [
    {
     "data": {
      "text/plain": [
       "0"
      ]
     },
     "execution_count": 15,
     "metadata": {},
     "output_type": "execute_result"
    }
   ],
   "source": [
    "8 - (3 * 2) - (1 + 1)"
   ]
  },
  {
   "cell_type": "code",
   "execution_count": 16,
   "id": "c0edc890",
   "metadata": {
    "execution": {
     "iopub.execute_input": "2022-11-10T07:28:15.882017Z",
     "iopub.status.busy": "2022-11-10T07:28:15.881583Z",
     "iopub.status.idle": "2022-11-10T07:28:15.886703Z",
     "shell.execute_reply": "2022-11-10T07:28:15.885536Z"
    },
    "papermill": {
     "duration": 0.018149,
     "end_time": "2022-11-10T07:28:15.888943",
     "exception": false,
     "start_time": "2022-11-10T07:28:15.870794",
     "status": "completed"
    },
    "tags": []
   },
   "outputs": [],
   "source": [
    "#q3.b.hint()"
   ]
  },
  {
   "cell_type": "code",
   "execution_count": 17,
   "id": "0659518a",
   "metadata": {
    "execution": {
     "iopub.execute_input": "2022-11-10T07:28:15.909301Z",
     "iopub.status.busy": "2022-11-10T07:28:15.908903Z",
     "iopub.status.idle": "2022-11-10T07:28:15.917556Z",
     "shell.execute_reply": "2022-11-10T07:28:15.916383Z"
    },
    "papermill": {
     "duration": 0.021569,
     "end_time": "2022-11-10T07:28:15.919823",
     "exception": false,
     "start_time": "2022-11-10T07:28:15.898254",
     "status": "completed"
    },
    "tags": []
   },
   "outputs": [
    {
     "data": {
      "application/javascript": [
       "parent.postMessage({\"jupyterEvent\": \"custom.exercise_interaction\", \"data\": {\"interactionType\": 3, \"questionType\": 4, \"questionId\": \"3.2_ArithmeticParensHard\", \"learnToolsVersion\": \"0.3.4\", \"valueTowardsCompletion\": 0.0, \"failureMessage\": \"\", \"exceptionClass\": \"\", \"trace\": \"\", \"outcomeType\": 4}}, \"*\")"
      ],
      "text/plain": [
       "<IPython.core.display.Javascript object>"
      ]
     },
     "metadata": {},
     "output_type": "display_data"
    },
    {
     "data": {
      "text/markdown": [
       "<span style=\"color:#33cc99\">Solution:</span> `(8 - 3) * (2 - (1 + 1))` is one solution. There may be others."
      ],
      "text/plain": [
       "Solution: `(8 - 3) * (2 - (1 + 1))` is one solution. There may be others."
      ]
     },
     "metadata": {},
     "output_type": "display_data"
    }
   ],
   "source": [
    "# Check your answer (Run this code cell to receive credit!)\n",
    "q3.b.solution()"
   ]
  },
  {
   "cell_type": "markdown",
   "id": "1c4ca722",
   "metadata": {
    "papermill": {
     "duration": 0.009285,
     "end_time": "2022-11-10T07:28:15.938610",
     "exception": false,
     "start_time": "2022-11-10T07:28:15.929325",
     "status": "completed"
    },
    "tags": []
   },
   "source": [
    "<hr/>\n",
    "\n",
    "# 4. \n",
    "Alice, Bob and Carol have agreed to pool their Halloween candy and split it evenly among themselves.\n",
    "For the sake of their friendship, any candies left over will be smashed. For example, if they collectively\n",
    "bring home 91 candies, they'll take 30 each and smash 1.\n",
    "\n",
    "Write an arithmetic expression below to calculate how many candies they must smash for a given haul."
   ]
  },
  {
   "cell_type": "code",
   "execution_count": 18,
   "id": "49050c08",
   "metadata": {
    "execution": {
     "iopub.execute_input": "2022-11-10T07:28:15.959421Z",
     "iopub.status.busy": "2022-11-10T07:28:15.959029Z",
     "iopub.status.idle": "2022-11-10T07:28:15.968555Z",
     "shell.execute_reply": "2022-11-10T07:28:15.967365Z"
    },
    "papermill": {
     "duration": 0.02281,
     "end_time": "2022-11-10T07:28:15.970911",
     "exception": false,
     "start_time": "2022-11-10T07:28:15.948101",
     "status": "completed"
    },
    "tags": []
   },
   "outputs": [
    {
     "data": {
      "application/javascript": [
       "parent.postMessage({\"jupyterEvent\": \"custom.exercise_interaction\", \"data\": {\"outcomeType\": 1, \"valueTowardsCompletion\": 0.25, \"interactionType\": 1, \"questionType\": 1, \"questionId\": \"4_CandySplitting\", \"learnToolsVersion\": \"0.3.4\", \"failureMessage\": \"\", \"exceptionClass\": \"\", \"trace\": \"\"}}, \"*\")"
      ],
      "text/plain": [
       "<IPython.core.display.Javascript object>"
      ]
     },
     "metadata": {},
     "output_type": "display_data"
    },
    {
     "data": {
      "text/markdown": [
       "<span style=\"color:#33cc33\">Correct</span>"
      ],
      "text/plain": [
       "Correct"
      ]
     },
     "metadata": {},
     "output_type": "display_data"
    }
   ],
   "source": [
    "# Variables representing the number of candies collected by alice, bob, and carol\n",
    "alice_candies = 121\n",
    "bob_candies = 77\n",
    "carol_candies = 109\n",
    "\n",
    "# Your code goes here! Replace the right-hand side of this assignment with an expression\n",
    "# involving alice_candies, bob_candies, and carol_candies\n",
    "to_smash = (alice_candies+bob_candies+carol_candies) % 3\n",
    "\n",
    "# Check your answer\n",
    "q4.check()"
   ]
  },
  {
   "cell_type": "code",
   "execution_count": 19,
   "id": "3b318008",
   "metadata": {
    "execution": {
     "iopub.execute_input": "2022-11-10T07:28:15.992269Z",
     "iopub.status.busy": "2022-11-10T07:28:15.991889Z",
     "iopub.status.idle": "2022-11-10T07:28:16.000880Z",
     "shell.execute_reply": "2022-11-10T07:28:15.999620Z"
    },
    "papermill": {
     "duration": 0.022724,
     "end_time": "2022-11-10T07:28:16.003461",
     "exception": false,
     "start_time": "2022-11-10T07:28:15.980737",
     "status": "completed"
    },
    "tags": []
   },
   "outputs": [
    {
     "data": {
      "application/javascript": [
       "parent.postMessage({\"jupyterEvent\": \"custom.exercise_interaction\", \"data\": {\"interactionType\": 3, \"questionType\": 1, \"questionId\": \"4_CandySplitting\", \"learnToolsVersion\": \"0.3.4\", \"valueTowardsCompletion\": 0.0, \"failureMessage\": \"\", \"exceptionClass\": \"\", \"trace\": \"\", \"outcomeType\": 4}}, \"*\")"
      ],
      "text/plain": [
       "<IPython.core.display.Javascript object>"
      ]
     },
     "metadata": {},
     "output_type": "display_data"
    },
    {
     "data": {
      "text/markdown": [
       "<span style=\"color:#33cc99\">Solution:</span> \n",
       "```python\n",
       "(alice_candies + bob_candies + carol_candies) % 3\n",
       "```"
      ],
      "text/plain": [
       "Solution: \n",
       "```python\n",
       "(alice_candies + bob_candies + carol_candies) % 3\n",
       "```"
      ]
     },
     "metadata": {},
     "output_type": "display_data"
    }
   ],
   "source": [
    "q4.solution()"
   ]
  },
  {
   "cell_type": "code",
   "execution_count": 20,
   "id": "9b7769b1",
   "metadata": {
    "execution": {
     "iopub.execute_input": "2022-11-10T07:28:16.026030Z",
     "iopub.status.busy": "2022-11-10T07:28:16.025626Z",
     "iopub.status.idle": "2022-11-10T07:28:16.030524Z",
     "shell.execute_reply": "2022-11-10T07:28:16.029283Z"
    },
    "papermill": {
     "duration": 0.019036,
     "end_time": "2022-11-10T07:28:16.032804",
     "exception": false,
     "start_time": "2022-11-10T07:28:16.013768",
     "status": "completed"
    },
    "tags": []
   },
   "outputs": [],
   "source": [
    "#q4.hint()\n",
    "#q4.solution()"
   ]
  },
  {
   "cell_type": "markdown",
   "id": "61d93c27",
   "metadata": {
    "papermill": {
     "duration": 0.009783,
     "end_time": "2022-11-10T07:28:16.052810",
     "exception": false,
     "start_time": "2022-11-10T07:28:16.043027",
     "status": "completed"
    },
    "tags": []
   },
   "source": [
    "---\n",
    "\n",
    "\n",
    "\n",
    "\n",
    "**Allen**"
   ]
  }
 ],
 "metadata": {
  "kernelspec": {
   "display_name": "Python 3",
   "language": "python",
   "name": "python3"
  },
  "language_info": {
   "codemirror_mode": {
    "name": "ipython",
    "version": 3
   },
   "file_extension": ".py",
   "mimetype": "text/x-python",
   "name": "python",
   "nbconvert_exporter": "python",
   "pygments_lexer": "ipython3",
   "version": "3.7.12"
  },
  "papermill": {
   "default_parameters": {},
   "duration": 10.365368,
   "end_time": "2022-11-10T07:28:16.786329",
   "environment_variables": {},
   "exception": null,
   "input_path": "__notebook__.ipynb",
   "output_path": "__notebook__.ipynb",
   "parameters": {},
   "start_time": "2022-11-10T07:28:06.420961",
   "version": "2.3.4"
  }
 },
 "nbformat": 4,
 "nbformat_minor": 5
}
