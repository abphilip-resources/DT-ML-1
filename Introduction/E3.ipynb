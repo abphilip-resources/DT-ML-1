{
 "cells": [
  {
   "cell_type": "markdown",
   "id": "eff06740",
   "metadata": {
    "papermill": {
     "duration": 0.004239,
     "end_time": "2022-12-23T12:01:30.226261",
     "exception": false,
     "start_time": "2022-12-23T12:01:30.222022",
     "status": "completed"
    },
    "tags": []
   },
   "source": [
    "**This notebook is an exercise in the [Introduction to Machine Learning](https://www.kaggle.com/learn/intro-to-machine-learning) course.  You can reference the tutorial at [this link](https://www.kaggle.com/dansbecker/model-validation).**\n",
    "\n",
    "---\n"
   ]
  },
  {
   "cell_type": "markdown",
   "id": "c81e827b",
   "metadata": {
    "papermill": {
     "duration": 0.003467,
     "end_time": "2022-12-23T12:01:30.233509",
     "exception": false,
     "start_time": "2022-12-23T12:01:30.230042",
     "status": "completed"
    },
    "tags": []
   },
   "source": [
    "## Recap\n",
    "You've built a model. In this exercise you will test how good your model is.\n",
    "\n",
    "Run the cell below to set up your coding environment where the previous exercise left off."
   ]
  },
  {
   "cell_type": "code",
   "execution_count": 1,
   "id": "a128f2b5",
   "metadata": {
    "execution": {
     "iopub.execute_input": "2022-12-23T12:01:30.242614Z",
     "iopub.status.busy": "2022-12-23T12:01:30.241943Z",
     "iopub.status.idle": "2022-12-23T12:01:31.582883Z",
     "shell.execute_reply": "2022-12-23T12:01:31.581945Z"
    },
    "papermill": {
     "duration": 1.349166,
     "end_time": "2022-12-23T12:01:31.586156",
     "exception": false,
     "start_time": "2022-12-23T12:01:30.236990",
     "status": "completed"
    },
    "tags": []
   },
   "outputs": [
    {
     "name": "stdout",
     "output_type": "stream",
     "text": [
      "First in-sample predictions: [208500. 181500. 223500. 140000. 250000.]\n",
      "Actual target values for those homes: [208500, 181500, 223500, 140000, 250000]\n",
      "Setup Complete\n"
     ]
    }
   ],
   "source": [
    "# Code you have previously used to load data\n",
    "import pandas as pd\n",
    "from sklearn.tree import DecisionTreeRegressor\n",
    "\n",
    "# Path of the file to read\n",
    "iowa_file_path = '../input/home-data-for-ml-course/train.csv'\n",
    "\n",
    "home_data = pd.read_csv(iowa_file_path)\n",
    "y = home_data.SalePrice\n",
    "feature_columns = ['LotArea', 'YearBuilt', '1stFlrSF', '2ndFlrSF', 'FullBath', 'BedroomAbvGr', 'TotRmsAbvGrd']\n",
    "X = home_data[feature_columns]\n",
    "\n",
    "# Specify Model\n",
    "iowa_model = DecisionTreeRegressor()\n",
    "# Fit Model\n",
    "iowa_model.fit(X, y)\n",
    "\n",
    "print(\"First in-sample predictions:\", iowa_model.predict(X.head()))\n",
    "print(\"Actual target values for those homes:\", y.head().tolist())\n",
    "\n",
    "# Set up code checking\n",
    "from learntools.core import binder\n",
    "binder.bind(globals())\n",
    "from learntools.machine_learning.ex4 import *\n",
    "print(\"Setup Complete\")"
   ]
  },
  {
   "cell_type": "markdown",
   "id": "25f25c03",
   "metadata": {
    "papermill": {
     "duration": 0.003562,
     "end_time": "2022-12-23T12:01:31.596737",
     "exception": false,
     "start_time": "2022-12-23T12:01:31.593175",
     "status": "completed"
    },
    "tags": []
   },
   "source": [
    "# Exercises\n",
    "\n",
    "## Step 1: Split Your Data\n",
    "Use the `train_test_split` function to split up your data.\n",
    "\n",
    "Give it the argument `random_state=1` so the `check` functions know what to expect when verifying your code.\n",
    "\n",
    "Recall, your features are loaded in the DataFrame **X** and your target is loaded in **y**.\n"
   ]
  },
  {
   "cell_type": "code",
   "execution_count": 2,
   "id": "1805e2a8",
   "metadata": {
    "execution": {
     "iopub.execute_input": "2022-12-23T12:01:31.606115Z",
     "iopub.status.busy": "2022-12-23T12:01:31.605534Z",
     "iopub.status.idle": "2022-12-23T12:01:31.617167Z",
     "shell.execute_reply": "2022-12-23T12:01:31.616505Z"
    },
    "papermill": {
     "duration": 0.018749,
     "end_time": "2022-12-23T12:01:31.619156",
     "exception": false,
     "start_time": "2022-12-23T12:01:31.600407",
     "status": "completed"
    },
    "tags": []
   },
   "outputs": [
    {
     "data": {
      "application/javascript": [
       "parent.postMessage({\"jupyterEvent\": \"custom.exercise_interaction\", \"data\": {\"outcomeType\": 1, \"valueTowardsCompletion\": 0.25, \"interactionType\": 1, \"questionType\": 2, \"questionId\": \"1_SplitData\", \"learnToolsVersion\": \"0.3.4\", \"failureMessage\": \"\", \"exceptionClass\": \"\", \"trace\": \"\"}}, \"*\")"
      ],
      "text/plain": [
       "<IPython.core.display.Javascript object>"
      ]
     },
     "metadata": {},
     "output_type": "display_data"
    },
    {
     "data": {
      "text/markdown": [
       "<span style=\"color:#33cc33\">Correct</span>"
      ],
      "text/plain": [
       "Correct"
      ]
     },
     "metadata": {},
     "output_type": "display_data"
    }
   ],
   "source": [
    "# Import the train_test_split function and uncomment\n",
    "from sklearn.model_selection import train_test_split\n",
    "\n",
    "# fill in and uncomment\n",
    "train_X, val_X, train_y, val_y = train_test_split(X, y, random_state=1)\n",
    "\n",
    "# Check your answer\n",
    "step_1.check()"
   ]
  },
  {
   "cell_type": "code",
   "execution_count": 3,
   "id": "f27299e9",
   "metadata": {
    "execution": {
     "iopub.execute_input": "2022-12-23T12:01:31.629133Z",
     "iopub.status.busy": "2022-12-23T12:01:31.628505Z",
     "iopub.status.idle": "2022-12-23T12:01:31.631952Z",
     "shell.execute_reply": "2022-12-23T12:01:31.631288Z"
    },
    "papermill": {
     "duration": 0.010564,
     "end_time": "2022-12-23T12:01:31.633734",
     "exception": false,
     "start_time": "2022-12-23T12:01:31.623170",
     "status": "completed"
    },
    "tags": []
   },
   "outputs": [],
   "source": [
    "# The lines below will show you a hint or the solution.\n",
    "# step_1.hint() \n",
    "# step_1.solution()\n"
   ]
  },
  {
   "cell_type": "markdown",
   "id": "b4ac4efa",
   "metadata": {
    "papermill": {
     "duration": 0.003625,
     "end_time": "2022-12-23T12:01:31.641375",
     "exception": false,
     "start_time": "2022-12-23T12:01:31.637750",
     "status": "completed"
    },
    "tags": []
   },
   "source": [
    "## Step 2: Specify and Fit the Model\n",
    "\n",
    "Create a `DecisionTreeRegressor` model and fit it to the relevant data.\n",
    "Set `random_state` to 1 again when creating the model."
   ]
  },
  {
   "cell_type": "code",
   "execution_count": 4,
   "id": "4a6432f7",
   "metadata": {
    "execution": {
     "iopub.execute_input": "2022-12-23T12:01:31.651227Z",
     "iopub.status.busy": "2022-12-23T12:01:31.650593Z",
     "iopub.status.idle": "2022-12-23T12:01:31.674070Z",
     "shell.execute_reply": "2022-12-23T12:01:31.672733Z"
    },
    "papermill": {
     "duration": 0.031472,
     "end_time": "2022-12-23T12:01:31.676752",
     "exception": false,
     "start_time": "2022-12-23T12:01:31.645280",
     "status": "completed"
    },
    "tags": []
   },
   "outputs": [
    {
     "name": "stdout",
     "output_type": "stream",
     "text": [
      "[186500. 184000. 130000.  92000. 164500. 220000. 335000. 144152. 215000.\n",
      " 262000.]\n",
      "[186500. 184000. 130000.  92000. 164500. 220000. 335000. 144152. 215000.\n",
      " 262000.]\n"
     ]
    },
    {
     "data": {
      "application/javascript": [
       "parent.postMessage({\"jupyterEvent\": \"custom.exercise_interaction\", \"data\": {\"outcomeType\": 1, \"valueTowardsCompletion\": 0.25, \"interactionType\": 1, \"questionType\": 2, \"questionId\": \"2_FitModelWithTrain\", \"learnToolsVersion\": \"0.3.4\", \"failureMessage\": \"\", \"exceptionClass\": \"\", \"trace\": \"\"}}, \"*\")"
      ],
      "text/plain": [
       "<IPython.core.display.Javascript object>"
      ]
     },
     "metadata": {},
     "output_type": "display_data"
    },
    {
     "data": {
      "text/markdown": [
       "<span style=\"color:#33cc33\">Correct</span>"
      ],
      "text/plain": [
       "Correct"
      ]
     },
     "metadata": {},
     "output_type": "display_data"
    }
   ],
   "source": [
    "# You imported DecisionTreeRegressor in your last exercise\n",
    "# and that code has been copied to the setup code above. So, no need to\n",
    "# import it again\n",
    "\n",
    "# Specify the model\n",
    "iowa_model = DecisionTreeRegressor(random_state=1)\n",
    "\n",
    "# Fit iowa_model with the training data.\n",
    "iowa_model.fit(train_X, train_y)\n",
    "\n",
    "# Check your answer\n",
    "step_2.check()"
   ]
  },
  {
   "cell_type": "code",
   "execution_count": 5,
   "id": "067009d4",
   "metadata": {
    "execution": {
     "iopub.execute_input": "2022-12-23T12:01:31.687713Z",
     "iopub.status.busy": "2022-12-23T12:01:31.687036Z",
     "iopub.status.idle": "2022-12-23T12:01:31.690734Z",
     "shell.execute_reply": "2022-12-23T12:01:31.689984Z"
    },
    "papermill": {
     "duration": 0.011668,
     "end_time": "2022-12-23T12:01:31.692968",
     "exception": false,
     "start_time": "2022-12-23T12:01:31.681300",
     "status": "completed"
    },
    "tags": []
   },
   "outputs": [],
   "source": [
    "# step_2.hint()\n",
    "# step_2.solution()"
   ]
  },
  {
   "cell_type": "markdown",
   "id": "944c8919",
   "metadata": {
    "papermill": {
     "duration": 0.003793,
     "end_time": "2022-12-23T12:01:31.701186",
     "exception": false,
     "start_time": "2022-12-23T12:01:31.697393",
     "status": "completed"
    },
    "tags": []
   },
   "source": [
    "## Step 3: Make Predictions with Validation data\n"
   ]
  },
  {
   "cell_type": "code",
   "execution_count": 6,
   "id": "c9c1cc48",
   "metadata": {
    "execution": {
     "iopub.execute_input": "2022-12-23T12:01:31.711490Z",
     "iopub.status.busy": "2022-12-23T12:01:31.710788Z",
     "iopub.status.idle": "2022-12-23T12:01:31.721025Z",
     "shell.execute_reply": "2022-12-23T12:01:31.719716Z"
    },
    "papermill": {
     "duration": 0.018081,
     "end_time": "2022-12-23T12:01:31.723255",
     "exception": false,
     "start_time": "2022-12-23T12:01:31.705174",
     "status": "completed"
    },
    "tags": []
   },
   "outputs": [
    {
     "data": {
      "application/javascript": [
       "parent.postMessage({\"jupyterEvent\": \"custom.exercise_interaction\", \"data\": {\"outcomeType\": 1, \"valueTowardsCompletion\": 0.25, \"interactionType\": 1, \"questionType\": 2, \"questionId\": \"3_ValPreds\", \"learnToolsVersion\": \"0.3.4\", \"failureMessage\": \"\", \"exceptionClass\": \"\", \"trace\": \"\"}}, \"*\")"
      ],
      "text/plain": [
       "<IPython.core.display.Javascript object>"
      ]
     },
     "metadata": {},
     "output_type": "display_data"
    },
    {
     "data": {
      "text/markdown": [
       "<span style=\"color:#33cc33\">Correct</span>"
      ],
      "text/plain": [
       "Correct"
      ]
     },
     "metadata": {},
     "output_type": "display_data"
    }
   ],
   "source": [
    "# Predict with all validation observations\n",
    "val_predictions = iowa_model.predict(val_X)\n",
    "\n",
    "# Check your answer\n",
    "step_3.check()"
   ]
  },
  {
   "cell_type": "code",
   "execution_count": 7,
   "id": "03856624",
   "metadata": {
    "execution": {
     "iopub.execute_input": "2022-12-23T12:01:31.733879Z",
     "iopub.status.busy": "2022-12-23T12:01:31.733305Z",
     "iopub.status.idle": "2022-12-23T12:01:31.736765Z",
     "shell.execute_reply": "2022-12-23T12:01:31.736125Z"
    },
    "papermill": {
     "duration": 0.010702,
     "end_time": "2022-12-23T12:01:31.738512",
     "exception": false,
     "start_time": "2022-12-23T12:01:31.727810",
     "status": "completed"
    },
    "tags": []
   },
   "outputs": [],
   "source": [
    "# step_3.hint()\n",
    "# step_3.solution()"
   ]
  },
  {
   "cell_type": "markdown",
   "id": "8003c67c",
   "metadata": {
    "papermill": {
     "duration": 0.004062,
     "end_time": "2022-12-23T12:01:31.746940",
     "exception": false,
     "start_time": "2022-12-23T12:01:31.742878",
     "status": "completed"
    },
    "tags": []
   },
   "source": [
    "What do you notice that is different from what you saw with in-sample predictions (which are printed after the top code cell in this page).\n",
    "\n",
    "Do you remember why validation predictions differ from in-sample (or training) predictions? This is an important idea from the last lesson.\n",
    "\n",
    "## Step 4: Calculate the Mean Absolute Error in Validation Data\n"
   ]
  },
  {
   "cell_type": "code",
   "execution_count": 8,
   "id": "2af5eeef",
   "metadata": {
    "execution": {
     "iopub.execute_input": "2022-12-23T12:01:31.757366Z",
     "iopub.status.busy": "2022-12-23T12:01:31.756775Z",
     "iopub.status.idle": "2022-12-23T12:01:31.766880Z",
     "shell.execute_reply": "2022-12-23T12:01:31.765538Z"
    },
    "papermill": {
     "duration": 0.018198,
     "end_time": "2022-12-23T12:01:31.769324",
     "exception": false,
     "start_time": "2022-12-23T12:01:31.751126",
     "status": "completed"
    },
    "tags": []
   },
   "outputs": [
    {
     "name": "stdout",
     "output_type": "stream",
     "text": [
      "29652.931506849316\n"
     ]
    },
    {
     "data": {
      "application/javascript": [
       "parent.postMessage({\"jupyterEvent\": \"custom.exercise_interaction\", \"data\": {\"outcomeType\": 1, \"valueTowardsCompletion\": 0.25, \"interactionType\": 1, \"questionType\": 1, \"questionId\": \"4_MAE\", \"learnToolsVersion\": \"0.3.4\", \"failureMessage\": \"\", \"exceptionClass\": \"\", \"trace\": \"\"}}, \"*\")"
      ],
      "text/plain": [
       "<IPython.core.display.Javascript object>"
      ]
     },
     "metadata": {},
     "output_type": "display_data"
    },
    {
     "data": {
      "text/markdown": [
       "<span style=\"color:#33cc33\">Correct</span>"
      ],
      "text/plain": [
       "Correct"
      ]
     },
     "metadata": {},
     "output_type": "display_data"
    }
   ],
   "source": [
    "from sklearn.metrics import mean_absolute_error\n",
    "val_mae = mean_absolute_error(val_y, val_predictions)\n",
    "\n",
    "# uncomment following line to see the validation_mae\n",
    "print(val_mae)\n",
    "\n",
    "# Check your answer\n",
    "step_4.check()"
   ]
  },
  {
   "cell_type": "code",
   "execution_count": 9,
   "id": "61fd1bf9",
   "metadata": {
    "execution": {
     "iopub.execute_input": "2022-12-23T12:01:31.780308Z",
     "iopub.status.busy": "2022-12-23T12:01:31.779969Z",
     "iopub.status.idle": "2022-12-23T12:01:31.784933Z",
     "shell.execute_reply": "2022-12-23T12:01:31.783523Z"
    },
    "papermill": {
     "duration": 0.013478,
     "end_time": "2022-12-23T12:01:31.787649",
     "exception": false,
     "start_time": "2022-12-23T12:01:31.774171",
     "status": "completed"
    },
    "tags": []
   },
   "outputs": [],
   "source": [
    "# step_4.hint()\n",
    "# step_4.solution()"
   ]
  },
  {
   "cell_type": "markdown",
   "id": "bf6f3f3b",
   "metadata": {
    "papermill": {
     "duration": 0.004204,
     "end_time": "2022-12-23T12:01:31.797374",
     "exception": false,
     "start_time": "2022-12-23T12:01:31.793170",
     "status": "completed"
    },
    "tags": []
   },
   "source": [
    "---\n",
    "**Allen**"
   ]
  }
 ],
 "metadata": {
  "kernelspec": {
   "display_name": "Python 3",
   "language": "python",
   "name": "python3"
  },
  "language_info": {
   "codemirror_mode": {
    "name": "ipython",
    "version": 3
   },
   "file_extension": ".py",
   "mimetype": "text/x-python",
   "name": "python",
   "nbconvert_exporter": "python",
   "pygments_lexer": "ipython3",
   "version": "3.7.12"
  },
  "papermill": {
   "default_parameters": {},
   "duration": 10.267282,
   "end_time": "2022-12-23T12:01:32.523365",
   "environment_variables": {},
   "exception": null,
   "input_path": "__notebook__.ipynb",
   "output_path": "__notebook__.ipynb",
   "parameters": {},
   "start_time": "2022-12-23T12:01:22.256083",
   "version": "2.3.4"
  }
 },
 "nbformat": 4,
 "nbformat_minor": 5
}
