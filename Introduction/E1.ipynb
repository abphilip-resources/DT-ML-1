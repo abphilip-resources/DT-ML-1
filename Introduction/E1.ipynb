{
 "cells": [
  {
   "cell_type": "markdown",
   "id": "3f2c61f1",
   "metadata": {
    "papermill": {
     "duration": 0.005257,
     "end_time": "2022-12-22T03:03:40.327485",
     "exception": false,
     "start_time": "2022-12-22T03:03:40.322228",
     "status": "completed"
    },
    "tags": []
   },
   "source": [
    "**[Machine Learning Course Home Page](https://www.kaggle.com/learn/machine-learning)**\n",
    "\n",
    "---\n"
   ]
  },
  {
   "cell_type": "markdown",
   "id": "5c4c2053",
   "metadata": {
    "papermill": {
     "duration": 0.003629,
     "end_time": "2022-12-22T03:03:40.335397",
     "exception": false,
     "start_time": "2022-12-22T03:03:40.331768",
     "status": "completed"
    },
    "tags": []
   },
   "source": [
    "This exercise will test your ability to read a data file and understand statistics about the data.\n",
    "\n",
    "In later exercises, you will apply techniques to filter the data, build a machine learning model, and iteratively improve your model.\n",
    "\n",
    "The course examples use data from Melbourne. To ensure you can apply these techniques on your own, you will have to apply them to a new dataset (with house prices from Iowa).\n",
    "\n",
    "The exercises use a \"notebook\" coding environment.  In case you are unfamiliar with notebooks, we have a [90-second intro video](https://www.youtube.com/watch?v=4C2qMnaIKL4).\n",
    "\n",
    "# Exercises\n",
    "\n",
    "Run the following cell to set up code-checking, which will verify your work as you go."
   ]
  },
  {
   "cell_type": "code",
   "execution_count": 1,
   "id": "af4e5260",
   "metadata": {
    "execution": {
     "iopub.execute_input": "2022-12-22T03:03:40.347887Z",
     "iopub.status.busy": "2022-12-22T03:03:40.346813Z",
     "iopub.status.idle": "2022-12-22T03:03:40.414169Z",
     "shell.execute_reply": "2022-12-22T03:03:40.412688Z"
    },
    "papermill": {
     "duration": 0.077451,
     "end_time": "2022-12-22T03:03:40.418047",
     "exception": false,
     "start_time": "2022-12-22T03:03:40.340596",
     "status": "completed"
    },
    "tags": []
   },
   "outputs": [
    {
     "name": "stdout",
     "output_type": "stream",
     "text": [
      "Setup Complete\n"
     ]
    }
   ],
   "source": [
    "# Set up code checking\n",
    "from learntools.core import binder\n",
    "binder.bind(globals())\n",
    "from learntools.machine_learning.ex2 import *\n",
    "print(\"Setup Complete\")"
   ]
  },
  {
   "cell_type": "markdown",
   "id": "a20c9fea",
   "metadata": {
    "papermill": {
     "duration": 0.00361,
     "end_time": "2022-12-22T03:03:40.425793",
     "exception": false,
     "start_time": "2022-12-22T03:03:40.422183",
     "status": "completed"
    },
    "tags": []
   },
   "source": [
    "## Step 1: Loading Data\n",
    "Read the Iowa data file into a Pandas DataFrame called `home_data`."
   ]
  },
  {
   "cell_type": "code",
   "execution_count": 2,
   "id": "3ef2f451",
   "metadata": {
    "execution": {
     "iopub.execute_input": "2022-12-22T03:03:40.436363Z",
     "iopub.status.busy": "2022-12-22T03:03:40.434905Z",
     "iopub.status.idle": "2022-12-22T03:03:40.497230Z",
     "shell.execute_reply": "2022-12-22T03:03:40.495900Z"
    },
    "papermill": {
     "duration": 0.070215,
     "end_time": "2022-12-22T03:03:40.499742",
     "exception": false,
     "start_time": "2022-12-22T03:03:40.429527",
     "status": "completed"
    },
    "tags": []
   },
   "outputs": [
    {
     "data": {
      "application/javascript": [
       "parent.postMessage({\"jupyterEvent\": \"custom.exercise_interaction\", \"data\": {\"outcomeType\": 1, \"valueTowardsCompletion\": 0.5, \"interactionType\": 1, \"questionType\": 1, \"questionId\": \"1_LoadHomeData\", \"learnToolsVersion\": \"0.3.4\", \"failureMessage\": \"\", \"exceptionClass\": \"\", \"trace\": \"\"}}, \"*\")"
      ],
      "text/plain": [
       "<IPython.core.display.Javascript object>"
      ]
     },
     "metadata": {},
     "output_type": "display_data"
    },
    {
     "data": {
      "text/markdown": [
       "<span style=\"color:#33cc33\">Correct</span>"
      ],
      "text/plain": [
       "Correct"
      ]
     },
     "metadata": {},
     "output_type": "display_data"
    }
   ],
   "source": [
    "import pandas as pd\n",
    "\n",
    "# Path of the file to read\n",
    "iowa_file_path = '../input/home-data-for-ml-course/train.csv'\n",
    "\n",
    "# Fill in the line below to read the file into a variable home_data\n",
    "home_data = pd.read_csv(iowa_file_path)\n",
    "\n",
    "# Call line below with no argument to check that you've loaded the data correctly\n",
    "step_1.check()"
   ]
  },
  {
   "cell_type": "code",
   "execution_count": 3,
   "id": "625d5a54",
   "metadata": {
    "execution": {
     "iopub.execute_input": "2022-12-22T03:03:40.511073Z",
     "iopub.status.busy": "2022-12-22T03:03:40.510568Z",
     "iopub.status.idle": "2022-12-22T03:03:40.515659Z",
     "shell.execute_reply": "2022-12-22T03:03:40.514414Z"
    },
    "papermill": {
     "duration": 0.014376,
     "end_time": "2022-12-22T03:03:40.518421",
     "exception": false,
     "start_time": "2022-12-22T03:03:40.504045",
     "status": "completed"
    },
    "tags": []
   },
   "outputs": [],
   "source": [
    "# Lines below will give you a hint or solution code\n",
    "# step_1.hint()\n",
    "# step_1.solution()"
   ]
  },
  {
   "cell_type": "markdown",
   "id": "b73cec4f",
   "metadata": {
    "papermill": {
     "duration": 0.003542,
     "end_time": "2022-12-22T03:03:40.526099",
     "exception": false,
     "start_time": "2022-12-22T03:03:40.522557",
     "status": "completed"
    },
    "tags": []
   },
   "source": [
    "## Step 2: Review The Data\n",
    "Use the command you learned to view summary statistics of the data. Then fill in variables to answer the following questions"
   ]
  },
  {
   "cell_type": "code",
   "execution_count": 4,
   "id": "89f6655d",
   "metadata": {
    "execution": {
     "iopub.execute_input": "2022-12-22T03:03:40.536121Z",
     "iopub.status.busy": "2022-12-22T03:03:40.535407Z",
     "iopub.status.idle": "2022-12-22T03:03:40.549587Z",
     "shell.execute_reply": "2022-12-22T03:03:40.548357Z"
    },
    "papermill": {
     "duration": 0.022716,
     "end_time": "2022-12-22T03:03:40.552645",
     "exception": false,
     "start_time": "2022-12-22T03:03:40.529929",
     "status": "completed"
    },
    "tags": []
   },
   "outputs": [
    {
     "name": "stdout",
     "output_type": "stream",
     "text": [
      "Average Lot Size:  10516.828082191782\n",
      "Newest Home Age:  12\n"
     ]
    }
   ],
   "source": [
    "# Print summary statistics in next line\n",
    "print('Average Lot Size: ', home_data['LotArea'].mean())\n",
    "print('Newest Home Age: ', 2022-home_data['YrSold'].max())"
   ]
  },
  {
   "cell_type": "code",
   "execution_count": 5,
   "id": "77d60a45",
   "metadata": {
    "execution": {
     "iopub.execute_input": "2022-12-22T03:03:40.563109Z",
     "iopub.status.busy": "2022-12-22T03:03:40.562593Z",
     "iopub.status.idle": "2022-12-22T03:03:40.575075Z",
     "shell.execute_reply": "2022-12-22T03:03:40.573775Z"
    },
    "papermill": {
     "duration": 0.020767,
     "end_time": "2022-12-22T03:03:40.577621",
     "exception": false,
     "start_time": "2022-12-22T03:03:40.556854",
     "status": "completed"
    },
    "tags": []
   },
   "outputs": [
    {
     "data": {
      "application/javascript": [
       "parent.postMessage({\"jupyterEvent\": \"custom.exercise_interaction\", \"data\": {\"outcomeType\": 1, \"valueTowardsCompletion\": 0.5, \"interactionType\": 1, \"questionType\": 1, \"questionId\": \"2_HomeDescription\", \"learnToolsVersion\": \"0.3.4\", \"failureMessage\": \"\", \"exceptionClass\": \"\", \"trace\": \"\"}}, \"*\")"
      ],
      "text/plain": [
       "<IPython.core.display.Javascript object>"
      ]
     },
     "metadata": {},
     "output_type": "display_data"
    },
    {
     "data": {
      "text/markdown": [
       "<span style=\"color:#33cc33\">Correct</span>"
      ],
      "text/plain": [
       "Correct"
      ]
     },
     "metadata": {},
     "output_type": "display_data"
    }
   ],
   "source": [
    "# What is the average lot size (rounded to nearest integer)?\n",
    "avg_lot_size = round(home_data['LotArea'].mean())\n",
    "\n",
    "# As of today, how old is the newest home (current year - the date in which it was built)\n",
    "newest_home_age = 2022-home_data['YrSold'].max()\n",
    "\n",
    "# Checks your answers\n",
    "step_2.check()"
   ]
  },
  {
   "cell_type": "code",
   "execution_count": 6,
   "id": "665732aa",
   "metadata": {
    "execution": {
     "iopub.execute_input": "2022-12-22T03:03:40.588794Z",
     "iopub.status.busy": "2022-12-22T03:03:40.588277Z",
     "iopub.status.idle": "2022-12-22T03:03:40.599618Z",
     "shell.execute_reply": "2022-12-22T03:03:40.598198Z"
    },
    "papermill": {
     "duration": 0.0204,
     "end_time": "2022-12-22T03:03:40.602494",
     "exception": false,
     "start_time": "2022-12-22T03:03:40.582094",
     "status": "completed"
    },
    "tags": []
   },
   "outputs": [
    {
     "data": {
      "application/javascript": [
       "parent.postMessage({\"jupyterEvent\": \"custom.exercise_interaction\", \"data\": {\"interactionType\": 2, \"questionType\": 1, \"questionId\": \"2_HomeDescription\", \"learnToolsVersion\": \"0.3.4\", \"valueTowardsCompletion\": 0.0, \"failureMessage\": \"\", \"exceptionClass\": \"\", \"trace\": \"\", \"outcomeType\": 4}}, \"*\")"
      ],
      "text/plain": [
       "<IPython.core.display.Javascript object>"
      ]
     },
     "metadata": {},
     "output_type": "display_data"
    },
    {
     "data": {
      "text/markdown": [
       "<span style=\"color:#3366cc\">Hint:</span> Run the describe command. Lot size is in the column called LotArea. Also look at YearBuilt. Remember to round lot size "
      ],
      "text/plain": [
       "Hint: Run the describe command. Lot size is in the column called LotArea. Also look at YearBuilt. Remember to round lot size "
      ]
     },
     "metadata": {},
     "output_type": "display_data"
    }
   ],
   "source": [
    "step_2.hint()\n",
    "# step_2.solution()"
   ]
  },
  {
   "cell_type": "markdown",
   "id": "8bf505b0",
   "metadata": {
    "papermill": {
     "duration": 0.004291,
     "end_time": "2022-12-22T03:03:40.611713",
     "exception": false,
     "start_time": "2022-12-22T03:03:40.607422",
     "status": "completed"
    },
    "tags": []
   },
   "source": [
    "## Think About Your Data\n",
    "\n",
    "The newest house in your data isn't that new.  A few potential explanations for this:\n",
    "1. They haven't built new houses where this data was collected.\n",
    "1. The data was collected a long time ago. Houses built after the data publication wouldn't show up.\n",
    "\n",
    "If the reason is explanation #1 above, does that affect your trust in the model you build with this data? What about if it is reason #2?\n",
    "\n",
    "How could you dig into the data to see which explanation is more plausible?\n",
    "\n",
    "Check out this **[discussion thread](https://www.kaggle.com/learn-forum/60581)** to see what others think or to add your ideas."
   ]
  },
  {
   "cell_type": "markdown",
   "id": "f2457eaa",
   "metadata": {
    "papermill": {
     "duration": 0.004277,
     "end_time": "2022-12-22T03:03:40.620849",
     "exception": false,
     "start_time": "2022-12-22T03:03:40.616572",
     "status": "completed"
    },
    "tags": []
   },
   "source": [
    "---\n",
    "**Allen**\n",
    "\n"
   ]
  }
 ],
 "metadata": {
  "kernelspec": {
   "display_name": "Python 3",
   "language": "python",
   "name": "python3"
  },
  "language_info": {
   "codemirror_mode": {
    "name": "ipython",
    "version": 3
   },
   "file_extension": ".py",
   "mimetype": "text/x-python",
   "name": "python",
   "nbconvert_exporter": "python",
   "pygments_lexer": "ipython3",
   "version": "3.7.12"
  },
  "papermill": {
   "default_parameters": {},
   "duration": 12.310822,
   "end_time": "2022-12-22T03:03:41.652927",
   "environment_variables": {},
   "exception": null,
   "input_path": "__notebook__.ipynb",
   "output_path": "__notebook__.ipynb",
   "parameters": {},
   "start_time": "2022-12-22T03:03:29.342105",
   "version": "2.3.4"
  }
 },
 "nbformat": 4,
 "nbformat_minor": 5
}
