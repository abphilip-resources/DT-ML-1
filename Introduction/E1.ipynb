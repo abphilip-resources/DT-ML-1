{
 "cells": [
  {
   "cell_type": "markdown",
   "id": "5d11a9de",
   "metadata": {
    "papermill": {
     "duration": 0.006371,
     "end_time": "2022-12-22T03:05:16.587162",
     "exception": false,
     "start_time": "2022-12-22T03:05:16.580791",
     "status": "completed"
    },
    "tags": []
   },
   "source": [
    "**[Machine Learning Course Home Page](https://www.kaggle.com/learn/machine-learning)**\n",
    "\n",
    "---\n"
   ]
  },
  {
   "cell_type": "markdown",
   "id": "a0e15e67",
   "metadata": {
    "papermill": {
     "duration": 0.003996,
     "end_time": "2022-12-22T03:05:16.596287",
     "exception": false,
     "start_time": "2022-12-22T03:05:16.592291",
     "status": "completed"
    },
    "tags": []
   },
   "source": [
    "This exercise will test your ability to read a data file and understand statistics about the data.\n",
    "\n",
    "In later exercises, you will apply techniques to filter the data, build a machine learning model, and iteratively improve your model.\n",
    "\n",
    "The course examples use data from Melbourne. To ensure you can apply these techniques on your own, you will have to apply them to a new dataset (with house prices from Iowa).\n",
    "\n",
    "The exercises use a \"notebook\" coding environment.  In case you are unfamiliar with notebooks, we have a [90-second intro video](https://www.youtube.com/watch?v=4C2qMnaIKL4).\n",
    "\n",
    "# Exercises\n",
    "\n",
    "Run the following cell to set up code-checking, which will verify your work as you go."
   ]
  },
  {
   "cell_type": "code",
   "execution_count": 1,
   "id": "3a0ef463",
   "metadata": {
    "execution": {
     "iopub.execute_input": "2022-12-22T03:05:16.605962Z",
     "iopub.status.busy": "2022-12-22T03:05:16.605350Z",
     "iopub.status.idle": "2022-12-22T03:05:16.662658Z",
     "shell.execute_reply": "2022-12-22T03:05:16.661471Z"
    },
    "papermill": {
     "duration": 0.065863,
     "end_time": "2022-12-22T03:05:16.666098",
     "exception": false,
     "start_time": "2022-12-22T03:05:16.600235",
     "status": "completed"
    },
    "tags": []
   },
   "outputs": [
    {
     "name": "stdout",
     "output_type": "stream",
     "text": [
      "Setup Complete\n"
     ]
    }
   ],
   "source": [
    "# Set up code checking\n",
    "from learntools.core import binder\n",
    "binder.bind(globals())\n",
    "from learntools.machine_learning.ex2 import *\n",
    "print(\"Setup Complete\")"
   ]
  },
  {
   "cell_type": "markdown",
   "id": "39a4868d",
   "metadata": {
    "papermill": {
     "duration": 0.003508,
     "end_time": "2022-12-22T03:05:16.674137",
     "exception": false,
     "start_time": "2022-12-22T03:05:16.670629",
     "status": "completed"
    },
    "tags": []
   },
   "source": [
    "## Step 1: Loading Data\n",
    "Read the Iowa data file into a Pandas DataFrame called `home_data`."
   ]
  },
  {
   "cell_type": "code",
   "execution_count": 2,
   "id": "4d236e0f",
   "metadata": {
    "execution": {
     "iopub.execute_input": "2022-12-22T03:05:16.683384Z",
     "iopub.status.busy": "2022-12-22T03:05:16.682842Z",
     "iopub.status.idle": "2022-12-22T03:05:16.737393Z",
     "shell.execute_reply": "2022-12-22T03:05:16.736120Z"
    },
    "papermill": {
     "duration": 0.062443,
     "end_time": "2022-12-22T03:05:16.740132",
     "exception": false,
     "start_time": "2022-12-22T03:05:16.677689",
     "status": "completed"
    },
    "tags": []
   },
   "outputs": [
    {
     "data": {
      "application/javascript": [
       "parent.postMessage({\"jupyterEvent\": \"custom.exercise_interaction\", \"data\": {\"outcomeType\": 1, \"valueTowardsCompletion\": 0.5, \"interactionType\": 1, \"questionType\": 1, \"questionId\": \"1_LoadHomeData\", \"learnToolsVersion\": \"0.3.4\", \"failureMessage\": \"\", \"exceptionClass\": \"\", \"trace\": \"\"}}, \"*\")"
      ],
      "text/plain": [
       "<IPython.core.display.Javascript object>"
      ]
     },
     "metadata": {},
     "output_type": "display_data"
    },
    {
     "data": {
      "text/markdown": [
       "<span style=\"color:#33cc33\">Correct</span>"
      ],
      "text/plain": [
       "Correct"
      ]
     },
     "metadata": {},
     "output_type": "display_data"
    }
   ],
   "source": [
    "import pandas as pd\n",
    "\n",
    "# Path of the file to read\n",
    "iowa_file_path = '../input/home-data-for-ml-course/train.csv'\n",
    "\n",
    "# Fill in the line below to read the file into a variable home_data\n",
    "home_data = pd.read_csv(iowa_file_path)\n",
    "\n",
    "# Call line below with no argument to check that you've loaded the data correctly\n",
    "step_1.check()"
   ]
  },
  {
   "cell_type": "code",
   "execution_count": 3,
   "id": "20c40b9b",
   "metadata": {
    "execution": {
     "iopub.execute_input": "2022-12-22T03:05:16.753298Z",
     "iopub.status.busy": "2022-12-22T03:05:16.752165Z",
     "iopub.status.idle": "2022-12-22T03:05:16.757020Z",
     "shell.execute_reply": "2022-12-22T03:05:16.756114Z"
    },
    "papermill": {
     "duration": 0.013193,
     "end_time": "2022-12-22T03:05:16.759323",
     "exception": false,
     "start_time": "2022-12-22T03:05:16.746130",
     "status": "completed"
    },
    "tags": []
   },
   "outputs": [],
   "source": [
    "# Lines below will give you a hint or solution code\n",
    "# step_1.hint()\n",
    "# step_1.solution()"
   ]
  },
  {
   "cell_type": "markdown",
   "id": "f1fa3eba",
   "metadata": {
    "papermill": {
     "duration": 0.003447,
     "end_time": "2022-12-22T03:05:16.766649",
     "exception": false,
     "start_time": "2022-12-22T03:05:16.763202",
     "status": "completed"
    },
    "tags": []
   },
   "source": [
    "## Step 2: Review The Data\n",
    "Use the command you learned to view summary statistics of the data. Then fill in variables to answer the following questions"
   ]
  },
  {
   "cell_type": "code",
   "execution_count": 4,
   "id": "2f242339",
   "metadata": {
    "execution": {
     "iopub.execute_input": "2022-12-22T03:05:16.776161Z",
     "iopub.status.busy": "2022-12-22T03:05:16.775428Z",
     "iopub.status.idle": "2022-12-22T03:05:16.786490Z",
     "shell.execute_reply": "2022-12-22T03:05:16.785199Z"
    },
    "papermill": {
     "duration": 0.019531,
     "end_time": "2022-12-22T03:05:16.789913",
     "exception": false,
     "start_time": "2022-12-22T03:05:16.770382",
     "status": "completed"
    },
    "tags": []
   },
   "outputs": [
    {
     "name": "stdout",
     "output_type": "stream",
     "text": [
      "Average Lot Size:  10516.828082191782\n",
      "Newest Home Age:  12\n"
     ]
    }
   ],
   "source": [
    "# Print summary statistics in next line\n",
    "print('Average Lot Size: ', home_data['LotArea'].mean())\n",
    "print('Newest Home Age: ', 2022-home_data['YrSold'].max())"
   ]
  },
  {
   "cell_type": "code",
   "execution_count": 5,
   "id": "59e1bbd0",
   "metadata": {
    "execution": {
     "iopub.execute_input": "2022-12-22T03:05:16.800179Z",
     "iopub.status.busy": "2022-12-22T03:05:16.799090Z",
     "iopub.status.idle": "2022-12-22T03:05:16.809453Z",
     "shell.execute_reply": "2022-12-22T03:05:16.808245Z"
    },
    "papermill": {
     "duration": 0.017654,
     "end_time": "2022-12-22T03:05:16.811679",
     "exception": false,
     "start_time": "2022-12-22T03:05:16.794025",
     "status": "completed"
    },
    "tags": []
   },
   "outputs": [
    {
     "data": {
      "application/javascript": [
       "parent.postMessage({\"jupyterEvent\": \"custom.exercise_interaction\", \"data\": {\"outcomeType\": 1, \"valueTowardsCompletion\": 0.5, \"interactionType\": 1, \"questionType\": 1, \"questionId\": \"2_HomeDescription\", \"learnToolsVersion\": \"0.3.4\", \"failureMessage\": \"\", \"exceptionClass\": \"\", \"trace\": \"\"}}, \"*\")"
      ],
      "text/plain": [
       "<IPython.core.display.Javascript object>"
      ]
     },
     "metadata": {},
     "output_type": "display_data"
    },
    {
     "data": {
      "text/markdown": [
       "<span style=\"color:#33cc33\">Correct</span>"
      ],
      "text/plain": [
       "Correct"
      ]
     },
     "metadata": {},
     "output_type": "display_data"
    }
   ],
   "source": [
    "# What is the average lot size (rounded to nearest integer)?\n",
    "avg_lot_size = round(home_data['LotArea'].mean())\n",
    "\n",
    "# As of today, how old is the newest home (current year - the date in which it was built)\n",
    "newest_home_age = 2022-home_data['YrSold'].max()\n",
    "\n",
    "# Checks your answers\n",
    "step_2.check()"
   ]
  },
  {
   "cell_type": "code",
   "execution_count": 6,
   "id": "2923b116",
   "metadata": {
    "execution": {
     "iopub.execute_input": "2022-12-22T03:05:16.821903Z",
     "iopub.status.busy": "2022-12-22T03:05:16.821239Z",
     "iopub.status.idle": "2022-12-22T03:05:16.825815Z",
     "shell.execute_reply": "2022-12-22T03:05:16.824883Z"
    },
    "papermill": {
     "duration": 0.012551,
     "end_time": "2022-12-22T03:05:16.828314",
     "exception": false,
     "start_time": "2022-12-22T03:05:16.815763",
     "status": "completed"
    },
    "tags": []
   },
   "outputs": [],
   "source": [
    "# step_2.hint()\n",
    "# step_2.solution()"
   ]
  },
  {
   "cell_type": "markdown",
   "id": "1b549406",
   "metadata": {
    "papermill": {
     "duration": 0.00415,
     "end_time": "2022-12-22T03:05:16.836617",
     "exception": false,
     "start_time": "2022-12-22T03:05:16.832467",
     "status": "completed"
    },
    "tags": []
   },
   "source": [
    "## Think About Your Data\n",
    "\n",
    "The newest house in your data isn't that new.  A few potential explanations for this:\n",
    "1. They haven't built new houses where this data was collected.\n",
    "1. The data was collected a long time ago. Houses built after the data publication wouldn't show up.\n",
    "\n",
    "If the reason is explanation #1 above, does that affect your trust in the model you build with this data? What about if it is reason #2?\n",
    "\n",
    "How could you dig into the data to see which explanation is more plausible?\n",
    "\n",
    "Check out this **[discussion thread](https://www.kaggle.com/learn-forum/60581)** to see what others think or to add your ideas."
   ]
  },
  {
   "cell_type": "markdown",
   "id": "139cb810",
   "metadata": {
    "papermill": {
     "duration": 0.004108,
     "end_time": "2022-12-22T03:05:16.845016",
     "exception": false,
     "start_time": "2022-12-22T03:05:16.840908",
     "status": "completed"
    },
    "tags": []
   },
   "source": [
    "---\n",
    "**Allen**\n",
    "\n"
   ]
  }
 ],
 "metadata": {
  "kernelspec": {
   "display_name": "Python 3",
   "language": "python",
   "name": "python3"
  },
  "language_info": {
   "codemirror_mode": {
    "name": "ipython",
    "version": 3
   },
   "file_extension": ".py",
   "mimetype": "text/x-python",
   "name": "python",
   "nbconvert_exporter": "python",
   "pygments_lexer": "ipython3",
   "version": "3.7.12"
  },
  "papermill": {
   "default_parameters": {},
   "duration": 9.499183,
   "end_time": "2022-12-22T03:05:17.471327",
   "environment_variables": {},
   "exception": null,
   "input_path": "__notebook__.ipynb",
   "output_path": "__notebook__.ipynb",
   "parameters": {},
   "start_time": "2022-12-22T03:05:07.972144",
   "version": "2.3.4"
  }
 },
 "nbformat": 4,
 "nbformat_minor": 5
}
