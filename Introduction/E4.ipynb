{
 "cells": [
  {
   "cell_type": "markdown",
   "id": "8912f6b2",
   "metadata": {
    "papermill": {
     "duration": 0.004391,
     "end_time": "2022-12-23T12:03:11.566522",
     "exception": false,
     "start_time": "2022-12-23T12:03:11.562131",
     "status": "completed"
    },
    "tags": []
   },
   "source": [
    "**This notebook is an exercise in the [Introduction to Machine Learning](https://www.kaggle.com/learn/intro-to-machine-learning) course.  You can reference the tutorial at [this link](https://www.kaggle.com/dansbecker/underfitting-and-overfitting).**\n",
    "\n",
    "---\n"
   ]
  },
  {
   "cell_type": "markdown",
   "id": "5c99fd06",
   "metadata": {
    "papermill": {
     "duration": 0.003121,
     "end_time": "2022-12-23T12:03:11.573232",
     "exception": false,
     "start_time": "2022-12-23T12:03:11.570111",
     "status": "completed"
    },
    "tags": []
   },
   "source": [
    "## Recap\n",
    "You've built your first model, and now it's time to optimize the size of the tree to make better predictions. Run this cell to set up your coding environment where the previous step left off."
   ]
  },
  {
   "cell_type": "code",
   "execution_count": 1,
   "id": "a77bdeaf",
   "metadata": {
    "execution": {
     "iopub.execute_input": "2022-12-23T12:03:11.582713Z",
     "iopub.status.busy": "2022-12-23T12:03:11.582091Z",
     "iopub.status.idle": "2022-12-23T12:03:12.785330Z",
     "shell.execute_reply": "2022-12-23T12:03:12.783741Z"
    },
    "papermill": {
     "duration": 1.212506,
     "end_time": "2022-12-23T12:03:12.789101",
     "exception": false,
     "start_time": "2022-12-23T12:03:11.576595",
     "status": "completed"
    },
    "tags": []
   },
   "outputs": [
    {
     "name": "stdout",
     "output_type": "stream",
     "text": [
      "Validation MAE: 29,653\n",
      "\n",
      "Setup complete\n"
     ]
    }
   ],
   "source": [
    "# Code you have previously used to load data\n",
    "import pandas as pd\n",
    "from sklearn.metrics import mean_absolute_error\n",
    "from sklearn.model_selection import train_test_split\n",
    "from sklearn.tree import DecisionTreeRegressor\n",
    "\n",
    "\n",
    "# Path of the file to read\n",
    "iowa_file_path = '../input/home-data-for-ml-course/train.csv'\n",
    "\n",
    "home_data = pd.read_csv(iowa_file_path)\n",
    "# Create target object and call it y\n",
    "y = home_data.SalePrice\n",
    "# Create X\n",
    "features = ['LotArea', 'YearBuilt', '1stFlrSF', '2ndFlrSF', 'FullBath', 'BedroomAbvGr', 'TotRmsAbvGrd']\n",
    "X = home_data[features]\n",
    "\n",
    "# Split into validation and training data\n",
    "train_X, val_X, train_y, val_y = train_test_split(X, y, random_state=1)\n",
    "\n",
    "# Specify Model\n",
    "iowa_model = DecisionTreeRegressor(random_state=1)\n",
    "# Fit Model\n",
    "iowa_model.fit(train_X, train_y)\n",
    "\n",
    "# Make validation predictions and calculate mean absolute error\n",
    "val_predictions = iowa_model.predict(val_X)\n",
    "val_mae = mean_absolute_error(val_predictions, val_y)\n",
    "print(\"Validation MAE: {:,.0f}\".format(val_mae))\n",
    "\n",
    "# Set up code checking\n",
    "from learntools.core import binder\n",
    "binder.bind(globals())\n",
    "from learntools.machine_learning.ex5 import *\n",
    "print(\"\\nSetup complete\")"
   ]
  },
  {
   "cell_type": "markdown",
   "id": "a41ab1fa",
   "metadata": {
    "papermill": {
     "duration": 0.003588,
     "end_time": "2022-12-23T12:03:12.796967",
     "exception": false,
     "start_time": "2022-12-23T12:03:12.793379",
     "status": "completed"
    },
    "tags": []
   },
   "source": [
    "# Exercises\n",
    "You could write the function `get_mae` yourself. For now, we'll supply it. This is the same function you read about in the previous lesson. Just run the cell below."
   ]
  },
  {
   "cell_type": "code",
   "execution_count": 2,
   "id": "484b9802",
   "metadata": {
    "execution": {
     "iopub.execute_input": "2022-12-23T12:03:12.806736Z",
     "iopub.status.busy": "2022-12-23T12:03:12.805893Z",
     "iopub.status.idle": "2022-12-23T12:03:12.811538Z",
     "shell.execute_reply": "2022-12-23T12:03:12.810660Z"
    },
    "papermill": {
     "duration": 0.012854,
     "end_time": "2022-12-23T12:03:12.813627",
     "exception": false,
     "start_time": "2022-12-23T12:03:12.800773",
     "status": "completed"
    },
    "tags": []
   },
   "outputs": [],
   "source": [
    "def get_mae(max_leaf_nodes, train_X, val_X, train_y, val_y):\n",
    "    model = DecisionTreeRegressor(max_leaf_nodes=max_leaf_nodes, random_state=0)\n",
    "    model.fit(train_X, train_y)\n",
    "    preds_val = model.predict(val_X)\n",
    "    mae = mean_absolute_error(val_y, preds_val)\n",
    "    return(mae)"
   ]
  },
  {
   "cell_type": "markdown",
   "id": "2786d388",
   "metadata": {
    "papermill": {
     "duration": 0.003166,
     "end_time": "2022-12-23T12:03:12.820289",
     "exception": false,
     "start_time": "2022-12-23T12:03:12.817123",
     "status": "completed"
    },
    "tags": []
   },
   "source": [
    "## Step 1: Compare Different Tree Sizes\n",
    "Write a loop that tries the following values for *max_leaf_nodes* from a set of possible values.\n",
    "\n",
    "Call the *get_mae* function on each value of max_leaf_nodes. Store the output in some way that allows you to select the value of `max_leaf_nodes` that gives the most accurate model on your data."
   ]
  },
  {
   "cell_type": "code",
   "execution_count": 3,
   "id": "b22a92c5",
   "metadata": {
    "execution": {
     "iopub.execute_input": "2022-12-23T12:03:12.829053Z",
     "iopub.status.busy": "2022-12-23T12:03:12.828612Z",
     "iopub.status.idle": "2022-12-23T12:03:12.878008Z",
     "shell.execute_reply": "2022-12-23T12:03:12.876855Z"
    },
    "papermill": {
     "duration": 0.056587,
     "end_time": "2022-12-23T12:03:12.880273",
     "exception": false,
     "start_time": "2022-12-23T12:03:12.823686",
     "status": "completed"
    },
    "tags": []
   },
   "outputs": [
    {
     "data": {
      "application/javascript": [
       "parent.postMessage({\"jupyterEvent\": \"custom.exercise_interaction\", \"data\": {\"outcomeType\": 1, \"valueTowardsCompletion\": 0.5, \"interactionType\": 1, \"questionType\": 1, \"questionId\": \"1_BestTreeSize\", \"learnToolsVersion\": \"0.3.4\", \"failureMessage\": \"\", \"exceptionClass\": \"\", \"trace\": \"\"}}, \"*\")"
      ],
      "text/plain": [
       "<IPython.core.display.Javascript object>"
      ]
     },
     "metadata": {},
     "output_type": "display_data"
    },
    {
     "data": {
      "text/markdown": [
       "<span style=\"color:#33cc33\">Correct</span>"
      ],
      "text/plain": [
       "Correct"
      ]
     },
     "metadata": {},
     "output_type": "display_data"
    }
   ],
   "source": [
    "candidate_max_leaf_nodes = [5, 25, 50, 100, 250, 500]\n",
    "# Write loop to find the ideal tree size from candidate_max_leaf_nodes\n",
    "_\n",
    "\n",
    "# Store the best value of max_leaf_nodes (it will be either 5, 25, 50, 100, 250 or 500)\n",
    "scores = {leaf_size: get_mae(leaf_size, train_X, val_X, train_y, val_y) for leaf_size in candidate_max_leaf_nodes}\n",
    "best_tree_size = min(scores, key=scores.get)\n",
    "\n",
    "# Check your answer\n",
    "step_1.check()"
   ]
  },
  {
   "cell_type": "code",
   "execution_count": 4,
   "id": "e390df91",
   "metadata": {
    "execution": {
     "iopub.execute_input": "2022-12-23T12:03:12.889921Z",
     "iopub.status.busy": "2022-12-23T12:03:12.889207Z",
     "iopub.status.idle": "2022-12-23T12:03:12.893441Z",
     "shell.execute_reply": "2022-12-23T12:03:12.892321Z"
    },
    "papermill": {
     "duration": 0.011896,
     "end_time": "2022-12-23T12:03:12.895949",
     "exception": false,
     "start_time": "2022-12-23T12:03:12.884053",
     "status": "completed"
    },
    "tags": []
   },
   "outputs": [],
   "source": [
    "# The lines below will show you a hint or the solution.\n",
    "# step_1.hint() \n",
    "# step_1.solution()"
   ]
  },
  {
   "cell_type": "markdown",
   "id": "eb84f526",
   "metadata": {
    "papermill": {
     "duration": 0.003451,
     "end_time": "2022-12-23T12:03:12.903143",
     "exception": false,
     "start_time": "2022-12-23T12:03:12.899692",
     "status": "completed"
    },
    "tags": []
   },
   "source": [
    "## Step 2: Fit Model Using All Data\n",
    "You know the best tree size. If you were going to deploy this model in practice, you would make it even more accurate by using all of the data and keeping that tree size.  That is, you don't need to hold out the validation data now that you've made all your modeling decisions."
   ]
  },
  {
   "cell_type": "code",
   "execution_count": 5,
   "id": "93b8013a",
   "metadata": {
    "execution": {
     "iopub.execute_input": "2022-12-23T12:03:12.912516Z",
     "iopub.status.busy": "2022-12-23T12:03:12.911500Z",
     "iopub.status.idle": "2022-12-23T12:03:12.930057Z",
     "shell.execute_reply": "2022-12-23T12:03:12.928885Z"
    },
    "papermill": {
     "duration": 0.025867,
     "end_time": "2022-12-23T12:03:12.932536",
     "exception": false,
     "start_time": "2022-12-23T12:03:12.906669",
     "status": "completed"
    },
    "tags": []
   },
   "outputs": [
    {
     "data": {
      "application/javascript": [
       "parent.postMessage({\"jupyterEvent\": \"custom.exercise_interaction\", \"data\": {\"outcomeType\": 1, \"valueTowardsCompletion\": 0.5, \"interactionType\": 1, \"questionType\": 2, \"questionId\": \"2_FitModelWithAllData\", \"learnToolsVersion\": \"0.3.4\", \"failureMessage\": \"\", \"exceptionClass\": \"\", \"trace\": \"\"}}, \"*\")"
      ],
      "text/plain": [
       "<IPython.core.display.Javascript object>"
      ]
     },
     "metadata": {},
     "output_type": "display_data"
    },
    {
     "data": {
      "text/markdown": [
       "<span style=\"color:#33cc33\">Correct</span>"
      ],
      "text/plain": [
       "Correct"
      ]
     },
     "metadata": {},
     "output_type": "display_data"
    }
   ],
   "source": [
    "# Fill in argument to make optimal size and uncomment\n",
    "final_model = DecisionTreeRegressor(max_leaf_nodes=best_tree_size, random_state=1)\n",
    "\n",
    "# fit the final model and uncomment the next two lines\n",
    "final_model.fit(X, y)\n",
    "\n",
    "# Check your answer\n",
    "step_2.check()"
   ]
  },
  {
   "cell_type": "code",
   "execution_count": 6,
   "id": "f7b8fdf4",
   "metadata": {
    "execution": {
     "iopub.execute_input": "2022-12-23T12:03:12.942499Z",
     "iopub.status.busy": "2022-12-23T12:03:12.941744Z",
     "iopub.status.idle": "2022-12-23T12:03:12.946316Z",
     "shell.execute_reply": "2022-12-23T12:03:12.945506Z"
    },
    "papermill": {
     "duration": 0.012107,
     "end_time": "2022-12-23T12:03:12.948584",
     "exception": false,
     "start_time": "2022-12-23T12:03:12.936477",
     "status": "completed"
    },
    "tags": []
   },
   "outputs": [],
   "source": [
    "# step_2.hint()\n",
    "# step_2.solution()"
   ]
  },
  {
   "cell_type": "markdown",
   "id": "30fc7cb2",
   "metadata": {
    "papermill": {
     "duration": 0.003588,
     "end_time": "2022-12-23T12:03:12.956175",
     "exception": false,
     "start_time": "2022-12-23T12:03:12.952587",
     "status": "completed"
    },
    "tags": []
   },
   "source": [
    "---\n",
    "**Allen**"
   ]
  }
 ],
 "metadata": {
  "kernelspec": {
   "display_name": "Python 3",
   "language": "python",
   "name": "python3"
  },
  "language_info": {
   "codemirror_mode": {
    "name": "ipython",
    "version": 3
   },
   "file_extension": ".py",
   "mimetype": "text/x-python",
   "name": "python",
   "nbconvert_exporter": "python",
   "pygments_lexer": "ipython3",
   "version": "3.7.12"
  },
  "papermill": {
   "default_parameters": {},
   "duration": 10.838549,
   "end_time": "2022-12-23T12:03:13.782213",
   "environment_variables": {},
   "exception": null,
   "input_path": "__notebook__.ipynb",
   "output_path": "__notebook__.ipynb",
   "parameters": {},
   "start_time": "2022-12-23T12:03:02.943664",
   "version": "2.3.4"
  }
 },
 "nbformat": 4,
 "nbformat_minor": 5
}
