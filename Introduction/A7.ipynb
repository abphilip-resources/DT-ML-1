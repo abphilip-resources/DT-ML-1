{
 "cells": [
  {
   "cell_type": "markdown",
   "id": "209f7a2d",
   "metadata": {
    "papermill": {
     "duration": 0.001981,
     "end_time": "2022-12-21T02:23:12.789593",
     "exception": false,
     "start_time": "2022-12-21T02:23:12.787612",
     "status": "completed"
    },
    "tags": []
   },
   "source": [
    "Machine learning competitions are a great way to improve your data science skills and measure your progress. \n",
    "\n",
    "In the next exercise, you will create and submit predictions for the [House Prices Competition for Kaggle Learn Users](https://www.kaggle.com/c/home-data-for-ml-course). \n",
    "\n",
    "![join competition image](https://i.imgur.com/axBzctl.png)\n",
    "\n",
    "Use what you've learned in the course to **[create a submission](https://www.kaggle.com/kernels/fork/1259198)** to a Kaggle competition!"
   ]
  },
  {
   "cell_type": "markdown",
   "id": "84c22961",
   "metadata": {
    "papermill": {
     "duration": 0.000966,
     "end_time": "2022-12-21T02:23:12.791905",
     "exception": false,
     "start_time": "2022-12-21T02:23:12.790939",
     "status": "completed"
    },
    "tags": []
   },
   "source": [
    "---\n",
    "\n",
    "\n",
    "\n",
    "\n",
    "*[Kaggle Course Link](https://www.kaggle.com/learn/intro-to-machine-learning)*"
   ]
  }
 ],
 "metadata": {
  "kernelspec": {
   "display_name": "Python 3",
   "language": "python",
   "name": "python3"
  },
  "language_info": {
   "codemirror_mode": {
    "name": "ipython",
    "version": 3
   },
   "file_extension": ".py",
   "mimetype": "text/x-python",
   "name": "python",
   "nbconvert_exporter": "python",
   "pygments_lexer": "ipython3",
   "version": "3.7.12"
  },
  "papermill": {
   "default_parameters": {},
   "duration": 8.113634,
   "end_time": "2022-12-21T02:23:13.415459",
   "environment_variables": {},
   "exception": null,
   "input_path": "__notebook__.ipynb",
   "output_path": "__notebook__.ipynb",
   "parameters": {},
   "start_time": "2022-12-21T02:23:05.301825",
   "version": "2.3.4"
  }
 },
 "nbformat": 4,
 "nbformat_minor": 5
}
