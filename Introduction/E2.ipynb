{
 "cells": [
  {
   "cell_type": "markdown",
   "id": "0eeed4f8",
   "metadata": {
    "papermill": {
     "duration": 0.005591,
     "end_time": "2022-12-22T03:22:16.172800",
     "exception": false,
     "start_time": "2022-12-22T03:22:16.167209",
     "status": "completed"
    },
    "tags": []
   },
   "source": [
    "**This notebook is an exercise in the [Introduction to Machine Learning](https://www.kaggle.com/learn/intro-to-machine-learning) course.  You can reference the tutorial at [this link](https://www.kaggle.com/dansbecker/your-first-machine-learning-model).**\n",
    "\n",
    "---\n"
   ]
  },
  {
   "cell_type": "markdown",
   "id": "7681e148",
   "metadata": {
    "papermill": {
     "duration": 0.004203,
     "end_time": "2022-12-22T03:22:16.181798",
     "exception": false,
     "start_time": "2022-12-22T03:22:16.177595",
     "status": "completed"
    },
    "tags": []
   },
   "source": [
    "## Recap\n",
    "So far, you have loaded your data and reviewed it with the following code. Run this cell to set up your coding environment where the previous step left off."
   ]
  },
  {
   "cell_type": "code",
   "execution_count": 1,
   "id": "b5cee5fc",
   "metadata": {
    "execution": {
     "iopub.execute_input": "2022-12-22T03:22:16.193039Z",
     "iopub.status.busy": "2022-12-22T03:22:16.192305Z",
     "iopub.status.idle": "2022-12-22T03:22:17.356566Z",
     "shell.execute_reply": "2022-12-22T03:22:17.355476Z"
    },
    "papermill": {
     "duration": 1.173194,
     "end_time": "2022-12-22T03:22:17.359399",
     "exception": false,
     "start_time": "2022-12-22T03:22:16.186205",
     "status": "completed"
    },
    "tags": []
   },
   "outputs": [
    {
     "name": "stdout",
     "output_type": "stream",
     "text": [
      "Setup Complete\n"
     ]
    }
   ],
   "source": [
    "# Code you have previously used to load data\n",
    "import pandas as pd\n",
    "\n",
    "# Path of the file to read\n",
    "iowa_file_path = '../input/home-data-for-ml-course/train.csv'\n",
    "\n",
    "home_data = pd.read_csv(iowa_file_path)\n",
    "\n",
    "# Set up code checking\n",
    "from learntools.core import binder\n",
    "binder.bind(globals())\n",
    "from learntools.machine_learning.ex3 import *\n",
    "\n",
    "print(\"Setup Complete\")"
   ]
  },
  {
   "cell_type": "markdown",
   "id": "3aa3c5fb",
   "metadata": {
    "papermill": {
     "duration": 0.004375,
     "end_time": "2022-12-22T03:22:17.368682",
     "exception": false,
     "start_time": "2022-12-22T03:22:17.364307",
     "status": "completed"
    },
    "tags": []
   },
   "source": [
    "# Exercises\n",
    "\n",
    "## Step 1: Specify Prediction Target\n",
    "Select the target variable, which corresponds to the sales price. Save this to a new variable called `y`. You'll need to print a list of the columns to find the name of the column you need.\n"
   ]
  },
  {
   "cell_type": "code",
   "execution_count": 2,
   "id": "3b655911",
   "metadata": {
    "execution": {
     "iopub.execute_input": "2022-12-22T03:22:17.379813Z",
     "iopub.status.busy": "2022-12-22T03:22:17.379448Z",
     "iopub.status.idle": "2022-12-22T03:22:17.383908Z",
     "shell.execute_reply": "2022-12-22T03:22:17.382788Z"
    },
    "papermill": {
     "duration": 0.012746,
     "end_time": "2022-12-22T03:22:17.386043",
     "exception": false,
     "start_time": "2022-12-22T03:22:17.373297",
     "status": "completed"
    },
    "tags": []
   },
   "outputs": [],
   "source": [
    "# print the list of columns in the dataset to find the name of the prediction target\n"
   ]
  },
  {
   "cell_type": "code",
   "execution_count": 3,
   "id": "9f6cc49f",
   "metadata": {
    "execution": {
     "iopub.execute_input": "2022-12-22T03:22:17.396813Z",
     "iopub.status.busy": "2022-12-22T03:22:17.396486Z",
     "iopub.status.idle": "2022-12-22T03:22:17.411036Z",
     "shell.execute_reply": "2022-12-22T03:22:17.410025Z"
    },
    "papermill": {
     "duration": 0.022388,
     "end_time": "2022-12-22T03:22:17.413198",
     "exception": false,
     "start_time": "2022-12-22T03:22:17.390810",
     "status": "completed"
    },
    "tags": []
   },
   "outputs": [
    {
     "data": {
      "application/javascript": [
       "parent.postMessage({\"jupyterEvent\": \"custom.exercise_interaction\", \"data\": {\"outcomeType\": 1, \"valueTowardsCompletion\": 0.25, \"interactionType\": 1, \"questionType\": 2, \"questionId\": \"1_SetTarget\", \"learnToolsVersion\": \"0.3.4\", \"failureMessage\": \"\", \"exceptionClass\": \"\", \"trace\": \"\"}}, \"*\")"
      ],
      "text/plain": [
       "<IPython.core.display.Javascript object>"
      ]
     },
     "metadata": {},
     "output_type": "display_data"
    },
    {
     "data": {
      "text/markdown": [
       "<span style=\"color:#33cc33\">Correct</span>"
      ],
      "text/plain": [
       "Correct"
      ]
     },
     "metadata": {},
     "output_type": "display_data"
    }
   ],
   "source": [
    "y = home_data.SalePrice\n",
    "\n",
    "# Check your answer\n",
    "step_1.check()"
   ]
  },
  {
   "cell_type": "code",
   "execution_count": 4,
   "id": "c362fcfd",
   "metadata": {
    "execution": {
     "iopub.execute_input": "2022-12-22T03:22:17.424640Z",
     "iopub.status.busy": "2022-12-22T03:22:17.424173Z",
     "iopub.status.idle": "2022-12-22T03:22:17.428691Z",
     "shell.execute_reply": "2022-12-22T03:22:17.427671Z"
    },
    "papermill": {
     "duration": 0.012307,
     "end_time": "2022-12-22T03:22:17.430766",
     "exception": false,
     "start_time": "2022-12-22T03:22:17.418459",
     "status": "completed"
    },
    "tags": []
   },
   "outputs": [],
   "source": [
    "# The lines below will show you a hint or the solution.\n",
    "# step_1.hint() \n",
    "# step_1.solution()"
   ]
  },
  {
   "cell_type": "markdown",
   "id": "7df553bf",
   "metadata": {
    "papermill": {
     "duration": 0.004463,
     "end_time": "2022-12-22T03:22:17.439992",
     "exception": false,
     "start_time": "2022-12-22T03:22:17.435529",
     "status": "completed"
    },
    "tags": []
   },
   "source": [
    "## Step 2: Create X\n",
    "Now you will create a DataFrame called `X` holding the predictive features.\n",
    "\n",
    "Since you want only some columns from the original data, you'll first create a list with the names of the columns you want in `X`.\n",
    "\n",
    "You'll use just the following columns in the list (you can copy and paste the whole list to save some typing, though you'll still need to add quotes):\n",
    "  * LotArea\n",
    "  * YearBuilt\n",
    "  * 1stFlrSF\n",
    "  * 2ndFlrSF\n",
    "  * FullBath\n",
    "  * BedroomAbvGr\n",
    "  * TotRmsAbvGrd\n",
    "\n",
    "After you've created that list of features, use it to create the DataFrame that you'll use to fit the model."
   ]
  },
  {
   "cell_type": "code",
   "execution_count": 5,
   "id": "5fa46395",
   "metadata": {
    "execution": {
     "iopub.execute_input": "2022-12-22T03:22:17.451620Z",
     "iopub.status.busy": "2022-12-22T03:22:17.450714Z",
     "iopub.status.idle": "2022-12-22T03:22:17.463745Z",
     "shell.execute_reply": "2022-12-22T03:22:17.462582Z"
    },
    "papermill": {
     "duration": 0.021232,
     "end_time": "2022-12-22T03:22:17.465930",
     "exception": false,
     "start_time": "2022-12-22T03:22:17.444698",
     "status": "completed"
    },
    "tags": []
   },
   "outputs": [
    {
     "data": {
      "application/javascript": [
       "parent.postMessage({\"jupyterEvent\": \"custom.exercise_interaction\", \"data\": {\"outcomeType\": 1, \"valueTowardsCompletion\": 0.25, \"interactionType\": 1, \"questionType\": 2, \"questionId\": \"2_SelectPredictionData\", \"learnToolsVersion\": \"0.3.4\", \"failureMessage\": \"\", \"exceptionClass\": \"\", \"trace\": \"\"}}, \"*\")"
      ],
      "text/plain": [
       "<IPython.core.display.Javascript object>"
      ]
     },
     "metadata": {},
     "output_type": "display_data"
    },
    {
     "data": {
      "text/markdown": [
       "<span style=\"color:#33cc33\">Correct</span>"
      ],
      "text/plain": [
       "Correct"
      ]
     },
     "metadata": {},
     "output_type": "display_data"
    }
   ],
   "source": [
    "# Create the list of features below\n",
    "feature_names = [\"LotArea\", \"YearBuilt\", \"1stFlrSF\", \"2ndFlrSF\", \"FullBath\", \"BedroomAbvGr\", \"TotRmsAbvGrd\"]\n",
    "\n",
    "# Select data corresponding to features in feature_names\n",
    "X = home_data[feature_names]\n",
    "\n",
    "# Check your answer\n",
    "step_2.check()"
   ]
  },
  {
   "cell_type": "code",
   "execution_count": 6,
   "id": "4c9c1c97",
   "metadata": {
    "execution": {
     "iopub.execute_input": "2022-12-22T03:22:17.477621Z",
     "iopub.status.busy": "2022-12-22T03:22:17.477239Z",
     "iopub.status.idle": "2022-12-22T03:22:17.481269Z",
     "shell.execute_reply": "2022-12-22T03:22:17.480134Z"
    },
    "papermill": {
     "duration": 0.012489,
     "end_time": "2022-12-22T03:22:17.483490",
     "exception": false,
     "start_time": "2022-12-22T03:22:17.471001",
     "status": "completed"
    },
    "tags": []
   },
   "outputs": [],
   "source": [
    "# step_2.hint()\n",
    "# step_2.solution()"
   ]
  },
  {
   "cell_type": "markdown",
   "id": "c1e9cb0d",
   "metadata": {
    "papermill": {
     "duration": 0.006332,
     "end_time": "2022-12-22T03:22:17.494867",
     "exception": false,
     "start_time": "2022-12-22T03:22:17.488535",
     "status": "completed"
    },
    "tags": []
   },
   "source": [
    "## Review Data\n",
    "Before building a model, take a quick look at **X** to verify it looks sensible"
   ]
  },
  {
   "cell_type": "code",
   "execution_count": 7,
   "id": "1f06384d",
   "metadata": {
    "execution": {
     "iopub.execute_input": "2022-12-22T03:22:17.506563Z",
     "iopub.status.busy": "2022-12-22T03:22:17.506159Z",
     "iopub.status.idle": "2022-12-22T03:22:17.540974Z",
     "shell.execute_reply": "2022-12-22T03:22:17.539778Z"
    },
    "papermill": {
     "duration": 0.044311,
     "end_time": "2022-12-22T03:22:17.544083",
     "exception": false,
     "start_time": "2022-12-22T03:22:17.499772",
     "status": "completed"
    },
    "tags": []
   },
   "outputs": [
    {
     "name": "stdout",
     "output_type": "stream",
     "text": [
      "\n",
      "              LotArea    YearBuilt     1stFlrSF     2ndFlrSF     FullBath  \\\n",
      "count    1460.000000  1460.000000  1460.000000  1460.000000  1460.000000   \n",
      "mean    10516.828082  1971.267808  1162.626712   346.992466     1.565068   \n",
      "std      9981.264932    30.202904   386.587738   436.528436     0.550916   \n",
      "min      1300.000000  1872.000000   334.000000     0.000000     0.000000   \n",
      "25%      7553.500000  1954.000000   882.000000     0.000000     1.000000   \n",
      "50%      9478.500000  1973.000000  1087.000000     0.000000     2.000000   \n",
      "75%     11601.500000  2000.000000  1391.250000   728.000000     2.000000   \n",
      "max    215245.000000  2010.000000  4692.000000  2065.000000     3.000000   \n",
      "\n",
      "       BedroomAbvGr  TotRmsAbvGrd  \n",
      "count   1460.000000   1460.000000  \n",
      "mean       2.866438      6.517808  \n",
      "std        0.815778      1.625393  \n",
      "min        0.000000      2.000000  \n",
      "25%        2.000000      5.000000  \n",
      "50%        3.000000      6.000000  \n",
      "75%        3.000000      7.000000  \n",
      "max        8.000000     14.000000  \n",
      "\n",
      "    LotArea  YearBuilt  1stFlrSF  2ndFlrSF  FullBath  BedroomAbvGr  \\\n",
      "0     8450       2003       856       854         2             3   \n",
      "1     9600       1976      1262         0         2             3   \n",
      "2    11250       2001       920       866         2             3   \n",
      "3     9550       1915       961       756         1             3   \n",
      "4    14260       2000      1145      1053         2             4   \n",
      "\n",
      "   TotRmsAbvGrd  \n",
      "0             8  \n",
      "1             6  \n",
      "2             6  \n",
      "3             7  \n",
      "4             9  \n"
     ]
    }
   ],
   "source": [
    "# Review data\n",
    "# print description or statistics from X\n",
    "print('\\n', X.describe())\n",
    "\n",
    "# print the top few lines\n",
    "print('\\n', X.head())"
   ]
  },
  {
   "cell_type": "markdown",
   "id": "94a4909d",
   "metadata": {
    "papermill": {
     "duration": 0.005029,
     "end_time": "2022-12-22T03:22:17.555190",
     "exception": false,
     "start_time": "2022-12-22T03:22:17.550161",
     "status": "completed"
    },
    "tags": []
   },
   "source": [
    "## Step 3: Specify and Fit Model\n",
    "Create a `DecisionTreeRegressor` and save it iowa_model. Ensure you've done the relevant import from sklearn to run this command.\n",
    "\n",
    "Then fit the model you just created using the data in `X` and `y` that you saved above."
   ]
  },
  {
   "cell_type": "code",
   "execution_count": 8,
   "id": "f0a75f32",
   "metadata": {
    "execution": {
     "iopub.execute_input": "2022-12-22T03:22:17.566928Z",
     "iopub.status.busy": "2022-12-22T03:22:17.566555Z",
     "iopub.status.idle": "2022-12-22T03:22:17.584477Z",
     "shell.execute_reply": "2022-12-22T03:22:17.583388Z"
    },
    "papermill": {
     "duration": 0.026495,
     "end_time": "2022-12-22T03:22:17.586696",
     "exception": false,
     "start_time": "2022-12-22T03:22:17.560201",
     "status": "completed"
    },
    "tags": []
   },
   "outputs": [
    {
     "data": {
      "application/javascript": [
       "parent.postMessage({\"jupyterEvent\": \"custom.exercise_interaction\", \"data\": {\"outcomeType\": 1, \"valueTowardsCompletion\": 0.25, \"interactionType\": 1, \"questionType\": 2, \"questionId\": \"3_CreateModel\", \"learnToolsVersion\": \"0.3.4\", \"failureMessage\": \"\", \"exceptionClass\": \"\", \"trace\": \"\"}}, \"*\")"
      ],
      "text/plain": [
       "<IPython.core.display.Javascript object>"
      ]
     },
     "metadata": {},
     "output_type": "display_data"
    },
    {
     "data": {
      "text/markdown": [
       "<span style=\"color:#33cc33\">Correct</span>"
      ],
      "text/plain": [
       "Correct"
      ]
     },
     "metadata": {},
     "output_type": "display_data"
    }
   ],
   "source": [
    "from sklearn.tree import DecisionTreeRegressor\n",
    "# For model reproducibility, set a numeric value for random_state when specifying the model\n",
    "iowa_model = DecisionTreeRegressor(random_state=1)\n",
    "\n",
    "# Fit the model\n",
    "iowa_model.fit(X, y)\n",
    "\n",
    "# Check your answer\n",
    "step_3.check()"
   ]
  },
  {
   "cell_type": "code",
   "execution_count": 9,
   "id": "12abdd8b",
   "metadata": {
    "execution": {
     "iopub.execute_input": "2022-12-22T03:22:17.599215Z",
     "iopub.status.busy": "2022-12-22T03:22:17.598816Z",
     "iopub.status.idle": "2022-12-22T03:22:17.603259Z",
     "shell.execute_reply": "2022-12-22T03:22:17.602161Z"
    },
    "papermill": {
     "duration": 0.013214,
     "end_time": "2022-12-22T03:22:17.605354",
     "exception": false,
     "start_time": "2022-12-22T03:22:17.592140",
     "status": "completed"
    },
    "tags": []
   },
   "outputs": [],
   "source": [
    "# step_3.hint()\n",
    "# step_3.solution()"
   ]
  },
  {
   "cell_type": "markdown",
   "id": "6ac47ce6",
   "metadata": {
    "papermill": {
     "duration": 0.005145,
     "end_time": "2022-12-22T03:22:17.615948",
     "exception": false,
     "start_time": "2022-12-22T03:22:17.610803",
     "status": "completed"
    },
    "tags": []
   },
   "source": [
    "## Step 4: Make Predictions\n",
    "Make predictions with the model's `predict` command using `X` as the data. Save the results to a variable called `predictions`."
   ]
  },
  {
   "cell_type": "code",
   "execution_count": 10,
   "id": "df0641df",
   "metadata": {
    "execution": {
     "iopub.execute_input": "2022-12-22T03:22:17.628117Z",
     "iopub.status.busy": "2022-12-22T03:22:17.627719Z",
     "iopub.status.idle": "2022-12-22T03:22:17.641981Z",
     "shell.execute_reply": "2022-12-22T03:22:17.640932Z"
    },
    "papermill": {
     "duration": 0.023106,
     "end_time": "2022-12-22T03:22:17.644272",
     "exception": false,
     "start_time": "2022-12-22T03:22:17.621166",
     "status": "completed"
    },
    "tags": []
   },
   "outputs": [
    {
     "name": "stdout",
     "output_type": "stream",
     "text": [
      "[208500. 181500. 223500. ... 266500. 142125. 147500.]\n"
     ]
    },
    {
     "data": {
      "application/javascript": [
       "parent.postMessage({\"jupyterEvent\": \"custom.exercise_interaction\", \"data\": {\"outcomeType\": 1, \"valueTowardsCompletion\": 0.25, \"interactionType\": 1, \"questionType\": 2, \"questionId\": \"4_MakePredictions\", \"learnToolsVersion\": \"0.3.4\", \"failureMessage\": \"\", \"exceptionClass\": \"\", \"trace\": \"\"}}, \"*\")"
      ],
      "text/plain": [
       "<IPython.core.display.Javascript object>"
      ]
     },
     "metadata": {},
     "output_type": "display_data"
    },
    {
     "data": {
      "text/markdown": [
       "<span style=\"color:#33cc33\">Correct</span>"
      ],
      "text/plain": [
       "Correct"
      ]
     },
     "metadata": {},
     "output_type": "display_data"
    }
   ],
   "source": [
    "predictions = iowa_model.predict(X)\n",
    "print(predictions)\n",
    "\n",
    "# Check your answer\n",
    "step_4.check()"
   ]
  },
  {
   "cell_type": "code",
   "execution_count": 11,
   "id": "f082c278",
   "metadata": {
    "execution": {
     "iopub.execute_input": "2022-12-22T03:22:17.657444Z",
     "iopub.status.busy": "2022-12-22T03:22:17.657054Z",
     "iopub.status.idle": "2022-12-22T03:22:17.661272Z",
     "shell.execute_reply": "2022-12-22T03:22:17.660249Z"
    },
    "papermill": {
     "duration": 0.013393,
     "end_time": "2022-12-22T03:22:17.663476",
     "exception": false,
     "start_time": "2022-12-22T03:22:17.650083",
     "status": "completed"
    },
    "tags": []
   },
   "outputs": [],
   "source": [
    "# step_4.hint()\n",
    "# step_4.solution()"
   ]
  },
  {
   "cell_type": "markdown",
   "id": "8404afe3",
   "metadata": {
    "papermill": {
     "duration": 0.005753,
     "end_time": "2022-12-22T03:22:17.674961",
     "exception": false,
     "start_time": "2022-12-22T03:22:17.669208",
     "status": "completed"
    },
    "tags": []
   },
   "source": [
    "---\n",
    "**Allen**"
   ]
  }
 ],
 "metadata": {
  "kernelspec": {
   "display_name": "Python 3",
   "language": "python",
   "name": "python3"
  },
  "language_info": {
   "codemirror_mode": {
    "name": "ipython",
    "version": 3
   },
   "file_extension": ".py",
   "mimetype": "text/x-python",
   "name": "python",
   "nbconvert_exporter": "python",
   "pygments_lexer": "ipython3",
   "version": "3.7.12"
  },
  "papermill": {
   "default_parameters": {},
   "duration": 10.245254,
   "end_time": "2022-12-22T03:22:18.401502",
   "environment_variables": {},
   "exception": null,
   "input_path": "__notebook__.ipynb",
   "output_path": "__notebook__.ipynb",
   "parameters": {},
   "start_time": "2022-12-22T03:22:08.156248",
   "version": "2.3.4"
  }
 },
 "nbformat": 4,
 "nbformat_minor": 5
}
