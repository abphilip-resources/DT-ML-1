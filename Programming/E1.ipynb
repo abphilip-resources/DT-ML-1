{
 "cells": [
  {
   "cell_type": "markdown",
   "id": "a8186c66",
   "metadata": {
    "papermill": {
     "duration": 0.006845,
     "end_time": "2022-11-09T09:17:47.197464",
     "exception": false,
     "start_time": "2022-11-09T09:17:47.190619",
     "status": "completed"
    },
    "tags": []
   },
   "source": [
    "**This notebook is an exercise in the [Intro to Programming](https://www.kaggle.com/learn/intro-to-programming) course.  You can reference the tutorial at [this link](https://www.kaggle.com/alexisbcook/intro-to-lists).**\n",
    "\n",
    "---\n"
   ]
  },
  {
   "cell_type": "markdown",
   "id": "b6369b0e",
   "metadata": {
    "papermill": {
     "duration": 0.005745,
     "end_time": "2022-11-09T09:17:47.209227",
     "exception": false,
     "start_time": "2022-11-09T09:17:47.203482",
     "status": "completed"
    },
    "tags": []
   },
   "source": [
    "In the tutorial, you learned how to define and modify Python lists.  In this exercise, you will use your new knowledge to solve several problems.\n",
    "\n",
    "# Set up the notebook\n",
    "\n",
    "Run the next code cell without changes to set up the notebook."
   ]
  },
  {
   "cell_type": "code",
   "execution_count": 1,
   "id": "9fbf5683",
   "metadata": {
    "execution": {
     "iopub.execute_input": "2022-11-09T09:17:47.223375Z",
     "iopub.status.busy": "2022-11-09T09:17:47.222596Z",
     "iopub.status.idle": "2022-11-09T09:17:47.265659Z",
     "shell.execute_reply": "2022-11-09T09:17:47.265007Z"
    },
    "papermill": {
     "duration": 0.052667,
     "end_time": "2022-11-09T09:17:47.267809",
     "exception": false,
     "start_time": "2022-11-09T09:17:47.215142",
     "status": "completed"
    },
    "tags": []
   },
   "outputs": [
    {
     "name": "stdout",
     "output_type": "stream",
     "text": [
      "Setup complete.\n"
     ]
    }
   ],
   "source": [
    "from learntools.core import binder\n",
    "binder.bind(globals())\n",
    "from learntools.intro_to_programming.ex5 import *\n",
    "print('Setup complete.')"
   ]
  },
  {
   "cell_type": "markdown",
   "id": "51a2dd4f",
   "metadata": {
    "papermill": {
     "duration": 0.00583,
     "end_time": "2022-11-09T09:17:47.280493",
     "exception": false,
     "start_time": "2022-11-09T09:17:47.274663",
     "status": "completed"
    },
    "tags": []
   },
   "source": [
    "# Question 1\n",
    "\n",
    "You own a restaurant with five food dishes, organized in the Python list `menu` below.  One day, you decide to:\n",
    "- remove bean soup (`'bean soup'`) from the menu, and\n",
    "- add roasted beet salad (`'roasted beet salad'`) to the menu.\n",
    "\n",
    "Implement this change to the list below.  While completing this task, \n",
    "- do not change the line that creates the `menu` list.  \n",
    "- your answer should use `.remove()` and `.append()`.  "
   ]
  },
  {
   "cell_type": "code",
   "execution_count": 2,
   "id": "934a7a11",
   "metadata": {
    "execution": {
     "iopub.execute_input": "2022-11-09T09:17:47.295088Z",
     "iopub.status.busy": "2022-11-09T09:17:47.294370Z",
     "iopub.status.idle": "2022-11-09T09:17:47.304257Z",
     "shell.execute_reply": "2022-11-09T09:17:47.303411Z"
    },
    "papermill": {
     "duration": 0.019069,
     "end_time": "2022-11-09T09:17:47.306269",
     "exception": false,
     "start_time": "2022-11-09T09:17:47.287200",
     "status": "completed"
    },
    "tags": []
   },
   "outputs": [
    {
     "data": {
      "application/javascript": [
       "parent.postMessage({\"jupyterEvent\": \"custom.exercise_interaction\", \"data\": {\"outcomeType\": 1, \"valueTowardsCompletion\": 0.2, \"interactionType\": 1, \"questionType\": 2, \"questionId\": \"1_FoodMenu\", \"learnToolsVersion\": \"0.3.4\", \"failureMessage\": \"\", \"exceptionClass\": \"\", \"trace\": \"\"}}, \"*\")"
      ],
      "text/plain": [
       "<IPython.core.display.Javascript object>"
      ]
     },
     "metadata": {},
     "output_type": "display_data"
    },
    {
     "data": {
      "text/markdown": [
       "<span style=\"color:#33cc33\">Correct</span>"
      ],
      "text/plain": [
       "Correct"
      ]
     },
     "metadata": {},
     "output_type": "display_data"
    }
   ],
   "source": [
    "# Do not change: Initial menu for your restaurant\n",
    "menu = ['stewed meat with onions', 'bean soup', 'risotto with trout and shrimp',\n",
    "       'fish soup with cream and onion', 'gyro']\n",
    "\n",
    "# TODO: remove 'bean soup', and add 'roasted beet salad' to the end of the menu\n",
    "menu.remove('bean soup')\n",
    "menu.append('roasted beet salad')\n",
    "\n",
    "# Do not change: Check your answer\n",
    "q1.check()"
   ]
  },
  {
   "cell_type": "code",
   "execution_count": 3,
   "id": "f0583e97",
   "metadata": {
    "execution": {
     "iopub.execute_input": "2022-11-09T09:17:47.321680Z",
     "iopub.status.busy": "2022-11-09T09:17:47.321343Z",
     "iopub.status.idle": "2022-11-09T09:17:47.329294Z",
     "shell.execute_reply": "2022-11-09T09:17:47.328241Z"
    },
    "papermill": {
     "duration": 0.018547,
     "end_time": "2022-11-09T09:17:47.331297",
     "exception": false,
     "start_time": "2022-11-09T09:17:47.312750",
     "status": "completed"
    },
    "tags": []
   },
   "outputs": [
    {
     "data": {
      "application/javascript": [
       "parent.postMessage({\"jupyterEvent\": \"custom.exercise_interaction\", \"data\": {\"interactionType\": 3, \"questionType\": 2, \"questionId\": \"1_FoodMenu\", \"learnToolsVersion\": \"0.3.4\", \"valueTowardsCompletion\": 0.0, \"failureMessage\": \"\", \"exceptionClass\": \"\", \"trace\": \"\", \"outcomeType\": 4}}, \"*\")"
      ],
      "text/plain": [
       "<IPython.core.display.Javascript object>"
      ]
     },
     "metadata": {},
     "output_type": "display_data"
    },
    {
     "data": {
      "text/markdown": [
       "<span style=\"color:#33cc99\">Solution:</span> \n",
       "```python\n",
       "# Do not change: Initial menu for your restaurant\n",
       "menu = ['stewed meat with onions', 'bean soup', 'risotto with trout and shrimp',\n",
       "       'fish soup with cream and onion', 'gyro']\n",
       "\n",
       "# Remove 'bean soup', and add 'roasted beet salad' to the end of the menu\n",
       "menu.remove('bean soup')\n",
       "menu.append('roasted beet salad')\n",
       "\n",
       "```"
      ],
      "text/plain": [
       "Solution: \n",
       "```python\n",
       "# Do not change: Initial menu for your restaurant\n",
       "menu = ['stewed meat with onions', 'bean soup', 'risotto with trout and shrimp',\n",
       "       'fish soup with cream and onion', 'gyro']\n",
       "\n",
       "# Remove 'bean soup', and add 'roasted beet salad' to the end of the menu\n",
       "menu.remove('bean soup')\n",
       "menu.append('roasted beet salad')\n",
       "\n",
       "```"
      ]
     },
     "metadata": {},
     "output_type": "display_data"
    }
   ],
   "source": [
    "q1.solution()"
   ]
  },
  {
   "cell_type": "code",
   "execution_count": 4,
   "id": "8d40e09d",
   "metadata": {
    "execution": {
     "iopub.execute_input": "2022-11-09T09:17:47.345909Z",
     "iopub.status.busy": "2022-11-09T09:17:47.345364Z",
     "iopub.status.idle": "2022-11-09T09:17:47.349145Z",
     "shell.execute_reply": "2022-11-09T09:17:47.348356Z"
    },
    "papermill": {
     "duration": 0.01284,
     "end_time": "2022-11-09T09:17:47.350757",
     "exception": false,
     "start_time": "2022-11-09T09:17:47.337917",
     "status": "completed"
    },
    "tags": []
   },
   "outputs": [],
   "source": [
    "# Uncomment to see a hint\n",
    "#q1.hint()\n",
    "\n",
    "# Uncomment to see the solution\n",
    "#q1.solution()"
   ]
  },
  {
   "cell_type": "markdown",
   "id": "c3132260",
   "metadata": {
    "papermill": {
     "duration": 0.006324,
     "end_time": "2022-11-09T09:17:47.364088",
     "exception": false,
     "start_time": "2022-11-09T09:17:47.357764",
     "status": "completed"
    },
    "tags": []
   },
   "source": [
    "# Question 2\n",
    "\n",
    "The list `num_customers` contains the number of customers who came into your restaurant every day over the last month (which lasted thirty days).  Fill in values for each of the following:\n",
    "- `avg_first_seven` - average number of customers who visited in the first seven days\n",
    "- `avg_last_seven` - average number of customers who visited in the last seven days\n",
    "- `max_month` - number of customers on the day that got the most customers in the last month\n",
    "- `min_month` - number of customers on the day that got the least customers in the last month\n",
    "\n",
    "Answer this question by writing code.  For instance, if you have to find the minimum value in a list, use `min()` instead of scanning for the smallest value and directly filling in a number."
   ]
  },
  {
   "cell_type": "code",
   "execution_count": 5,
   "id": "ed2e090d",
   "metadata": {
    "execution": {
     "iopub.execute_input": "2022-11-09T09:17:47.378501Z",
     "iopub.status.busy": "2022-11-09T09:17:47.378154Z",
     "iopub.status.idle": "2022-11-09T09:17:47.386337Z",
     "shell.execute_reply": "2022-11-09T09:17:47.385714Z"
    },
    "papermill": {
     "duration": 0.017413,
     "end_time": "2022-11-09T09:17:47.387974",
     "exception": false,
     "start_time": "2022-11-09T09:17:47.370561",
     "status": "completed"
    },
    "tags": []
   },
   "outputs": [
    {
     "data": {
      "application/javascript": [
       "parent.postMessage({\"jupyterEvent\": \"custom.exercise_interaction\", \"data\": {\"outcomeType\": 1, \"valueTowardsCompletion\": 0.2, \"interactionType\": 1, \"questionType\": 1, \"questionId\": \"2_NumCustomers\", \"learnToolsVersion\": \"0.3.4\", \"failureMessage\": \"\", \"exceptionClass\": \"\", \"trace\": \"\"}}, \"*\")"
      ],
      "text/plain": [
       "<IPython.core.display.Javascript object>"
      ]
     },
     "metadata": {},
     "output_type": "display_data"
    },
    {
     "data": {
      "text/markdown": [
       "<span style=\"color:#33cc33\">Correct</span>"
      ],
      "text/plain": [
       "Correct"
      ]
     },
     "metadata": {},
     "output_type": "display_data"
    }
   ],
   "source": [
    "# Do not change: Number of customers each day for the last month\n",
    "num_customers = [137, 147, 135, 128, 170, 174, 165, 146, 126, 159,\n",
    "                 141, 148, 132, 147, 168, 153, 170, 161, 148, 152,\n",
    "                 141, 151, 131, 149, 164, 163, 143, 143, 166, 171]\n",
    "\n",
    "# TODO: Fill in values for the variables below\n",
    "avg_first_seven = sum(num_customers[:7])/7\n",
    "avg_last_seven = sum(num_customers[-7:])/7\n",
    "max_month = max(num_customers)\n",
    "min_month = min(num_customers)\n",
    "\n",
    "# Do not change: Check your answer\n",
    "q2.check()"
   ]
  },
  {
   "cell_type": "code",
   "execution_count": 6,
   "id": "90d2cea7",
   "metadata": {
    "execution": {
     "iopub.execute_input": "2022-11-09T09:17:47.404065Z",
     "iopub.status.busy": "2022-11-09T09:17:47.403213Z",
     "iopub.status.idle": "2022-11-09T09:17:47.411310Z",
     "shell.execute_reply": "2022-11-09T09:17:47.410532Z"
    },
    "papermill": {
     "duration": 0.018052,
     "end_time": "2022-11-09T09:17:47.413133",
     "exception": false,
     "start_time": "2022-11-09T09:17:47.395081",
     "status": "completed"
    },
    "tags": []
   },
   "outputs": [
    {
     "data": {
      "application/javascript": [
       "parent.postMessage({\"jupyterEvent\": \"custom.exercise_interaction\", \"data\": {\"interactionType\": 3, \"questionType\": 1, \"questionId\": \"2_NumCustomers\", \"learnToolsVersion\": \"0.3.4\", \"valueTowardsCompletion\": 0.0, \"failureMessage\": \"\", \"exceptionClass\": \"\", \"trace\": \"\", \"outcomeType\": 4}}, \"*\")"
      ],
      "text/plain": [
       "<IPython.core.display.Javascript object>"
      ]
     },
     "metadata": {},
     "output_type": "display_data"
    },
    {
     "data": {
      "text/markdown": [
       "<span style=\"color:#33cc99\">Solution:</span> \n",
       "```python\n",
       "# Fill in values for the variables below\n",
       "avg_first_seven = sum(num_customers[:7])/7 \n",
       "avg_last_seven = sum(num_customers[-7:])/7\n",
       "max_month = max(num_customers)\n",
       "min_month = min(num_customers)\n",
       "\n",
       "```"
      ],
      "text/plain": [
       "Solution: \n",
       "```python\n",
       "# Fill in values for the variables below\n",
       "avg_first_seven = sum(num_customers[:7])/7 \n",
       "avg_last_seven = sum(num_customers[-7:])/7\n",
       "max_month = max(num_customers)\n",
       "min_month = min(num_customers)\n",
       "\n",
       "```"
      ]
     },
     "metadata": {},
     "output_type": "display_data"
    }
   ],
   "source": [
    "q2.solution()"
   ]
  },
  {
   "cell_type": "code",
   "execution_count": 7,
   "id": "b8be8520",
   "metadata": {
    "execution": {
     "iopub.execute_input": "2022-11-09T09:17:47.429058Z",
     "iopub.status.busy": "2022-11-09T09:17:47.428682Z",
     "iopub.status.idle": "2022-11-09T09:17:47.431958Z",
     "shell.execute_reply": "2022-11-09T09:17:47.431271Z"
    },
    "papermill": {
     "duration": 0.013275,
     "end_time": "2022-11-09T09:17:47.433557",
     "exception": false,
     "start_time": "2022-11-09T09:17:47.420282",
     "status": "completed"
    },
    "tags": []
   },
   "outputs": [],
   "source": [
    "# Uncomment to see a hint\n",
    "#q2.hint()\n",
    "\n",
    "# Uncomment to see the solution\n",
    "#q2.solution()"
   ]
  },
  {
   "cell_type": "markdown",
   "id": "fccff28c",
   "metadata": {
    "papermill": {
     "duration": 0.006955,
     "end_time": "2022-11-09T09:17:47.447887",
     "exception": false,
     "start_time": "2022-11-09T09:17:47.440932",
     "status": "completed"
    },
    "tags": []
   },
   "source": [
    "# Question 3\n",
    "\n",
    "In the tutorial, we gave an example of a Python string with information that was better as a list."
   ]
  },
  {
   "cell_type": "code",
   "execution_count": 8,
   "id": "d124a131",
   "metadata": {
    "execution": {
     "iopub.execute_input": "2022-11-09T09:17:47.463852Z",
     "iopub.status.busy": "2022-11-09T09:17:47.463521Z",
     "iopub.status.idle": "2022-11-09T09:17:47.467890Z",
     "shell.execute_reply": "2022-11-09T09:17:47.467050Z"
    },
    "papermill": {
     "duration": 0.01412,
     "end_time": "2022-11-09T09:17:47.469422",
     "exception": false,
     "start_time": "2022-11-09T09:17:47.455302",
     "status": "completed"
    },
    "tags": []
   },
   "outputs": [],
   "source": [
    "flowers = \"pink primrose,hard-leaved pocket orchid,canterbury bells,sweet pea,english marigold,tiger lily,moon orchid,bird of paradise,monkshood,globe thistle\""
   ]
  },
  {
   "cell_type": "markdown",
   "id": "c715b25b",
   "metadata": {
    "papermill": {
     "duration": 0.006772,
     "end_time": "2022-11-09T09:17:47.483275",
     "exception": false,
     "start_time": "2022-11-09T09:17:47.476503",
     "status": "completed"
    },
    "tags": []
   },
   "source": [
    "You can actually use Python to quickly turn this string into a list with `.split()`.  In the parentheses, we need to provide the character should be used to mark the end of one list item and the beginning of another, and enclose it in quotation marks.  In this case, that character is a comma."
   ]
  },
  {
   "cell_type": "code",
   "execution_count": 9,
   "id": "9d565090",
   "metadata": {
    "execution": {
     "iopub.execute_input": "2022-11-09T09:17:47.498275Z",
     "iopub.status.busy": "2022-11-09T09:17:47.497974Z",
     "iopub.status.idle": "2022-11-09T09:17:47.503125Z",
     "shell.execute_reply": "2022-11-09T09:17:47.501984Z"
    },
    "papermill": {
     "duration": 0.014842,
     "end_time": "2022-11-09T09:17:47.505066",
     "exception": false,
     "start_time": "2022-11-09T09:17:47.490224",
     "status": "completed"
    },
    "tags": []
   },
   "outputs": [
    {
     "name": "stdout",
     "output_type": "stream",
     "text": [
      "['pink primrose', 'hard-leaved pocket orchid', 'canterbury bells', 'sweet pea', 'english marigold', 'tiger lily', 'moon orchid', 'bird of paradise', 'monkshood', 'globe thistle']\n"
     ]
    }
   ],
   "source": [
    " print(flowers.split(\",\"))"
   ]
  },
  {
   "cell_type": "markdown",
   "id": "d02c6332",
   "metadata": {
    "papermill": {
     "duration": 0.00693,
     "end_time": "2022-11-09T09:17:47.519709",
     "exception": false,
     "start_time": "2022-11-09T09:17:47.512779",
     "status": "completed"
    },
    "tags": []
   },
   "source": [
    "Now it is your turn to try this out!  Create two Python lists:\n",
    "- `letters` should be a Python list where each entry is an uppercase letter of the English alphabet.  For instance, the first two entries should be `\"A\"` and `\"B\"`, and the final two entries should be `\"Y\"` and `\"Z\"`.  Use the string `alphabet` to create this list.\n",
    "- `address` should be a Python list where each row in `address` is a different item in the list.  Currently, each row in `address` is separated by a comma. "
   ]
  },
  {
   "cell_type": "code",
   "execution_count": 10,
   "id": "1195990e",
   "metadata": {
    "execution": {
     "iopub.execute_input": "2022-11-09T09:17:47.535043Z",
     "iopub.status.busy": "2022-11-09T09:17:47.534697Z",
     "iopub.status.idle": "2022-11-09T09:17:47.542098Z",
     "shell.execute_reply": "2022-11-09T09:17:47.541184Z"
    },
    "papermill": {
     "duration": 0.017041,
     "end_time": "2022-11-09T09:17:47.543598",
     "exception": false,
     "start_time": "2022-11-09T09:17:47.526557",
     "status": "completed"
    },
    "tags": []
   },
   "outputs": [
    {
     "data": {
      "application/javascript": [
       "parent.postMessage({\"jupyterEvent\": \"custom.exercise_interaction\", \"data\": {\"outcomeType\": 1, \"valueTowardsCompletion\": 0.2, \"interactionType\": 1, \"questionType\": 1, \"questionId\": \"3_SplitString\", \"learnToolsVersion\": \"0.3.4\", \"failureMessage\": \"\", \"exceptionClass\": \"\", \"trace\": \"\"}}, \"*\")"
      ],
      "text/plain": [
       "<IPython.core.display.Javascript object>"
      ]
     },
     "metadata": {},
     "output_type": "display_data"
    },
    {
     "data": {
      "text/markdown": [
       "<span style=\"color:#33cc33\">Correct</span>"
      ],
      "text/plain": [
       "Correct"
      ]
     },
     "metadata": {},
     "output_type": "display_data"
    }
   ],
   "source": [
    "# DO not change: Define two Python strings\n",
    "alphabet = \"A.B.C.D.E.F.G.H.I.J.K.L.M.N.O.P.Q.R.S.T.U.V.W.X.Y.Z\"\n",
    "address = \"Mr. H. Potter,The cupboard under the Stairs,4 Privet Drive,Little Whinging,Surrey\"\n",
    "\n",
    "# TODO: Convert strings into Python lists\n",
    "letters = alphabet.split('.')\n",
    "formatted_address = address.split(',')\n",
    "\n",
    "# Do not change: Check your answer\n",
    "q3.check()"
   ]
  },
  {
   "cell_type": "code",
   "execution_count": 11,
   "id": "0647b644",
   "metadata": {
    "execution": {
     "iopub.execute_input": "2022-11-09T09:17:47.559229Z",
     "iopub.status.busy": "2022-11-09T09:17:47.558923Z",
     "iopub.status.idle": "2022-11-09T09:17:47.566260Z",
     "shell.execute_reply": "2022-11-09T09:17:47.565340Z"
    },
    "papermill": {
     "duration": 0.017271,
     "end_time": "2022-11-09T09:17:47.568023",
     "exception": false,
     "start_time": "2022-11-09T09:17:47.550752",
     "status": "completed"
    },
    "tags": []
   },
   "outputs": [
    {
     "data": {
      "application/javascript": [
       "parent.postMessage({\"jupyterEvent\": \"custom.exercise_interaction\", \"data\": {\"interactionType\": 3, \"questionType\": 1, \"questionId\": \"3_SplitString\", \"learnToolsVersion\": \"0.3.4\", \"valueTowardsCompletion\": 0.0, \"failureMessage\": \"\", \"exceptionClass\": \"\", \"trace\": \"\", \"outcomeType\": 4}}, \"*\")"
      ],
      "text/plain": [
       "<IPython.core.display.Javascript object>"
      ]
     },
     "metadata": {},
     "output_type": "display_data"
    },
    {
     "data": {
      "text/markdown": [
       "<span style=\"color:#33cc99\">Solution:</span> \n",
       "```python\n",
       "letters = alphabet.split(\".\")\n",
       "formatted_address = address.split(\",\")\n",
       "\n",
       "```"
      ],
      "text/plain": [
       "Solution: \n",
       "```python\n",
       "letters = alphabet.split(\".\")\n",
       "formatted_address = address.split(\",\")\n",
       "\n",
       "```"
      ]
     },
     "metadata": {},
     "output_type": "display_data"
    }
   ],
   "source": [
    "q3.solution()"
   ]
  },
  {
   "cell_type": "code",
   "execution_count": 12,
   "id": "4c752070",
   "metadata": {
    "execution": {
     "iopub.execute_input": "2022-11-09T09:17:47.584351Z",
     "iopub.status.busy": "2022-11-09T09:17:47.583983Z",
     "iopub.status.idle": "2022-11-09T09:17:47.588022Z",
     "shell.execute_reply": "2022-11-09T09:17:47.587111Z"
    },
    "papermill": {
     "duration": 0.014267,
     "end_time": "2022-11-09T09:17:47.589660",
     "exception": false,
     "start_time": "2022-11-09T09:17:47.575393",
     "status": "completed"
    },
    "tags": []
   },
   "outputs": [],
   "source": [
    "# Uncomment to see a hint\n",
    "#q3.hint()\n",
    "\n",
    "# Uncomment to see the solution\n",
    "#q3.solution()"
   ]
  },
  {
   "cell_type": "markdown",
   "id": "bfbc84ab",
   "metadata": {
    "papermill": {
     "duration": 0.007039,
     "end_time": "2022-11-09T09:17:47.603921",
     "exception": false,
     "start_time": "2022-11-09T09:17:47.596882",
     "status": "completed"
    },
    "tags": []
   },
   "source": [
    "# Question 4\n",
    "\n",
    "In the Python course, you'll learn all about **list comprehensions**, which allow you to create a list based on the values in another list.  In this question, you'll get a brief preview of how they work.\n",
    "\n",
    "Say we're working with the list below."
   ]
  },
  {
   "cell_type": "code",
   "execution_count": 13,
   "id": "24056b5a",
   "metadata": {
    "execution": {
     "iopub.execute_input": "2022-11-09T09:17:47.619311Z",
     "iopub.status.busy": "2022-11-09T09:17:47.619002Z",
     "iopub.status.idle": "2022-11-09T09:17:47.623275Z",
     "shell.execute_reply": "2022-11-09T09:17:47.622401Z"
    },
    "papermill": {
     "duration": 0.014393,
     "end_time": "2022-11-09T09:17:47.625417",
     "exception": false,
     "start_time": "2022-11-09T09:17:47.611024",
     "status": "completed"
    },
    "tags": []
   },
   "outputs": [],
   "source": [
    "test_ratings = [1, 2, 3, 4, 5]"
   ]
  },
  {
   "cell_type": "markdown",
   "id": "4a9f1397",
   "metadata": {
    "papermill": {
     "duration": 0.007163,
     "end_time": "2022-11-09T09:17:47.640561",
     "exception": false,
     "start_time": "2022-11-09T09:17:47.633398",
     "status": "completed"
    },
    "tags": []
   },
   "source": [
    "Then we can use this list (`test_ratings`) to create a new list (`test_liked`) where each item has been turned into a boolean, depending on whether or not the item is greater than or equal to four."
   ]
  },
  {
   "cell_type": "code",
   "execution_count": 14,
   "id": "6eac9753",
   "metadata": {
    "execution": {
     "iopub.execute_input": "2022-11-09T09:17:47.657047Z",
     "iopub.status.busy": "2022-11-09T09:17:47.656325Z",
     "iopub.status.idle": "2022-11-09T09:17:47.661038Z",
     "shell.execute_reply": "2022-11-09T09:17:47.660162Z"
    },
    "papermill": {
     "duration": 0.014781,
     "end_time": "2022-11-09T09:17:47.662641",
     "exception": false,
     "start_time": "2022-11-09T09:17:47.647860",
     "status": "completed"
    },
    "tags": []
   },
   "outputs": [
    {
     "name": "stdout",
     "output_type": "stream",
     "text": [
      "[False, False, False, True, True]\n"
     ]
    }
   ],
   "source": [
    "test_liked = [i>=4 for i in test_ratings]\n",
    "print(test_liked)"
   ]
  },
  {
   "cell_type": "markdown",
   "id": "e39e17a2",
   "metadata": {
    "papermill": {
     "duration": 0.007327,
     "end_time": "2022-11-09T09:17:47.677744",
     "exception": false,
     "start_time": "2022-11-09T09:17:47.670417",
     "status": "completed"
    },
    "tags": []
   },
   "source": [
    "In this question, you'll use this list comprehension to define a function `percentage_liked()` that takes one argument as input:\n",
    "- `ratings`: list of ratings that people gave to a movie, where each rating is a number between 1-5, inclusive\n",
    "\n",
    "We say someone liked the movie, if they gave a rating of either 4 or 5.  Your function should return the percentage of people who liked the movie.\n",
    "\n",
    "For instance, if we supply a value of `[1, 2, 3, 4, 5, 4, 5, 1]`, then 50% (4/8) of the people liked the movie, and the function should return `0.5`.\n",
    "\n",
    "Part of the function has already been completed for you.  You need only use `list_liked` to calculate `percentage_liked`."
   ]
  },
  {
   "cell_type": "code",
   "execution_count": 15,
   "id": "03088189",
   "metadata": {
    "execution": {
     "iopub.execute_input": "2022-11-09T09:17:47.694972Z",
     "iopub.status.busy": "2022-11-09T09:17:47.694105Z",
     "iopub.status.idle": "2022-11-09T09:17:47.701513Z",
     "shell.execute_reply": "2022-11-09T09:17:47.700926Z"
    },
    "papermill": {
     "duration": 0.017552,
     "end_time": "2022-11-09T09:17:47.703047",
     "exception": false,
     "start_time": "2022-11-09T09:17:47.685495",
     "status": "completed"
    },
    "tags": []
   },
   "outputs": [
    {
     "data": {
      "application/javascript": [
       "parent.postMessage({\"jupyterEvent\": \"custom.exercise_interaction\", \"data\": {\"outcomeType\": 1, \"valueTowardsCompletion\": 0.2, \"interactionType\": 1, \"questionType\": 2, \"questionId\": \"4_PercentageLiked\", \"learnToolsVersion\": \"0.3.4\", \"failureMessage\": \"\", \"exceptionClass\": \"\", \"trace\": \"\"}}, \"*\")"
      ],
      "text/plain": [
       "<IPython.core.display.Javascript object>"
      ]
     },
     "metadata": {},
     "output_type": "display_data"
    },
    {
     "data": {
      "text/markdown": [
       "<span style=\"color:#33cc33\">Correct</span>"
      ],
      "text/plain": [
       "Correct"
      ]
     },
     "metadata": {},
     "output_type": "display_data"
    }
   ],
   "source": [
    "\n",
    "def percentage_liked(ratings):\n",
    "    list_liked = [i>=4 for i in ratings]\n",
    "    # TODO: Complete the function\n",
    "    percentage_liked = sum(list_liked)/len(ratings)\n",
    "    return percentage_liked\n",
    "\n",
    "# Do not change: should return 0.5\n",
    "percentage_liked([1, 2, 3, 4, 5, 4, 5, 1])\n",
    "\n",
    "# Do not change: Check your answer\n",
    "q4.check()"
   ]
  },
  {
   "cell_type": "code",
   "execution_count": 16,
   "id": "c92d12ee",
   "metadata": {
    "execution": {
     "iopub.execute_input": "2022-11-09T09:17:47.720491Z",
     "iopub.status.busy": "2022-11-09T09:17:47.719326Z",
     "iopub.status.idle": "2022-11-09T09:17:47.727431Z",
     "shell.execute_reply": "2022-11-09T09:17:47.726461Z"
    },
    "papermill": {
     "duration": 0.018216,
     "end_time": "2022-11-09T09:17:47.729086",
     "exception": false,
     "start_time": "2022-11-09T09:17:47.710870",
     "status": "completed"
    },
    "tags": []
   },
   "outputs": [
    {
     "data": {
      "application/javascript": [
       "parent.postMessage({\"jupyterEvent\": \"custom.exercise_interaction\", \"data\": {\"interactionType\": 3, \"questionType\": 2, \"questionId\": \"4_PercentageLiked\", \"learnToolsVersion\": \"0.3.4\", \"valueTowardsCompletion\": 0.0, \"failureMessage\": \"\", \"exceptionClass\": \"\", \"trace\": \"\", \"outcomeType\": 4}}, \"*\")"
      ],
      "text/plain": [
       "<IPython.core.display.Javascript object>"
      ]
     },
     "metadata": {},
     "output_type": "display_data"
    },
    {
     "data": {
      "text/markdown": [
       "<span style=\"color:#33cc99\">Solution:</span> \n",
       "```python\n",
       "\n",
       "# Complete the function\n",
       "def percentage_liked(ratings):\n",
       "    list_liked = [i >= 4 for i in ratings]\n",
       "    percentage_liked = sum(list_liked)/len(list_liked)\n",
       "    return percentage_liked\n",
       "\n",
       "```"
      ],
      "text/plain": [
       "Solution: \n",
       "```python\n",
       "\n",
       "# Complete the function\n",
       "def percentage_liked(ratings):\n",
       "    list_liked = [i >= 4 for i in ratings]\n",
       "    percentage_liked = sum(list_liked)/len(list_liked)\n",
       "    return percentage_liked\n",
       "\n",
       "```"
      ]
     },
     "metadata": {},
     "output_type": "display_data"
    }
   ],
   "source": [
    "q4.solution()"
   ]
  },
  {
   "cell_type": "code",
   "execution_count": 17,
   "id": "58447d90",
   "metadata": {
    "execution": {
     "iopub.execute_input": "2022-11-09T09:17:47.746460Z",
     "iopub.status.busy": "2022-11-09T09:17:47.746008Z",
     "iopub.status.idle": "2022-11-09T09:17:47.748963Z",
     "shell.execute_reply": "2022-11-09T09:17:47.748389Z"
    },
    "papermill": {
     "duration": 0.013396,
     "end_time": "2022-11-09T09:17:47.750493",
     "exception": false,
     "start_time": "2022-11-09T09:17:47.737097",
     "status": "completed"
    },
    "tags": []
   },
   "outputs": [],
   "source": [
    "# Uncomment to see a hint\n",
    "#q4.hint()\n",
    "\n",
    "# Uncomment to see the solution\n",
    "#q4.solution()"
   ]
  },
  {
   "cell_type": "markdown",
   "id": "9c9fa979",
   "metadata": {
    "papermill": {
     "duration": 0.008062,
     "end_time": "2022-11-09T09:17:47.766777",
     "exception": false,
     "start_time": "2022-11-09T09:17:47.758715",
     "status": "completed"
    },
    "tags": []
   },
   "source": [
    "# 🌶️ Question 5\n",
    " \n",
    "Say you're doing analytics for a website.  You need to write a function that returns the percentage growth in the total number of users relative to a specified number of years ago.\n",
    "\n",
    "Your function `percentage_growth()` should take two arguments as input:\n",
    "- `num_users` = Python list with the total number of users each year.  So `num_users[0]` is the total number of users in the first year, `num_users[1]` is the total number of users in the second year, and so on.  The final entry in the list gives the total number of users in the most recently completed year.\n",
    "- `yrs_ago` = number of years to go back in time when calculating the growth percentage\n",
    "\n",
    "For instance, say `num_users = [920344, 1043553, 1204334, 1458996, 1503323, 1593432, 1623463, 1843064, 1930992, 2001078]`.\n",
    "- if `yrs_ago = 1`, we want the function to return a value of about `0.036`. This corresponds to a percentage growth of approximately 3.6%, calculated as (2001078 - 1930992)/1930992.\n",
    "- if `years_ago = 7`, we would want to return approximately `0.66`.  This corresponds to a percentage growth of approximately 66%, calculated as (2001078 - 1204334)/1204334.\n",
    "\n",
    "Your coworker sent you a draft of a function, but it doesn't seem to be doing the correct calculation.  Can you figure out what has gone wrong and make the needed changes?"
   ]
  },
  {
   "cell_type": "code",
   "execution_count": 18,
   "id": "b5f92ee6",
   "metadata": {
    "execution": {
     "iopub.execute_input": "2022-11-09T09:17:47.785035Z",
     "iopub.status.busy": "2022-11-09T09:17:47.784465Z",
     "iopub.status.idle": "2022-11-09T09:17:47.794577Z",
     "shell.execute_reply": "2022-11-09T09:17:47.793600Z"
    },
    "papermill": {
     "duration": 0.021319,
     "end_time": "2022-11-09T09:17:47.796474",
     "exception": false,
     "start_time": "2022-11-09T09:17:47.775155",
     "status": "completed"
    },
    "tags": []
   },
   "outputs": [
    {
     "name": "stdout",
     "output_type": "stream",
     "text": [
      "0.03629533421163837\n",
      "0.6615639847417742\n"
     ]
    },
    {
     "data": {
      "application/javascript": [
       "parent.postMessage({\"jupyterEvent\": \"custom.exercise_interaction\", \"data\": {\"outcomeType\": 1, \"valueTowardsCompletion\": 0.2, \"interactionType\": 1, \"questionType\": 2, \"questionId\": \"5_WebsiteAnalytics\", \"learnToolsVersion\": \"0.3.4\", \"failureMessage\": \"\", \"exceptionClass\": \"\", \"trace\": \"\"}}, \"*\")"
      ],
      "text/plain": [
       "<IPython.core.display.Javascript object>"
      ]
     },
     "metadata": {},
     "output_type": "display_data"
    },
    {
     "data": {
      "text/markdown": [
       "<span style=\"color:#33cc33\">Correct</span>"
      ],
      "text/plain": [
       "Correct"
      ]
     },
     "metadata": {},
     "output_type": "display_data"
    }
   ],
   "source": [
    "# TODO: Edit the function\n",
    "def percentage_growth(num_users, yrs_ago):\n",
    "    l = len(num_users)\n",
    "    growth = (num_users[l-1] - num_users[l-yrs_ago-1])/num_users[l-yrs_ago-1]\n",
    "    return growth\n",
    "\n",
    "# Do not change: Variable for calculating some test examples\n",
    "num_users_test = [920344, 1043553, 1204334, 1458996, 1503323, 1593432, 1623463, 1843064, 1930992, 2001078]\n",
    "\n",
    "# Do not change: Should return .036\n",
    "print(percentage_growth(num_users_test, 1))\n",
    "\n",
    "# Do not change: Should return 0.66\n",
    "print(percentage_growth(num_users_test, 7))\n",
    "\n",
    "# Do not change: Check your answer\n",
    "q5.check()"
   ]
  },
  {
   "cell_type": "code",
   "execution_count": 19,
   "id": "7ef8d82d",
   "metadata": {
    "execution": {
     "iopub.execute_input": "2022-11-09T09:17:47.814788Z",
     "iopub.status.busy": "2022-11-09T09:17:47.814292Z",
     "iopub.status.idle": "2022-11-09T09:17:47.820551Z",
     "shell.execute_reply": "2022-11-09T09:17:47.819716Z"
    },
    "papermill": {
     "duration": 0.017394,
     "end_time": "2022-11-09T09:17:47.822278",
     "exception": false,
     "start_time": "2022-11-09T09:17:47.804884",
     "status": "completed"
    },
    "tags": []
   },
   "outputs": [
    {
     "data": {
      "application/javascript": [
       "parent.postMessage({\"jupyterEvent\": \"custom.exercise_interaction\", \"data\": {\"interactionType\": 3, \"questionType\": 2, \"questionId\": \"5_WebsiteAnalytics\", \"learnToolsVersion\": \"0.3.4\", \"valueTowardsCompletion\": 0.0, \"failureMessage\": \"\", \"exceptionClass\": \"\", \"trace\": \"\", \"outcomeType\": 4}}, \"*\")"
      ],
      "text/plain": [
       "<IPython.core.display.Javascript object>"
      ]
     },
     "metadata": {},
     "output_type": "display_data"
    },
    {
     "data": {
      "text/markdown": [
       "<span style=\"color:#33cc99\">Solution:</span> \n",
       "```python\n",
       "def percentage_growth(num_users, yrs_ago):\n",
       "    growth = (num_users[len(num_users)-1] - num_users[len(num_users)-yrs_ago-1])/num_users[len(num_users)-yrs_ago-1]\n",
       "    return growth\n",
       "\n",
       "```"
      ],
      "text/plain": [
       "Solution: \n",
       "```python\n",
       "def percentage_growth(num_users, yrs_ago):\n",
       "    growth = (num_users[len(num_users)-1] - num_users[len(num_users)-yrs_ago-1])/num_users[len(num_users)-yrs_ago-1]\n",
       "    return growth\n",
       "\n",
       "```"
      ]
     },
     "metadata": {},
     "output_type": "display_data"
    }
   ],
   "source": [
    "q5.solution()"
   ]
  },
  {
   "cell_type": "code",
   "execution_count": 20,
   "id": "72a8cfd7",
   "metadata": {
    "execution": {
     "iopub.execute_input": "2022-11-09T09:17:47.841630Z",
     "iopub.status.busy": "2022-11-09T09:17:47.841239Z",
     "iopub.status.idle": "2022-11-09T09:17:47.845692Z",
     "shell.execute_reply": "2022-11-09T09:17:47.844733Z"
    },
    "papermill": {
     "duration": 0.016368,
     "end_time": "2022-11-09T09:17:47.847526",
     "exception": false,
     "start_time": "2022-11-09T09:17:47.831158",
     "status": "completed"
    },
    "tags": []
   },
   "outputs": [],
   "source": [
    "# Uncomment to see a hint\n",
    "#q5.hint()\n",
    "\n",
    "# Uncomment to see the solution\n",
    "#q5.solution()"
   ]
  },
  {
   "cell_type": "markdown",
   "id": "2fdaa37c",
   "metadata": {
    "papermill": {
     "duration": 0.008408,
     "end_time": "2022-11-09T09:17:47.864590",
     "exception": false,
     "start_time": "2022-11-09T09:17:47.856182",
     "status": "completed"
    },
    "tags": []
   },
   "source": [
    "---\n",
    "\n",
    "\n",
    "\n",
    "\n",
    "**Allen**"
   ]
  }
 ],
 "metadata": {
  "kernelspec": {
   "display_name": "Python 3",
   "language": "python",
   "name": "python3"
  },
  "language_info": {
   "codemirror_mode": {
    "name": "ipython",
    "version": 3
   },
   "file_extension": ".py",
   "mimetype": "text/x-python",
   "name": "python",
   "nbconvert_exporter": "python",
   "pygments_lexer": "ipython3",
   "version": "3.7.12"
  },
  "papermill": {
   "default_parameters": {},
   "duration": 7.901182,
   "end_time": "2022-11-09T09:17:48.393403",
   "environment_variables": {},
   "exception": null,
   "input_path": "__notebook__.ipynb",
   "output_path": "__notebook__.ipynb",
   "parameters": {},
   "start_time": "2022-11-09T09:17:40.492221",
   "version": "2.3.4"
  }
 },
 "nbformat": 4,
 "nbformat_minor": 5
}
