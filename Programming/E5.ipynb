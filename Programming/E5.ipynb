{
 "cells": [
  {
   "cell_type": "markdown",
   "id": "172e1037",
   "metadata": {
    "papermill": {
     "duration": 0.011127,
     "end_time": "2022-11-09T09:25:24.777495",
     "exception": false,
     "start_time": "2022-11-09T09:25:24.766368",
     "status": "completed"
    },
    "tags": []
   },
   "source": [
    "**This notebook is an exercise in the [Intro to Programming](https://www.kaggle.com/learn/intro-to-programming) course.  You can reference the tutorial at [this link](https://www.kaggle.com/alexisbcook/intro-to-lists).**\n",
    "\n",
    "---\n"
   ]
  },
  {
   "cell_type": "markdown",
   "id": "a3b48208",
   "metadata": {
    "papermill": {
     "duration": 0.009625,
     "end_time": "2022-11-09T09:25:24.797270",
     "exception": false,
     "start_time": "2022-11-09T09:25:24.787645",
     "status": "completed"
    },
    "tags": []
   },
   "source": [
    "In the tutorial, you learned how to define and modify Python lists.  In this exercise, you will use your new knowledge to solve several problems.\n",
    "\n",
    "# Set up the notebook\n",
    "\n",
    "Run the next code cell without changes to set up the notebook."
   ]
  },
  {
   "cell_type": "code",
   "execution_count": 1,
   "id": "ce0104ba",
   "metadata": {
    "execution": {
     "iopub.execute_input": "2022-11-09T09:25:24.820078Z",
     "iopub.status.busy": "2022-11-09T09:25:24.819062Z",
     "iopub.status.idle": "2022-11-09T09:25:24.882505Z",
     "shell.execute_reply": "2022-11-09T09:25:24.881269Z"
    },
    "papermill": {
     "duration": 0.078784,
     "end_time": "2022-11-09T09:25:24.885801",
     "exception": false,
     "start_time": "2022-11-09T09:25:24.807017",
     "status": "completed"
    },
    "tags": []
   },
   "outputs": [
    {
     "name": "stdout",
     "output_type": "stream",
     "text": [
      "Setup complete.\n"
     ]
    }
   ],
   "source": [
    "from learntools.core import binder\n",
    "binder.bind(globals())\n",
    "from learntools.intro_to_programming.ex5 import *\n",
    "print('Setup complete.')"
   ]
  },
  {
   "cell_type": "markdown",
   "id": "d195a661",
   "metadata": {
    "papermill": {
     "duration": 0.007658,
     "end_time": "2022-11-09T09:25:24.904282",
     "exception": false,
     "start_time": "2022-11-09T09:25:24.896624",
     "status": "completed"
    },
    "tags": []
   },
   "source": [
    "# Question 1\n",
    "\n",
    "You own a restaurant with five food dishes, organized in the Python list `menu` below.  One day, you decide to:\n",
    "- remove bean soup (`'bean soup'`) from the menu, and\n",
    "- add roasted beet salad (`'roasted beet salad'`) to the menu.\n",
    "\n",
    "Implement this change to the list below.  While completing this task, \n",
    "- do not change the line that creates the `menu` list.  \n",
    "- your answer should use `.remove()` and `.append()`.  "
   ]
  },
  {
   "cell_type": "code",
   "execution_count": 2,
   "id": "8328dede",
   "metadata": {
    "execution": {
     "iopub.execute_input": "2022-11-09T09:25:24.920407Z",
     "iopub.status.busy": "2022-11-09T09:25:24.920036Z",
     "iopub.status.idle": "2022-11-09T09:25:24.933503Z",
     "shell.execute_reply": "2022-11-09T09:25:24.931649Z"
    },
    "papermill": {
     "duration": 0.026654,
     "end_time": "2022-11-09T09:25:24.938267",
     "exception": false,
     "start_time": "2022-11-09T09:25:24.911613",
     "status": "completed"
    },
    "tags": []
   },
   "outputs": [
    {
     "data": {
      "application/javascript": [
       "parent.postMessage({\"jupyterEvent\": \"custom.exercise_interaction\", \"data\": {\"outcomeType\": 1, \"valueTowardsCompletion\": 0.2, \"interactionType\": 1, \"questionType\": 2, \"questionId\": \"1_FoodMenu\", \"learnToolsVersion\": \"0.3.4\", \"failureMessage\": \"\", \"exceptionClass\": \"\", \"trace\": \"\"}}, \"*\")"
      ],
      "text/plain": [
       "<IPython.core.display.Javascript object>"
      ]
     },
     "metadata": {},
     "output_type": "display_data"
    },
    {
     "data": {
      "text/markdown": [
       "<span style=\"color:#33cc33\">Correct</span>"
      ],
      "text/plain": [
       "Correct"
      ]
     },
     "metadata": {},
     "output_type": "display_data"
    }
   ],
   "source": [
    "# Do not change: Initial menu for your restaurant\n",
    "menu = ['stewed meat with onions', 'bean soup', 'risotto with trout and shrimp',\n",
    "       'fish soup with cream and onion', 'gyro']\n",
    "\n",
    "# TODO: remove 'bean soup', and add 'roasted beet salad' to the end of the menu\n",
    "menu.remove('bean soup')\n",
    "menu.append('roasted beet salad')\n",
    "\n",
    "# Do not change: Check your answer\n",
    "q1.check()"
   ]
  },
  {
   "cell_type": "code",
   "execution_count": 3,
   "id": "7ff7aa19",
   "metadata": {
    "execution": {
     "iopub.execute_input": "2022-11-09T09:25:24.962263Z",
     "iopub.status.busy": "2022-11-09T09:25:24.961473Z",
     "iopub.status.idle": "2022-11-09T09:25:24.970822Z",
     "shell.execute_reply": "2022-11-09T09:25:24.969674Z"
    },
    "papermill": {
     "duration": 0.023094,
     "end_time": "2022-11-09T09:25:24.973341",
     "exception": false,
     "start_time": "2022-11-09T09:25:24.950247",
     "status": "completed"
    },
    "tags": []
   },
   "outputs": [
    {
     "data": {
      "application/javascript": [
       "parent.postMessage({\"jupyterEvent\": \"custom.exercise_interaction\", \"data\": {\"interactionType\": 3, \"questionType\": 2, \"questionId\": \"1_FoodMenu\", \"learnToolsVersion\": \"0.3.4\", \"valueTowardsCompletion\": 0.0, \"failureMessage\": \"\", \"exceptionClass\": \"\", \"trace\": \"\", \"outcomeType\": 4}}, \"*\")"
      ],
      "text/plain": [
       "<IPython.core.display.Javascript object>"
      ]
     },
     "metadata": {},
     "output_type": "display_data"
    },
    {
     "data": {
      "text/markdown": [
       "<span style=\"color:#33cc99\">Solution:</span> \n",
       "```python\n",
       "# Do not change: Initial menu for your restaurant\n",
       "menu = ['stewed meat with onions', 'bean soup', 'risotto with trout and shrimp',\n",
       "       'fish soup with cream and onion', 'gyro']\n",
       "\n",
       "# Remove 'bean soup', and add 'roasted beet salad' to the end of the menu\n",
       "menu.remove('bean soup')\n",
       "menu.append('roasted beet salad')\n",
       "\n",
       "```"
      ],
      "text/plain": [
       "Solution: \n",
       "```python\n",
       "# Do not change: Initial menu for your restaurant\n",
       "menu = ['stewed meat with onions', 'bean soup', 'risotto with trout and shrimp',\n",
       "       'fish soup with cream and onion', 'gyro']\n",
       "\n",
       "# Remove 'bean soup', and add 'roasted beet salad' to the end of the menu\n",
       "menu.remove('bean soup')\n",
       "menu.append('roasted beet salad')\n",
       "\n",
       "```"
      ]
     },
     "metadata": {},
     "output_type": "display_data"
    }
   ],
   "source": [
    "q1.solution()"
   ]
  },
  {
   "cell_type": "code",
   "execution_count": 4,
   "id": "51bfe872",
   "metadata": {
    "execution": {
     "iopub.execute_input": "2022-11-09T09:25:24.997362Z",
     "iopub.status.busy": "2022-11-09T09:25:24.996578Z",
     "iopub.status.idle": "2022-11-09T09:25:25.001366Z",
     "shell.execute_reply": "2022-11-09T09:25:25.000535Z"
    },
    "papermill": {
     "duration": 0.018806,
     "end_time": "2022-11-09T09:25:25.004017",
     "exception": false,
     "start_time": "2022-11-09T09:25:24.985211",
     "status": "completed"
    },
    "tags": []
   },
   "outputs": [],
   "source": [
    "# Uncomment to see a hint\n",
    "#q1.hint()\n",
    "\n",
    "# Uncomment to see the solution\n",
    "#q1.solution()"
   ]
  },
  {
   "cell_type": "markdown",
   "id": "16753a8d",
   "metadata": {
    "papermill": {
     "duration": 0.010826,
     "end_time": "2022-11-09T09:25:25.022609",
     "exception": false,
     "start_time": "2022-11-09T09:25:25.011783",
     "status": "completed"
    },
    "tags": []
   },
   "source": [
    "# Question 2\n",
    "\n",
    "The list `num_customers` contains the number of customers who came into your restaurant every day over the last month (which lasted thirty days).  Fill in values for each of the following:\n",
    "- `avg_first_seven` - average number of customers who visited in the first seven days\n",
    "- `avg_last_seven` - average number of customers who visited in the last seven days\n",
    "- `max_month` - number of customers on the day that got the most customers in the last month\n",
    "- `min_month` - number of customers on the day that got the least customers in the last month\n",
    "\n",
    "Answer this question by writing code.  For instance, if you have to find the minimum value in a list, use `min()` instead of scanning for the smallest value and directly filling in a number."
   ]
  },
  {
   "cell_type": "code",
   "execution_count": 5,
   "id": "df3f4bdf",
   "metadata": {
    "execution": {
     "iopub.execute_input": "2022-11-09T09:25:25.040427Z",
     "iopub.status.busy": "2022-11-09T09:25:25.039650Z",
     "iopub.status.idle": "2022-11-09T09:25:25.051056Z",
     "shell.execute_reply": "2022-11-09T09:25:25.050184Z"
    },
    "papermill": {
     "duration": 0.022592,
     "end_time": "2022-11-09T09:25:25.053133",
     "exception": false,
     "start_time": "2022-11-09T09:25:25.030541",
     "status": "completed"
    },
    "tags": []
   },
   "outputs": [
    {
     "data": {
      "application/javascript": [
       "parent.postMessage({\"jupyterEvent\": \"custom.exercise_interaction\", \"data\": {\"outcomeType\": 1, \"valueTowardsCompletion\": 0.2, \"interactionType\": 1, \"questionType\": 1, \"questionId\": \"2_NumCustomers\", \"learnToolsVersion\": \"0.3.4\", \"failureMessage\": \"\", \"exceptionClass\": \"\", \"trace\": \"\"}}, \"*\")"
      ],
      "text/plain": [
       "<IPython.core.display.Javascript object>"
      ]
     },
     "metadata": {},
     "output_type": "display_data"
    },
    {
     "data": {
      "text/markdown": [
       "<span style=\"color:#33cc33\">Correct</span>"
      ],
      "text/plain": [
       "Correct"
      ]
     },
     "metadata": {},
     "output_type": "display_data"
    }
   ],
   "source": [
    "# Do not change: Number of customers each day for the last month\n",
    "num_customers = [137, 147, 135, 128, 170, 174, 165, 146, 126, 159,\n",
    "                 141, 148, 132, 147, 168, 153, 170, 161, 148, 152,\n",
    "                 141, 151, 131, 149, 164, 163, 143, 143, 166, 171]\n",
    "\n",
    "# TODO: Fill in values for the variables below\n",
    "avg_first_seven = sum(num_customers[:7])/7\n",
    "avg_last_seven = sum(num_customers[-7:])/7\n",
    "max_month = max(num_customers)\n",
    "min_month = min(num_customers)\n",
    "\n",
    "# Do not change: Check your answer\n",
    "q2.check()"
   ]
  },
  {
   "cell_type": "code",
   "execution_count": 6,
   "id": "b8845bd7",
   "metadata": {
    "execution": {
     "iopub.execute_input": "2022-11-09T09:25:25.070692Z",
     "iopub.status.busy": "2022-11-09T09:25:25.070283Z",
     "iopub.status.idle": "2022-11-09T09:25:25.079210Z",
     "shell.execute_reply": "2022-11-09T09:25:25.078342Z"
    },
    "papermill": {
     "duration": 0.020357,
     "end_time": "2022-11-09T09:25:25.081395",
     "exception": false,
     "start_time": "2022-11-09T09:25:25.061038",
     "status": "completed"
    },
    "tags": []
   },
   "outputs": [
    {
     "data": {
      "application/javascript": [
       "parent.postMessage({\"jupyterEvent\": \"custom.exercise_interaction\", \"data\": {\"interactionType\": 3, \"questionType\": 1, \"questionId\": \"2_NumCustomers\", \"learnToolsVersion\": \"0.3.4\", \"valueTowardsCompletion\": 0.0, \"failureMessage\": \"\", \"exceptionClass\": \"\", \"trace\": \"\", \"outcomeType\": 4}}, \"*\")"
      ],
      "text/plain": [
       "<IPython.core.display.Javascript object>"
      ]
     },
     "metadata": {},
     "output_type": "display_data"
    },
    {
     "data": {
      "text/markdown": [
       "<span style=\"color:#33cc99\">Solution:</span> \n",
       "```python\n",
       "# Fill in values for the variables below\n",
       "avg_first_seven = sum(num_customers[:7])/7 \n",
       "avg_last_seven = sum(num_customers[-7:])/7\n",
       "max_month = max(num_customers)\n",
       "min_month = min(num_customers)\n",
       "\n",
       "```"
      ],
      "text/plain": [
       "Solution: \n",
       "```python\n",
       "# Fill in values for the variables below\n",
       "avg_first_seven = sum(num_customers[:7])/7 \n",
       "avg_last_seven = sum(num_customers[-7:])/7\n",
       "max_month = max(num_customers)\n",
       "min_month = min(num_customers)\n",
       "\n",
       "```"
      ]
     },
     "metadata": {},
     "output_type": "display_data"
    }
   ],
   "source": [
    "q2.solution()"
   ]
  },
  {
   "cell_type": "code",
   "execution_count": 7,
   "id": "ab22849d",
   "metadata": {
    "execution": {
     "iopub.execute_input": "2022-11-09T09:25:25.101700Z",
     "iopub.status.busy": "2022-11-09T09:25:25.100972Z",
     "iopub.status.idle": "2022-11-09T09:25:25.104772Z",
     "shell.execute_reply": "2022-11-09T09:25:25.104033Z"
    },
    "papermill": {
     "duration": 0.016349,
     "end_time": "2022-11-09T09:25:25.107159",
     "exception": false,
     "start_time": "2022-11-09T09:25:25.090810",
     "status": "completed"
    },
    "tags": []
   },
   "outputs": [],
   "source": [
    "# Uncomment to see a hint\n",
    "#q2.hint()\n",
    "\n",
    "# Uncomment to see the solution\n",
    "#q2.solution()"
   ]
  },
  {
   "cell_type": "markdown",
   "id": "9743015b",
   "metadata": {
    "papermill": {
     "duration": 0.007866,
     "end_time": "2022-11-09T09:25:25.123689",
     "exception": false,
     "start_time": "2022-11-09T09:25:25.115823",
     "status": "completed"
    },
    "tags": []
   },
   "source": [
    "# Question 3\n",
    "\n",
    "In the tutorial, we gave an example of a Python string with information that was better as a list."
   ]
  },
  {
   "cell_type": "code",
   "execution_count": 8,
   "id": "0a7d61b9",
   "metadata": {
    "execution": {
     "iopub.execute_input": "2022-11-09T09:25:25.142124Z",
     "iopub.status.busy": "2022-11-09T09:25:25.141370Z",
     "iopub.status.idle": "2022-11-09T09:25:25.145760Z",
     "shell.execute_reply": "2022-11-09T09:25:25.144736Z"
    },
    "papermill": {
     "duration": 0.016395,
     "end_time": "2022-11-09T09:25:25.148324",
     "exception": false,
     "start_time": "2022-11-09T09:25:25.131929",
     "status": "completed"
    },
    "tags": []
   },
   "outputs": [],
   "source": [
    "flowers = \"pink primrose,hard-leaved pocket orchid,canterbury bells,sweet pea,english marigold,tiger lily,moon orchid,bird of paradise,monkshood,globe thistle\""
   ]
  },
  {
   "cell_type": "markdown",
   "id": "82b82e3a",
   "metadata": {
    "papermill": {
     "duration": 0.007927,
     "end_time": "2022-11-09T09:25:25.164587",
     "exception": false,
     "start_time": "2022-11-09T09:25:25.156660",
     "status": "completed"
    },
    "tags": []
   },
   "source": [
    "You can actually use Python to quickly turn this string into a list with `.split()`.  In the parentheses, we need to provide the character should be used to mark the end of one list item and the beginning of another, and enclose it in quotation marks.  In this case, that character is a comma."
   ]
  },
  {
   "cell_type": "code",
   "execution_count": 9,
   "id": "a023e1e0",
   "metadata": {
    "execution": {
     "iopub.execute_input": "2022-11-09T09:25:25.183273Z",
     "iopub.status.busy": "2022-11-09T09:25:25.182147Z",
     "iopub.status.idle": "2022-11-09T09:25:25.187908Z",
     "shell.execute_reply": "2022-11-09T09:25:25.186570Z"
    },
    "papermill": {
     "duration": 0.018084,
     "end_time": "2022-11-09T09:25:25.190819",
     "exception": false,
     "start_time": "2022-11-09T09:25:25.172735",
     "status": "completed"
    },
    "tags": []
   },
   "outputs": [
    {
     "name": "stdout",
     "output_type": "stream",
     "text": [
      "['pink primrose', 'hard-leaved pocket orchid', 'canterbury bells', 'sweet pea', 'english marigold', 'tiger lily', 'moon orchid', 'bird of paradise', 'monkshood', 'globe thistle']\n"
     ]
    }
   ],
   "source": [
    " print(flowers.split(\",\"))"
   ]
  },
  {
   "cell_type": "markdown",
   "id": "54636d7c",
   "metadata": {
    "papermill": {
     "duration": 0.007867,
     "end_time": "2022-11-09T09:25:25.208093",
     "exception": false,
     "start_time": "2022-11-09T09:25:25.200226",
     "status": "completed"
    },
    "tags": []
   },
   "source": [
    "Now it is your turn to try this out!  Create two Python lists:\n",
    "- `letters` should be a Python list where each entry is an uppercase letter of the English alphabet.  For instance, the first two entries should be `\"A\"` and `\"B\"`, and the final two entries should be `\"Y\"` and `\"Z\"`.  Use the string `alphabet` to create this list.\n",
    "- `address` should be a Python list where each row in `address` is a different item in the list.  Currently, each row in `address` is separated by a comma. "
   ]
  },
  {
   "cell_type": "code",
   "execution_count": 10,
   "id": "f919fde8",
   "metadata": {
    "execution": {
     "iopub.execute_input": "2022-11-09T09:25:25.227679Z",
     "iopub.status.busy": "2022-11-09T09:25:25.226905Z",
     "iopub.status.idle": "2022-11-09T09:25:25.235292Z",
     "shell.execute_reply": "2022-11-09T09:25:25.234331Z"
    },
    "papermill": {
     "duration": 0.02028,
     "end_time": "2022-11-09T09:25:25.237403",
     "exception": false,
     "start_time": "2022-11-09T09:25:25.217123",
     "status": "completed"
    },
    "tags": []
   },
   "outputs": [
    {
     "data": {
      "application/javascript": [
       "parent.postMessage({\"jupyterEvent\": \"custom.exercise_interaction\", \"data\": {\"outcomeType\": 1, \"valueTowardsCompletion\": 0.2, \"interactionType\": 1, \"questionType\": 1, \"questionId\": \"3_SplitString\", \"learnToolsVersion\": \"0.3.4\", \"failureMessage\": \"\", \"exceptionClass\": \"\", \"trace\": \"\"}}, \"*\")"
      ],
      "text/plain": [
       "<IPython.core.display.Javascript object>"
      ]
     },
     "metadata": {},
     "output_type": "display_data"
    },
    {
     "data": {
      "text/markdown": [
       "<span style=\"color:#33cc33\">Correct</span>"
      ],
      "text/plain": [
       "Correct"
      ]
     },
     "metadata": {},
     "output_type": "display_data"
    }
   ],
   "source": [
    "# DO not change: Define two Python strings\n",
    "alphabet = \"A.B.C.D.E.F.G.H.I.J.K.L.M.N.O.P.Q.R.S.T.U.V.W.X.Y.Z\"\n",
    "address = \"Mr. H. Potter,The cupboard under the Stairs,4 Privet Drive,Little Whinging,Surrey\"\n",
    "\n",
    "# TODO: Convert strings into Python lists\n",
    "letters = alphabet.split('.')\n",
    "formatted_address = address.split(',')\n",
    "\n",
    "# Do not change: Check your answer\n",
    "q3.check()"
   ]
  },
  {
   "cell_type": "code",
   "execution_count": 11,
   "id": "0374a2d5",
   "metadata": {
    "execution": {
     "iopub.execute_input": "2022-11-09T09:25:25.255989Z",
     "iopub.status.busy": "2022-11-09T09:25:25.255548Z",
     "iopub.status.idle": "2022-11-09T09:25:25.264729Z",
     "shell.execute_reply": "2022-11-09T09:25:25.263407Z"
    },
    "papermill": {
     "duration": 0.021254,
     "end_time": "2022-11-09T09:25:25.267024",
     "exception": false,
     "start_time": "2022-11-09T09:25:25.245770",
     "status": "completed"
    },
    "tags": []
   },
   "outputs": [
    {
     "data": {
      "application/javascript": [
       "parent.postMessage({\"jupyterEvent\": \"custom.exercise_interaction\", \"data\": {\"interactionType\": 3, \"questionType\": 1, \"questionId\": \"3_SplitString\", \"learnToolsVersion\": \"0.3.4\", \"valueTowardsCompletion\": 0.0, \"failureMessage\": \"\", \"exceptionClass\": \"\", \"trace\": \"\", \"outcomeType\": 4}}, \"*\")"
      ],
      "text/plain": [
       "<IPython.core.display.Javascript object>"
      ]
     },
     "metadata": {},
     "output_type": "display_data"
    },
    {
     "data": {
      "text/markdown": [
       "<span style=\"color:#33cc99\">Solution:</span> \n",
       "```python\n",
       "letters = alphabet.split(\".\")\n",
       "formatted_address = address.split(\",\")\n",
       "\n",
       "```"
      ],
      "text/plain": [
       "Solution: \n",
       "```python\n",
       "letters = alphabet.split(\".\")\n",
       "formatted_address = address.split(\",\")\n",
       "\n",
       "```"
      ]
     },
     "metadata": {},
     "output_type": "display_data"
    }
   ],
   "source": [
    "q3.solution()"
   ]
  },
  {
   "cell_type": "code",
   "execution_count": 12,
   "id": "d30d04ca",
   "metadata": {
    "execution": {
     "iopub.execute_input": "2022-11-09T09:25:25.286724Z",
     "iopub.status.busy": "2022-11-09T09:25:25.286326Z",
     "iopub.status.idle": "2022-11-09T09:25:25.290511Z",
     "shell.execute_reply": "2022-11-09T09:25:25.289607Z"
    },
    "papermill": {
     "duration": 0.016625,
     "end_time": "2022-11-09T09:25:25.292741",
     "exception": false,
     "start_time": "2022-11-09T09:25:25.276116",
     "status": "completed"
    },
    "tags": []
   },
   "outputs": [],
   "source": [
    "# Uncomment to see a hint\n",
    "#q3.hint()\n",
    "\n",
    "# Uncomment to see the solution\n",
    "#q3.solution()"
   ]
  },
  {
   "cell_type": "markdown",
   "id": "a9274ee9",
   "metadata": {
    "papermill": {
     "duration": 0.008594,
     "end_time": "2022-11-09T09:25:25.310297",
     "exception": false,
     "start_time": "2022-11-09T09:25:25.301703",
     "status": "completed"
    },
    "tags": []
   },
   "source": [
    "# Question 4\n",
    "\n",
    "In the Python course, you'll learn all about **list comprehensions**, which allow you to create a list based on the values in another list.  In this question, you'll get a brief preview of how they work.\n",
    "\n",
    "Say we're working with the list below."
   ]
  },
  {
   "cell_type": "code",
   "execution_count": 13,
   "id": "f3fb2606",
   "metadata": {
    "execution": {
     "iopub.execute_input": "2022-11-09T09:25:25.330013Z",
     "iopub.status.busy": "2022-11-09T09:25:25.329131Z",
     "iopub.status.idle": "2022-11-09T09:25:25.334755Z",
     "shell.execute_reply": "2022-11-09T09:25:25.333777Z"
    },
    "papermill": {
     "duration": 0.018078,
     "end_time": "2022-11-09T09:25:25.337135",
     "exception": false,
     "start_time": "2022-11-09T09:25:25.319057",
     "status": "completed"
    },
    "tags": []
   },
   "outputs": [],
   "source": [
    "test_ratings = [1, 2, 3, 4, 5]"
   ]
  },
  {
   "cell_type": "markdown",
   "id": "47631357",
   "metadata": {
    "papermill": {
     "duration": 0.008458,
     "end_time": "2022-11-09T09:25:25.354592",
     "exception": false,
     "start_time": "2022-11-09T09:25:25.346134",
     "status": "completed"
    },
    "tags": []
   },
   "source": [
    "Then we can use this list (`test_ratings`) to create a new list (`test_liked`) where each item has been turned into a boolean, depending on whether or not the item is greater than or equal to four."
   ]
  },
  {
   "cell_type": "code",
   "execution_count": 14,
   "id": "f2e2e3fa",
   "metadata": {
    "execution": {
     "iopub.execute_input": "2022-11-09T09:25:25.374181Z",
     "iopub.status.busy": "2022-11-09T09:25:25.373780Z",
     "iopub.status.idle": "2022-11-09T09:25:25.379248Z",
     "shell.execute_reply": "2022-11-09T09:25:25.378021Z"
    },
    "papermill": {
     "duration": 0.019445,
     "end_time": "2022-11-09T09:25:25.382741",
     "exception": false,
     "start_time": "2022-11-09T09:25:25.363296",
     "status": "completed"
    },
    "tags": []
   },
   "outputs": [
    {
     "name": "stdout",
     "output_type": "stream",
     "text": [
      "[False, False, False, True, True]\n"
     ]
    }
   ],
   "source": [
    "test_liked = [i>=4 for i in test_ratings]\n",
    "print(test_liked)"
   ]
  },
  {
   "cell_type": "markdown",
   "id": "5589667c",
   "metadata": {
    "papermill": {
     "duration": 0.00848,
     "end_time": "2022-11-09T09:25:25.400133",
     "exception": false,
     "start_time": "2022-11-09T09:25:25.391653",
     "status": "completed"
    },
    "tags": []
   },
   "source": [
    "In this question, you'll use this list comprehension to define a function `percentage_liked()` that takes one argument as input:\n",
    "- `ratings`: list of ratings that people gave to a movie, where each rating is a number between 1-5, inclusive\n",
    "\n",
    "We say someone liked the movie, if they gave a rating of either 4 or 5.  Your function should return the percentage of people who liked the movie.\n",
    "\n",
    "For instance, if we supply a value of `[1, 2, 3, 4, 5, 4, 5, 1]`, then 50% (4/8) of the people liked the movie, and the function should return `0.5`.\n",
    "\n",
    "Part of the function has already been completed for you.  You need only use `list_liked` to calculate `percentage_liked`."
   ]
  },
  {
   "cell_type": "code",
   "execution_count": 15,
   "id": "8123d453",
   "metadata": {
    "execution": {
     "iopub.execute_input": "2022-11-09T09:25:25.419790Z",
     "iopub.status.busy": "2022-11-09T09:25:25.419370Z",
     "iopub.status.idle": "2022-11-09T09:25:25.430746Z",
     "shell.execute_reply": "2022-11-09T09:25:25.429479Z"
    },
    "papermill": {
     "duration": 0.024009,
     "end_time": "2022-11-09T09:25:25.433065",
     "exception": false,
     "start_time": "2022-11-09T09:25:25.409056",
     "status": "completed"
    },
    "tags": []
   },
   "outputs": [
    {
     "data": {
      "application/javascript": [
       "parent.postMessage({\"jupyterEvent\": \"custom.exercise_interaction\", \"data\": {\"outcomeType\": 1, \"valueTowardsCompletion\": 0.2, \"interactionType\": 1, \"questionType\": 2, \"questionId\": \"4_PercentageLiked\", \"learnToolsVersion\": \"0.3.4\", \"failureMessage\": \"\", \"exceptionClass\": \"\", \"trace\": \"\"}}, \"*\")"
      ],
      "text/plain": [
       "<IPython.core.display.Javascript object>"
      ]
     },
     "metadata": {},
     "output_type": "display_data"
    },
    {
     "data": {
      "text/markdown": [
       "<span style=\"color:#33cc33\">Correct</span>"
      ],
      "text/plain": [
       "Correct"
      ]
     },
     "metadata": {},
     "output_type": "display_data"
    }
   ],
   "source": [
    "\n",
    "def percentage_liked(ratings):\n",
    "    list_liked = [i>=4 for i in ratings]\n",
    "    # TODO: Complete the function\n",
    "    percentage_liked = sum(list_liked)/len(ratings)\n",
    "    return percentage_liked\n",
    "\n",
    "# Do not change: should return 0.5\n",
    "percentage_liked([1, 2, 3, 4, 5, 4, 5, 1])\n",
    "\n",
    "# Do not change: Check your answer\n",
    "q4.check()"
   ]
  },
  {
   "cell_type": "code",
   "execution_count": 16,
   "id": "06e832ce",
   "metadata": {
    "execution": {
     "iopub.execute_input": "2022-11-09T09:25:25.453117Z",
     "iopub.status.busy": "2022-11-09T09:25:25.452729Z",
     "iopub.status.idle": "2022-11-09T09:25:25.461959Z",
     "shell.execute_reply": "2022-11-09T09:25:25.460714Z"
    },
    "papermill": {
     "duration": 0.021914,
     "end_time": "2022-11-09T09:25:25.464303",
     "exception": false,
     "start_time": "2022-11-09T09:25:25.442389",
     "status": "completed"
    },
    "tags": []
   },
   "outputs": [
    {
     "data": {
      "application/javascript": [
       "parent.postMessage({\"jupyterEvent\": \"custom.exercise_interaction\", \"data\": {\"interactionType\": 3, \"questionType\": 2, \"questionId\": \"4_PercentageLiked\", \"learnToolsVersion\": \"0.3.4\", \"valueTowardsCompletion\": 0.0, \"failureMessage\": \"\", \"exceptionClass\": \"\", \"trace\": \"\", \"outcomeType\": 4}}, \"*\")"
      ],
      "text/plain": [
       "<IPython.core.display.Javascript object>"
      ]
     },
     "metadata": {},
     "output_type": "display_data"
    },
    {
     "data": {
      "text/markdown": [
       "<span style=\"color:#33cc99\">Solution:</span> \n",
       "```python\n",
       "\n",
       "# Complete the function\n",
       "def percentage_liked(ratings):\n",
       "    list_liked = [i >= 4 for i in ratings]\n",
       "    percentage_liked = sum(list_liked)/len(list_liked)\n",
       "    return percentage_liked\n",
       "\n",
       "```"
      ],
      "text/plain": [
       "Solution: \n",
       "```python\n",
       "\n",
       "# Complete the function\n",
       "def percentage_liked(ratings):\n",
       "    list_liked = [i >= 4 for i in ratings]\n",
       "    percentage_liked = sum(list_liked)/len(list_liked)\n",
       "    return percentage_liked\n",
       "\n",
       "```"
      ]
     },
     "metadata": {},
     "output_type": "display_data"
    }
   ],
   "source": [
    "q4.solution()"
   ]
  },
  {
   "cell_type": "code",
   "execution_count": 17,
   "id": "1c06dba7",
   "metadata": {
    "execution": {
     "iopub.execute_input": "2022-11-09T09:25:25.485279Z",
     "iopub.status.busy": "2022-11-09T09:25:25.484840Z",
     "iopub.status.idle": "2022-11-09T09:25:25.489657Z",
     "shell.execute_reply": "2022-11-09T09:25:25.488499Z"
    },
    "papermill": {
     "duration": 0.018093,
     "end_time": "2022-11-09T09:25:25.492045",
     "exception": false,
     "start_time": "2022-11-09T09:25:25.473952",
     "status": "completed"
    },
    "tags": []
   },
   "outputs": [],
   "source": [
    "# Uncomment to see a hint\n",
    "#q4.hint()\n",
    "\n",
    "# Uncomment to see the solution\n",
    "#q4.solution()"
   ]
  },
  {
   "cell_type": "markdown",
   "id": "ae883434",
   "metadata": {
    "papermill": {
     "duration": 0.009098,
     "end_time": "2022-11-09T09:25:25.510594",
     "exception": false,
     "start_time": "2022-11-09T09:25:25.501496",
     "status": "completed"
    },
    "tags": []
   },
   "source": [
    "# 🌶️ Question 5\n",
    " \n",
    "Say you're doing analytics for a website.  You need to write a function that returns the percentage growth in the total number of users relative to a specified number of years ago.\n",
    "\n",
    "Your function `percentage_growth()` should take two arguments as input:\n",
    "- `num_users` = Python list with the total number of users each year.  So `num_users[0]` is the total number of users in the first year, `num_users[1]` is the total number of users in the second year, and so on.  The final entry in the list gives the total number of users in the most recently completed year.\n",
    "- `yrs_ago` = number of years to go back in time when calculating the growth percentage\n",
    "\n",
    "For instance, say `num_users = [920344, 1043553, 1204334, 1458996, 1503323, 1593432, 1623463, 1843064, 1930992, 2001078]`.\n",
    "- if `yrs_ago = 1`, we want the function to return a value of about `0.036`. This corresponds to a percentage growth of approximately 3.6%, calculated as (2001078 - 1930992)/1930992.\n",
    "- if `years_ago = 7`, we would want to return approximately `0.66`.  This corresponds to a percentage growth of approximately 66%, calculated as (2001078 - 1204334)/1204334.\n",
    "\n",
    "Your coworker sent you a draft of a function, but it doesn't seem to be doing the correct calculation.  Can you figure out what has gone wrong and make the needed changes?"
   ]
  },
  {
   "cell_type": "code",
   "execution_count": 18,
   "id": "127d6d0a",
   "metadata": {
    "execution": {
     "iopub.execute_input": "2022-11-09T09:25:25.530750Z",
     "iopub.status.busy": "2022-11-09T09:25:25.530335Z",
     "iopub.status.idle": "2022-11-09T09:25:25.543975Z",
     "shell.execute_reply": "2022-11-09T09:25:25.542671Z"
    },
    "papermill": {
     "duration": 0.026259,
     "end_time": "2022-11-09T09:25:25.546118",
     "exception": false,
     "start_time": "2022-11-09T09:25:25.519859",
     "status": "completed"
    },
    "tags": []
   },
   "outputs": [
    {
     "name": "stdout",
     "output_type": "stream",
     "text": [
      "0.03629533421163837\n",
      "0.6615639847417742\n"
     ]
    },
    {
     "data": {
      "application/javascript": [
       "parent.postMessage({\"jupyterEvent\": \"custom.exercise_interaction\", \"data\": {\"outcomeType\": 1, \"valueTowardsCompletion\": 0.2, \"interactionType\": 1, \"questionType\": 2, \"questionId\": \"5_WebsiteAnalytics\", \"learnToolsVersion\": \"0.3.4\", \"failureMessage\": \"\", \"exceptionClass\": \"\", \"trace\": \"\"}}, \"*\")"
      ],
      "text/plain": [
       "<IPython.core.display.Javascript object>"
      ]
     },
     "metadata": {},
     "output_type": "display_data"
    },
    {
     "data": {
      "text/markdown": [
       "<span style=\"color:#33cc33\">Correct</span>"
      ],
      "text/plain": [
       "Correct"
      ]
     },
     "metadata": {},
     "output_type": "display_data"
    }
   ],
   "source": [
    "# TODO: Edit the function\n",
    "def percentage_growth(num_users, yrs_ago):\n",
    "    l = len(num_users)\n",
    "    growth = (num_users[l-1] - num_users[l-yrs_ago-1])/num_users[l-yrs_ago-1]\n",
    "    return growth\n",
    "\n",
    "# Do not change: Variable for calculating some test examples\n",
    "num_users_test = [920344, 1043553, 1204334, 1458996, 1503323, 1593432, 1623463, 1843064, 1930992, 2001078]\n",
    "\n",
    "# Do not change: Should return .036\n",
    "print(percentage_growth(num_users_test, 1))\n",
    "\n",
    "# Do not change: Should return 0.66\n",
    "print(percentage_growth(num_users_test, 7))\n",
    "\n",
    "# Do not change: Check your answer\n",
    "q5.check()"
   ]
  },
  {
   "cell_type": "code",
   "execution_count": 19,
   "id": "65476a65",
   "metadata": {
    "execution": {
     "iopub.execute_input": "2022-11-09T09:25:25.566968Z",
     "iopub.status.busy": "2022-11-09T09:25:25.566560Z",
     "iopub.status.idle": "2022-11-09T09:25:25.577162Z",
     "shell.execute_reply": "2022-11-09T09:25:25.575983Z"
    },
    "papermill": {
     "duration": 0.023656,
     "end_time": "2022-11-09T09:25:25.579347",
     "exception": false,
     "start_time": "2022-11-09T09:25:25.555691",
     "status": "completed"
    },
    "tags": []
   },
   "outputs": [
    {
     "data": {
      "application/javascript": [
       "parent.postMessage({\"jupyterEvent\": \"custom.exercise_interaction\", \"data\": {\"interactionType\": 3, \"questionType\": 2, \"questionId\": \"5_WebsiteAnalytics\", \"learnToolsVersion\": \"0.3.4\", \"valueTowardsCompletion\": 0.0, \"failureMessage\": \"\", \"exceptionClass\": \"\", \"trace\": \"\", \"outcomeType\": 4}}, \"*\")"
      ],
      "text/plain": [
       "<IPython.core.display.Javascript object>"
      ]
     },
     "metadata": {},
     "output_type": "display_data"
    },
    {
     "data": {
      "text/markdown": [
       "<span style=\"color:#33cc99\">Solution:</span> \n",
       "```python\n",
       "def percentage_growth(num_users, yrs_ago):\n",
       "    growth = (num_users[len(num_users)-1] - num_users[len(num_users)-yrs_ago-1])/num_users[len(num_users)-yrs_ago-1]\n",
       "    return growth\n",
       "\n",
       "```"
      ],
      "text/plain": [
       "Solution: \n",
       "```python\n",
       "def percentage_growth(num_users, yrs_ago):\n",
       "    growth = (num_users[len(num_users)-1] - num_users[len(num_users)-yrs_ago-1])/num_users[len(num_users)-yrs_ago-1]\n",
       "    return growth\n",
       "\n",
       "```"
      ]
     },
     "metadata": {},
     "output_type": "display_data"
    }
   ],
   "source": [
    "q5.solution()"
   ]
  },
  {
   "cell_type": "code",
   "execution_count": 20,
   "id": "b241bd20",
   "metadata": {
    "execution": {
     "iopub.execute_input": "2022-11-09T09:25:25.601565Z",
     "iopub.status.busy": "2022-11-09T09:25:25.601146Z",
     "iopub.status.idle": "2022-11-09T09:25:25.605638Z",
     "shell.execute_reply": "2022-11-09T09:25:25.604541Z"
    },
    "papermill": {
     "duration": 0.018512,
     "end_time": "2022-11-09T09:25:25.607976",
     "exception": false,
     "start_time": "2022-11-09T09:25:25.589464",
     "status": "completed"
    },
    "tags": []
   },
   "outputs": [],
   "source": [
    "# Uncomment to see a hint\n",
    "#q5.hint()\n",
    "\n",
    "# Uncomment to see the solution\n",
    "#q5.solution()"
   ]
  },
  {
   "cell_type": "markdown",
   "id": "74ae95b9",
   "metadata": {
    "papermill": {
     "duration": 0.009521,
     "end_time": "2022-11-09T09:25:25.627416",
     "exception": false,
     "start_time": "2022-11-09T09:25:25.617895",
     "status": "completed"
    },
    "tags": []
   },
   "source": [
    "---\n",
    "\n",
    "\n",
    "\n",
    "\n",
    "**Allen**"
   ]
  }
 ],
 "metadata": {
  "kernelspec": {
   "display_name": "Python 3",
   "language": "python",
   "name": "python3"
  },
  "language_info": {
   "codemirror_mode": {
    "name": "ipython",
    "version": 3
   },
   "file_extension": ".py",
   "mimetype": "text/x-python",
   "name": "python",
   "nbconvert_exporter": "python",
   "pygments_lexer": "ipython3",
   "version": "3.7.12"
  },
  "papermill": {
   "default_parameters": {},
   "duration": 10.7344,
   "end_time": "2022-11-09T09:25:26.359209",
   "environment_variables": {},
   "exception": null,
   "input_path": "__notebook__.ipynb",
   "output_path": "__notebook__.ipynb",
   "parameters": {},
   "start_time": "2022-11-09T09:25:15.624809",
   "version": "2.3.4"
  }
 },
 "nbformat": 4,
 "nbformat_minor": 5
}
