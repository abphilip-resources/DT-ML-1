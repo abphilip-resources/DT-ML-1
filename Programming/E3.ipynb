{
 "cells": [
  {
   "cell_type": "markdown",
   "id": "1cf76bfe",
   "metadata": {
    "papermill": {
     "duration": 0.006375,
     "end_time": "2022-11-09T07:15:08.343217",
     "exception": false,
     "start_time": "2022-11-09T07:15:08.336842",
     "status": "completed"
    },
    "tags": []
   },
   "source": [
    "**This notebook is an exercise in the [Intro to Programming](https://www.kaggle.com/learn/intro-to-programming) course.  You can reference the tutorial at [this link](https://www.kaggle.com/alexisbcook/data-types).**\n",
    "\n",
    "---\n"
   ]
  },
  {
   "cell_type": "markdown",
   "id": "ca034070",
   "metadata": {
    "papermill": {
     "duration": 0.005344,
     "end_time": "2022-11-09T07:15:08.354190",
     "exception": false,
     "start_time": "2022-11-09T07:15:08.348846",
     "status": "completed"
    },
    "tags": []
   },
   "source": [
    "In the tutorial, you learned about four different data types: floats, integers, strings, and booleans.  In this exercise, you'll experiment with them.\n",
    "\n",
    "# Set up the notebook\n",
    "\n",
    "Run the next code cell without changes to set up the notebook."
   ]
  },
  {
   "cell_type": "code",
   "execution_count": 1,
   "id": "35a575bb",
   "metadata": {
    "execution": {
     "iopub.execute_input": "2022-11-09T07:15:08.367208Z",
     "iopub.status.busy": "2022-11-09T07:15:08.366543Z",
     "iopub.status.idle": "2022-11-09T07:15:08.417381Z",
     "shell.execute_reply": "2022-11-09T07:15:08.415554Z"
    },
    "papermill": {
     "duration": 0.060634,
     "end_time": "2022-11-09T07:15:08.420213",
     "exception": false,
     "start_time": "2022-11-09T07:15:08.359579",
     "status": "completed"
    },
    "tags": []
   },
   "outputs": [
    {
     "name": "stdout",
     "output_type": "stream",
     "text": [
      "Setup complete.\n"
     ]
    }
   ],
   "source": [
    "# Set up the exercise\n",
    "from learntools.core import binder\n",
    "binder.bind(globals())\n",
    "from learntools.intro_to_programming.ex3 import *\n",
    "print('Setup complete.')"
   ]
  },
  {
   "cell_type": "markdown",
   "id": "0708292e",
   "metadata": {
    "papermill": {
     "duration": 0.005671,
     "end_time": "2022-11-09T07:15:08.432074",
     "exception": false,
     "start_time": "2022-11-09T07:15:08.426403",
     "status": "completed"
    },
    "tags": []
   },
   "source": [
    "# Question 1\n",
    "\n",
    "You have seen how to convert a float to an integer with the `int` function.  Try this out yourself by running the code cell below."
   ]
  },
  {
   "cell_type": "code",
   "execution_count": 2,
   "id": "28ef3e27",
   "metadata": {
    "execution": {
     "iopub.execute_input": "2022-11-09T07:15:08.445815Z",
     "iopub.status.busy": "2022-11-09T07:15:08.444919Z",
     "iopub.status.idle": "2022-11-09T07:15:08.450551Z",
     "shell.execute_reply": "2022-11-09T07:15:08.449567Z"
    },
    "papermill": {
     "duration": 0.015299,
     "end_time": "2022-11-09T07:15:08.453241",
     "exception": false,
     "start_time": "2022-11-09T07:15:08.437942",
     "status": "completed"
    },
    "tags": []
   },
   "outputs": [
    {
     "name": "stdout",
     "output_type": "stream",
     "text": [
      "1.0\n",
      "<class 'float'>\n",
      "1\n",
      "<class 'int'>\n"
     ]
    }
   ],
   "source": [
    "# Define a float\n",
    "y = 1.\n",
    "print(y)\n",
    "print(type(y))\n",
    "\n",
    "# Convert float to integer with the int function\n",
    "z = int(y)\n",
    "print(z)\n",
    "print(type(z))"
   ]
  },
  {
   "cell_type": "markdown",
   "id": "6722e434",
   "metadata": {
    "papermill": {
     "duration": 0.005662,
     "end_time": "2022-11-09T07:15:08.464979",
     "exception": false,
     "start_time": "2022-11-09T07:15:08.459317",
     "status": "completed"
    },
    "tags": []
   },
   "source": [
    "In this case, the float you are using has no numbers after the decimal.  \n",
    "- But what happens when you try to convert a float with a fractional part to an integer?  \n",
    "- How does the outcome of the `int` function change for positive and negative numbers?\n",
    "\n",
    "Use the next code cell to investigate and answer these questions.  Feel free to add or remove any lines of code -- it is your workspace!"
   ]
  },
  {
   "cell_type": "code",
   "execution_count": 3,
   "id": "27f135d8",
   "metadata": {
    "execution": {
     "iopub.execute_input": "2022-11-09T07:15:08.478456Z",
     "iopub.status.busy": "2022-11-09T07:15:08.478048Z",
     "iopub.status.idle": "2022-11-09T07:15:08.482618Z",
     "shell.execute_reply": "2022-11-09T07:15:08.481963Z"
    },
    "papermill": {
     "duration": 0.014126,
     "end_time": "2022-11-09T07:15:08.484857",
     "exception": false,
     "start_time": "2022-11-09T07:15:08.470731",
     "status": "completed"
    },
    "tags": []
   },
   "outputs": [
    {
     "name": "stdout",
     "output_type": "stream",
     "text": [
      "1\n",
      "1\n",
      "-3\n",
      "-2\n"
     ]
    }
   ],
   "source": [
    "# Uncomment and run this code to get started!\n",
    "print(int(1.2321))\n",
    "print(int(1.747))\n",
    "print(int(-3.94535))\n",
    "print(int(-2.19774))"
   ]
  },
  {
   "cell_type": "markdown",
   "id": "62033d18",
   "metadata": {
    "papermill": {
     "duration": 0.005662,
     "end_time": "2022-11-09T07:15:08.498737",
     "exception": false,
     "start_time": "2022-11-09T07:15:08.493075",
     "status": "completed"
    },
    "tags": []
   },
   "source": [
    "Once you have an answer, run the code cell below to see the solution.  Viewing the solution will give you credit for answering the problem."
   ]
  },
  {
   "cell_type": "code",
   "execution_count": 4,
   "id": "e5fcd9f4",
   "metadata": {
    "execution": {
     "iopub.execute_input": "2022-11-09T07:15:08.512660Z",
     "iopub.status.busy": "2022-11-09T07:15:08.512045Z",
     "iopub.status.idle": "2022-11-09T07:15:08.520015Z",
     "shell.execute_reply": "2022-11-09T07:15:08.519368Z"
    },
    "papermill": {
     "duration": 0.017857,
     "end_time": "2022-11-09T07:15:08.522472",
     "exception": false,
     "start_time": "2022-11-09T07:15:08.504615",
     "status": "completed"
    },
    "tags": []
   },
   "outputs": [
    {
     "data": {
      "application/javascript": [
       "parent.postMessage({\"jupyterEvent\": \"custom.exercise_interaction\", \"data\": {\"outcomeType\": 1, \"valueTowardsCompletion\": 0.2, \"interactionType\": 1, \"questionType\": 4, \"questionId\": \"1_FloatToInt\", \"learnToolsVersion\": \"0.3.4\", \"failureMessage\": \"\", \"exceptionClass\": \"\", \"trace\": \"\"}}, \"*\")"
      ],
      "text/plain": [
       "<IPython.core.display.Javascript object>"
      ]
     },
     "metadata": {},
     "output_type": "display_data"
    },
    {
     "data": {
      "text/markdown": [
       "<span style=\"color:#33cc33\">Correct:</span> \n",
       "\n",
       "Negative floats are always rounded UP to the closest integer (for instance, both -1.1 and -1.9 are rounded up to -1). Positive floats are always rounded DOWN to the closest integer (for instance, 2.1 and 2.9 are rounded down to 2)."
      ],
      "text/plain": [
       "Correct: \n",
       "\n",
       "Negative floats are always rounded UP to the closest integer (for instance, both -1.1 and -1.9 are rounded up to -1). Positive floats are always rounded DOWN to the closest integer (for instance, 2.1 and 2.9 are rounded down to 2)."
      ]
     },
     "metadata": {},
     "output_type": "display_data"
    }
   ],
   "source": [
    "# Check your answer (Run this code cell to receive credit!)\n",
    "q1.check()"
   ]
  },
  {
   "cell_type": "markdown",
   "id": "71b8962b",
   "metadata": {
    "papermill": {
     "duration": 0.005941,
     "end_time": "2022-11-09T07:15:08.534803",
     "exception": false,
     "start_time": "2022-11-09T07:15:08.528862",
     "status": "completed"
    },
    "tags": []
   },
   "source": [
    "# Question 2\n",
    "\n",
    "In the tutorial, you learned about booleans (which can take a value of `True` or `False`), in addition to integers, floats, and strings.  For this question, your goal is to determine what happens when you multiply a boolean by any of these data types.  Specifically, \n",
    "- What happens when you multiply an integer or float by `True`?  What happens when you multiply them by `False`?  How does the answer change if the numbers are positive or negative?\n",
    "- What happens when you multiply a string by `True`?  By `False`?\n",
    "\n",
    "Use the next code cell for your investigation. "
   ]
  },
  {
   "cell_type": "code",
   "execution_count": 5,
   "id": "378e4af4",
   "metadata": {
    "execution": {
     "iopub.execute_input": "2022-11-09T07:15:08.548925Z",
     "iopub.status.busy": "2022-11-09T07:15:08.548371Z",
     "iopub.status.idle": "2022-11-09T07:15:08.554706Z",
     "shell.execute_reply": "2022-11-09T07:15:08.553185Z"
    },
    "papermill": {
     "duration": 0.016682,
     "end_time": "2022-11-09T07:15:08.557534",
     "exception": false,
     "start_time": "2022-11-09T07:15:08.540852",
     "status": "completed"
    },
    "tags": []
   },
   "outputs": [
    {
     "name": "stdout",
     "output_type": "stream",
     "text": [
      "3\n",
      "-3.1\n",
      "<class 'str'>\n",
      "0\n"
     ]
    }
   ],
   "source": [
    "# Uncomment and run this code to get started!\n",
    "print(3 * True)\n",
    "print(-3.1 * True)\n",
    "print(type(\"abc\" * False))\n",
    "print(len(\"abc\" * False))"
   ]
  },
  {
   "cell_type": "markdown",
   "id": "204e28aa",
   "metadata": {
    "papermill": {
     "duration": 0.00603,
     "end_time": "2022-11-09T07:15:08.570053",
     "exception": false,
     "start_time": "2022-11-09T07:15:08.564023",
     "status": "completed"
    },
    "tags": []
   },
   "source": [
    "Once you have an answer, run the code cell below to see the solution.  Viewing the solution will give you credit for answering the problem."
   ]
  },
  {
   "cell_type": "code",
   "execution_count": 6,
   "id": "d9000bee",
   "metadata": {
    "execution": {
     "iopub.execute_input": "2022-11-09T07:15:08.584432Z",
     "iopub.status.busy": "2022-11-09T07:15:08.584037Z",
     "iopub.status.idle": "2022-11-09T07:15:08.592442Z",
     "shell.execute_reply": "2022-11-09T07:15:08.591328Z"
    },
    "papermill": {
     "duration": 0.017739,
     "end_time": "2022-11-09T07:15:08.594245",
     "exception": false,
     "start_time": "2022-11-09T07:15:08.576506",
     "status": "completed"
    },
    "tags": []
   },
   "outputs": [
    {
     "data": {
      "application/javascript": [
       "parent.postMessage({\"jupyterEvent\": \"custom.exercise_interaction\", \"data\": {\"outcomeType\": 1, \"valueTowardsCompletion\": 0.2, \"interactionType\": 1, \"questionType\": 4, \"questionId\": \"2_MultiplyBooleans\", \"learnToolsVersion\": \"0.3.4\", \"failureMessage\": \"\", \"exceptionClass\": \"\", \"trace\": \"\"}}, \"*\")"
      ],
      "text/plain": [
       "<IPython.core.display.Javascript object>"
      ]
     },
     "metadata": {},
     "output_type": "display_data"
    },
    {
     "data": {
      "text/markdown": [
       "<span style=\"color:#33cc33\">Correct:</span> \n",
       "\n",
       "When you multiple an integer or float by a boolean with value `True`, it just returns that same integer or float (and is equivalent to multiplying by 1).  If you multiply an integer or float by a boolean with value `False`, it always returns 0.  This is true for both positive and negative numbers.  If you multiply a string by a boolean with value `True`, it just returns that same string.  And if you multiply a string by a boolean with value `False`, it returns an empty string (or a string with length zero)."
      ],
      "text/plain": [
       "Correct: \n",
       "\n",
       "When you multiple an integer or float by a boolean with value `True`, it just returns that same integer or float (and is equivalent to multiplying by 1).  If you multiply an integer or float by a boolean with value `False`, it always returns 0.  This is true for both positive and negative numbers.  If you multiply a string by a boolean with value `True`, it just returns that same string.  And if you multiply a string by a boolean with value `False`, it returns an empty string (or a string with length zero)."
      ]
     },
     "metadata": {},
     "output_type": "display_data"
    }
   ],
   "source": [
    "# Check your answer (Run this code cell to receive credit!)\n",
    "q2.check()"
   ]
  },
  {
   "cell_type": "markdown",
   "id": "eac25e24",
   "metadata": {
    "papermill": {
     "duration": 0.006108,
     "end_time": "2022-11-09T07:15:08.606810",
     "exception": false,
     "start_time": "2022-11-09T07:15:08.600702",
     "status": "completed"
    },
    "tags": []
   },
   "source": [
    "# Question 3\n",
    "\n",
    "In this question, you will build off your work from the previous exercise to write a function that estimates the value of a house.\n",
    "\n",
    "Use the next code cell to create a function `get_expected_cost` that takes as input three variables:\n",
    "- `beds` - number of bedrooms (data type float)\n",
    "- `baths` - number of bathrooms (data type float)\n",
    "- `has_basement` - whether or not the house has a basement (data type boolean)\n",
    "\n",
    "It should return the expected cost of a house with those characteristics. Assume that:\n",
    "- the expected cost for a house with 0 bedrooms and 0 bathrooms, and no basement is 80000, \n",
    "- each bedroom adds 30000 to the expected cost,\n",
    "- each bathroom adds 10000 to the expected cost, and\n",
    "- a basement adds 40000 to the expected cost.\n",
    "\n",
    "For instance,\n",
    "- a house with 1 bedroom, 1 bathroom, and no basement has an expected cost of 80000 + 30000 + 10000 = 120000.  This value will be calculated with `get_expected_cost(1, 1, False)`.\n",
    "- a house with 2 bedrooms, 1 bathroom, and a basement has an expected cost of 80000 + 2*30000 + 10000 + 40000 = 190000.  This value will be calculated with `get_expected_cost(2, 1, True)`.\n",
    "\n",
    "Remember you can always get a hint by uncommenting `q3.hint()` in the code cell following the next!"
   ]
  },
  {
   "cell_type": "code",
   "execution_count": 7,
   "id": "7a38940b",
   "metadata": {
    "execution": {
     "iopub.execute_input": "2022-11-09T07:15:08.621884Z",
     "iopub.status.busy": "2022-11-09T07:15:08.621329Z",
     "iopub.status.idle": "2022-11-09T07:15:08.629466Z",
     "shell.execute_reply": "2022-11-09T07:15:08.628472Z"
    },
    "papermill": {
     "duration": 0.01801,
     "end_time": "2022-11-09T07:15:08.631517",
     "exception": false,
     "start_time": "2022-11-09T07:15:08.613507",
     "status": "completed"
    },
    "tags": []
   },
   "outputs": [
    {
     "data": {
      "application/javascript": [
       "parent.postMessage({\"jupyterEvent\": \"custom.exercise_interaction\", \"data\": {\"outcomeType\": 1, \"valueTowardsCompletion\": 0.2, \"interactionType\": 1, \"questionType\": 2, \"questionId\": \"3_EstimateHouseValueBool\", \"learnToolsVersion\": \"0.3.4\", \"failureMessage\": \"\", \"exceptionClass\": \"\", \"trace\": \"\"}}, \"*\")"
      ],
      "text/plain": [
       "<IPython.core.display.Javascript object>"
      ]
     },
     "metadata": {},
     "output_type": "display_data"
    },
    {
     "data": {
      "text/markdown": [
       "<span style=\"color:#33cc33\">Correct</span>"
      ],
      "text/plain": [
       "Correct"
      ]
     },
     "metadata": {},
     "output_type": "display_data"
    }
   ],
   "source": [
    "# TODO: Complete the function\n",
    "def get_expected_cost(beds, baths, has_basement):\n",
    "    value = 80000 + 30000 * beds + 10000 * baths + 40000 * has_basement\n",
    "    return value\n",
    "\n",
    "# Check your answer \n",
    "q3.check()"
   ]
  },
  {
   "cell_type": "code",
   "execution_count": 8,
   "id": "26b66448",
   "metadata": {
    "execution": {
     "iopub.execute_input": "2022-11-09T07:15:08.646481Z",
     "iopub.status.busy": "2022-11-09T07:15:08.646104Z",
     "iopub.status.idle": "2022-11-09T07:15:08.653945Z",
     "shell.execute_reply": "2022-11-09T07:15:08.652634Z"
    },
    "papermill": {
     "duration": 0.017583,
     "end_time": "2022-11-09T07:15:08.655896",
     "exception": false,
     "start_time": "2022-11-09T07:15:08.638313",
     "status": "completed"
    },
    "tags": []
   },
   "outputs": [
    {
     "data": {
      "application/javascript": [
       "parent.postMessage({\"jupyterEvent\": \"custom.exercise_interaction\", \"data\": {\"interactionType\": 3, \"questionType\": 2, \"questionId\": \"3_EstimateHouseValueBool\", \"learnToolsVersion\": \"0.3.4\", \"valueTowardsCompletion\": 0.0, \"failureMessage\": \"\", \"exceptionClass\": \"\", \"trace\": \"\", \"outcomeType\": 4}}, \"*\")"
      ],
      "text/plain": [
       "<IPython.core.display.Javascript object>"
      ]
     },
     "metadata": {},
     "output_type": "display_data"
    },
    {
     "data": {
      "text/markdown": [
       "<span style=\"color:#33cc99\">Solution:</span> \n",
       "```python\n",
       "def get_expected_cost(beds, baths, has_basement):\n",
       "    value = 80000 + 30000 * beds + 10000 * baths + 40000 * has_basement\n",
       "    return value\n",
       "\n",
       "```"
      ],
      "text/plain": [
       "Solution: \n",
       "```python\n",
       "def get_expected_cost(beds, baths, has_basement):\n",
       "    value = 80000 + 30000 * beds + 10000 * baths + 40000 * has_basement\n",
       "    return value\n",
       "\n",
       "```"
      ]
     },
     "metadata": {},
     "output_type": "display_data"
    }
   ],
   "source": [
    "q3.solution()"
   ]
  },
  {
   "cell_type": "code",
   "execution_count": 9,
   "id": "12898bc2",
   "metadata": {
    "execution": {
     "iopub.execute_input": "2022-11-09T07:15:08.671354Z",
     "iopub.status.busy": "2022-11-09T07:15:08.670941Z",
     "iopub.status.idle": "2022-11-09T07:15:08.675874Z",
     "shell.execute_reply": "2022-11-09T07:15:08.674724Z"
    },
    "papermill": {
     "duration": 0.015603,
     "end_time": "2022-11-09T07:15:08.678456",
     "exception": false,
     "start_time": "2022-11-09T07:15:08.662853",
     "status": "completed"
    },
    "tags": []
   },
   "outputs": [],
   "source": [
    "# Uncomment to see a hint\n",
    "#q3.hint()\n",
    "\n",
    "# Uncomment to view the solution\n",
    "#q3.solution()"
   ]
  },
  {
   "cell_type": "markdown",
   "id": "e8e0d378",
   "metadata": {
    "papermill": {
     "duration": 0.006729,
     "end_time": "2022-11-09T07:15:08.692602",
     "exception": false,
     "start_time": "2022-11-09T07:15:08.685873",
     "status": "completed"
    },
    "tags": []
   },
   "source": [
    "# Question 4\n",
    "\n",
    "We'll continue our study of boolean arithmetic.  For this question, your task is to provide a description of what happpens when you add booleans. \n",
    "\n",
    "Use the next code cell for your investigation.  Feel free to add or remove any lines of code - use it as your workspace!"
   ]
  },
  {
   "cell_type": "code",
   "execution_count": 10,
   "id": "7ee95325",
   "metadata": {
    "execution": {
     "iopub.execute_input": "2022-11-09T07:15:08.708549Z",
     "iopub.status.busy": "2022-11-09T07:15:08.707925Z",
     "iopub.status.idle": "2022-11-09T07:15:08.713506Z",
     "shell.execute_reply": "2022-11-09T07:15:08.712039Z"
    },
    "papermill": {
     "duration": 0.016552,
     "end_time": "2022-11-09T07:15:08.716086",
     "exception": false,
     "start_time": "2022-11-09T07:15:08.699534",
     "status": "completed"
    },
    "tags": []
   },
   "outputs": [
    {
     "name": "stdout",
     "output_type": "stream",
     "text": [
      "0\n",
      "1\n",
      "1\n",
      "2\n",
      "3\n"
     ]
    }
   ],
   "source": [
    "print(False + False)\n",
    "print(True + False)\n",
    "print(False + True)\n",
    "print(True + True)\n",
    "print(False + True + True + True)"
   ]
  },
  {
   "cell_type": "markdown",
   "id": "ad548c1b",
   "metadata": {
    "papermill": {
     "duration": 0.006561,
     "end_time": "2022-11-09T07:15:08.730846",
     "exception": false,
     "start_time": "2022-11-09T07:15:08.724285",
     "status": "completed"
    },
    "tags": []
   },
   "source": [
    "Once you have an answer, run the code cell below to see the solution.  Viewing the solution will give you credit for answering the problem."
   ]
  },
  {
   "cell_type": "code",
   "execution_count": 11,
   "id": "e8162725",
   "metadata": {
    "execution": {
     "iopub.execute_input": "2022-11-09T07:15:08.746322Z",
     "iopub.status.busy": "2022-11-09T07:15:08.745952Z",
     "iopub.status.idle": "2022-11-09T07:15:08.753830Z",
     "shell.execute_reply": "2022-11-09T07:15:08.753049Z"
    },
    "papermill": {
     "duration": 0.018246,
     "end_time": "2022-11-09T07:15:08.755890",
     "exception": false,
     "start_time": "2022-11-09T07:15:08.737644",
     "status": "completed"
    },
    "tags": []
   },
   "outputs": [
    {
     "data": {
      "application/javascript": [
       "parent.postMessage({\"jupyterEvent\": \"custom.exercise_interaction\", \"data\": {\"outcomeType\": 1, \"valueTowardsCompletion\": 0.2, \"interactionType\": 1, \"questionType\": 4, \"questionId\": \"4_AddingBooleans\", \"learnToolsVersion\": \"0.3.4\", \"failureMessage\": \"\", \"exceptionClass\": \"\", \"trace\": \"\"}}, \"*\")"
      ],
      "text/plain": [
       "<IPython.core.display.Javascript object>"
      ]
     },
     "metadata": {},
     "output_type": "display_data"
    },
    {
     "data": {
      "text/markdown": [
       "<span style=\"color:#33cc33\">Correct:</span> \n",
       "\n",
       "When you add booleans, adding `False` is equivalent to adding 0, and adding `True` is equivalent to adding 1."
      ],
      "text/plain": [
       "Correct: \n",
       "\n",
       "When you add booleans, adding `False` is equivalent to adding 0, and adding `True` is equivalent to adding 1."
      ]
     },
     "metadata": {},
     "output_type": "display_data"
    }
   ],
   "source": [
    "# Check your answer (Run this code cell to receive credit!)\n",
    "q4.check()"
   ]
  },
  {
   "cell_type": "markdown",
   "id": "32b4c1f8",
   "metadata": {
    "papermill": {
     "duration": 0.006706,
     "end_time": "2022-11-09T07:15:08.769914",
     "exception": false,
     "start_time": "2022-11-09T07:15:08.763208",
     "status": "completed"
    },
    "tags": []
   },
   "source": [
    "# 🌶️ Question 5\n",
    "\n",
    "You own an online shop where you sell rings with custom engravings.  You offer both gold plated and solid gold rings.\n",
    "- Gold plated rings have a base cost of \\\\$50, and you charge \\\\$7 per engraved unit.  \n",
    "- Solid gold rings have a base cost of \\\\$100, and you charge \\\\$10 per engraved unit.\n",
    "- Spaces and punctuation are counted as engraved units.\n",
    "\n",
    "Write a function `cost_of_project()` that takes two arguments:\n",
    "- `engraving` - a Python string with the text of the engraving\n",
    "- `solid_gold` - a Boolean that indicates whether the ring is solid gold\n",
    "\n",
    "It should return the cost of the project.  This question should be fairly challenging, and you may need a hint."
   ]
  },
  {
   "cell_type": "code",
   "execution_count": 12,
   "id": "c4f79372",
   "metadata": {
    "execution": {
     "iopub.execute_input": "2022-11-09T07:15:08.785597Z",
     "iopub.status.busy": "2022-11-09T07:15:08.785233Z",
     "iopub.status.idle": "2022-11-09T07:15:08.793919Z",
     "shell.execute_reply": "2022-11-09T07:15:08.793161Z"
    },
    "papermill": {
     "duration": 0.018696,
     "end_time": "2022-11-09T07:15:08.795694",
     "exception": false,
     "start_time": "2022-11-09T07:15:08.776998",
     "status": "completed"
    },
    "tags": []
   },
   "outputs": [
    {
     "data": {
      "application/javascript": [
       "parent.postMessage({\"jupyterEvent\": \"custom.exercise_interaction\", \"data\": {\"outcomeType\": 1, \"valueTowardsCompletion\": 0.2, \"interactionType\": 1, \"questionType\": 2, \"questionId\": \"5_CustomEngravings\", \"learnToolsVersion\": \"0.3.4\", \"failureMessage\": \"\", \"exceptionClass\": \"\", \"trace\": \"\"}}, \"*\")"
      ],
      "text/plain": [
       "<IPython.core.display.Javascript object>"
      ]
     },
     "metadata": {},
     "output_type": "display_data"
    },
    {
     "data": {
      "text/markdown": [
       "<span style=\"color:#33cc33\">Correct</span>"
      ],
      "text/plain": [
       "Correct"
      ]
     },
     "metadata": {},
     "output_type": "display_data"
    }
   ],
   "source": [
    "def cost_of_project(engraving, solid_gold):\n",
    "    cost = len(engraving)*10 + 100 if(solid_gold) else len(engraving)*7 + 50\n",
    "    return cost\n",
    "\n",
    "# Check your answer\n",
    "q5.check()"
   ]
  },
  {
   "cell_type": "code",
   "execution_count": 13,
   "id": "7bb33be9",
   "metadata": {
    "execution": {
     "iopub.execute_input": "2022-11-09T07:15:08.812504Z",
     "iopub.status.busy": "2022-11-09T07:15:08.811926Z",
     "iopub.status.idle": "2022-11-09T07:15:08.820414Z",
     "shell.execute_reply": "2022-11-09T07:15:08.819025Z"
    },
    "papermill": {
     "duration": 0.020155,
     "end_time": "2022-11-09T07:15:08.823420",
     "exception": false,
     "start_time": "2022-11-09T07:15:08.803265",
     "status": "completed"
    },
    "tags": []
   },
   "outputs": [
    {
     "data": {
      "application/javascript": [
       "parent.postMessage({\"jupyterEvent\": \"custom.exercise_interaction\", \"data\": {\"interactionType\": 3, \"questionType\": 2, \"questionId\": \"5_CustomEngravings\", \"learnToolsVersion\": \"0.3.4\", \"valueTowardsCompletion\": 0.0, \"failureMessage\": \"\", \"exceptionClass\": \"\", \"trace\": \"\", \"outcomeType\": 4}}, \"*\")"
      ],
      "text/plain": [
       "<IPython.core.display.Javascript object>"
      ]
     },
     "metadata": {},
     "output_type": "display_data"
    },
    {
     "data": {
      "text/markdown": [
       "<span style=\"color:#33cc99\">Solution:</span> \n",
       "```python\n",
       "def cost_of_project(engraving, solid_gold):\n",
       "    cost = solid_gold * (100 + 10 * len(engraving)) + (not solid_gold) * (50 + 7 * len(engraving))\n",
       "    return cost\n",
       "\n",
       "```"
      ],
      "text/plain": [
       "Solution: \n",
       "```python\n",
       "def cost_of_project(engraving, solid_gold):\n",
       "    cost = solid_gold * (100 + 10 * len(engraving)) + (not solid_gold) * (50 + 7 * len(engraving))\n",
       "    return cost\n",
       "\n",
       "```"
      ]
     },
     "metadata": {},
     "output_type": "display_data"
    }
   ],
   "source": [
    "q5.solution()"
   ]
  },
  {
   "cell_type": "code",
   "execution_count": 14,
   "id": "4def9469",
   "metadata": {
    "execution": {
     "iopub.execute_input": "2022-11-09T07:15:08.840963Z",
     "iopub.status.busy": "2022-11-09T07:15:08.840617Z",
     "iopub.status.idle": "2022-11-09T07:15:08.845294Z",
     "shell.execute_reply": "2022-11-09T07:15:08.844018Z"
    },
    "papermill": {
     "duration": 0.016254,
     "end_time": "2022-11-09T07:15:08.847764",
     "exception": false,
     "start_time": "2022-11-09T07:15:08.831510",
     "status": "completed"
    },
    "tags": []
   },
   "outputs": [],
   "source": [
    "# Uncomment to see a hint\n",
    "#q5.hint()\n",
    "\n",
    "# Uncomment to view the solution\n",
    "#q5.solution()"
   ]
  },
  {
   "cell_type": "markdown",
   "id": "195ea812",
   "metadata": {
    "papermill": {
     "duration": 0.007465,
     "end_time": "2022-11-09T07:15:08.863246",
     "exception": false,
     "start_time": "2022-11-09T07:15:08.855781",
     "status": "completed"
    },
    "tags": []
   },
   "source": [
    "Run the next code cell to calculate the cost of engraving `Charlie+Denver` on a solid gold ring."
   ]
  },
  {
   "cell_type": "code",
   "execution_count": 15,
   "id": "948fea79",
   "metadata": {
    "execution": {
     "iopub.execute_input": "2022-11-09T07:15:08.880481Z",
     "iopub.status.busy": "2022-11-09T07:15:08.880105Z",
     "iopub.status.idle": "2022-11-09T07:15:08.885936Z",
     "shell.execute_reply": "2022-11-09T07:15:08.884861Z"
    },
    "papermill": {
     "duration": 0.017469,
     "end_time": "2022-11-09T07:15:08.888414",
     "exception": false,
     "start_time": "2022-11-09T07:15:08.870945",
     "status": "completed"
    },
    "tags": []
   },
   "outputs": [
    {
     "name": "stdout",
     "output_type": "stream",
     "text": [
      "240\n"
     ]
    }
   ],
   "source": [
    "project_one = cost_of_project(\"Charlie+Denver\", True)\n",
    "print(project_one)"
   ]
  },
  {
   "cell_type": "markdown",
   "id": "2106d841",
   "metadata": {
    "papermill": {
     "duration": 0.007537,
     "end_time": "2022-11-09T07:15:08.903850",
     "exception": false,
     "start_time": "2022-11-09T07:15:08.896313",
     "status": "completed"
    },
    "tags": []
   },
   "source": [
    "Use the next code cell to calculate the cost of engraving `08/10/2000` on a gold plated ring."
   ]
  },
  {
   "cell_type": "code",
   "execution_count": 16,
   "id": "c6f6933c",
   "metadata": {
    "execution": {
     "iopub.execute_input": "2022-11-09T07:15:08.920696Z",
     "iopub.status.busy": "2022-11-09T07:15:08.920357Z",
     "iopub.status.idle": "2022-11-09T07:15:08.925325Z",
     "shell.execute_reply": "2022-11-09T07:15:08.924185Z"
    },
    "papermill": {
     "duration": 0.015777,
     "end_time": "2022-11-09T07:15:08.927344",
     "exception": false,
     "start_time": "2022-11-09T07:15:08.911567",
     "status": "completed"
    },
    "tags": []
   },
   "outputs": [
    {
     "name": "stdout",
     "output_type": "stream",
     "text": [
      "120\n"
     ]
    }
   ],
   "source": [
    "project_two = cost_of_project(\"08/10/2000\", False)\n",
    "print(project_two)"
   ]
  },
  {
   "cell_type": "markdown",
   "id": "b574014e",
   "metadata": {
    "papermill": {
     "duration": 0.007252,
     "end_time": "2022-11-09T07:15:08.942120",
     "exception": false,
     "start_time": "2022-11-09T07:15:08.934868",
     "status": "completed"
    },
    "tags": []
   },
   "source": [
    "---\n",
    "\n",
    "\n",
    "\n",
    "\n",
    "**Allen**"
   ]
  }
 ],
 "metadata": {
  "kernelspec": {
   "display_name": "Python 3",
   "language": "python",
   "name": "python3"
  },
  "language_info": {
   "codemirror_mode": {
    "name": "ipython",
    "version": 3
   },
   "file_extension": ".py",
   "mimetype": "text/x-python",
   "name": "python",
   "nbconvert_exporter": "python",
   "pygments_lexer": "ipython3",
   "version": "3.7.12"
  },
  "papermill": {
   "default_parameters": {},
   "duration": 8.457607,
   "end_time": "2022-11-09T07:15:09.570582",
   "environment_variables": {},
   "exception": null,
   "input_path": "__notebook__.ipynb",
   "output_path": "__notebook__.ipynb",
   "parameters": {},
   "start_time": "2022-11-09T07:15:01.112975",
   "version": "2.3.4"
  }
 },
 "nbformat": 4,
 "nbformat_minor": 5
}
