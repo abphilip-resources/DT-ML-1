{
 "cells": [
  {
   "cell_type": "markdown",
   "id": "b81b361a",
   "metadata": {
    "papermill": {
     "duration": 0.002857,
     "end_time": "2023-01-08T09:57:23.930780",
     "exception": false,
     "start_time": "2023-01-08T09:57:23.927923",
     "status": "completed"
    },
    "tags": []
   },
   "source": [
    "Congratulations for making it to the end of the course!\n",
    "\n",
    "In this final tutorial, you'll learn an efficient workflow that you can use to continue creating your own stunning data visualizations on the Kaggle website."
   ]
  },
  {
   "cell_type": "markdown",
   "id": "1b0ad832",
   "metadata": {
    "papermill": {
     "duration": 0.001424,
     "end_time": "2023-01-08T09:57:23.934207",
     "exception": false,
     "start_time": "2023-01-08T09:57:23.932783",
     "status": "completed"
    },
    "tags": []
   },
   "source": [
    "## Workflow\n",
    "\n",
    "Begin by navigating to the site for Kaggle Notebooks:\n",
    "> https://www.kaggle.com/code\n",
    "\n",
    "Then, in the top left corner, click on **[+ New Notebook]**.\n",
    "\n",
    "![tut7_new_kernel](https://i.imgur.com/kw9cct2.png)\n",
    "\n",
    "This opens a notebook.  As a first step, check the language of the notebook by selecting **File > Language**.  If it's not Python, change the language to Python now.\n",
    "\n",
    "![tut7_default_lang](https://i.imgur.com/FcQhCjF.png)\n",
    "\n",
    "The notebook should hvae some default code.  **_Please erase this code, and replace it with the code in the cell below._**  (_This is the same code that you used in all of the exercises to set up your Python environment._)"
   ]
  },
  {
   "cell_type": "code",
   "execution_count": 1,
   "id": "780d14b6",
   "metadata": {
    "execution": {
     "iopub.execute_input": "2023-01-08T09:57:23.939660Z",
     "iopub.status.busy": "2023-01-08T09:57:23.939255Z",
     "iopub.status.idle": "2023-01-08T09:57:24.857792Z",
     "shell.execute_reply": "2023-01-08T09:57:24.856684Z"
    },
    "papermill": {
     "duration": 0.924143,
     "end_time": "2023-01-08T09:57:24.860180",
     "exception": false,
     "start_time": "2023-01-08T09:57:23.936037",
     "status": "completed"
    },
    "tags": []
   },
   "outputs": [
    {
     "name": "stdout",
     "output_type": "stream",
     "text": [
      "Setup Complete\n"
     ]
    }
   ],
   "source": [
    "import pandas as pd\n",
    "pd.plotting.register_matplotlib_converters()\n",
    "import matplotlib.pyplot as plt\n",
    "%matplotlib inline\n",
    "import seaborn as sns\n",
    "print(\"Setup Complete\")"
   ]
  },
  {
   "cell_type": "markdown",
   "id": "f12ff778",
   "metadata": {
    "papermill": {
     "duration": 0.001667,
     "end_time": "2023-01-08T09:57:24.864012",
     "exception": false,
     "start_time": "2023-01-08T09:57:24.862345",
     "status": "completed"
    },
    "tags": []
   },
   "source": [
    "The next step is to attach a dataset, before writing code to visualize it.  (_You learned how to do that in the previous tutorial._) \n",
    "\n",
    "Then, once you have generated a figure, you need only save it as an image file that you can easily add to your presentations!"
   ]
  },
  {
   "cell_type": "markdown",
   "id": "760b5a5d",
   "metadata": {
    "papermill": {
     "duration": 0.001638,
     "end_time": "2023-01-08T09:57:24.867494",
     "exception": false,
     "start_time": "2023-01-08T09:57:24.865856",
     "status": "completed"
    },
    "tags": []
   },
   "source": [
    "---\n",
    "\n",
    "\n",
    "\n",
    "\n",
    "*[Kaggle Course Link](https://www.kaggle.com/learn/data-visualization)*"
   ]
  }
 ],
 "metadata": {
  "kernelspec": {
   "display_name": "Python 3",
   "language": "python",
   "name": "python3"
  },
  "language_info": {
   "codemirror_mode": {
    "name": "ipython",
    "version": 3
   },
   "file_extension": ".py",
   "mimetype": "text/x-python",
   "name": "python",
   "nbconvert_exporter": "python",
   "pygments_lexer": "ipython3",
   "version": "3.7.12"
  },
  "papermill": {
   "default_parameters": {},
   "duration": 9.524803,
   "end_time": "2023-01-08T09:57:25.489679",
   "environment_variables": {},
   "exception": null,
   "input_path": "__notebook__.ipynb",
   "output_path": "__notebook__.ipynb",
   "parameters": {},
   "start_time": "2023-01-08T09:57:15.964876",
   "version": "2.3.4"
  }
 },
 "nbformat": 4,
 "nbformat_minor": 5
}
