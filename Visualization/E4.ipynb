{
 "cells": [
  {
   "cell_type": "markdown",
   "id": "6b58b1c6",
   "metadata": {
    "papermill": {
     "duration": 0.010017,
     "end_time": "2023-01-12T04:59:26.456146",
     "exception": false,
     "start_time": "2023-01-12T04:59:26.446129",
     "status": "completed"
    },
    "tags": []
   },
   "source": [
    "**This notebook is an exercise in the [Data Visualization](https://www.kaggle.com/learn/data-visualization) course.  You can reference the tutorial at [this link](https://www.kaggle.com/alexisbcook/scatter-plots).**\n",
    "\n",
    "---\n"
   ]
  },
  {
   "cell_type": "markdown",
   "id": "29c8330d",
   "metadata": {
    "papermill": {
     "duration": 0.008446,
     "end_time": "2023-01-12T04:59:26.473686",
     "exception": false,
     "start_time": "2023-01-12T04:59:26.465240",
     "status": "completed"
    },
    "tags": []
   },
   "source": [
    "In this exercise, you will use your new knowledge to propose a solution to a real-world scenario.  To succeed, you will need to import data into Python, answer questions using the data, and generate **scatter plots** to understand patterns in the data.\n",
    "\n",
    "## Scenario\n",
    "\n",
    "You work for a major candy producer, and your goal is to write a report that your company can use to guide the design of its next product.  Soon after starting your research, you stumble across this [very interesting dataset](https://fivethirtyeight.com/features/the-ultimate-halloween-candy-power-ranking/) containing results from a fun survey to crowdsource favorite candies.\n",
    "\n",
    "## Setup\n",
    "\n",
    "Run the next cell to import and configure the Python libraries that you need to complete the exercise."
   ]
  },
  {
   "cell_type": "code",
   "execution_count": 1,
   "id": "8adc1c89",
   "metadata": {
    "execution": {
     "iopub.execute_input": "2023-01-12T04:59:26.494409Z",
     "iopub.status.busy": "2023-01-12T04:59:26.493485Z",
     "iopub.status.idle": "2023-01-12T04:59:27.744809Z",
     "shell.execute_reply": "2023-01-12T04:59:27.743533Z"
    },
    "papermill": {
     "duration": 1.26549,
     "end_time": "2023-01-12T04:59:27.748023",
     "exception": false,
     "start_time": "2023-01-12T04:59:26.482533",
     "status": "completed"
    },
    "tags": []
   },
   "outputs": [
    {
     "name": "stdout",
     "output_type": "stream",
     "text": [
      "Setup Complete\n"
     ]
    }
   ],
   "source": [
    "import pandas as pd\n",
    "pd.plotting.register_matplotlib_converters()\n",
    "import matplotlib.pyplot as plt\n",
    "%matplotlib inline\n",
    "import seaborn as sns\n",
    "print(\"Setup Complete\")"
   ]
  },
  {
   "cell_type": "markdown",
   "id": "e0011fef",
   "metadata": {
    "papermill": {
     "duration": 0.008404,
     "end_time": "2023-01-12T04:59:27.766012",
     "exception": false,
     "start_time": "2023-01-12T04:59:27.757608",
     "status": "completed"
    },
    "tags": []
   },
   "source": [
    "The questions below will give you feedback on your work. Run the following cell to set up our feedback system."
   ]
  },
  {
   "cell_type": "code",
   "execution_count": 2,
   "id": "3cb2aeeb",
   "metadata": {
    "execution": {
     "iopub.execute_input": "2023-01-12T04:59:27.787453Z",
     "iopub.status.busy": "2023-01-12T04:59:27.787027Z",
     "iopub.status.idle": "2023-01-12T04:59:27.854613Z",
     "shell.execute_reply": "2023-01-12T04:59:27.853039Z"
    },
    "papermill": {
     "duration": 0.080558,
     "end_time": "2023-01-12T04:59:27.857128",
     "exception": false,
     "start_time": "2023-01-12T04:59:27.776570",
     "status": "completed"
    },
    "tags": []
   },
   "outputs": [
    {
     "name": "stdout",
     "output_type": "stream",
     "text": [
      "Setup Complete\n"
     ]
    }
   ],
   "source": [
    "# Set up code checking\n",
    "import os\n",
    "if not os.path.exists(\"../input/candy.csv\"):\n",
    "    os.symlink(\"../input/data-for-datavis/candy.csv\", \"../input/candy.csv\") \n",
    "from learntools.core import binder\n",
    "binder.bind(globals())\n",
    "from learntools.data_viz_to_coder.ex4 import *\n",
    "print(\"Setup Complete\")"
   ]
  },
  {
   "cell_type": "markdown",
   "id": "713ade68",
   "metadata": {
    "papermill": {
     "duration": 0.008509,
     "end_time": "2023-01-12T04:59:27.874723",
     "exception": false,
     "start_time": "2023-01-12T04:59:27.866214",
     "status": "completed"
    },
    "tags": []
   },
   "source": [
    "## Step 1: Load the Data\n",
    "\n",
    "Read the candy data file into `candy_data`.  Use the `\"id\"` column to label the rows."
   ]
  },
  {
   "cell_type": "code",
   "execution_count": 3,
   "id": "9a1a046d",
   "metadata": {
    "execution": {
     "iopub.execute_input": "2023-01-12T04:59:27.893792Z",
     "iopub.status.busy": "2023-01-12T04:59:27.893405Z",
     "iopub.status.idle": "2023-01-12T04:59:27.909459Z",
     "shell.execute_reply": "2023-01-12T04:59:27.908213Z"
    },
    "papermill": {
     "duration": 0.028305,
     "end_time": "2023-01-12T04:59:27.911747",
     "exception": false,
     "start_time": "2023-01-12T04:59:27.883442",
     "status": "completed"
    },
    "tags": []
   },
   "outputs": [
    {
     "data": {
      "application/javascript": [
       "parent.postMessage({\"jupyterEvent\": \"custom.exercise_interaction\", \"data\": {\"outcomeType\": 1, \"valueTowardsCompletion\": 0.3333333333333333, \"interactionType\": 1, \"questionType\": 1, \"questionId\": \"1_LoadData\", \"learnToolsVersion\": \"0.3.4\", \"failureMessage\": \"\", \"exceptionClass\": \"\", \"trace\": \"\"}}, \"*\")"
      ],
      "text/plain": [
       "<IPython.core.display.Javascript object>"
      ]
     },
     "metadata": {},
     "output_type": "display_data"
    },
    {
     "data": {
      "text/markdown": [
       "<span style=\"color:#33cc33\">Correct</span>"
      ],
      "text/plain": [
       "Correct"
      ]
     },
     "metadata": {},
     "output_type": "display_data"
    }
   ],
   "source": [
    "# Path of the file to read\n",
    "candy_filepath = \"../input/candy.csv\"\n",
    "\n",
    "# Fill in the line below to read the file into a variable candy_data\n",
    "candy_data = pd.read_csv(candy_filepath, index_col=\"id\")\n",
    "\n",
    "# Run the line below with no changes to check that you've loaded the data correctly\n",
    "step_1.check()"
   ]
  },
  {
   "cell_type": "code",
   "execution_count": 4,
   "id": "194a426a",
   "metadata": {
    "execution": {
     "iopub.execute_input": "2023-01-12T04:59:27.931647Z",
     "iopub.status.busy": "2023-01-12T04:59:27.931230Z",
     "iopub.status.idle": "2023-01-12T04:59:27.936080Z",
     "shell.execute_reply": "2023-01-12T04:59:27.934766Z"
    },
    "papermill": {
     "duration": 0.017683,
     "end_time": "2023-01-12T04:59:27.938585",
     "exception": false,
     "start_time": "2023-01-12T04:59:27.920902",
     "status": "completed"
    },
    "tags": []
   },
   "outputs": [],
   "source": [
    "# Lines below will give you a hint or solution code\n",
    "# step_1.hint()\n",
    "# step_1.solution()"
   ]
  },
  {
   "cell_type": "markdown",
   "id": "bbc600f3",
   "metadata": {
    "papermill": {
     "duration": 0.008595,
     "end_time": "2023-01-12T04:59:27.956668",
     "exception": false,
     "start_time": "2023-01-12T04:59:27.948073",
     "status": "completed"
    },
    "tags": []
   },
   "source": [
    "## Step 2: Review the data\n",
    "\n",
    "Use a Python command to print the first five rows of the data."
   ]
  },
  {
   "cell_type": "code",
   "execution_count": 5,
   "id": "afdf91a0",
   "metadata": {
    "execution": {
     "iopub.execute_input": "2023-01-12T04:59:27.977018Z",
     "iopub.status.busy": "2023-01-12T04:59:27.976400Z",
     "iopub.status.idle": "2023-01-12T04:59:27.998789Z",
     "shell.execute_reply": "2023-01-12T04:59:27.997549Z"
    },
    "papermill": {
     "duration": 0.035766,
     "end_time": "2023-01-12T04:59:28.001343",
     "exception": false,
     "start_time": "2023-01-12T04:59:27.965577",
     "status": "completed"
    },
    "tags": []
   },
   "outputs": [
    {
     "data": {
      "text/html": [
       "<div>\n",
       "<style scoped>\n",
       "    .dataframe tbody tr th:only-of-type {\n",
       "        vertical-align: middle;\n",
       "    }\n",
       "\n",
       "    .dataframe tbody tr th {\n",
       "        vertical-align: top;\n",
       "    }\n",
       "\n",
       "    .dataframe thead th {\n",
       "        text-align: right;\n",
       "    }\n",
       "</style>\n",
       "<table border=\"1\" class=\"dataframe\">\n",
       "  <thead>\n",
       "    <tr style=\"text-align: right;\">\n",
       "      <th></th>\n",
       "      <th>competitorname</th>\n",
       "      <th>chocolate</th>\n",
       "      <th>fruity</th>\n",
       "      <th>caramel</th>\n",
       "      <th>peanutyalmondy</th>\n",
       "      <th>nougat</th>\n",
       "      <th>crispedricewafer</th>\n",
       "      <th>hard</th>\n",
       "      <th>bar</th>\n",
       "      <th>pluribus</th>\n",
       "      <th>sugarpercent</th>\n",
       "      <th>pricepercent</th>\n",
       "      <th>winpercent</th>\n",
       "    </tr>\n",
       "    <tr>\n",
       "      <th>id</th>\n",
       "      <th></th>\n",
       "      <th></th>\n",
       "      <th></th>\n",
       "      <th></th>\n",
       "      <th></th>\n",
       "      <th></th>\n",
       "      <th></th>\n",
       "      <th></th>\n",
       "      <th></th>\n",
       "      <th></th>\n",
       "      <th></th>\n",
       "      <th></th>\n",
       "      <th></th>\n",
       "    </tr>\n",
       "  </thead>\n",
       "  <tbody>\n",
       "    <tr>\n",
       "      <th>0</th>\n",
       "      <td>100 Grand</td>\n",
       "      <td>Yes</td>\n",
       "      <td>No</td>\n",
       "      <td>Yes</td>\n",
       "      <td>No</td>\n",
       "      <td>No</td>\n",
       "      <td>Yes</td>\n",
       "      <td>No</td>\n",
       "      <td>Yes</td>\n",
       "      <td>No</td>\n",
       "      <td>0.732</td>\n",
       "      <td>0.860</td>\n",
       "      <td>66.971725</td>\n",
       "    </tr>\n",
       "    <tr>\n",
       "      <th>1</th>\n",
       "      <td>3 Musketeers</td>\n",
       "      <td>Yes</td>\n",
       "      <td>No</td>\n",
       "      <td>No</td>\n",
       "      <td>No</td>\n",
       "      <td>Yes</td>\n",
       "      <td>No</td>\n",
       "      <td>No</td>\n",
       "      <td>Yes</td>\n",
       "      <td>No</td>\n",
       "      <td>0.604</td>\n",
       "      <td>0.511</td>\n",
       "      <td>67.602936</td>\n",
       "    </tr>\n",
       "    <tr>\n",
       "      <th>2</th>\n",
       "      <td>Air Heads</td>\n",
       "      <td>No</td>\n",
       "      <td>Yes</td>\n",
       "      <td>No</td>\n",
       "      <td>No</td>\n",
       "      <td>No</td>\n",
       "      <td>No</td>\n",
       "      <td>No</td>\n",
       "      <td>No</td>\n",
       "      <td>No</td>\n",
       "      <td>0.906</td>\n",
       "      <td>0.511</td>\n",
       "      <td>52.341465</td>\n",
       "    </tr>\n",
       "    <tr>\n",
       "      <th>3</th>\n",
       "      <td>Almond Joy</td>\n",
       "      <td>Yes</td>\n",
       "      <td>No</td>\n",
       "      <td>No</td>\n",
       "      <td>Yes</td>\n",
       "      <td>No</td>\n",
       "      <td>No</td>\n",
       "      <td>No</td>\n",
       "      <td>Yes</td>\n",
       "      <td>No</td>\n",
       "      <td>0.465</td>\n",
       "      <td>0.767</td>\n",
       "      <td>50.347546</td>\n",
       "    </tr>\n",
       "    <tr>\n",
       "      <th>4</th>\n",
       "      <td>Baby Ruth</td>\n",
       "      <td>Yes</td>\n",
       "      <td>No</td>\n",
       "      <td>Yes</td>\n",
       "      <td>Yes</td>\n",
       "      <td>Yes</td>\n",
       "      <td>No</td>\n",
       "      <td>No</td>\n",
       "      <td>Yes</td>\n",
       "      <td>No</td>\n",
       "      <td>0.604</td>\n",
       "      <td>0.767</td>\n",
       "      <td>56.914547</td>\n",
       "    </tr>\n",
       "  </tbody>\n",
       "</table>\n",
       "</div>"
      ],
      "text/plain": [
       "   competitorname chocolate fruity caramel peanutyalmondy nougat  \\\n",
       "id                                                                 \n",
       "0       100 Grand       Yes     No     Yes             No     No   \n",
       "1    3 Musketeers       Yes     No      No             No    Yes   \n",
       "2       Air Heads        No    Yes      No             No     No   \n",
       "3      Almond Joy       Yes     No      No            Yes     No   \n",
       "4       Baby Ruth       Yes     No     Yes            Yes    Yes   \n",
       "\n",
       "   crispedricewafer hard  bar pluribus  sugarpercent  pricepercent  winpercent  \n",
       "id                                                                              \n",
       "0               Yes   No  Yes       No         0.732         0.860   66.971725  \n",
       "1                No   No  Yes       No         0.604         0.511   67.602936  \n",
       "2                No   No   No       No         0.906         0.511   52.341465  \n",
       "3                No   No  Yes       No         0.465         0.767   50.347546  \n",
       "4                No   No  Yes       No         0.604         0.767   56.914547  "
      ]
     },
     "execution_count": 5,
     "metadata": {},
     "output_type": "execute_result"
    }
   ],
   "source": [
    "# Print the first five rows of the data\n",
    "candy_data.head() # Your code here"
   ]
  },
  {
   "cell_type": "markdown",
   "id": "31f09ebc",
   "metadata": {
    "papermill": {
     "duration": 0.008964,
     "end_time": "2023-01-12T04:59:28.019744",
     "exception": false,
     "start_time": "2023-01-12T04:59:28.010780",
     "status": "completed"
    },
    "tags": []
   },
   "source": [
    "The dataset contains 83 rows, where each corresponds to a different candy bar.  There are 13 columns:\n",
    "- `'competitorname'` contains the name of the candy bar. \n",
    "- the next **9** columns (from `'chocolate'` to `'pluribus'`) describe the candy.  For instance, rows with chocolate candies have `\"Yes\"` in the `'chocolate'` column (and candies without chocolate have `\"No\"` in the same column).\n",
    "- `'sugarpercent'` provides some indication of the amount of sugar, where higher values signify higher sugar content.\n",
    "- `'pricepercent'` shows the price per unit, relative to the other candies in the dataset.\n",
    "- `'winpercent'` is calculated from the survey results; higher values indicate that the candy was more popular with survey respondents.\n",
    "\n",
    "Use the first five rows of the data to answer the questions below."
   ]
  },
  {
   "cell_type": "code",
   "execution_count": 6,
   "id": "71c409a5",
   "metadata": {
    "execution": {
     "iopub.execute_input": "2023-01-12T04:59:28.040754Z",
     "iopub.status.busy": "2023-01-12T04:59:28.040330Z",
     "iopub.status.idle": "2023-01-12T04:59:28.049087Z",
     "shell.execute_reply": "2023-01-12T04:59:28.048154Z"
    },
    "papermill": {
     "duration": 0.022164,
     "end_time": "2023-01-12T04:59:28.051414",
     "exception": false,
     "start_time": "2023-01-12T04:59:28.029250",
     "status": "completed"
    },
    "tags": []
   },
   "outputs": [
    {
     "data": {
      "application/javascript": [
       "parent.postMessage({\"jupyterEvent\": \"custom.exercise_interaction\", \"data\": {\"outcomeType\": 1, \"valueTowardsCompletion\": 0.3333333333333333, \"interactionType\": 1, \"questionType\": 1, \"questionId\": \"2_ReviewData\", \"learnToolsVersion\": \"0.3.4\", \"failureMessage\": \"\", \"exceptionClass\": \"\", \"trace\": \"\"}}, \"*\")"
      ],
      "text/plain": [
       "<IPython.core.display.Javascript object>"
      ]
     },
     "metadata": {},
     "output_type": "display_data"
    },
    {
     "data": {
      "text/markdown": [
       "<span style=\"color:#33cc33\">Correct</span>"
      ],
      "text/plain": [
       "Correct"
      ]
     },
     "metadata": {},
     "output_type": "display_data"
    }
   ],
   "source": [
    "# Fill in the line below: Which candy was more popular with survey respondents:\n",
    "# '3 Musketeers' or 'Almond Joy'?  (Please enclose your answer in single quotes.)\n",
    "more_popular = '3 Musketeers'\n",
    "\n",
    "# Fill in the line below: Which candy has higher sugar content: 'Air Heads'\n",
    "# or 'Baby Ruth'? (Please enclose your answer in single quotes.)\n",
    "more_sugar = 'Air Heads'\n",
    "\n",
    "# Check your answers\n",
    "step_2.check()"
   ]
  },
  {
   "cell_type": "code",
   "execution_count": 7,
   "id": "92f40c21",
   "metadata": {
    "execution": {
     "iopub.execute_input": "2023-01-12T04:59:28.072260Z",
     "iopub.status.busy": "2023-01-12T04:59:28.071799Z",
     "iopub.status.idle": "2023-01-12T04:59:28.076481Z",
     "shell.execute_reply": "2023-01-12T04:59:28.075146Z"
    },
    "papermill": {
     "duration": 0.017858,
     "end_time": "2023-01-12T04:59:28.078842",
     "exception": false,
     "start_time": "2023-01-12T04:59:28.060984",
     "status": "completed"
    },
    "tags": []
   },
   "outputs": [],
   "source": [
    "# Lines below will give you a hint or solution code\n",
    "# step_2.hint()\n",
    "# step_2.solution()"
   ]
  },
  {
   "cell_type": "markdown",
   "id": "79b00dd6",
   "metadata": {
    "papermill": {
     "duration": 0.009397,
     "end_time": "2023-01-12T04:59:28.097935",
     "exception": false,
     "start_time": "2023-01-12T04:59:28.088538",
     "status": "completed"
    },
    "tags": []
   },
   "source": [
    "## Step 3: The role of sugar\n",
    "\n",
    "Do people tend to prefer candies with higher sugar content?  \n",
    "\n",
    "#### Part A\n",
    "\n",
    "Create a scatter plot that shows the relationship between `'sugarpercent'` (on the horizontal x-axis) and `'winpercent'` (on the vertical y-axis).  _Don't add a regression line just yet -- you'll do that in the next step!_"
   ]
  },
  {
   "cell_type": "code",
   "execution_count": 8,
   "id": "e35cfdf5",
   "metadata": {
    "execution": {
     "iopub.execute_input": "2023-01-12T04:59:28.120175Z",
     "iopub.status.busy": "2023-01-12T04:59:28.119734Z",
     "iopub.status.idle": "2023-01-12T04:59:28.412956Z",
     "shell.execute_reply": "2023-01-12T04:59:28.411697Z"
    },
    "papermill": {
     "duration": 0.307432,
     "end_time": "2023-01-12T04:59:28.415622",
     "exception": false,
     "start_time": "2023-01-12T04:59:28.108190",
     "status": "completed"
    },
    "tags": []
   },
   "outputs": [
    {
     "data": {
      "application/javascript": [
       "parent.postMessage({\"jupyterEvent\": \"custom.exercise_interaction\", \"data\": {\"outcomeType\": 1, \"valueTowardsCompletion\": 0.3333333333333333, \"interactionType\": 1, \"questionType\": 2, \"questionId\": \"3.1_PlotBlueScatter\", \"learnToolsVersion\": \"0.3.4\", \"failureMessage\": \"\", \"exceptionClass\": \"\", \"trace\": \"\"}}, \"*\")"
      ],
      "text/plain": [
       "<IPython.core.display.Javascript object>"
      ]
     },
     "metadata": {},
     "output_type": "display_data"
    },
    {
     "data": {
      "text/markdown": [
       "<span style=\"color:#33cc33\">Correct</span>"
      ],
      "text/plain": [
       "Correct"
      ]
     },
     "metadata": {},
     "output_type": "display_data"
    },
    {
     "data": {
      "image/png": "[encoded data removed]",
      "text/plain": [
       "<Figure size 432x288 with 1 Axes>"
      ]
     },
     "metadata": {
      "needs_background": "light"
     },
     "output_type": "display_data"
    }
   ],
   "source": [
    "# Scatter plot showing the relationship between 'sugarpercent' and 'winpercent'\n",
    "sns.scatterplot(x=candy_data['sugarpercent'], y=candy_data['winpercent']) # Your code here\n",
    "\n",
    "# Check your answer\n",
    "step_3.a.check()"
   ]
  },
  {
   "cell_type": "code",
   "execution_count": 9,
   "id": "b14e6428",
   "metadata": {
    "execution": {
     "iopub.execute_input": "2023-01-12T04:59:28.437578Z",
     "iopub.status.busy": "2023-01-12T04:59:28.437171Z",
     "iopub.status.idle": "2023-01-12T04:59:28.442402Z",
     "shell.execute_reply": "2023-01-12T04:59:28.441037Z"
    },
    "papermill": {
     "duration": 0.019059,
     "end_time": "2023-01-12T04:59:28.444822",
     "exception": false,
     "start_time": "2023-01-12T04:59:28.425763",
     "status": "completed"
    },
    "tags": []
   },
   "outputs": [],
   "source": [
    "# Lines below will give you a hint or solution code\n",
    "# step_3.a.hint()\n",
    "# step_3.a.solution_plot()"
   ]
  },
  {
   "cell_type": "markdown",
   "id": "d1e3dcea",
   "metadata": {
    "papermill": {
     "duration": 0.009798,
     "end_time": "2023-01-12T04:59:28.464715",
     "exception": false,
     "start_time": "2023-01-12T04:59:28.454917",
     "status": "completed"
    },
    "tags": []
   },
   "source": [
    "#### Part B\n",
    "\n",
    "Does the scatter plot show a **strong** correlation between the two variables?  If so, are candies with more sugar relatively more or less popular with the survey respondents?"
   ]
  },
  {
   "cell_type": "code",
   "execution_count": 10,
   "id": "85525430",
   "metadata": {
    "execution": {
     "iopub.execute_input": "2023-01-12T04:59:28.487279Z",
     "iopub.status.busy": "2023-01-12T04:59:28.486838Z",
     "iopub.status.idle": "2023-01-12T04:59:28.492057Z",
     "shell.execute_reply": "2023-01-12T04:59:28.490868Z"
    },
    "papermill": {
     "duration": 0.019038,
     "end_time": "2023-01-12T04:59:28.494373",
     "exception": false,
     "start_time": "2023-01-12T04:59:28.475335",
     "status": "completed"
    },
    "tags": []
   },
   "outputs": [],
   "source": [
    "# step_3.b.hint()"
   ]
  },
  {
   "cell_type": "code",
   "execution_count": 11,
   "id": "ad93be9e",
   "metadata": {
    "execution": {
     "iopub.execute_input": "2023-01-12T04:59:28.516915Z",
     "iopub.status.busy": "2023-01-12T04:59:28.516525Z",
     "iopub.status.idle": "2023-01-12T04:59:28.526763Z",
     "shell.execute_reply": "2023-01-12T04:59:28.525531Z"
    },
    "papermill": {
     "duration": 0.025381,
     "end_time": "2023-01-12T04:59:28.529910",
     "exception": false,
     "start_time": "2023-01-12T04:59:28.504529",
     "status": "completed"
    },
    "tags": []
   },
   "outputs": [
    {
     "data": {
      "application/javascript": [
       "parent.postMessage({\"jupyterEvent\": \"custom.exercise_interaction\", \"data\": {\"interactionType\": 3, \"questionType\": 4, \"questionId\": \"3.2_ThinkBlueScatter\", \"learnToolsVersion\": \"0.3.4\", \"valueTowardsCompletion\": 0.0, \"failureMessage\": \"\", \"exceptionClass\": \"\", \"trace\": \"\", \"outcomeType\": 4}}, \"*\")"
      ],
      "text/plain": [
       "<IPython.core.display.Javascript object>"
      ]
     },
     "metadata": {},
     "output_type": "display_data"
    },
    {
     "data": {
      "text/markdown": [
       "<span style=\"color:#33cc99\">Solution:</span> The scatter plot does not show a strong correlation between the two variables. Since there is no clear relationship between the two variables, this tells us that sugar content does not play a strong role in candy popularity."
      ],
      "text/plain": [
       "Solution: The scatter plot does not show a strong correlation between the two variables. Since there is no clear relationship between the two variables, this tells us that sugar content does not play a strong role in candy popularity."
      ]
     },
     "metadata": {},
     "output_type": "display_data"
    }
   ],
   "source": [
    "# Check your answer (Run this code cell to receive credit!)\n",
    "step_3.b.solution()"
   ]
  },
  {
   "cell_type": "markdown",
   "id": "57827a04",
   "metadata": {
    "papermill": {
     "duration": 0.010304,
     "end_time": "2023-01-12T04:59:28.550948",
     "exception": false,
     "start_time": "2023-01-12T04:59:28.540644",
     "status": "completed"
    },
    "tags": []
   },
   "source": [
    "## Step 4: Take a closer look\n",
    "\n",
    "#### Part A\n",
    "\n",
    "Create the same scatter plot you created in **Step 3**, but now with a regression line!"
   ]
  },
  {
   "cell_type": "code",
   "execution_count": 12,
   "id": "06693578",
   "metadata": {
    "execution": {
     "iopub.execute_input": "2023-01-12T04:59:28.574579Z",
     "iopub.status.busy": "2023-01-12T04:59:28.574159Z",
     "iopub.status.idle": "2023-01-12T04:59:28.917835Z",
     "shell.execute_reply": "2023-01-12T04:59:28.916512Z"
    },
    "papermill": {
     "duration": 0.359076,
     "end_time": "2023-01-12T04:59:28.920589",
     "exception": false,
     "start_time": "2023-01-12T04:59:28.561513",
     "status": "completed"
    },
    "tags": []
   },
   "outputs": [
    {
     "data": {
      "application/javascript": [
       "parent.postMessage({\"jupyterEvent\": \"custom.exercise_interaction\", \"data\": {\"outcomeType\": 1, \"valueTowardsCompletion\": 0.3333333333333333, \"interactionType\": 1, \"questionType\": 2, \"questionId\": \"4.1_PlotBlueReg\", \"learnToolsVersion\": \"0.3.4\", \"failureMessage\": \"\", \"exceptionClass\": \"\", \"trace\": \"\"}}, \"*\")"
      ],
      "text/plain": [
       "<IPython.core.display.Javascript object>"
      ]
     },
     "metadata": {},
     "output_type": "display_data"
    },
    {
     "data": {
      "text/markdown": [
       "<span style=\"color:#33cc33\">Correct</span>"
      ],
      "text/plain": [
       "Correct"
      ]
     },
     "metadata": {},
     "output_type": "display_data"
    },
    {
     "data": {
      "image/png": "[encoded data removed]",
      "text/plain": [
       "<Figure size 432x288 with 1 Axes>"
      ]
     },
     "metadata": {
      "needs_background": "light"
     },
     "output_type": "display_data"
    }
   ],
   "source": [
    "# Scatter plot w/ regression line showing the relationship between 'sugarpercent' and 'winpercent'\n",
    "sns.regplot(x=candy_data['sugarpercent'], y=candy_data['winpercent']) # Your code here\n",
    "\n",
    "# Check your answer\n",
    "step_4.a.check()"
   ]
  },
  {
   "cell_type": "code",
   "execution_count": 13,
   "id": "a7322e78",
   "metadata": {
    "execution": {
     "iopub.execute_input": "2023-01-12T04:59:28.945773Z",
     "iopub.status.busy": "2023-01-12T04:59:28.944539Z",
     "iopub.status.idle": "2023-01-12T04:59:28.949900Z",
     "shell.execute_reply": "2023-01-12T04:59:28.949040Z"
    },
    "papermill": {
     "duration": 0.02046,
     "end_time": "2023-01-12T04:59:28.952379",
     "exception": false,
     "start_time": "2023-01-12T04:59:28.931919",
     "status": "completed"
    },
    "tags": []
   },
   "outputs": [],
   "source": [
    "# Lines below will give you a hint or solution code\n",
    "# step_4.a.hint()\n",
    "# step_4.a.solution_plot()"
   ]
  },
  {
   "cell_type": "markdown",
   "id": "d7ef454e",
   "metadata": {
    "papermill": {
     "duration": 0.011741,
     "end_time": "2023-01-12T04:59:28.975100",
     "exception": false,
     "start_time": "2023-01-12T04:59:28.963359",
     "status": "completed"
    },
    "tags": []
   },
   "source": [
    "#### Part B\n",
    "\n",
    "According to the plot above, is there a **slight** correlation between `'winpercent'` and `'sugarpercent'`?  What does this tell you about the candy that people tend to prefer?"
   ]
  },
  {
   "cell_type": "code",
   "execution_count": 14,
   "id": "c15e7382",
   "metadata": {
    "execution": {
     "iopub.execute_input": "2023-01-12T04:59:29.001824Z",
     "iopub.status.busy": "2023-01-12T04:59:29.000997Z",
     "iopub.status.idle": "2023-01-12T04:59:29.006467Z",
     "shell.execute_reply": "2023-01-12T04:59:29.005362Z"
    },
    "papermill": {
     "duration": 0.021808,
     "end_time": "2023-01-12T04:59:29.009102",
     "exception": false,
     "start_time": "2023-01-12T04:59:28.987294",
     "status": "completed"
    },
    "tags": []
   },
   "outputs": [],
   "source": [
    "# step_4.b.hint()"
   ]
  },
  {
   "cell_type": "code",
   "execution_count": 15,
   "id": "fb8478ca",
   "metadata": {
    "execution": {
     "iopub.execute_input": "2023-01-12T04:59:29.034242Z",
     "iopub.status.busy": "2023-01-12T04:59:29.033396Z",
     "iopub.status.idle": "2023-01-12T04:59:29.043146Z",
     "shell.execute_reply": "2023-01-12T04:59:29.041934Z"
    },
    "papermill": {
     "duration": 0.024688,
     "end_time": "2023-01-12T04:59:29.045650",
     "exception": false,
     "start_time": "2023-01-12T04:59:29.020962",
     "status": "completed"
    },
    "tags": []
   },
   "outputs": [
    {
     "data": {
      "application/javascript": [
       "parent.postMessage({\"jupyterEvent\": \"custom.exercise_interaction\", \"data\": {\"interactionType\": 3, \"questionType\": 4, \"questionId\": \"4.2_ThinkBlueReg\", \"learnToolsVersion\": \"0.3.4\", \"valueTowardsCompletion\": 0.0, \"failureMessage\": \"\", \"exceptionClass\": \"\", \"trace\": \"\", \"outcomeType\": 4}}, \"*\")"
      ],
      "text/plain": [
       "<IPython.core.display.Javascript object>"
      ]
     },
     "metadata": {},
     "output_type": "display_data"
    },
    {
     "data": {
      "text/markdown": [
       "<span style=\"color:#33cc99\">Solution:</span> Since the regression line has a slightly positive slope, this tells us that there is a slightly positive correlation between `'winpercent'` and `'sugarpercent'`. Thus, people have a slight preference for candies containing relatively more sugar."
      ],
      "text/plain": [
       "Solution: Since the regression line has a slightly positive slope, this tells us that there is a slightly positive correlation between `'winpercent'` and `'sugarpercent'`. Thus, people have a slight preference for candies containing relatively more sugar."
      ]
     },
     "metadata": {},
     "output_type": "display_data"
    }
   ],
   "source": [
    "# Check your answer (Run this code cell to receive credit!)\n",
    "step_4.b.solution()"
   ]
  },
  {
   "cell_type": "markdown",
   "id": "1793e8b5",
   "metadata": {
    "papermill": {
     "duration": 0.011696,
     "end_time": "2023-01-12T04:59:29.069201",
     "exception": false,
     "start_time": "2023-01-12T04:59:29.057505",
     "status": "completed"
    },
    "tags": []
   },
   "source": [
    "## Step 5: Chocolate!\n",
    "\n",
    "In the code cell below, create a scatter plot to show the relationship between `'pricepercent'` (on the horizontal x-axis) and `'winpercent'` (on the vertical y-axis). Use the `'chocolate'` column to color-code the points.  _Don't add any regression lines just yet -- you'll do that in the next step!_"
   ]
  },
  {
   "cell_type": "code",
   "execution_count": 16,
   "id": "dac82ef7",
   "metadata": {
    "execution": {
     "iopub.execute_input": "2023-01-12T04:59:29.095194Z",
     "iopub.status.busy": "2023-01-12T04:59:29.093702Z",
     "iopub.status.idle": "2023-01-12T04:59:29.419898Z",
     "shell.execute_reply": "2023-01-12T04:59:29.418977Z"
    },
    "papermill": {
     "duration": 0.341585,
     "end_time": "2023-01-12T04:59:29.422293",
     "exception": false,
     "start_time": "2023-01-12T04:59:29.080708",
     "status": "completed"
    },
    "tags": []
   },
   "outputs": [
    {
     "data": {
      "application/javascript": [
       "parent.postMessage({\"jupyterEvent\": \"custom.exercise_interaction\", \"data\": {\"outcomeType\": 1, \"valueTowardsCompletion\": 0.3333333333333333, \"interactionType\": 1, \"questionType\": 2, \"questionId\": \"5_ColorScatter\", \"learnToolsVersion\": \"0.3.4\", \"failureMessage\": \"\", \"exceptionClass\": \"\", \"trace\": \"\"}}, \"*\")"
      ],
      "text/plain": [
       "<IPython.core.display.Javascript object>"
      ]
     },
     "metadata": {},
     "output_type": "display_data"
    },
    {
     "data": {
      "text/markdown": [
       "<span style=\"color:#33cc33\">Correct</span>"
      ],
      "text/plain": [
       "Correct"
      ]
     },
     "metadata": {},
     "output_type": "display_data"
    },
    {
     "data": {
      "image/png": "[encoded data removed]",
      "text/plain": [
       "<Figure size 432x288 with 1 Axes>"
      ]
     },
     "metadata": {
      "needs_background": "light"
     },
     "output_type": "display_data"
    }
   ],
   "source": [
    "# Scatter plot showing the relationship between 'pricepercent', 'winpercent', and 'chocolate'\n",
    "sns.scatterplot(x=candy_data['pricepercent'], y=candy_data['winpercent'], hue=candy_data['chocolate']) # Your code here\n",
    "\n",
    "# Check your answer\n",
    "step_5.check()"
   ]
  },
  {
   "cell_type": "code",
   "execution_count": 17,
   "id": "0cf0a132",
   "metadata": {
    "execution": {
     "iopub.execute_input": "2023-01-12T04:59:29.449397Z",
     "iopub.status.busy": "2023-01-12T04:59:29.448216Z",
     "iopub.status.idle": "2023-01-12T04:59:29.453608Z",
     "shell.execute_reply": "2023-01-12T04:59:29.452484Z"
    },
    "papermill": {
     "duration": 0.02188,
     "end_time": "2023-01-12T04:59:29.456240",
     "exception": false,
     "start_time": "2023-01-12T04:59:29.434360",
     "status": "completed"
    },
    "tags": []
   },
   "outputs": [],
   "source": [
    "# Lines below will give you a hint or solution code\n",
    "# step_5.hint()\n",
    "# step_5.solution_plot()"
   ]
  },
  {
   "cell_type": "markdown",
   "id": "a4795132",
   "metadata": {
    "papermill": {
     "duration": 0.011445,
     "end_time": "2023-01-12T04:59:29.479692",
     "exception": false,
     "start_time": "2023-01-12T04:59:29.468247",
     "status": "completed"
    },
    "tags": []
   },
   "source": [
    "Can you see any interesting patterns in the scatter plot?  We'll investigate this plot further  by adding regression lines in the next step!\n",
    "\n",
    "## Step 6: Investigate chocolate\n",
    "\n",
    "#### Part A\n",
    "\n",
    "Create the same scatter plot you created in **Step 5**, but now with two regression lines, corresponding to (1) chocolate candies and (2) candies without chocolate."
   ]
  },
  {
   "cell_type": "code",
   "execution_count": 18,
   "id": "09043b41",
   "metadata": {
    "execution": {
     "iopub.execute_input": "2023-01-12T04:59:29.507354Z",
     "iopub.status.busy": "2023-01-12T04:59:29.506477Z",
     "iopub.status.idle": "2023-01-12T04:59:30.194002Z",
     "shell.execute_reply": "2023-01-12T04:59:30.192733Z"
    },
    "papermill": {
     "duration": 0.704353,
     "end_time": "2023-01-12T04:59:30.196623",
     "exception": false,
     "start_time": "2023-01-12T04:59:29.492270",
     "status": "completed"
    },
    "tags": []
   },
   "outputs": [
    {
     "data": {
      "application/javascript": [
       "parent.postMessage({\"jupyterEvent\": \"custom.exercise_interaction\", \"data\": {\"outcomeType\": 1, \"valueTowardsCompletion\": 0.3333333333333333, \"interactionType\": 1, \"questionType\": 2, \"questionId\": \"6.1_PlotColorReg\", \"learnToolsVersion\": \"0.3.4\", \"failureMessage\": \"\", \"exceptionClass\": \"\", \"trace\": \"\"}}, \"*\")"
      ],
      "text/plain": [
       "<IPython.core.display.Javascript object>"
      ]
     },
     "metadata": {},
     "output_type": "display_data"
    },
    {
     "data": {
      "text/markdown": [
       "<span style=\"color:#33cc33\">Correct</span>"
      ],
      "text/plain": [
       "Correct"
      ]
     },
     "metadata": {},
     "output_type": "display_data"
    },
    {
     "data": {
      "image/png": "[encoded data removed]",
      "text/plain": [
       "<Figure size 416.375x360 with 1 Axes>"
      ]
     },
     "metadata": {
      "needs_background": "light"
     },
     "output_type": "display_data"
    }
   ],
   "source": [
    "# Color-coded scatter plot w/ regression lines\n",
    "sns.lmplot(x=\"pricepercent\", y=\"winpercent\", hue=\"chocolate\", data=candy_data) # Your code here\n",
    "\n",
    "# Check your answer\n",
    "step_6.a.check()"
   ]
  },
  {
   "cell_type": "code",
   "execution_count": 19,
   "id": "746d4457",
   "metadata": {
    "execution": {
     "iopub.execute_input": "2023-01-12T04:59:30.224328Z",
     "iopub.status.busy": "2023-01-12T04:59:30.223877Z",
     "iopub.status.idle": "2023-01-12T04:59:30.229116Z",
     "shell.execute_reply": "2023-01-12T04:59:30.227932Z"
    },
    "papermill": {
     "duration": 0.022165,
     "end_time": "2023-01-12T04:59:30.231800",
     "exception": false,
     "start_time": "2023-01-12T04:59:30.209635",
     "status": "completed"
    },
    "tags": []
   },
   "outputs": [],
   "source": [
    "# Lines below will give you a hint or solution code\n",
    "# step_6.a.hint()\n",
    "# step_6.a.solution_plot()"
   ]
  },
  {
   "cell_type": "markdown",
   "id": "9066f504",
   "metadata": {
    "papermill": {
     "duration": 0.012205,
     "end_time": "2023-01-12T04:59:30.257425",
     "exception": false,
     "start_time": "2023-01-12T04:59:30.245220",
     "status": "completed"
    },
    "tags": []
   },
   "source": [
    "#### Part B\n",
    "\n",
    "Using the regression lines, what conclusions can you draw about the effects of chocolate and price on candy popularity?"
   ]
  },
  {
   "cell_type": "code",
   "execution_count": 20,
   "id": "46726715",
   "metadata": {
    "execution": {
     "iopub.execute_input": "2023-01-12T04:59:30.286139Z",
     "iopub.status.busy": "2023-01-12T04:59:30.285703Z",
     "iopub.status.idle": "2023-01-12T04:59:30.291114Z",
     "shell.execute_reply": "2023-01-12T04:59:30.289589Z"
    },
    "papermill": {
     "duration": 0.022526,
     "end_time": "2023-01-12T04:59:30.293663",
     "exception": false,
     "start_time": "2023-01-12T04:59:30.271137",
     "status": "completed"
    },
    "tags": []
   },
   "outputs": [],
   "source": [
    "# step_6.b.hint()"
   ]
  },
  {
   "cell_type": "code",
   "execution_count": 21,
   "id": "186ce763",
   "metadata": {
    "execution": {
     "iopub.execute_input": "2023-01-12T04:59:30.321707Z",
     "iopub.status.busy": "2023-01-12T04:59:30.321077Z",
     "iopub.status.idle": "2023-01-12T04:59:30.330316Z",
     "shell.execute_reply": "2023-01-12T04:59:30.329025Z"
    },
    "papermill": {
     "duration": 0.02695,
     "end_time": "2023-01-12T04:59:30.333435",
     "exception": false,
     "start_time": "2023-01-12T04:59:30.306485",
     "status": "completed"
    },
    "tags": []
   },
   "outputs": [
    {
     "data": {
      "application/javascript": [
       "parent.postMessage({\"jupyterEvent\": \"custom.exercise_interaction\", \"data\": {\"interactionType\": 3, \"questionType\": 4, \"questionId\": \"6.2_ThinkColorReg\", \"learnToolsVersion\": \"0.3.4\", \"valueTowardsCompletion\": 0.0, \"failureMessage\": \"\", \"exceptionClass\": \"\", \"trace\": \"\", \"outcomeType\": 4}}, \"*\")"
      ],
      "text/plain": [
       "<IPython.core.display.Javascript object>"
      ]
     },
     "metadata": {},
     "output_type": "display_data"
    },
    {
     "data": {
      "text/markdown": [
       "<span style=\"color:#33cc99\">Solution:</span> We'll begin with the regression line for chocolate candies. Since this line has a slightly positive slope, we can say that more expensive chocolate candies tend to be more popular (than relatively cheaper chocolate candies).  Likewise, since the regression line for candies without chocolate has a negative slope, we can say that if candies don't contain chocolate, they tend to be more popular when they are cheaper.  One important note, however, is that the dataset is quite small -- so we shouldn't invest too much trust in these patterns!  To inspire more confidence in the results, we should add more candies to the dataset."
      ],
      "text/plain": [
       "Solution: We'll begin with the regression line for chocolate candies. Since this line has a slightly positive slope, we can say that more expensive chocolate candies tend to be more popular (than relatively cheaper chocolate candies).  Likewise, since the regression line for candies without chocolate has a negative slope, we can say that if candies don't contain chocolate, they tend to be more popular when they are cheaper.  One important note, however, is that the dataset is quite small -- so we shouldn't invest too much trust in these patterns!  To inspire more confidence in the results, we should add more candies to the dataset."
      ]
     },
     "metadata": {},
     "output_type": "display_data"
    }
   ],
   "source": [
    "# Check your answer (Run this code cell to receive credit!)\n",
    "step_6.b.solution()"
   ]
  },
  {
   "cell_type": "markdown",
   "id": "473e2186",
   "metadata": {
    "papermill": {
     "duration": 0.012403,
     "end_time": "2023-01-12T04:59:30.358636",
     "exception": false,
     "start_time": "2023-01-12T04:59:30.346233",
     "status": "completed"
    },
    "tags": []
   },
   "source": [
    "## Step 7: Everybody loves chocolate.\n",
    "\n",
    "#### Part A\n",
    "\n",
    "Create a categorical scatter plot to highlight the relationship between `'chocolate'` and `'winpercent'`.  Put `'chocolate'` on the (horizontal) x-axis, and `'winpercent'` on the (vertical) y-axis."
   ]
  },
  {
   "cell_type": "code",
   "execution_count": 22,
   "id": "bda8e647",
   "metadata": {
    "execution": {
     "iopub.execute_input": "2023-01-12T04:59:30.385652Z",
     "iopub.status.busy": "2023-01-12T04:59:30.385166Z",
     "iopub.status.idle": "2023-01-12T04:59:30.621938Z",
     "shell.execute_reply": "2023-01-12T04:59:30.620739Z"
    },
    "papermill": {
     "duration": 0.253279,
     "end_time": "2023-01-12T04:59:30.624590",
     "exception": false,
     "start_time": "2023-01-12T04:59:30.371311",
     "status": "completed"
    },
    "tags": []
   },
   "outputs": [
    {
     "data": {
      "application/javascript": [
       "parent.postMessage({\"jupyterEvent\": \"custom.exercise_interaction\", \"data\": {\"outcomeType\": 1, \"valueTowardsCompletion\": 0.3333333333333333, \"interactionType\": 1, \"questionType\": 2, \"questionId\": \"7.1_PlotSwarm\", \"learnToolsVersion\": \"0.3.4\", \"failureMessage\": \"\", \"exceptionClass\": \"\", \"trace\": \"\"}}, \"*\")"
      ],
      "text/plain": [
       "<IPython.core.display.Javascript object>"
      ]
     },
     "metadata": {},
     "output_type": "display_data"
    },
    {
     "data": {
      "text/markdown": [
       "<span style=\"color:#33cc33\">Correct</span>"
      ],
      "text/plain": [
       "Correct"
      ]
     },
     "metadata": {},
     "output_type": "display_data"
    },
    {
     "data": {
      "image/png": "[encoded data removed]",
      "text/plain": [
       "<Figure size 432x288 with 1 Axes>"
      ]
     },
     "metadata": {
      "needs_background": "light"
     },
     "output_type": "display_data"
    }
   ],
   "source": [
    "# Scatter plot showing the relationship between 'chocolate' and 'winpercent'\n",
    "sns.swarmplot(x=candy_data['chocolate'], y=candy_data['winpercent']) # Your code here\n",
    "\n",
    "# Check your answer\n",
    "step_7.a.check()"
   ]
  },
  {
   "cell_type": "code",
   "execution_count": 23,
   "id": "cf7924ed",
   "metadata": {
    "execution": {
     "iopub.execute_input": "2023-01-12T04:59:30.654570Z",
     "iopub.status.busy": "2023-01-12T04:59:30.654122Z",
     "iopub.status.idle": "2023-01-12T04:59:30.659206Z",
     "shell.execute_reply": "2023-01-12T04:59:30.657934Z"
    },
    "papermill": {
     "duration": 0.023496,
     "end_time": "2023-01-12T04:59:30.661916",
     "exception": false,
     "start_time": "2023-01-12T04:59:30.638420",
     "status": "completed"
    },
    "tags": []
   },
   "outputs": [],
   "source": [
    "# Lines below will give you a hint or solution code\n",
    "# step_7.a.hint()\n",
    "# step_7.a.solution_plot()"
   ]
  },
  {
   "cell_type": "markdown",
   "id": "55b6564b",
   "metadata": {
    "papermill": {
     "duration": 0.012937,
     "end_time": "2023-01-12T04:59:30.689039",
     "exception": false,
     "start_time": "2023-01-12T04:59:30.676102",
     "status": "completed"
    },
    "tags": []
   },
   "source": [
    "#### Part B\n",
    "\n",
    "You decide to dedicate a section of your report to the fact that chocolate candies tend to be more popular than candies without chocolate.  Which plot is more appropriate to tell this story: the plot from **Step 6**, or the plot from **Step 7**?"
   ]
  },
  {
   "cell_type": "code",
   "execution_count": 24,
   "id": "58f498fc",
   "metadata": {
    "execution": {
     "iopub.execute_input": "2023-01-12T04:59:30.718723Z",
     "iopub.status.busy": "2023-01-12T04:59:30.716709Z",
     "iopub.status.idle": "2023-01-12T04:59:30.722675Z",
     "shell.execute_reply": "2023-01-12T04:59:30.721604Z"
    },
    "papermill": {
     "duration": 0.022618,
     "end_time": "2023-01-12T04:59:30.724897",
     "exception": false,
     "start_time": "2023-01-12T04:59:30.702279",
     "status": "completed"
    },
    "tags": []
   },
   "outputs": [],
   "source": [
    "# step_7.b.hint()"
   ]
  },
  {
   "cell_type": "code",
   "execution_count": 25,
   "id": "70f5cc09",
   "metadata": {
    "execution": {
     "iopub.execute_input": "2023-01-12T04:59:30.754011Z",
     "iopub.status.busy": "2023-01-12T04:59:30.753267Z",
     "iopub.status.idle": "2023-01-12T04:59:30.761768Z",
     "shell.execute_reply": "2023-01-12T04:59:30.760123Z"
    },
    "papermill": {
     "duration": 0.025969,
     "end_time": "2023-01-12T04:59:30.764355",
     "exception": false,
     "start_time": "2023-01-12T04:59:30.738386",
     "status": "completed"
    },
    "tags": []
   },
   "outputs": [
    {
     "data": {
      "application/javascript": [
       "parent.postMessage({\"jupyterEvent\": \"custom.exercise_interaction\", \"data\": {\"interactionType\": 3, \"questionType\": 4, \"questionId\": \"7.2_ThinkSwarm\", \"learnToolsVersion\": \"0.3.4\", \"valueTowardsCompletion\": 0.0, \"failureMessage\": \"\", \"exceptionClass\": \"\", \"trace\": \"\", \"outcomeType\": 4}}, \"*\")"
      ],
      "text/plain": [
       "<IPython.core.display.Javascript object>"
      ]
     },
     "metadata": {},
     "output_type": "display_data"
    },
    {
     "data": {
      "text/markdown": [
       "<span style=\"color:#33cc99\">Solution:</span> In this case, the categorical scatter plot from **Step 7** is the more appropriate plot. While both plots tell the desired story, the plot from **Step 6** conveys far more information that could distract from the main point."
      ],
      "text/plain": [
       "Solution: In this case, the categorical scatter plot from **Step 7** is the more appropriate plot. While both plots tell the desired story, the plot from **Step 6** conveys far more information that could distract from the main point."
      ]
     },
     "metadata": {},
     "output_type": "display_data"
    }
   ],
   "source": [
    "# Check your answer (Run this code cell to receive credit!)\n",
    "step_7.b.solution()"
   ]
  },
  {
   "cell_type": "markdown",
   "id": "b202e09b",
   "metadata": {
    "papermill": {
     "duration": 0.013347,
     "end_time": "2023-01-12T04:59:30.791708",
     "exception": false,
     "start_time": "2023-01-12T04:59:30.778361",
     "status": "completed"
    },
    "tags": []
   },
   "source": [
    "---\n",
    "\n",
    "\n",
    "\n",
    "\n",
    "**Allen**"
   ]
  }
 ],
 "metadata": {
  "kernelspec": {
   "display_name": "Python 3",
   "language": "python",
   "name": "python3"
  },
  "language_info": {
   "codemirror_mode": {
    "name": "ipython",
    "version": 3
   },
   "file_extension": ".py",
   "mimetype": "text/x-python",
   "name": "python",
   "nbconvert_exporter": "python",
   "pygments_lexer": "ipython3",
   "version": "3.7.12"
  },
  "papermill": {
   "default_parameters": {},
   "duration": 15.133125,
   "end_time": "2023-01-12T04:59:31.629085",
   "environment_variables": {},
   "exception": null,
   "input_path": "__notebook__.ipynb",
   "output_path": "__notebook__.ipynb",
   "parameters": {},
   "start_time": "2023-01-12T04:59:16.495960",
   "version": "2.3.4"
  }
 },
 "nbformat": 4,
 "nbformat_minor": 5
}
