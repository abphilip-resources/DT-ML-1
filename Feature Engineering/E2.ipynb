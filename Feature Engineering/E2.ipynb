{
 "cells": [
  {
   "cell_type": "markdown",
   "id": "029ad0c0",
   "metadata": {
    "papermill": {
     "duration": 0.007539,
     "end_time": "2022-12-14T07:16:59.752424",
     "exception": false,
     "start_time": "2022-12-14T07:16:59.744885",
     "status": "completed"
    },
    "tags": []
   },
   "source": [
    "**This notebook is an exercise in the [Feature Engineering](https://www.kaggle.com/learn/feature-engineering) course.  You can reference the tutorial at [this link](https://www.kaggle.com/ryanholbrook/creating-features).**\n",
    "\n",
    "---\n"
   ]
  },
  {
   "cell_type": "markdown",
   "id": "a9342890",
   "metadata": {
    "papermill": {
     "duration": 0.005899,
     "end_time": "2022-12-14T07:16:59.764898",
     "exception": false,
     "start_time": "2022-12-14T07:16:59.758999",
     "status": "completed"
    },
    "tags": []
   },
   "source": [
    "# Introduction #\n",
    "\n",
    "In this exercise you'll start developing the features you identified in Exercise 2 as having the most potential. As you work through this exercise, you might take a moment to look at the data documentation again and consider whether the features we're creating make sense from a real-world perspective, and whether there are any useful combinations that stand out to you.\n",
    "\n",
    "Run this cell to set everything up!"
   ]
  },
  {
   "cell_type": "code",
   "execution_count": 1,
   "id": "f7435bb7",
   "metadata": {
    "execution": {
     "iopub.execute_input": "2022-12-14T07:16:59.779867Z",
     "iopub.status.busy": "2022-12-14T07:16:59.778595Z",
     "iopub.status.idle": "2022-12-14T07:17:01.093695Z",
     "shell.execute_reply": "2022-12-14T07:17:01.092211Z"
    },
    "papermill": {
     "duration": 1.325988,
     "end_time": "2022-12-14T07:17:01.096998",
     "exception": false,
     "start_time": "2022-12-14T07:16:59.771010",
     "status": "completed"
    },
    "tags": []
   },
   "outputs": [],
   "source": [
    "# Setup feedback system\n",
    "from learntools.core import binder\n",
    "binder.bind(globals())\n",
    "from learntools.feature_engineering_new.ex3 import *\n",
    "\n",
    "import numpy as np\n",
    "import pandas as pd\n",
    "from sklearn.model_selection import cross_val_score\n",
    "from xgboost import XGBRegressor\n",
    "\n",
    "\n",
    "def score_dataset(X, y, model=XGBRegressor()):\n",
    "    # Label encoding for categoricals\n",
    "    for colname in X.select_dtypes([\"category\", \"object\"]):\n",
    "        X[colname], _ = X[colname].factorize()\n",
    "    # Metric for Housing competition is RMSLE (Root Mean Squared Log Error)\n",
    "    score = cross_val_score(\n",
    "        model, X, y, cv=5, scoring=\"neg_mean_squared_log_error\",\n",
    "    )\n",
    "    score = -1 * score.mean()\n",
    "    score = np.sqrt(score)\n",
    "    return score\n",
    "\n",
    "\n",
    "# Prepare data\n",
    "df = pd.read_csv(\"../input/fe-course-data/ames.csv\")\n",
    "X = df.copy()\n",
    "y = X.pop(\"SalePrice\")"
   ]
  },
  {
   "cell_type": "markdown",
   "id": "75d053ae",
   "metadata": {
    "papermill": {
     "duration": 0.006609,
     "end_time": "2022-12-14T07:17:01.111250",
     "exception": false,
     "start_time": "2022-12-14T07:17:01.104641",
     "status": "completed"
    },
    "tags": []
   },
   "source": [
    "-------------------------------------------------------------------------------\n",
    "\n",
    "Let's start with a few mathematical combinations. We'll focus on features describing areas -- having the same units (square-feet) makes it easy to combine them in sensible ways. Since we're using XGBoost (a tree-based model), we'll focus on ratios and sums.\n",
    "\n",
    "# 1) Create Mathematical Transforms\n",
    "\n",
    "Create the following features:\n",
    "\n",
    "- `LivLotRatio`: the ratio of `GrLivArea` to `LotArea`\n",
    "- `Spaciousness`: the sum of `FirstFlrSF` and `SecondFlrSF` divided by `TotRmsAbvGrd`\n",
    "- `TotalOutsideSF`: the sum of `WoodDeckSF`, `OpenPorchSF`, `EnclosedPorch`, `Threeseasonporch`, and `ScreenPorch`"
   ]
  },
  {
   "cell_type": "code",
   "execution_count": 2,
   "id": "ae841c84",
   "metadata": {
    "execution": {
     "iopub.execute_input": "2022-12-14T07:17:01.127219Z",
     "iopub.status.busy": "2022-12-14T07:17:01.126720Z",
     "iopub.status.idle": "2022-12-14T07:17:01.154183Z",
     "shell.execute_reply": "2022-12-14T07:17:01.152996Z"
    },
    "lines_to_next_cell": 0,
    "papermill": {
     "duration": 0.040431,
     "end_time": "2022-12-14T07:17:01.158509",
     "exception": false,
     "start_time": "2022-12-14T07:17:01.118078",
     "status": "completed"
    },
    "tags": []
   },
   "outputs": [
    {
     "data": {
      "application/javascript": [
       "parent.postMessage({\"jupyterEvent\": \"custom.exercise_interaction\", \"data\": {\"outcomeType\": 1, \"valueTowardsCompletion\": 0.2, \"interactionType\": 1, \"questionType\": 2, \"questionId\": \"1_Q1\", \"learnToolsVersion\": \"0.3.4\", \"failureMessage\": \"\", \"exceptionClass\": \"\", \"trace\": \"\"}}, \"*\")"
      ],
      "text/plain": [
       "<IPython.core.display.Javascript object>"
      ]
     },
     "metadata": {},
     "output_type": "display_data"
    },
    {
     "data": {
      "text/markdown": [
       "<span style=\"color:#33cc33\">Correct</span>"
      ],
      "text/plain": [
       "Correct"
      ]
     },
     "metadata": {},
     "output_type": "display_data"
    }
   ],
   "source": [
    "# YOUR CODE HERE\n",
    "X_1 = pd.DataFrame()  # dataframe to hold new features\n",
    "\n",
    "X_1[\"LivLotRatio\"] = df.GrLivArea / df.LotArea\n",
    "X_1[\"Spaciousness\"] = (df.FirstFlrSF + df.SecondFlrSF) / df.TotRmsAbvGrd\n",
    "X_1[\"TotalOutsideSF\"] = df.WoodDeckSF + df.OpenPorchSF + df.EnclosedPorch + df.Threeseasonporch + df.ScreenPorch\n",
    "\n",
    "\n",
    "# Check your answer\n",
    "q_1.check()"
   ]
  },
  {
   "cell_type": "code",
   "execution_count": 3,
   "id": "05ed607f",
   "metadata": {
    "execution": {
     "iopub.execute_input": "2022-12-14T07:17:01.174722Z",
     "iopub.status.busy": "2022-12-14T07:17:01.173681Z",
     "iopub.status.idle": "2022-12-14T07:17:01.182674Z",
     "shell.execute_reply": "2022-12-14T07:17:01.181568Z"
    },
    "papermill": {
     "duration": 0.019774,
     "end_time": "2022-12-14T07:17:01.185363",
     "exception": false,
     "start_time": "2022-12-14T07:17:01.165589",
     "status": "completed"
    },
    "tags": []
   },
   "outputs": [
    {
     "data": {
      "application/javascript": [
       "parent.postMessage({\"jupyterEvent\": \"custom.exercise_interaction\", \"data\": {\"interactionType\": 3, \"questionType\": 2, \"questionId\": \"1_Q1\", \"learnToolsVersion\": \"0.3.4\", \"valueTowardsCompletion\": 0.0, \"failureMessage\": \"\", \"exceptionClass\": \"\", \"trace\": \"\", \"outcomeType\": 4}}, \"*\")"
      ],
      "text/plain": [
       "<IPython.core.display.Javascript object>"
      ]
     },
     "metadata": {},
     "output_type": "display_data"
    },
    {
     "data": {
      "text/markdown": [
       "<span style=\"color:#33cc99\">Solution:</span> \n",
       "```python\n",
       "\n",
       "X_1[\"LivLotRatio\"] = df.GrLivArea / df.LotArea\n",
       "X_1[\"Spaciousness\"] = (df.FirstFlrSF + df.SecondFlrSF) / df.TotRmsAbvGrd\n",
       "X_1[\"TotalOutsideSF\"] = df.WoodDeckSF + df.OpenPorchSF + df.EnclosedPorch + df.Threeseasonporch + df.ScreenPorch\n",
       "\n",
       "```"
      ],
      "text/plain": [
       "Solution: \n",
       "```python\n",
       "\n",
       "X_1[\"LivLotRatio\"] = df.GrLivArea / df.LotArea\n",
       "X_1[\"Spaciousness\"] = (df.FirstFlrSF + df.SecondFlrSF) / df.TotRmsAbvGrd\n",
       "X_1[\"TotalOutsideSF\"] = df.WoodDeckSF + df.OpenPorchSF + df.EnclosedPorch + df.Threeseasonporch + df.ScreenPorch\n",
       "\n",
       "```"
      ]
     },
     "metadata": {},
     "output_type": "display_data"
    }
   ],
   "source": [
    "q_1.solution()"
   ]
  },
  {
   "cell_type": "code",
   "execution_count": 4,
   "id": "de093a68",
   "metadata": {
    "execution": {
     "iopub.execute_input": "2022-12-14T07:17:01.202670Z",
     "iopub.status.busy": "2022-12-14T07:17:01.202283Z",
     "iopub.status.idle": "2022-12-14T07:17:01.206148Z",
     "shell.execute_reply": "2022-12-14T07:17:01.205332Z"
    },
    "lines_to_next_cell": 0,
    "papermill": {
     "duration": 0.015967,
     "end_time": "2022-12-14T07:17:01.208150",
     "exception": false,
     "start_time": "2022-12-14T07:17:01.192183",
     "status": "completed"
    },
    "tags": []
   },
   "outputs": [],
   "source": [
    "# Lines below will give you a hint or solution code\n",
    "#q_1.hint()\n",
    "#q_1.solution()"
   ]
  },
  {
   "cell_type": "markdown",
   "id": "bbdc1482",
   "metadata": {
    "papermill": {
     "duration": 0.006509,
     "end_time": "2022-12-14T07:17:01.221625",
     "exception": false,
     "start_time": "2022-12-14T07:17:01.215116",
     "status": "completed"
    },
    "tags": []
   },
   "source": [
    "-------------------------------------------------------------------------------\n",
    "\n",
    "If you've discovered an interaction effect between a numeric feature and a categorical feature, you might want to model it explicitly using a one-hot encoding, like so:\n",
    "\n",
    "```\n",
    "# One-hot encode Categorical feature, adding a column prefix \"Cat\"\n",
    "X_new = pd.get_dummies(df.Categorical, prefix=\"Cat\")\n",
    "\n",
    "# Multiply row-by-row\n",
    "X_new = X_new.mul(df.Continuous, axis=0)\n",
    "\n",
    "# Join the new features to the feature set\n",
    "X = X.join(X_new)\n",
    "```\n",
    "\n",
    "# 2) Interaction with a Categorical\n",
    "\n",
    "We discovered an interaction between `BldgType` and `GrLivArea` in Exercise 2. Now create their interaction features."
   ]
  },
  {
   "cell_type": "code",
   "execution_count": 5,
   "id": "c1cc051f",
   "metadata": {
    "execution": {
     "iopub.execute_input": "2022-12-14T07:17:01.237417Z",
     "iopub.status.busy": "2022-12-14T07:17:01.236454Z",
     "iopub.status.idle": "2022-12-14T07:17:01.250529Z",
     "shell.execute_reply": "2022-12-14T07:17:01.249543Z"
    },
    "lines_to_next_cell": 0,
    "papermill": {
     "duration": 0.024693,
     "end_time": "2022-12-14T07:17:01.253157",
     "exception": false,
     "start_time": "2022-12-14T07:17:01.228464",
     "status": "completed"
    },
    "tags": []
   },
   "outputs": [
    {
     "data": {
      "application/javascript": [
       "parent.postMessage({\"jupyterEvent\": \"custom.exercise_interaction\", \"data\": {\"outcomeType\": 1, \"valueTowardsCompletion\": 0.2, \"interactionType\": 1, \"questionType\": 2, \"questionId\": \"2_Q2\", \"learnToolsVersion\": \"0.3.4\", \"failureMessage\": \"\", \"exceptionClass\": \"\", \"trace\": \"\"}}, \"*\")"
      ],
      "text/plain": [
       "<IPython.core.display.Javascript object>"
      ]
     },
     "metadata": {},
     "output_type": "display_data"
    },
    {
     "data": {
      "text/markdown": [
       "<span style=\"color:#33cc33\">Correct</span>"
      ],
      "text/plain": [
       "Correct"
      ]
     },
     "metadata": {},
     "output_type": "display_data"
    }
   ],
   "source": [
    "# YOUR CODE HERE\n",
    "# One-hot encode BldgType. Use `prefix=\"Bldg\"` in `get_dummies`\n",
    "X_2 = pd.get_dummies(df.BldgType, prefix=\"Bldg\")\n",
    "# Multiply\n",
    "X_2 = X_2.mul(df.GrLivArea, axis=0)\n",
    "\n",
    "# Check your answer\n",
    "q_2.check()"
   ]
  },
  {
   "cell_type": "code",
   "execution_count": 6,
   "id": "081139ec",
   "metadata": {
    "execution": {
     "iopub.execute_input": "2022-12-14T07:17:01.269780Z",
     "iopub.status.busy": "2022-12-14T07:17:01.268886Z",
     "iopub.status.idle": "2022-12-14T07:17:01.276749Z",
     "shell.execute_reply": "2022-12-14T07:17:01.275802Z"
    },
    "papermill": {
     "duration": 0.018353,
     "end_time": "2022-12-14T07:17:01.278710",
     "exception": false,
     "start_time": "2022-12-14T07:17:01.260357",
     "status": "completed"
    },
    "tags": []
   },
   "outputs": [
    {
     "data": {
      "application/javascript": [
       "parent.postMessage({\"jupyterEvent\": \"custom.exercise_interaction\", \"data\": {\"interactionType\": 3, \"questionType\": 2, \"questionId\": \"2_Q2\", \"learnToolsVersion\": \"0.3.4\", \"valueTowardsCompletion\": 0.0, \"failureMessage\": \"\", \"exceptionClass\": \"\", \"trace\": \"\", \"outcomeType\": 4}}, \"*\")"
      ],
      "text/plain": [
       "<IPython.core.display.Javascript object>"
      ]
     },
     "metadata": {},
     "output_type": "display_data"
    },
    {
     "data": {
      "text/markdown": [
       "<span style=\"color:#33cc99\">Solution:</span> \n",
       "```python\n",
       "\n",
       "X_2 = pd.get_dummies(df.BldgType, prefix=\"Bldg\")\n",
       "X_2 = X_2.mul(df.GrLivArea, axis=0)\n",
       "\n",
       "```"
      ],
      "text/plain": [
       "Solution: \n",
       "```python\n",
       "\n",
       "X_2 = pd.get_dummies(df.BldgType, prefix=\"Bldg\")\n",
       "X_2 = X_2.mul(df.GrLivArea, axis=0)\n",
       "\n",
       "```"
      ]
     },
     "metadata": {},
     "output_type": "display_data"
    }
   ],
   "source": [
    "q_2.solution()"
   ]
  },
  {
   "cell_type": "code",
   "execution_count": 7,
   "id": "11a604a6",
   "metadata": {
    "execution": {
     "iopub.execute_input": "2022-12-14T07:17:01.295400Z",
     "iopub.status.busy": "2022-12-14T07:17:01.295040Z",
     "iopub.status.idle": "2022-12-14T07:17:01.299715Z",
     "shell.execute_reply": "2022-12-14T07:17:01.298179Z"
    },
    "lines_to_next_cell": 0,
    "papermill": {
     "duration": 0.015879,
     "end_time": "2022-12-14T07:17:01.301929",
     "exception": false,
     "start_time": "2022-12-14T07:17:01.286050",
     "status": "completed"
    },
    "tags": []
   },
   "outputs": [],
   "source": [
    "# Lines below will give you a hint or solution code\n",
    "#q_2.hint()\n",
    "#q_2.solution()"
   ]
  },
  {
   "cell_type": "markdown",
   "id": "52280450",
   "metadata": {
    "lines_to_next_cell": 0,
    "papermill": {
     "duration": 0.007025,
     "end_time": "2022-12-14T07:17:01.316438",
     "exception": false,
     "start_time": "2022-12-14T07:17:01.309413",
     "status": "completed"
    },
    "tags": []
   },
   "source": [
    "# 3) Count Feature\n",
    "\n",
    "Let's try creating a feature that describes how many kinds of outdoor areas a dwelling has. Create a feature `PorchTypes` that counts how many of the following are greater than 0.0:\n",
    "\n",
    "```\n",
    "WoodDeckSF\n",
    "OpenPorchSF\n",
    "EnclosedPorch\n",
    "Threeseasonporch\n",
    "ScreenPorch\n",
    "```"
   ]
  },
  {
   "cell_type": "code",
   "execution_count": 8,
   "id": "218f132d",
   "metadata": {
    "execution": {
     "iopub.execute_input": "2022-12-14T07:17:01.333102Z",
     "iopub.status.busy": "2022-12-14T07:17:01.332688Z",
     "iopub.status.idle": "2022-12-14T07:17:01.349310Z",
     "shell.execute_reply": "2022-12-14T07:17:01.348560Z"
    },
    "lines_to_next_cell": 0,
    "papermill": {
     "duration": 0.027296,
     "end_time": "2022-12-14T07:17:01.351403",
     "exception": false,
     "start_time": "2022-12-14T07:17:01.324107",
     "status": "completed"
    },
    "tags": []
   },
   "outputs": [
    {
     "data": {
      "application/javascript": [
       "parent.postMessage({\"jupyterEvent\": \"custom.exercise_interaction\", \"data\": {\"outcomeType\": 1, \"valueTowardsCompletion\": 0.2, \"interactionType\": 1, \"questionType\": 2, \"questionId\": \"3_Q3\", \"learnToolsVersion\": \"0.3.4\", \"failureMessage\": \"\", \"exceptionClass\": \"\", \"trace\": \"\"}}, \"*\")"
      ],
      "text/plain": [
       "<IPython.core.display.Javascript object>"
      ]
     },
     "metadata": {},
     "output_type": "display_data"
    },
    {
     "data": {
      "text/markdown": [
       "<span style=\"color:#33cc33\">Correct</span>"
      ],
      "text/plain": [
       "Correct"
      ]
     },
     "metadata": {},
     "output_type": "display_data"
    }
   ],
   "source": [
    "X_3 = pd.DataFrame()\n",
    "\n",
    "# YOUR CODE HERE\n",
    "X_3[\"PorchTypes\"] = df[[\n",
    "    \"WoodDeckSF\",\n",
    "    \"OpenPorchSF\",\n",
    "    \"EnclosedPorch\",\n",
    "    \"Threeseasonporch\",\n",
    "    \"ScreenPorch\",\n",
    "]].gt(0.0).sum(axis=1)\n",
    "\n",
    "\n",
    "# Check your answer\n",
    "q_3.check()"
   ]
  },
  {
   "cell_type": "code",
   "execution_count": 9,
   "id": "f21f3f33",
   "metadata": {
    "execution": {
     "iopub.execute_input": "2022-12-14T07:17:01.368405Z",
     "iopub.status.busy": "2022-12-14T07:17:01.368043Z",
     "iopub.status.idle": "2022-12-14T07:17:01.376282Z",
     "shell.execute_reply": "2022-12-14T07:17:01.375205Z"
    },
    "papermill": {
     "duration": 0.019428,
     "end_time": "2022-12-14T07:17:01.378493",
     "exception": false,
     "start_time": "2022-12-14T07:17:01.359065",
     "status": "completed"
    },
    "tags": []
   },
   "outputs": [
    {
     "data": {
      "application/javascript": [
       "parent.postMessage({\"jupyterEvent\": \"custom.exercise_interaction\", \"data\": {\"interactionType\": 3, \"questionType\": 2, \"questionId\": \"3_Q3\", \"learnToolsVersion\": \"0.3.4\", \"valueTowardsCompletion\": 0.0, \"failureMessage\": \"\", \"exceptionClass\": \"\", \"trace\": \"\", \"outcomeType\": 4}}, \"*\")"
      ],
      "text/plain": [
       "<IPython.core.display.Javascript object>"
      ]
     },
     "metadata": {},
     "output_type": "display_data"
    },
    {
     "data": {
      "text/markdown": [
       "<span style=\"color:#33cc99\">Solution:</span> \n",
       "```python\n",
       "\n",
       "X_3 = pd.DataFrame()\n",
       "\n",
       "X_3[\"PorchTypes\"] = df[[\n",
       "    \"WoodDeckSF\",\n",
       "    \"OpenPorchSF\",\n",
       "    \"EnclosedPorch\",\n",
       "    \"Threeseasonporch\",\n",
       "    \"ScreenPorch\",\n",
       "]].gt(0.0).sum(axis=1)\n",
       "\n",
       "```"
      ],
      "text/plain": [
       "Solution: \n",
       "```python\n",
       "\n",
       "X_3 = pd.DataFrame()\n",
       "\n",
       "X_3[\"PorchTypes\"] = df[[\n",
       "    \"WoodDeckSF\",\n",
       "    \"OpenPorchSF\",\n",
       "    \"EnclosedPorch\",\n",
       "    \"Threeseasonporch\",\n",
       "    \"ScreenPorch\",\n",
       "]].gt(0.0).sum(axis=1)\n",
       "\n",
       "```"
      ]
     },
     "metadata": {},
     "output_type": "display_data"
    }
   ],
   "source": [
    "q_3.solution()"
   ]
  },
  {
   "cell_type": "code",
   "execution_count": 10,
   "id": "5f4125e9",
   "metadata": {
    "execution": {
     "iopub.execute_input": "2022-12-14T07:17:01.396447Z",
     "iopub.status.busy": "2022-12-14T07:17:01.395445Z",
     "iopub.status.idle": "2022-12-14T07:17:01.400406Z",
     "shell.execute_reply": "2022-12-14T07:17:01.399328Z"
    },
    "lines_to_next_cell": 0,
    "papermill": {
     "duration": 0.016408,
     "end_time": "2022-12-14T07:17:01.402674",
     "exception": false,
     "start_time": "2022-12-14T07:17:01.386266",
     "status": "completed"
    },
    "tags": []
   },
   "outputs": [],
   "source": [
    "# Lines below will give you a hint or solution code\n",
    "#q_3.hint()\n",
    "#q_3.solution()"
   ]
  },
  {
   "cell_type": "markdown",
   "id": "e4af527e",
   "metadata": {
    "papermill": {
     "duration": 0.007544,
     "end_time": "2022-12-14T07:17:01.418246",
     "exception": false,
     "start_time": "2022-12-14T07:17:01.410702",
     "status": "completed"
    },
    "tags": []
   },
   "source": [
    "# 4) Break Down a Categorical Feature\n",
    "\n",
    "`MSSubClass` describes the type of a dwelling:"
   ]
  },
  {
   "cell_type": "code",
   "execution_count": 11,
   "id": "fb8f5a31",
   "metadata": {
    "execution": {
     "iopub.execute_input": "2022-12-14T07:17:01.435490Z",
     "iopub.status.busy": "2022-12-14T07:17:01.435086Z",
     "iopub.status.idle": "2022-12-14T07:17:01.443097Z",
     "shell.execute_reply": "2022-12-14T07:17:01.442027Z"
    },
    "papermill": {
     "duration": 0.019172,
     "end_time": "2022-12-14T07:17:01.445355",
     "exception": false,
     "start_time": "2022-12-14T07:17:01.426183",
     "status": "completed"
    },
    "tags": []
   },
   "outputs": [
    {
     "data": {
      "text/plain": [
       "array(['One_Story_1946_and_Newer_All_Styles', 'Two_Story_1946_and_Newer',\n",
       "       'One_Story_PUD_1946_and_Newer',\n",
       "       'One_and_Half_Story_Finished_All_Ages', 'Split_Foyer',\n",
       "       'Two_Story_PUD_1946_and_Newer', 'Split_or_Multilevel',\n",
       "       'One_Story_1945_and_Older', 'Duplex_All_Styles_and_Ages',\n",
       "       'Two_Family_conversion_All_Styles_and_Ages',\n",
       "       'One_and_Half_Story_Unfinished_All_Ages',\n",
       "       'Two_Story_1945_and_Older', 'Two_and_Half_Story_All_Ages',\n",
       "       'One_Story_with_Finished_Attic_All_Ages',\n",
       "       'PUD_Multilevel_Split_Level_Foyer',\n",
       "       'One_and_Half_Story_PUD_All_Ages'], dtype=object)"
      ]
     },
     "execution_count": 11,
     "metadata": {},
     "output_type": "execute_result"
    }
   ],
   "source": [
    "df.MSSubClass.unique()"
   ]
  },
  {
   "cell_type": "markdown",
   "id": "20142519",
   "metadata": {
    "papermill": {
     "duration": 0.007653,
     "end_time": "2022-12-14T07:17:01.461188",
     "exception": false,
     "start_time": "2022-12-14T07:17:01.453535",
     "status": "completed"
    },
    "tags": []
   },
   "source": [
    "You can see that there is a more general categorization described (roughly) by the first word of each category. Create a feature containing only these first words by splitting `MSSubClass` at the first underscore `_`. (Hint: In the `split` method use an argument `n=1`.)"
   ]
  },
  {
   "cell_type": "code",
   "execution_count": 12,
   "id": "8a44188f",
   "metadata": {
    "execution": {
     "iopub.execute_input": "2022-12-14T07:17:01.479260Z",
     "iopub.status.busy": "2022-12-14T07:17:01.478101Z",
     "iopub.status.idle": "2022-12-14T07:17:01.502768Z",
     "shell.execute_reply": "2022-12-14T07:17:01.502017Z"
    },
    "lines_to_next_cell": 0,
    "papermill": {
     "duration": 0.035723,
     "end_time": "2022-12-14T07:17:01.504774",
     "exception": false,
     "start_time": "2022-12-14T07:17:01.469051",
     "status": "completed"
    },
    "tags": []
   },
   "outputs": [
    {
     "data": {
      "application/javascript": [
       "parent.postMessage({\"jupyterEvent\": \"custom.exercise_interaction\", \"data\": {\"outcomeType\": 1, \"valueTowardsCompletion\": 0.2, \"interactionType\": 1, \"questionType\": 2, \"questionId\": \"4_Q4\", \"learnToolsVersion\": \"0.3.4\", \"failureMessage\": \"\", \"exceptionClass\": \"\", \"trace\": \"\"}}, \"*\")"
      ],
      "text/plain": [
       "<IPython.core.display.Javascript object>"
      ]
     },
     "metadata": {},
     "output_type": "display_data"
    },
    {
     "data": {
      "text/markdown": [
       "<span style=\"color:#33cc33\">Correct</span>"
      ],
      "text/plain": [
       "Correct"
      ]
     },
     "metadata": {},
     "output_type": "display_data"
    }
   ],
   "source": [
    "X_4 = pd.DataFrame()\n",
    "\n",
    "# YOUR CODE HERE\n",
    "X_4[\"MSClass\"] = df.MSSubClass.str.split(\"_\", n=1, expand=True)[0]\n",
    "\n",
    "# Check your answer\n",
    "q_4.check()"
   ]
  },
  {
   "cell_type": "code",
   "execution_count": 13,
   "id": "067bf242",
   "metadata": {
    "execution": {
     "iopub.execute_input": "2022-12-14T07:17:01.522484Z",
     "iopub.status.busy": "2022-12-14T07:17:01.522120Z",
     "iopub.status.idle": "2022-12-14T07:17:01.529015Z",
     "shell.execute_reply": "2022-12-14T07:17:01.527939Z"
    },
    "papermill": {
     "duration": 0.018311,
     "end_time": "2022-12-14T07:17:01.531183",
     "exception": false,
     "start_time": "2022-12-14T07:17:01.512872",
     "status": "completed"
    },
    "tags": []
   },
   "outputs": [
    {
     "data": {
      "application/javascript": [
       "parent.postMessage({\"jupyterEvent\": \"custom.exercise_interaction\", \"data\": {\"interactionType\": 3, \"questionType\": 2, \"questionId\": \"4_Q4\", \"learnToolsVersion\": \"0.3.4\", \"valueTowardsCompletion\": 0.0, \"failureMessage\": \"\", \"exceptionClass\": \"\", \"trace\": \"\", \"outcomeType\": 4}}, \"*\")"
      ],
      "text/plain": [
       "<IPython.core.display.Javascript object>"
      ]
     },
     "metadata": {},
     "output_type": "display_data"
    },
    {
     "data": {
      "text/markdown": [
       "<span style=\"color:#33cc99\">Solution:</span> \n",
       "```python\n",
       "\n",
       "X_4 = pd.DataFrame()\n",
       "\n",
       "X_4[\"MSClass\"] = df.MSSubClass.str.split(\"_\", n=1, expand=True)[0]\n",
       "\n",
       "```"
      ],
      "text/plain": [
       "Solution: \n",
       "```python\n",
       "\n",
       "X_4 = pd.DataFrame()\n",
       "\n",
       "X_4[\"MSClass\"] = df.MSSubClass.str.split(\"_\", n=1, expand=True)[0]\n",
       "\n",
       "```"
      ]
     },
     "metadata": {},
     "output_type": "display_data"
    }
   ],
   "source": [
    "q_4.solution()"
   ]
  },
  {
   "cell_type": "code",
   "execution_count": 14,
   "id": "3c8c7938",
   "metadata": {
    "execution": {
     "iopub.execute_input": "2022-12-14T07:17:01.550019Z",
     "iopub.status.busy": "2022-12-14T07:17:01.549153Z",
     "iopub.status.idle": "2022-12-14T07:17:01.553070Z",
     "shell.execute_reply": "2022-12-14T07:17:01.552270Z"
    },
    "lines_to_next_cell": 0,
    "papermill": {
     "duration": 0.015747,
     "end_time": "2022-12-14T07:17:01.555281",
     "exception": false,
     "start_time": "2022-12-14T07:17:01.539534",
     "status": "completed"
    },
    "tags": []
   },
   "outputs": [],
   "source": [
    "# Lines below will give you a hint or solution code\n",
    "#q_4.hint()\n",
    "#q_4.solution()"
   ]
  },
  {
   "cell_type": "markdown",
   "id": "64a42cf1",
   "metadata": {
    "papermill": {
     "duration": 0.008107,
     "end_time": "2022-12-14T07:17:01.571779",
     "exception": false,
     "start_time": "2022-12-14T07:17:01.563672",
     "status": "completed"
    },
    "tags": []
   },
   "source": [
    "# 5) Use a Grouped Transform\n",
    "\n",
    "The value of a home often depends on how it compares to typical homes in its neighborhood. Create a feature `MedNhbdArea` that describes the *median* of `GrLivArea` grouped on `Neighborhood`."
   ]
  },
  {
   "cell_type": "code",
   "execution_count": 15,
   "id": "fc23a5ef",
   "metadata": {
    "execution": {
     "iopub.execute_input": "2022-12-14T07:17:01.590225Z",
     "iopub.status.busy": "2022-12-14T07:17:01.589841Z",
     "iopub.status.idle": "2022-12-14T07:17:01.606452Z",
     "shell.execute_reply": "2022-12-14T07:17:01.605705Z"
    },
    "lines_to_next_cell": 0,
    "papermill": {
     "duration": 0.028446,
     "end_time": "2022-12-14T07:17:01.608608",
     "exception": false,
     "start_time": "2022-12-14T07:17:01.580162",
     "status": "completed"
    },
    "tags": []
   },
   "outputs": [
    {
     "data": {
      "application/javascript": [
       "parent.postMessage({\"jupyterEvent\": \"custom.exercise_interaction\", \"data\": {\"outcomeType\": 1, \"valueTowardsCompletion\": 0.2, \"interactionType\": 1, \"questionType\": 2, \"questionId\": \"5_Q5\", \"learnToolsVersion\": \"0.3.4\", \"failureMessage\": \"\", \"exceptionClass\": \"\", \"trace\": \"\"}}, \"*\")"
      ],
      "text/plain": [
       "<IPython.core.display.Javascript object>"
      ]
     },
     "metadata": {},
     "output_type": "display_data"
    },
    {
     "data": {
      "text/markdown": [
       "<span style=\"color:#33cc33\">Correct</span>"
      ],
      "text/plain": [
       "Correct"
      ]
     },
     "metadata": {},
     "output_type": "display_data"
    }
   ],
   "source": [
    "X_5 = pd.DataFrame()\n",
    "\n",
    "# YOUR CODE HERE\n",
    "X_5[\"MedNhbdArea\"] = df.groupby(\"Neighborhood\")[\"GrLivArea\"].transform(\"median\")\n",
    "\n",
    "# Check your answer\n",
    "q_5.check()"
   ]
  },
  {
   "cell_type": "code",
   "execution_count": 16,
   "id": "b3f4190b",
   "metadata": {
    "execution": {
     "iopub.execute_input": "2022-12-14T07:17:01.628961Z",
     "iopub.status.busy": "2022-12-14T07:17:01.628155Z",
     "iopub.status.idle": "2022-12-14T07:17:01.637618Z",
     "shell.execute_reply": "2022-12-14T07:17:01.636503Z"
    },
    "papermill": {
     "duration": 0.022406,
     "end_time": "2022-12-14T07:17:01.639777",
     "exception": false,
     "start_time": "2022-12-14T07:17:01.617371",
     "status": "completed"
    },
    "tags": []
   },
   "outputs": [
    {
     "data": {
      "application/javascript": [
       "parent.postMessage({\"jupyterEvent\": \"custom.exercise_interaction\", \"data\": {\"interactionType\": 3, \"questionType\": 2, \"questionId\": \"5_Q5\", \"learnToolsVersion\": \"0.3.4\", \"valueTowardsCompletion\": 0.0, \"failureMessage\": \"\", \"exceptionClass\": \"\", \"trace\": \"\", \"outcomeType\": 4}}, \"*\")"
      ],
      "text/plain": [
       "<IPython.core.display.Javascript object>"
      ]
     },
     "metadata": {},
     "output_type": "display_data"
    },
    {
     "data": {
      "text/markdown": [
       "<span style=\"color:#33cc99\">Solution:</span> \n",
       "```python\n",
       "\n",
       "X_5 = pd.DataFrame()\n",
       "\n",
       "X_5[\"MedNhbdArea\"] = df.groupby(\"Neighborhood\")[\"GrLivArea\"].transform(\"median\")\n",
       "\n",
       "```"
      ],
      "text/plain": [
       "Solution: \n",
       "```python\n",
       "\n",
       "X_5 = pd.DataFrame()\n",
       "\n",
       "X_5[\"MedNhbdArea\"] = df.groupby(\"Neighborhood\")[\"GrLivArea\"].transform(\"median\")\n",
       "\n",
       "```"
      ]
     },
     "metadata": {},
     "output_type": "display_data"
    }
   ],
   "source": [
    "q_5.solution()"
   ]
  },
  {
   "cell_type": "code",
   "execution_count": 17,
   "id": "4e9e01de",
   "metadata": {
    "execution": {
     "iopub.execute_input": "2022-12-14T07:17:01.659453Z",
     "iopub.status.busy": "2022-12-14T07:17:01.658825Z",
     "iopub.status.idle": "2022-12-14T07:17:01.662375Z",
     "shell.execute_reply": "2022-12-14T07:17:01.661678Z"
    },
    "lines_to_next_cell": 0,
    "papermill": {
     "duration": 0.01573,
     "end_time": "2022-12-14T07:17:01.664324",
     "exception": false,
     "start_time": "2022-12-14T07:17:01.648594",
     "status": "completed"
    },
    "tags": []
   },
   "outputs": [],
   "source": [
    "# Lines below will give you a hint or solution code\n",
    "#q_5.hint()\n",
    "#q_5.solution()"
   ]
  },
  {
   "cell_type": "markdown",
   "id": "c76427f7",
   "metadata": {
    "papermill": {
     "duration": 0.008478,
     "end_time": "2022-12-14T07:17:01.681891",
     "exception": false,
     "start_time": "2022-12-14T07:17:01.673413",
     "status": "completed"
    },
    "tags": []
   },
   "source": [
    "Now you've made your first new feature set! If you like, you can run the cell below to score the model with all of your new features added:"
   ]
  },
  {
   "cell_type": "code",
   "execution_count": 18,
   "id": "d94cdb79",
   "metadata": {
    "execution": {
     "iopub.execute_input": "2022-12-14T07:17:01.703475Z",
     "iopub.status.busy": "2022-12-14T07:17:01.702834Z",
     "iopub.status.idle": "2022-12-14T07:17:07.474261Z",
     "shell.execute_reply": "2022-12-14T07:17:07.473242Z"
    },
    "papermill": {
     "duration": 5.786132,
     "end_time": "2022-12-14T07:17:07.476915",
     "exception": false,
     "start_time": "2022-12-14T07:17:01.690783",
     "status": "completed"
    },
    "tags": []
   },
   "outputs": [
    {
     "data": {
      "text/plain": [
       "0.13847331710099203"
      ]
     },
     "execution_count": 18,
     "metadata": {},
     "output_type": "execute_result"
    }
   ],
   "source": [
    "X_new = X.join([X_1, X_2, X_3, X_4, X_5])\n",
    "score_dataset(X_new, y)"
   ]
  },
  {
   "cell_type": "markdown",
   "id": "611460e5",
   "metadata": {
    "papermill": {
     "duration": 0.008681,
     "end_time": "2022-12-14T07:17:07.496054",
     "exception": false,
     "start_time": "2022-12-14T07:17:07.487373",
     "status": "completed"
    },
    "tags": []
   },
   "source": [
    "---\n",
    "\n",
    "\n",
    "\n",
    "\n",
    "**Allen**"
   ]
  }
 ],
 "metadata": {
  "kernelspec": {
   "display_name": "Python 3",
   "language": "python",
   "name": "python3"
  },
  "language_info": {
   "codemirror_mode": {
    "name": "ipython",
    "version": 3
   },
   "file_extension": ".py",
   "mimetype": "text/x-python",
   "name": "python",
   "nbconvert_exporter": "python",
   "pygments_lexer": "ipython3",
   "version": "3.7.12"
  },
  "papermill": {
   "default_parameters": {},
   "duration": 16.637264,
   "end_time": "2022-12-14T07:17:08.227221",
   "environment_variables": {},
   "exception": null,
   "input_path": "__notebook__.ipynb",
   "output_path": "__notebook__.ipynb",
   "parameters": {},
   "start_time": "2022-12-14T07:16:51.589957",
   "version": "2.3.4"
  }
 },
 "nbformat": 4,
 "nbformat_minor": 5
}
