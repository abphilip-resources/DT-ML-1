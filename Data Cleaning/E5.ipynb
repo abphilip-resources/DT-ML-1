{
 "cells": [
  {
   "cell_type": "markdown",
   "id": "a5d82f14",
   "metadata": {
    "papermill": {
     "duration": 0.006945,
     "end_time": "2022-12-12T08:24:03.175113",
     "exception": false,
     "start_time": "2022-12-12T08:24:03.168168",
     "status": "completed"
    },
    "tags": []
   },
   "source": [
    "**This notebook is an exercise in the [Data Cleaning](https://www.kaggle.com/learn/data-cleaning) course.  You can reference the tutorial at [this link](https://www.kaggle.com/alexisbcook/inconsistent-data-entry).**\n",
    "\n",
    "---\n"
   ]
  },
  {
   "cell_type": "markdown",
   "id": "f9cc611f",
   "metadata": {
    "papermill": {
     "duration": 0.004986,
     "end_time": "2022-12-12T08:24:03.185556",
     "exception": false,
     "start_time": "2022-12-12T08:24:03.180570",
     "status": "completed"
    },
    "tags": []
   },
   "source": [
    "In this exercise, you'll apply what you learned in the **Inconsistent data entry** tutorial.\n",
    "\n",
    "# Setup\n",
    "\n",
    "The questions below will give you feedback on your work. Run the following cell to set up the feedback system."
   ]
  },
  {
   "cell_type": "code",
   "execution_count": 1,
   "id": "0f86ab39",
   "metadata": {
    "execution": {
     "iopub.execute_input": "2022-12-12T08:24:03.198558Z",
     "iopub.status.busy": "2022-12-12T08:24:03.197752Z",
     "iopub.status.idle": "2022-12-12T08:24:03.420176Z",
     "shell.execute_reply": "2022-12-12T08:24:03.418846Z"
    },
    "papermill": {
     "duration": 0.23251,
     "end_time": "2022-12-12T08:24:03.423398",
     "exception": false,
     "start_time": "2022-12-12T08:24:03.190888",
     "status": "completed"
    },
    "tags": []
   },
   "outputs": [
    {
     "name": "stdout",
     "output_type": "stream",
     "text": [
      "Setup Complete\n"
     ]
    }
   ],
   "source": [
    "import warnings\n",
    "warnings.filterwarnings(\"ignore\")\n",
    "\n",
    "from learntools.core import binder\n",
    "binder.bind(globals())\n",
    "from learntools.data_cleaning.ex5 import *\n",
    "print(\"Setup Complete\")"
   ]
  },
  {
   "cell_type": "markdown",
   "id": "878a8ad3",
   "metadata": {
    "papermill": {
     "duration": 0.005162,
     "end_time": "2022-12-12T08:24:03.434945",
     "exception": false,
     "start_time": "2022-12-12T08:24:03.429783",
     "status": "completed"
    },
    "tags": []
   },
   "source": [
    "# Get our environment set up\n",
    "\n",
    "The first thing we'll need to do is load in the libraries and dataset we'll be using.  We use the same dataset from the tutorial."
   ]
  },
  {
   "cell_type": "code",
   "execution_count": 2,
   "id": "1f3b7955",
   "metadata": {
    "execution": {
     "iopub.execute_input": "2022-12-12T08:24:03.448461Z",
     "iopub.status.busy": "2022-12-12T08:24:03.447752Z",
     "iopub.status.idle": "2022-12-12T08:24:03.465203Z",
     "shell.execute_reply": "2022-12-12T08:24:03.464081Z"
    },
    "papermill": {
     "duration": 0.026921,
     "end_time": "2022-12-12T08:24:03.467753",
     "exception": false,
     "start_time": "2022-12-12T08:24:03.440832",
     "status": "completed"
    },
    "tags": []
   },
   "outputs": [],
   "source": [
    "# modules we'll use\n",
    "import pandas as pd\n",
    "import numpy as np\n",
    "\n",
    "# helpful modules\n",
    "import fuzzywuzzy\n",
    "from fuzzywuzzy import process\n",
    "import chardet\n",
    "\n",
    "# read in all our data\n",
    "professors = pd.read_csv(\"../input/pakistan-intellectual-capital/pakistan_intellectual_capital.csv\")\n",
    "\n",
    "# set seed for reproducibility\n",
    "np.random.seed(0)"
   ]
  },
  {
   "cell_type": "markdown",
   "id": "fe240e03",
   "metadata": {
    "papermill": {
     "duration": 0.005028,
     "end_time": "2022-12-12T08:24:03.478347",
     "exception": false,
     "start_time": "2022-12-12T08:24:03.473319",
     "status": "completed"
    },
    "tags": []
   },
   "source": [
    "Next, we'll redo all of the work that we did in the tutorial."
   ]
  },
  {
   "cell_type": "code",
   "execution_count": 3,
   "id": "6e59cd01",
   "metadata": {
    "execution": {
     "iopub.execute_input": "2022-12-12T08:24:03.491239Z",
     "iopub.status.busy": "2022-12-12T08:24:03.490526Z",
     "iopub.status.idle": "2022-12-12T08:24:03.506063Z",
     "shell.execute_reply": "2022-12-12T08:24:03.504459Z"
    },
    "papermill": {
     "duration": 0.025023,
     "end_time": "2022-12-12T08:24:03.508704",
     "exception": false,
     "start_time": "2022-12-12T08:24:03.483681",
     "status": "completed"
    },
    "tags": []
   },
   "outputs": [
    {
     "name": "stdout",
     "output_type": "stream",
     "text": [
      "All done!\n"
     ]
    }
   ],
   "source": [
    "# convert to lower case\n",
    "professors['Country'] = professors['Country'].str.lower()\n",
    "# remove trailing white spaces\n",
    "professors['Country'] = professors['Country'].str.strip()\n",
    "\n",
    "# get the top 10 closest matches to \"south korea\"\n",
    "countries = professors['Country'].unique()\n",
    "matches = fuzzywuzzy.process.extract(\"south korea\", countries, limit=10, scorer=fuzzywuzzy.fuzz.token_sort_ratio)\n",
    "\n",
    "def replace_matches_in_column(df, column, string_to_match, min_ratio = 47):\n",
    "    # get a list of unique strings\n",
    "    strings = df[column].unique()\n",
    "    \n",
    "    # get the top 10 closest matches to our input string\n",
    "    matches = fuzzywuzzy.process.extract(string_to_match, strings, \n",
    "                                         limit=10, scorer=fuzzywuzzy.fuzz.token_sort_ratio)\n",
    "\n",
    "    # only get matches with a ratio > 90\n",
    "    close_matches = [matches[0] for matches in matches if matches[1] >= min_ratio]\n",
    "\n",
    "    # get the rows of all the close matches in our dataframe\n",
    "    rows_with_matches = df[column].isin(close_matches)\n",
    "\n",
    "    # replace all rows with close matches with the input matches \n",
    "    df.loc[rows_with_matches, column] = string_to_match\n",
    "    \n",
    "    # let us know the function's done\n",
    "    print(\"All done!\")\n",
    "    \n",
    "replace_matches_in_column(df=professors, column='Country', string_to_match=\"south korea\")\n",
    "countries = professors['Country'].unique()"
   ]
  },
  {
   "cell_type": "markdown",
   "id": "fc010fb8",
   "metadata": {
    "papermill": {
     "duration": 0.005433,
     "end_time": "2022-12-12T08:24:03.519535",
     "exception": false,
     "start_time": "2022-12-12T08:24:03.514102",
     "status": "completed"
    },
    "tags": []
   },
   "source": [
    "# 1) Examine another column\n",
    "\n",
    "Write code below to take a look at all the unique values in the \"Graduated from\" column."
   ]
  },
  {
   "cell_type": "code",
   "execution_count": 4,
   "id": "45371102",
   "metadata": {
    "execution": {
     "iopub.execute_input": "2022-12-12T08:24:03.535478Z",
     "iopub.status.busy": "2022-12-12T08:24:03.534340Z",
     "iopub.status.idle": "2022-12-12T08:24:03.540776Z",
     "shell.execute_reply": "2022-12-12T08:24:03.539560Z"
    },
    "papermill": {
     "duration": 0.01585,
     "end_time": "2022-12-12T08:24:03.543168",
     "exception": false,
     "start_time": "2022-12-12T08:24:03.527318",
     "status": "completed"
    },
    "tags": []
   },
   "outputs": [],
   "source": [
    "# TODO: Your code here\n",
    "u = professors['Graduated from'].unique()"
   ]
  },
  {
   "cell_type": "markdown",
   "id": "6e6af4ff",
   "metadata": {
    "papermill": {
     "duration": 0.005191,
     "end_time": "2022-12-12T08:24:03.553839",
     "exception": false,
     "start_time": "2022-12-12T08:24:03.548648",
     "status": "completed"
    },
    "tags": []
   },
   "source": [
    "Do you notice any inconsistencies in the data?  Can any of the inconsistencies in the data be fixed by removing white spaces at the beginning and end of cells?\n",
    "\n",
    "Once you have answered these questions, run the code cell below to get credit for your work."
   ]
  },
  {
   "cell_type": "code",
   "execution_count": 5,
   "id": "6f7bb848",
   "metadata": {
    "execution": {
     "iopub.execute_input": "2022-12-12T08:24:03.566698Z",
     "iopub.status.busy": "2022-12-12T08:24:03.565951Z",
     "iopub.status.idle": "2022-12-12T08:24:03.577436Z",
     "shell.execute_reply": "2022-12-12T08:24:03.576230Z"
    },
    "papermill": {
     "duration": 0.020552,
     "end_time": "2022-12-12T08:24:03.579707",
     "exception": false,
     "start_time": "2022-12-12T08:24:03.559155",
     "status": "completed"
    },
    "tags": []
   },
   "outputs": [
    {
     "data": {
      "application/javascript": [
       "parent.postMessage({\"jupyterEvent\": \"custom.exercise_interaction\", \"data\": {\"outcomeType\": 1, \"valueTowardsCompletion\": 0.3333333333333333, \"interactionType\": 1, \"questionType\": 4, \"questionId\": \"1_ExamineProvince\", \"learnToolsVersion\": \"0.3.4\", \"failureMessage\": \"\", \"exceptionClass\": \"\", \"trace\": \"\"}}, \"*\")"
      ],
      "text/plain": [
       "<IPython.core.display.Javascript object>"
      ]
     },
     "metadata": {},
     "output_type": "display_data"
    },
    {
     "data": {
      "text/markdown": [
       "<span style=\"color:#33cc33\">Correct:</span> \n",
       "\n",
       "There are inconsistencies that can be fixed by removing white spaces at the beginning and end of cells.  For instance, \"University of Central Florida\" and \" University of Central Florida\" both appear in the column."
      ],
      "text/plain": [
       "Correct: \n",
       "\n",
       "There are inconsistencies that can be fixed by removing white spaces at the beginning and end of cells.  For instance, \"University of Central Florida\" and \" University of Central Florida\" both appear in the column."
      ]
     },
     "metadata": {},
     "output_type": "display_data"
    }
   ],
   "source": [
    "# Check your answer (Run this code cell to receive credit!)\n",
    "q1.check()"
   ]
  },
  {
   "cell_type": "code",
   "execution_count": 6,
   "id": "436837f1",
   "metadata": {
    "execution": {
     "iopub.execute_input": "2022-12-12T08:24:03.593847Z",
     "iopub.status.busy": "2022-12-12T08:24:03.592828Z",
     "iopub.status.idle": "2022-12-12T08:24:03.600870Z",
     "shell.execute_reply": "2022-12-12T08:24:03.600019Z"
    },
    "papermill": {
     "duration": 0.017535,
     "end_time": "2022-12-12T08:24:03.602977",
     "exception": false,
     "start_time": "2022-12-12T08:24:03.585442",
     "status": "completed"
    },
    "tags": []
   },
   "outputs": [
    {
     "data": {
      "application/javascript": [
       "parent.postMessage({\"jupyterEvent\": \"custom.exercise_interaction\", \"data\": {\"interactionType\": 2, \"questionType\": 4, \"questionId\": \"1_ExamineProvince\", \"learnToolsVersion\": \"0.3.4\", \"valueTowardsCompletion\": 0.0, \"failureMessage\": \"\", \"exceptionClass\": \"\", \"trace\": \"\", \"outcomeType\": 4}}, \"*\")"
      ],
      "text/plain": [
       "<IPython.core.display.Javascript object>"
      ]
     },
     "metadata": {},
     "output_type": "display_data"
    },
    {
     "data": {
      "text/markdown": [
       "<span style=\"color:#3366cc\">Hint:</span> Use `unis = professors['Graduated from'].unique()` to take a look at the unique values in the 'Graduated from' column. You may find it useful to sort the data before printing it."
      ],
      "text/plain": [
       "Hint: Use `unis = professors['Graduated from'].unique()` to take a look at the unique values in the 'Graduated from' column. You may find it useful to sort the data before printing it."
      ]
     },
     "metadata": {},
     "output_type": "display_data"
    }
   ],
   "source": [
    "# Line below will give you a hint\n",
    "q1.hint()"
   ]
  },
  {
   "cell_type": "markdown",
   "id": "5cbfd9c7",
   "metadata": {
    "papermill": {
     "duration": 0.005526,
     "end_time": "2022-12-12T08:24:03.614496",
     "exception": false,
     "start_time": "2022-12-12T08:24:03.608970",
     "status": "completed"
    },
    "tags": []
   },
   "source": [
    "# 2) Do some text pre-processing\n",
    "\n",
    "Convert every entry in the \"Graduated from\" column in the `professors` DataFrame to remove white spaces at the beginning and end of cells."
   ]
  },
  {
   "cell_type": "code",
   "execution_count": 7,
   "id": "bdaaa041",
   "metadata": {
    "execution": {
     "iopub.execute_input": "2022-12-12T08:24:03.628367Z",
     "iopub.status.busy": "2022-12-12T08:24:03.627664Z",
     "iopub.status.idle": "2022-12-12T08:24:03.640435Z",
     "shell.execute_reply": "2022-12-12T08:24:03.639328Z"
    },
    "papermill": {
     "duration": 0.022653,
     "end_time": "2022-12-12T08:24:03.642969",
     "exception": false,
     "start_time": "2022-12-12T08:24:03.620316",
     "status": "completed"
    },
    "tags": []
   },
   "outputs": [
    {
     "data": {
      "application/javascript": [
       "parent.postMessage({\"jupyterEvent\": \"custom.exercise_interaction\", \"data\": {\"outcomeType\": 1, \"valueTowardsCompletion\": 0.3333333333333333, \"interactionType\": 1, \"questionType\": 1, \"questionId\": \"2_TextProcessing\", \"learnToolsVersion\": \"0.3.4\", \"failureMessage\": \"\", \"exceptionClass\": \"\", \"trace\": \"\"}}, \"*\")"
      ],
      "text/plain": [
       "<IPython.core.display.Javascript object>"
      ]
     },
     "metadata": {},
     "output_type": "display_data"
    },
    {
     "data": {
      "text/markdown": [
       "<span style=\"color:#33cc33\">Correct</span>"
      ],
      "text/plain": [
       "Correct"
      ]
     },
     "metadata": {},
     "output_type": "display_data"
    }
   ],
   "source": [
    "# TODO: Your code here\n",
    "professors['Graduated from'] = professors['Graduated from'].str.strip()\n",
    "\n",
    "# Check your answer\n",
    "q2.check()"
   ]
  },
  {
   "cell_type": "code",
   "execution_count": 8,
   "id": "f62e9b5a",
   "metadata": {
    "execution": {
     "iopub.execute_input": "2022-12-12T08:24:03.656847Z",
     "iopub.status.busy": "2022-12-12T08:24:03.656428Z",
     "iopub.status.idle": "2022-12-12T08:24:03.666061Z",
     "shell.execute_reply": "2022-12-12T08:24:03.664926Z"
    },
    "papermill": {
     "duration": 0.019498,
     "end_time": "2022-12-12T08:24:03.668537",
     "exception": false,
     "start_time": "2022-12-12T08:24:03.649039",
     "status": "completed"
    },
    "tags": []
   },
   "outputs": [
    {
     "data": {
      "application/javascript": [
       "parent.postMessage({\"jupyterEvent\": \"custom.exercise_interaction\", \"data\": {\"interactionType\": 3, \"questionType\": 1, \"questionId\": \"2_TextProcessing\", \"learnToolsVersion\": \"0.3.4\", \"valueTowardsCompletion\": 0.0, \"failureMessage\": \"\", \"exceptionClass\": \"\", \"trace\": \"\", \"outcomeType\": 4}}, \"*\")"
      ],
      "text/plain": [
       "<IPython.core.display.Javascript object>"
      ]
     },
     "metadata": {},
     "output_type": "display_data"
    },
    {
     "data": {
      "text/markdown": [
       "<span style=\"color:#33cc99\">Solution:</span> \n",
       "```python\n",
       "professors['Graduated from'] = professors['Graduated from'].str.strip()\n",
       "\n",
       "```"
      ],
      "text/plain": [
       "Solution: \n",
       "```python\n",
       "professors['Graduated from'] = professors['Graduated from'].str.strip()\n",
       "\n",
       "```"
      ]
     },
     "metadata": {},
     "output_type": "display_data"
    }
   ],
   "source": [
    "q2.solution()"
   ]
  },
  {
   "cell_type": "code",
   "execution_count": 9,
   "id": "f6eb73c8",
   "metadata": {
    "execution": {
     "iopub.execute_input": "2022-12-12T08:24:03.683252Z",
     "iopub.status.busy": "2022-12-12T08:24:03.682853Z",
     "iopub.status.idle": "2022-12-12T08:24:03.688107Z",
     "shell.execute_reply": "2022-12-12T08:24:03.686766Z"
    },
    "papermill": {
     "duration": 0.016004,
     "end_time": "2022-12-12T08:24:03.690903",
     "exception": false,
     "start_time": "2022-12-12T08:24:03.674899",
     "status": "completed"
    },
    "tags": []
   },
   "outputs": [],
   "source": [
    "# Lines below will give you a hint or solution code\n",
    "#q2.hint()\n",
    "#q2.solution()"
   ]
  },
  {
   "cell_type": "markdown",
   "id": "2bbba7ce",
   "metadata": {
    "papermill": {
     "duration": 0.006031,
     "end_time": "2022-12-12T08:24:03.703424",
     "exception": false,
     "start_time": "2022-12-12T08:24:03.697393",
     "status": "completed"
    },
    "tags": []
   },
   "source": [
    "# 3) Continue working with countries\n",
    "\n",
    "In the tutorial, we focused on cleaning up inconsistencies in the \"Country\" column.  Run the code cell below to view the list of unique values that we ended with."
   ]
  },
  {
   "cell_type": "code",
   "execution_count": 10,
   "id": "6e01fa76",
   "metadata": {
    "execution": {
     "iopub.execute_input": "2022-12-12T08:24:03.718201Z",
     "iopub.status.busy": "2022-12-12T08:24:03.717303Z",
     "iopub.status.idle": "2022-12-12T08:24:03.726041Z",
     "shell.execute_reply": "2022-12-12T08:24:03.724981Z"
    },
    "papermill": {
     "duration": 0.018961,
     "end_time": "2022-12-12T08:24:03.728735",
     "exception": false,
     "start_time": "2022-12-12T08:24:03.709774",
     "status": "completed"
    },
    "tags": []
   },
   "outputs": [
    {
     "data": {
      "text/plain": [
       "array(['australia', 'austria', 'canada', 'china', 'finland', 'france',\n",
       "       'germany', 'greece', 'hongkong', 'ireland', 'italy', 'japan',\n",
       "       'macau', 'malaysia', 'mauritius', 'netherland', 'new zealand',\n",
       "       'norway', 'pakistan', 'portugal', 'russian federation',\n",
       "       'saudi arabia', 'scotland', 'singapore', 'south korea', 'spain',\n",
       "       'sweden', 'thailand', 'turkey', 'uk', 'urbana', 'usa', 'usofa'],\n",
       "      dtype=object)"
      ]
     },
     "execution_count": 10,
     "metadata": {},
     "output_type": "execute_result"
    }
   ],
   "source": [
    "# get all the unique values in the 'City' column\n",
    "countries = professors['Country'].unique()\n",
    "\n",
    "# sort them alphabetically and then take a closer look\n",
    "countries.sort()\n",
    "countries"
   ]
  },
  {
   "cell_type": "markdown",
   "id": "c5384b43",
   "metadata": {
    "papermill": {
     "duration": 0.006383,
     "end_time": "2022-12-12T08:24:03.742057",
     "exception": false,
     "start_time": "2022-12-12T08:24:03.735674",
     "status": "completed"
    },
    "tags": []
   },
   "source": [
    "Take another look at the \"Country\" column and see if there's any more data cleaning we need to do.\n",
    "\n",
    "It looks like 'usa' and 'usofa' should be the same country.  Correct the \"Country\" column in the dataframe to replace 'usofa' with 'usa'.\n",
    "\n",
    "**Use the most recent version of the DataFrame (with the whitespaces at the beginning and end of cells removed) from question 2.**"
   ]
  },
  {
   "cell_type": "code",
   "execution_count": 11,
   "id": "0bfb2850",
   "metadata": {
    "execution": {
     "iopub.execute_input": "2022-12-12T08:24:03.757031Z",
     "iopub.status.busy": "2022-12-12T08:24:03.756593Z",
     "iopub.status.idle": "2022-12-12T08:24:03.771465Z",
     "shell.execute_reply": "2022-12-12T08:24:03.769975Z"
    },
    "papermill": {
     "duration": 0.025823,
     "end_time": "2022-12-12T08:24:03.774443",
     "exception": false,
     "start_time": "2022-12-12T08:24:03.748620",
     "status": "completed"
    },
    "tags": []
   },
   "outputs": [
    {
     "name": "stdout",
     "output_type": "stream",
     "text": [
      "All done!\n"
     ]
    },
    {
     "data": {
      "application/javascript": [
       "parent.postMessage({\"jupyterEvent\": \"custom.exercise_interaction\", \"data\": {\"outcomeType\": 1, \"valueTowardsCompletion\": 0.3333333333333333, \"interactionType\": 1, \"questionType\": 1, \"questionId\": \"3_WorkingWithCities\", \"learnToolsVersion\": \"0.3.4\", \"failureMessage\": \"\", \"exceptionClass\": \"\", \"trace\": \"\"}}, \"*\")"
      ],
      "text/plain": [
       "<IPython.core.display.Javascript object>"
      ]
     },
     "metadata": {},
     "output_type": "display_data"
    },
    {
     "data": {
      "text/markdown": [
       "<span style=\"color:#33cc33\">Correct</span>"
      ],
      "text/plain": [
       "Correct"
      ]
     },
     "metadata": {},
     "output_type": "display_data"
    }
   ],
   "source": [
    "# TODO: Your code here!\n",
    "matches = fuzzywuzzy.process.extract(\"usa\", countries, limit=10, scorer=fuzzywuzzy.fuzz.token_sort_ratio)\n",
    "replace_matches_in_column(df=professors, column='Country', string_to_match=\"usa\", min_ratio=70)\n",
    "\n",
    "# Check your answer\n",
    "q3.check()"
   ]
  },
  {
   "cell_type": "code",
   "execution_count": 12,
   "id": "8a66cc40",
   "metadata": {
    "execution": {
     "iopub.execute_input": "2022-12-12T08:24:03.790965Z",
     "iopub.status.busy": "2022-12-12T08:24:03.790210Z",
     "iopub.status.idle": "2022-12-12T08:24:03.799075Z",
     "shell.execute_reply": "2022-12-12T08:24:03.797916Z"
    },
    "papermill": {
     "duration": 0.019991,
     "end_time": "2022-12-12T08:24:03.801522",
     "exception": false,
     "start_time": "2022-12-12T08:24:03.781531",
     "status": "completed"
    },
    "tags": []
   },
   "outputs": [
    {
     "data": {
      "application/javascript": [
       "parent.postMessage({\"jupyterEvent\": \"custom.exercise_interaction\", \"data\": {\"interactionType\": 3, \"questionType\": 1, \"questionId\": \"3_WorkingWithCities\", \"learnToolsVersion\": \"0.3.4\", \"valueTowardsCompletion\": 0.0, \"failureMessage\": \"\", \"exceptionClass\": \"\", \"trace\": \"\", \"outcomeType\": 4}}, \"*\")"
      ],
      "text/plain": [
       "<IPython.core.display.Javascript object>"
      ]
     },
     "metadata": {},
     "output_type": "display_data"
    },
    {
     "data": {
      "text/markdown": [
       "<span style=\"color:#33cc99\">Solution:</span> \n",
       "```python\n",
       "matches = fuzzywuzzy.process.extract(\"usa\", countries, limit=10, scorer=fuzzywuzzy.fuzz.token_sort_ratio)\n",
       "replace_matches_in_column(df=professors, column='Country', string_to_match=\"usa\", min_ratio=70)\n",
       "\n",
       "```"
      ],
      "text/plain": [
       "Solution: \n",
       "```python\n",
       "matches = fuzzywuzzy.process.extract(\"usa\", countries, limit=10, scorer=fuzzywuzzy.fuzz.token_sort_ratio)\n",
       "replace_matches_in_column(df=professors, column='Country', string_to_match=\"usa\", min_ratio=70)\n",
       "\n",
       "```"
      ]
     },
     "metadata": {},
     "output_type": "display_data"
    }
   ],
   "source": [
    "q3.solution()"
   ]
  },
  {
   "cell_type": "code",
   "execution_count": 13,
   "id": "7a2f1ed5",
   "metadata": {
    "execution": {
     "iopub.execute_input": "2022-12-12T08:24:03.817892Z",
     "iopub.status.busy": "2022-12-12T08:24:03.817498Z",
     "iopub.status.idle": "2022-12-12T08:24:03.822096Z",
     "shell.execute_reply": "2022-12-12T08:24:03.820893Z"
    },
    "papermill": {
     "duration": 0.015426,
     "end_time": "2022-12-12T08:24:03.824360",
     "exception": false,
     "start_time": "2022-12-12T08:24:03.808934",
     "status": "completed"
    },
    "tags": []
   },
   "outputs": [],
   "source": [
    "# Lines below will give you a hint or solution code\n",
    "#q3.hint()\n",
    "#q3.solution()"
   ]
  },
  {
   "cell_type": "markdown",
   "id": "0e3b8ef3",
   "metadata": {
    "papermill": {
     "duration": 0.006763,
     "end_time": "2022-12-12T08:24:03.838205",
     "exception": false,
     "start_time": "2022-12-12T08:24:03.831442",
     "status": "completed"
    },
    "tags": []
   },
   "source": [
    "---\n",
    "\n",
    "\n",
    "\n",
    "\n",
    "**Allen**"
   ]
  }
 ],
 "metadata": {
  "kernelspec": {
   "display_name": "Python 3",
   "language": "python",
   "name": "python3"
  },
  "language_info": {
   "codemirror_mode": {
    "name": "ipython",
    "version": 3
   },
   "file_extension": ".py",
   "mimetype": "text/x-python",
   "name": "python",
   "nbconvert_exporter": "python",
   "pygments_lexer": "ipython3",
   "version": "3.7.12"
  },
  "papermill": {
   "default_parameters": {},
   "duration": 10.125826,
   "end_time": "2022-12-12T08:24:04.468114",
   "environment_variables": {},
   "exception": null,
   "input_path": "__notebook__.ipynb",
   "output_path": "__notebook__.ipynb",
   "parameters": {},
   "start_time": "2022-12-12T08:23:54.342288",
   "version": "2.3.4"
  }
 },
 "nbformat": 4,
 "nbformat_minor": 5
}
