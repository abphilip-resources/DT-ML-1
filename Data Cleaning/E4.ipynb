{
 "cells": [
  {
   "cell_type": "markdown",
   "id": "8631bcbe",
   "metadata": {
    "papermill": {
     "duration": 0.005133,
     "end_time": "2022-12-12T08:22:06.783374",
     "exception": false,
     "start_time": "2022-12-12T08:22:06.778241",
     "status": "completed"
    },
    "tags": []
   },
   "source": [
    "**This notebook is an exercise in the [Data Cleaning](https://www.kaggle.com/learn/data-cleaning) course.  You can reference the tutorial at [this link](https://www.kaggle.com/alexisbcook/character-encodings).**\n",
    "\n",
    "---\n"
   ]
  },
  {
   "cell_type": "markdown",
   "id": "dd5bfebd",
   "metadata": {
    "papermill": {
     "duration": 0.003886,
     "end_time": "2022-12-12T08:22:06.791523",
     "exception": false,
     "start_time": "2022-12-12T08:22:06.787637",
     "status": "completed"
    },
    "tags": []
   },
   "source": [
    "In this exercise, you'll apply what you learned in the **Character encodings** tutorial.\n",
    "\n",
    "# Setup\n",
    "\n",
    "The questions below will give you feedback on your work. Run the following cell to set up the feedback system."
   ]
  },
  {
   "cell_type": "code",
   "execution_count": 1,
   "id": "650fe82a",
   "metadata": {
    "execution": {
     "iopub.execute_input": "2022-12-12T08:22:06.801770Z",
     "iopub.status.busy": "2022-12-12T08:22:06.800979Z",
     "iopub.status.idle": "2022-12-12T08:22:06.884708Z",
     "shell.execute_reply": "2022-12-12T08:22:06.883473Z"
    },
    "papermill": {
     "duration": 0.091594,
     "end_time": "2022-12-12T08:22:06.887276",
     "exception": false,
     "start_time": "2022-12-12T08:22:06.795682",
     "status": "completed"
    },
    "tags": []
   },
   "outputs": [
    {
     "name": "stdout",
     "output_type": "stream",
     "text": [
      "Setup Complete\n"
     ]
    }
   ],
   "source": [
    "import warnings\n",
    "warnings.filterwarnings(\"ignore\")\n",
    "\n",
    "from learntools.core import binder\n",
    "binder.bind(globals())\n",
    "from learntools.data_cleaning.ex4 import *\n",
    "print(\"Setup Complete\")"
   ]
  },
  {
   "cell_type": "markdown",
   "id": "4ccd91bb",
   "metadata": {
    "papermill": {
     "duration": 0.004221,
     "end_time": "2022-12-12T08:22:06.896023",
     "exception": false,
     "start_time": "2022-12-12T08:22:06.891802",
     "status": "completed"
    },
    "tags": []
   },
   "source": [
    "# Get our environment set up\n",
    "\n",
    "The first thing we'll need to do is load in the libraries we'll be using."
   ]
  },
  {
   "cell_type": "code",
   "execution_count": 2,
   "id": "1cfca853",
   "metadata": {
    "execution": {
     "iopub.execute_input": "2022-12-12T08:22:06.906365Z",
     "iopub.status.busy": "2022-12-12T08:22:06.905974Z",
     "iopub.status.idle": "2022-12-12T08:22:06.911232Z",
     "shell.execute_reply": "2022-12-12T08:22:06.910266Z"
    },
    "papermill": {
     "duration": 0.012912,
     "end_time": "2022-12-12T08:22:06.913266",
     "exception": false,
     "start_time": "2022-12-12T08:22:06.900354",
     "status": "completed"
    },
    "tags": []
   },
   "outputs": [],
   "source": [
    "# modules we'll use\n",
    "import pandas as pd\n",
    "import numpy as np\n",
    "\n",
    "# helpful character encoding module\n",
    "import chardet\n",
    "\n",
    "# set seed for reproducibility\n",
    "np.random.seed(0)"
   ]
  },
  {
   "cell_type": "markdown",
   "id": "db11e220",
   "metadata": {
    "papermill": {
     "duration": 0.00407,
     "end_time": "2022-12-12T08:22:06.921820",
     "exception": false,
     "start_time": "2022-12-12T08:22:06.917750",
     "status": "completed"
    },
    "tags": []
   },
   "source": [
    "# 1) What are encodings?\n",
    "\n",
    "You're working with a dataset composed of bytes.  Run the code cell below to print a sample entry."
   ]
  },
  {
   "cell_type": "code",
   "execution_count": 3,
   "id": "181fec28",
   "metadata": {
    "execution": {
     "iopub.execute_input": "2022-12-12T08:22:06.932114Z",
     "iopub.status.busy": "2022-12-12T08:22:06.931768Z",
     "iopub.status.idle": "2022-12-12T08:22:06.935738Z",
     "shell.execute_reply": "2022-12-12T08:22:06.935148Z"
    },
    "papermill": {
     "duration": 0.011459,
     "end_time": "2022-12-12T08:22:06.937528",
     "exception": false,
     "start_time": "2022-12-12T08:22:06.926069",
     "status": "completed"
    },
    "tags": []
   },
   "outputs": [
    {
     "name": "stdout",
     "output_type": "stream",
     "text": [
      "b'\\xa7A\\xa6n'\n",
      "data type: <class 'bytes'>\n"
     ]
    }
   ],
   "source": [
    "sample_entry = b'\\xa7A\\xa6n'\n",
    "print(sample_entry)\n",
    "print('data type:', type(sample_entry))"
   ]
  },
  {
   "cell_type": "markdown",
   "id": "eb8f16a9",
   "metadata": {
    "papermill": {
     "duration": 0.004019,
     "end_time": "2022-12-12T08:22:06.946123",
     "exception": false,
     "start_time": "2022-12-12T08:22:06.942104",
     "status": "completed"
    },
    "tags": []
   },
   "source": [
    "You notice that it doesn't use the standard UTF-8 encoding. \n",
    "\n",
    "Use the next code cell to create a variable `new_entry` that changes the encoding from `\"big5-tw\"` to `\"utf-8\"`.  `new_entry` should have the bytes datatype."
   ]
  },
  {
   "cell_type": "code",
   "execution_count": 4,
   "id": "d4ac2090",
   "metadata": {
    "execution": {
     "iopub.execute_input": "2022-12-12T08:22:06.956884Z",
     "iopub.status.busy": "2022-12-12T08:22:06.956156Z",
     "iopub.status.idle": "2022-12-12T08:22:06.964940Z",
     "shell.execute_reply": "2022-12-12T08:22:06.964280Z"
    },
    "papermill": {
     "duration": 0.016828,
     "end_time": "2022-12-12T08:22:06.967131",
     "exception": false,
     "start_time": "2022-12-12T08:22:06.950303",
     "status": "completed"
    },
    "tags": []
   },
   "outputs": [
    {
     "data": {
      "application/javascript": [
       "parent.postMessage({\"jupyterEvent\": \"custom.exercise_interaction\", \"data\": {\"outcomeType\": 1, \"valueTowardsCompletion\": 0.3333333333333333, \"interactionType\": 1, \"questionType\": 1, \"questionId\": \"1_EncodingsIntro\", \"learnToolsVersion\": \"0.3.4\", \"failureMessage\": \"\", \"exceptionClass\": \"\", \"trace\": \"\"}}, \"*\")"
      ],
      "text/plain": [
       "<IPython.core.display.Javascript object>"
      ]
     },
     "metadata": {},
     "output_type": "display_data"
    },
    {
     "data": {
      "text/markdown": [
       "<span style=\"color:#33cc33\">Correct</span>"
      ],
      "text/plain": [
       "Correct"
      ]
     },
     "metadata": {},
     "output_type": "display_data"
    }
   ],
   "source": [
    "new_entry = sample_entry.decode(\"big5-tw\").encode()\n",
    "\n",
    "# Check your answer\n",
    "q1.check()"
   ]
  },
  {
   "cell_type": "code",
   "execution_count": 5,
   "id": "089c7cb7",
   "metadata": {
    "execution": {
     "iopub.execute_input": "2022-12-12T08:22:06.980111Z",
     "iopub.status.busy": "2022-12-12T08:22:06.979679Z",
     "iopub.status.idle": "2022-12-12T08:22:06.987947Z",
     "shell.execute_reply": "2022-12-12T08:22:06.987058Z"
    },
    "papermill": {
     "duration": 0.016356,
     "end_time": "2022-12-12T08:22:06.989746",
     "exception": false,
     "start_time": "2022-12-12T08:22:06.973390",
     "status": "completed"
    },
    "tags": []
   },
   "outputs": [
    {
     "data": {
      "application/javascript": [
       "parent.postMessage({\"jupyterEvent\": \"custom.exercise_interaction\", \"data\": {\"interactionType\": 3, \"questionType\": 1, \"questionId\": \"1_EncodingsIntro\", \"learnToolsVersion\": \"0.3.4\", \"valueTowardsCompletion\": 0.0, \"failureMessage\": \"\", \"exceptionClass\": \"\", \"trace\": \"\", \"outcomeType\": 4}}, \"*\")"
      ],
      "text/plain": [
       "<IPython.core.display.Javascript object>"
      ]
     },
     "metadata": {},
     "output_type": "display_data"
    },
    {
     "data": {
      "text/markdown": [
       "<span style=\"color:#33cc99\">Solution:</span> \n",
       "```python\n",
       "before = sample_entry.decode(\"big5-tw\")\n",
       "new_entry = before.encode()\n",
       "\n",
       "```"
      ],
      "text/plain": [
       "Solution: \n",
       "```python\n",
       "before = sample_entry.decode(\"big5-tw\")\n",
       "new_entry = before.encode()\n",
       "\n",
       "```"
      ]
     },
     "metadata": {},
     "output_type": "display_data"
    }
   ],
   "source": [
    "q1.solution()"
   ]
  },
  {
   "cell_type": "code",
   "execution_count": 6,
   "id": "5b7c88df",
   "metadata": {
    "execution": {
     "iopub.execute_input": "2022-12-12T08:22:07.001453Z",
     "iopub.status.busy": "2022-12-12T08:22:07.000889Z",
     "iopub.status.idle": "2022-12-12T08:22:07.004983Z",
     "shell.execute_reply": "2022-12-12T08:22:07.003977Z"
    },
    "papermill": {
     "duration": 0.012423,
     "end_time": "2022-12-12T08:22:07.007140",
     "exception": false,
     "start_time": "2022-12-12T08:22:06.994717",
     "status": "completed"
    },
    "tags": []
   },
   "outputs": [],
   "source": [
    "# Lines below will give you a hint or solution code\n",
    "#q1.hint()\n",
    "#q1.solution()"
   ]
  },
  {
   "cell_type": "markdown",
   "id": "6af8976f",
   "metadata": {
    "papermill": {
     "duration": 0.00452,
     "end_time": "2022-12-12T08:22:07.016784",
     "exception": false,
     "start_time": "2022-12-12T08:22:07.012264",
     "status": "completed"
    },
    "tags": []
   },
   "source": [
    "# 2) Reading in files with encoding problems\n",
    "\n",
    "Use the code cell below to read in this file at path `\"../input/fatal-police-shootings-in-the-us/PoliceKillingsUS.csv\"`.  \n",
    "\n",
    "Figure out what the correct encoding should be and read in the file to a DataFrame `police_killings`."
   ]
  },
  {
   "cell_type": "code",
   "execution_count": 7,
   "id": "fe618fd8",
   "metadata": {
    "execution": {
     "iopub.execute_input": "2022-12-12T08:22:07.028235Z",
     "iopub.status.busy": "2022-12-12T08:22:07.027488Z",
     "iopub.status.idle": "2022-12-12T08:22:07.046479Z",
     "shell.execute_reply": "2022-12-12T08:22:07.045850Z"
    },
    "papermill": {
     "duration": 0.026619,
     "end_time": "2022-12-12T08:22:07.048156",
     "exception": false,
     "start_time": "2022-12-12T08:22:07.021537",
     "status": "completed"
    },
    "tags": []
   },
   "outputs": [
    {
     "data": {
      "application/javascript": [
       "parent.postMessage({\"jupyterEvent\": \"custom.exercise_interaction\", \"data\": {\"outcomeType\": 1, \"valueTowardsCompletion\": 0.3333333333333333, \"interactionType\": 1, \"questionType\": 1, \"questionId\": \"2_ReadIn\", \"learnToolsVersion\": \"0.3.4\", \"failureMessage\": \"\", \"exceptionClass\": \"\", \"trace\": \"\"}}, \"*\")"
      ],
      "text/plain": [
       "<IPython.core.display.Javascript object>"
      ]
     },
     "metadata": {},
     "output_type": "display_data"
    },
    {
     "data": {
      "text/markdown": [
       "<span style=\"color:#33cc33\">Correct</span>"
      ],
      "text/plain": [
       "Correct"
      ]
     },
     "metadata": {},
     "output_type": "display_data"
    }
   ],
   "source": [
    "# TODO: Load in the DataFrame correctly.\n",
    "police_killings = pd.read_csv(\"../input/fatal-police-shootings-in-the-us/PoliceKillingsUS.csv\", encoding='Windows-1252')\n",
    "\n",
    "# Check your answer\n",
    "q2.check()"
   ]
  },
  {
   "cell_type": "code",
   "execution_count": 8,
   "id": "78db30ad",
   "metadata": {
    "execution": {
     "iopub.execute_input": "2022-12-12T08:22:07.060114Z",
     "iopub.status.busy": "2022-12-12T08:22:07.059270Z",
     "iopub.status.idle": "2022-12-12T08:22:07.067385Z",
     "shell.execute_reply": "2022-12-12T08:22:07.066363Z"
    },
    "papermill": {
     "duration": 0.01598,
     "end_time": "2022-12-12T08:22:07.069205",
     "exception": false,
     "start_time": "2022-12-12T08:22:07.053225",
     "status": "completed"
    },
    "tags": []
   },
   "outputs": [
    {
     "data": {
      "application/javascript": [
       "parent.postMessage({\"jupyterEvent\": \"custom.exercise_interaction\", \"data\": {\"interactionType\": 3, \"questionType\": 1, \"questionId\": \"2_ReadIn\", \"learnToolsVersion\": \"0.3.4\", \"valueTowardsCompletion\": 0.0, \"failureMessage\": \"\", \"exceptionClass\": \"\", \"trace\": \"\", \"outcomeType\": 4}}, \"*\")"
      ],
      "text/plain": [
       "<IPython.core.display.Javascript object>"
      ]
     },
     "metadata": {},
     "output_type": "display_data"
    },
    {
     "data": {
      "text/markdown": [
       "<span style=\"color:#33cc99\">Solution:</span> \n",
       "```python\n",
       "police_killings = pd.read_csv(\"../input/fatal-police-shootings-in-the-us/PoliceKillingsUS.csv\", encoding='Windows-1252')\n",
       "\n",
       "```"
      ],
      "text/plain": [
       "Solution: \n",
       "```python\n",
       "police_killings = pd.read_csv(\"../input/fatal-police-shootings-in-the-us/PoliceKillingsUS.csv\", encoding='Windows-1252')\n",
       "\n",
       "```"
      ]
     },
     "metadata": {},
     "output_type": "display_data"
    }
   ],
   "source": [
    "q2.solution()"
   ]
  },
  {
   "cell_type": "markdown",
   "id": "248bd31d",
   "metadata": {
    "papermill": {
     "duration": 0.005117,
     "end_time": "2022-12-12T08:22:07.080260",
     "exception": false,
     "start_time": "2022-12-12T08:22:07.075143",
     "status": "completed"
    },
    "tags": []
   },
   "source": [
    "Feel free to use any additional code cells for supplemental work.  To get credit for finishing this question, you'll need to run `q2.check()` and get a result of **Correct**."
   ]
  },
  {
   "cell_type": "code",
   "execution_count": 9,
   "id": "d27063b8",
   "metadata": {
    "execution": {
     "iopub.execute_input": "2022-12-12T08:22:07.093333Z",
     "iopub.status.busy": "2022-12-12T08:22:07.092948Z",
     "iopub.status.idle": "2022-12-12T08:22:07.097821Z",
     "shell.execute_reply": "2022-12-12T08:22:07.096605Z"
    },
    "papermill": {
     "duration": 0.014082,
     "end_time": "2022-12-12T08:22:07.099889",
     "exception": false,
     "start_time": "2022-12-12T08:22:07.085807",
     "status": "completed"
    },
    "tags": []
   },
   "outputs": [],
   "source": [
    "# Lines below will give you a hint or solution code\n",
    "#q2.hint()\n",
    "#q2.solution()"
   ]
  },
  {
   "cell_type": "markdown",
   "id": "224af561",
   "metadata": {
    "papermill": {
     "duration": 0.00495,
     "end_time": "2022-12-12T08:22:07.110199",
     "exception": false,
     "start_time": "2022-12-12T08:22:07.105249",
     "status": "completed"
    },
    "tags": []
   },
   "source": [
    "# 3) Saving your files with UTF-8 encoding\n",
    "\n",
    "Save a version of the police killings dataset to CSV with UTF-8 encoding.  Your answer will be marked correct after saving this file.  \n",
    "\n",
    "Note: When using the `to_csv()` method, supply only the name of the file (e.g., `\"my_file.csv\"`).  This saves the file at the filepath `\"/kaggle/working/my_file.csv\"`."
   ]
  },
  {
   "cell_type": "code",
   "execution_count": 10,
   "id": "46b0378d",
   "metadata": {
    "execution": {
     "iopub.execute_input": "2022-12-12T08:22:07.122939Z",
     "iopub.status.busy": "2022-12-12T08:22:07.121927Z",
     "iopub.status.idle": "2022-12-12T08:22:07.150123Z",
     "shell.execute_reply": "2022-12-12T08:22:07.149061Z"
    },
    "papermill": {
     "duration": 0.036476,
     "end_time": "2022-12-12T08:22:07.151880",
     "exception": false,
     "start_time": "2022-12-12T08:22:07.115404",
     "status": "completed"
    },
    "tags": []
   },
   "outputs": [
    {
     "data": {
      "application/javascript": [
       "parent.postMessage({\"jupyterEvent\": \"custom.exercise_interaction\", \"data\": {\"outcomeType\": 1, \"valueTowardsCompletion\": 0.3333333333333333, \"interactionType\": 1, \"questionType\": 2, \"questionId\": \"3_SaveCSV\", \"learnToolsVersion\": \"0.3.4\", \"failureMessage\": \"\", \"exceptionClass\": \"\", \"trace\": \"\"}}, \"*\")"
      ],
      "text/plain": [
       "<IPython.core.display.Javascript object>"
      ]
     },
     "metadata": {},
     "output_type": "display_data"
    },
    {
     "data": {
      "text/markdown": [
       "<span style=\"color:#33cc33\">Correct</span>"
      ],
      "text/plain": [
       "Correct"
      ]
     },
     "metadata": {},
     "output_type": "display_data"
    }
   ],
   "source": [
    "# TODO: Save the police killings dataset to CSV\n",
    "police_killings.to_csv(\"my_file.csv\")\n",
    "\n",
    "# Check your answer\n",
    "q3.check()"
   ]
  },
  {
   "cell_type": "code",
   "execution_count": 11,
   "id": "97a4ed77",
   "metadata": {
    "execution": {
     "iopub.execute_input": "2022-12-12T08:22:07.163807Z",
     "iopub.status.busy": "2022-12-12T08:22:07.163488Z",
     "iopub.status.idle": "2022-12-12T08:22:07.171098Z",
     "shell.execute_reply": "2022-12-12T08:22:07.169895Z"
    },
    "papermill": {
     "duration": 0.0156,
     "end_time": "2022-12-12T08:22:07.172886",
     "exception": false,
     "start_time": "2022-12-12T08:22:07.157286",
     "status": "completed"
    },
    "tags": []
   },
   "outputs": [
    {
     "data": {
      "application/javascript": [
       "parent.postMessage({\"jupyterEvent\": \"custom.exercise_interaction\", \"data\": {\"interactionType\": 3, \"questionType\": 2, \"questionId\": \"3_SaveCSV\", \"learnToolsVersion\": \"0.3.4\", \"valueTowardsCompletion\": 0.0, \"failureMessage\": \"\", \"exceptionClass\": \"\", \"trace\": \"\", \"outcomeType\": 4}}, \"*\")"
      ],
      "text/plain": [
       "<IPython.core.display.Javascript object>"
      ]
     },
     "metadata": {},
     "output_type": "display_data"
    },
    {
     "data": {
      "text/markdown": [
       "<span style=\"color:#33cc99\">Solution:</span> \n",
       "```python\n",
       "\n",
       "police_killings.to_csv(\"my_file.csv\")\n",
       "\n",
       "```"
      ],
      "text/plain": [
       "Solution: \n",
       "```python\n",
       "\n",
       "police_killings.to_csv(\"my_file.csv\")\n",
       "\n",
       "```"
      ]
     },
     "metadata": {},
     "output_type": "display_data"
    }
   ],
   "source": [
    "q3.solution()"
   ]
  },
  {
   "cell_type": "code",
   "execution_count": 12,
   "id": "a87f696b",
   "metadata": {
    "execution": {
     "iopub.execute_input": "2022-12-12T08:22:07.185805Z",
     "iopub.status.busy": "2022-12-12T08:22:07.185025Z",
     "iopub.status.idle": "2022-12-12T08:22:07.188939Z",
     "shell.execute_reply": "2022-12-12T08:22:07.188107Z"
    },
    "papermill": {
     "duration": 0.012178,
     "end_time": "2022-12-12T08:22:07.190563",
     "exception": false,
     "start_time": "2022-12-12T08:22:07.178385",
     "status": "completed"
    },
    "tags": []
   },
   "outputs": [],
   "source": [
    "# Lines below will give you a hint or solution code\n",
    "#q3.hint()\n",
    "#q3.solution()"
   ]
  },
  {
   "cell_type": "markdown",
   "id": "66802c99",
   "metadata": {
    "papermill": {
     "duration": 0.005249,
     "end_time": "2022-12-12T08:22:07.201455",
     "exception": false,
     "start_time": "2022-12-12T08:22:07.196206",
     "status": "completed"
    },
    "tags": []
   },
   "source": [
    "---\n",
    "\n",
    "\n",
    "\n",
    "\n",
    "**Allen**"
   ]
  }
 ],
 "metadata": {
  "kernelspec": {
   "display_name": "Python 3",
   "language": "python",
   "name": "python3"
  },
  "language_info": {
   "codemirror_mode": {
    "name": "ipython",
    "version": 3
   },
   "file_extension": ".py",
   "mimetype": "text/x-python",
   "name": "python",
   "nbconvert_exporter": "python",
   "pygments_lexer": "ipython3",
   "version": "3.7.12"
  },
  "papermill": {
   "default_parameters": {},
   "duration": 8.324784,
   "end_time": "2022-12-12T08:22:07.827974",
   "environment_variables": {},
   "exception": null,
   "input_path": "__notebook__.ipynb",
   "output_path": "__notebook__.ipynb",
   "parameters": {},
   "start_time": "2022-12-12T08:21:59.503190",
   "version": "2.3.4"
  }
 },
 "nbformat": 4,
 "nbformat_minor": 5
}
